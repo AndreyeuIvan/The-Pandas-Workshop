{
 "cells": [
  {
   "cell_type": "code",
   "execution_count": 1,
   "metadata": {
    "colab": {},
    "colab_type": "code",
    "id": "tHiCnh0QkBdH"
   },
   "outputs": [],
   "source": [
    "# Importing pandas and numpy library\n",
    "import pandas as pd\n",
    "import numpy as np"
   ]
  },
  {
   "cell_type": "code",
   "execution_count": 2,
   "metadata": {
    "colab": {
     "base_uri": "https://localhost:8080/",
     "height": 136
    },
    "colab_type": "code",
    "id": "6WNKArxYn0F6",
    "outputId": "4f5a4f97-1f56-41cc-ef94-d50e8c19b49c"
   },
   "outputs": [
    {
     "name": "stdout",
     "output_type": "stream",
     "text": [
      "    BU Id       BU Name  Year Q3 Revenue Q4 Revenue  Growth  New Clients\n",
      "0  1001.0       Banking  2019    €235000    €248000    5.5%          3.0\n",
      "1  1002.0        Retail  2019    €196000    €205000    4.5%          5.0\n",
      "2  1003.0       Telecom  2019    €167000    €193000   15.5%          NaN\n",
      "3  1004.0  Life Science  2019     €79000     €90000   13.9%          6.0\n",
      "4  1005.0     Insurance  2019    €241000    €264000    9.5%          2.0\n",
      "5  1006.0   Hospitality  2019    €224000    €111000  -10.4%          NaN\n"
     ]
    }
   ],
   "source": [
    "# Importing pandas library with alias name pd\n",
    "# Importing numpy library with alias name np\n",
    "import pandas as pd\n",
    "import numpy as np\n",
    "\n",
    "# Defining columns\n",
    "column_names = [\"BU Id\", \"BU Name\", \"Year\", \"Q3 Revenue\", \"Q4 Revenue\", \"Growth\", \"New Clients\"]\n",
    "\n",
    "# Defining lists\n",
    "row1 = list([1001.0, 'Banking', 2019, '€235000', '€248000', '5.5%', 3])\n",
    "row2 = list([1002.0, 'Retail', 2019, '€196000', '€205000', '4.5%', 5])\n",
    "row3 = list([1003.0, 'Telecom', 2019, '€167000', '€193000', '15.5%', np.NaN])\n",
    "row4 = list([1004.0, 'Life Science', 2019, '€79000', '€90000', '13.9%', 6])\n",
    "row5 = list([1005.0, 'Insurance', 2019, '€241000', '€264000', '9.5%', 2])\n",
    "row6 = list([1006.0, 'Hospitality', 2019, '€224000', '€111000', '-10.4%', np.NaN])\n",
    "                      \n",
    "\n",
    "# Defining a DataFrame\n",
    "data_frame = pd.DataFrame(data=[row1, row2, row3, row4, row5, row6], columns=column_names)\n",
    "\n",
    "# Showing DataFrame values\n",
    "print(data_frame)"
   ]
  },
  {
   "cell_type": "code",
   "execution_count": 3,
   "metadata": {
    "colab": {
     "base_uri": "https://localhost:8080/",
     "height": 136
    },
    "colab_type": "code",
    "id": "2zlbv8hcaegH",
    "outputId": "0e6c786d-494d-451b-aa0d-4747b109fd47"
   },
   "outputs": [
    {
     "data": {
      "text/plain": [
       "0    €235000€248000\n",
       "1    €196000€205000\n",
       "2    €167000€193000\n",
       "3      €79000€90000\n",
       "4    €241000€264000\n",
       "5    €224000€111000\n",
       "dtype: object"
      ]
     },
     "execution_count": 3,
     "metadata": {},
     "output_type": "execute_result"
    }
   ],
   "source": [
    "data_frame['Q3 Revenue'] + data_frame['Q4 Revenue']"
   ]
  },
  {
   "cell_type": "code",
   "execution_count": 4,
   "metadata": {
    "colab": {
     "base_uri": "https://localhost:8080/",
     "height": 35
    },
    "colab_type": "code",
    "id": "iVFzSgD56_fv",
    "outputId": "5b417523-1d85-4d78-c38f-cdd93983a27a"
   },
   "outputs": [
    {
     "data": {
      "text/plain": [
       "'9.5%'"
      ]
     },
     "execution_count": 4,
     "metadata": {},
     "output_type": "execute_result"
    }
   ],
   "source": [
    "max(data_frame['Growth'])"
   ]
  },
  {
   "cell_type": "code",
   "execution_count": 5,
   "metadata": {
    "colab": {
     "base_uri": "https://localhost:8080/",
     "height": 34
    },
    "colab_type": "code",
    "id": "QlO-19uAVGIN",
    "outputId": "b04cac30-a7a7-4904-e124-1fe42d00726d"
   },
   "outputs": [
    {
     "data": {
      "text/plain": [
       "int"
      ]
     },
     "execution_count": 5,
     "metadata": {},
     "output_type": "execute_result"
    }
   ],
   "source": [
    "type(12)"
   ]
  },
  {
   "cell_type": "code",
   "execution_count": 6,
   "metadata": {
    "colab": {
     "base_uri": "https://localhost:8080/",
     "height": 34
    },
    "colab_type": "code",
    "id": "2sEcL-0IAJnr",
    "outputId": "d147becd-b2c6-4a9e-954f-9c4db380d38a"
   },
   "outputs": [
    {
     "data": {
      "text/plain": [
       "float"
      ]
     },
     "execution_count": 6,
     "metadata": {},
     "output_type": "execute_result"
    }
   ],
   "source": [
    "type(12.5)"
   ]
  },
  {
   "cell_type": "code",
   "execution_count": 7,
   "metadata": {
    "colab": {
     "base_uri": "https://localhost:8080/",
     "height": 34
    },
    "colab_type": "code",
    "id": "4ZuTdmGIErQf",
    "outputId": "8c37003b-b64c-450f-abeb-b29745e45e3a"
   },
   "outputs": [
    {
     "data": {
      "text/plain": [
       "str"
      ]
     },
     "execution_count": 7,
     "metadata": {},
     "output_type": "execute_result"
    }
   ],
   "source": [
    "type('pandas')"
   ]
  },
  {
   "cell_type": "code",
   "execution_count": 8,
   "metadata": {
    "colab": {
     "base_uri": "https://localhost:8080/",
     "height": 34
    },
    "colab_type": "code",
    "id": "IV8QOc8ZFsqt",
    "outputId": "f364241f-ab20-4684-8bcf-d73323657c97"
   },
   "outputs": [
    {
     "data": {
      "text/plain": [
       "pandas.core.series.Series"
      ]
     },
     "execution_count": 8,
     "metadata": {},
     "output_type": "execute_result"
    }
   ],
   "source": [
    "type(data_frame['Q3 Revenue'])"
   ]
  },
  {
   "cell_type": "code",
   "execution_count": 9,
   "metadata": {
    "colab": {
     "base_uri": "https://localhost:8080/",
     "height": 34
    },
    "colab_type": "code",
    "id": "8CfsygJUHS8x",
    "outputId": "3d15a82e-91dc-4c6e-b921-3c1142ddfecc"
   },
   "outputs": [
    {
     "data": {
      "text/plain": [
       "pandas.core.frame.DataFrame"
      ]
     },
     "execution_count": 9,
     "metadata": {},
     "output_type": "execute_result"
    }
   ],
   "source": [
    "type(data_frame)"
   ]
  },
  {
   "cell_type": "code",
   "execution_count": 10,
   "metadata": {
    "colab": {
     "base_uri": "https://localhost:8080/",
     "height": 153
    },
    "colab_type": "code",
    "id": "Xgw79IM2R2a6",
    "outputId": "f69fa80a-6fd1-466f-820f-48dbbc160b14"
   },
   "outputs": [
    {
     "data": {
      "text/plain": [
       "BU Id          float64\n",
       "BU Name         object\n",
       "Year             int64\n",
       "Q3 Revenue      object\n",
       "Q4 Revenue      object\n",
       "Growth          object\n",
       "New Clients    float64\n",
       "dtype: object"
      ]
     },
     "execution_count": 10,
     "metadata": {},
     "output_type": "execute_result"
    }
   ],
   "source": [
    "data_frame.dtypes"
   ]
  },
  {
   "cell_type": "code",
   "execution_count": 11,
   "metadata": {
    "colab": {
     "base_uri": "https://localhost:8080/",
     "height": 255
    },
    "colab_type": "code",
    "id": "dDYyclqDI4Kz",
    "outputId": "2000e658-83af-405f-d8c8-5278e952c194"
   },
   "outputs": [
    {
     "name": "stdout",
     "output_type": "stream",
     "text": [
      "<class 'pandas.core.frame.DataFrame'>\n",
      "RangeIndex: 6 entries, 0 to 5\n",
      "Data columns (total 7 columns):\n",
      " #   Column       Non-Null Count  Dtype  \n",
      "---  ------       --------------  -----  \n",
      " 0   BU Id        6 non-null      float64\n",
      " 1   BU Name      6 non-null      object \n",
      " 2   Year         6 non-null      int64  \n",
      " 3   Q3 Revenue   6 non-null      object \n",
      " 4   Q4 Revenue   6 non-null      object \n",
      " 5   Growth       6 non-null      object \n",
      " 6   New Clients  4 non-null      float64\n",
      "dtypes: float64(2), int64(1), object(4)\n",
      "memory usage: 464.0+ bytes\n"
     ]
    }
   ],
   "source": [
    "data_frame.info()"
   ]
  },
  {
   "cell_type": "code",
   "execution_count": 12,
   "metadata": {
    "colab": {
     "base_uri": "https://localhost:8080/",
     "height": 51
    },
    "colab_type": "code",
    "id": "LkMjgv2bspFe",
    "outputId": "eabdbfc7-d2ce-4ec4-f30d-aa7106c77045"
   },
   "outputs": [
    {
     "name": "stdout",
     "output_type": "stream",
     "text": [
      "Type of values in the series: float64\n",
      "Type of values in the type-casted series: int64\n"
     ]
    }
   ],
   "source": [
    "series = pd.Series([1.0,2.0,4])\n",
    "print('Type of values in the series:', series.dtypes)\n",
    "typecasted_series = series.astype(dtype = 'int64', copy = True, errors = 'raise')\n",
    "print('Type of values in the type-casted series:', typecasted_series.dtypes)"
   ]
  },
  {
   "cell_type": "code",
   "execution_count": 13,
   "metadata": {
    "colab": {
     "base_uri": "https://localhost:8080/",
     "height": 51
    },
    "colab_type": "code",
    "id": "bJKbvRmEr8yZ",
    "outputId": "5e1a1d81-57a7-4543-c8fb-0207c7e62684"
   },
   "outputs": [
    {
     "name": "stdout",
     "output_type": "stream",
     "text": [
      "Type of values in the series: float64\n",
      "Type of values in the type-casted series: int64\n"
     ]
    }
   ],
   "source": [
    "series = pd.Series([1.0,2.0,4])\n",
    "print('Type of values in the series:', series.dtypes)\n",
    "typecasted_series = series.astype(dtype = 'int', copy = True, errors = 'raise')\n",
    "print('Type of values in the type-casted series:', typecasted_series.dtypes)"
   ]
  },
  {
   "cell_type": "code",
   "execution_count": 14,
   "metadata": {
    "colab": {
     "base_uri": "https://localhost:8080/",
     "height": 153
    },
    "colab_type": "code",
    "id": "r9w9Ic7K44a6",
    "outputId": "3d82203a-8be0-40bb-d1a6-3c91b2a008ef"
   },
   "outputs": [
    {
     "name": "stdout",
     "output_type": "stream",
     "text": [
      "Type of values in the data frame:\n",
      " col1    object\n",
      "col2    object\n",
      "dtype: object\n",
      "Type of values in the type-casted data frame:\n",
      " col1    float32\n",
      "col2    float32\n",
      "dtype: object\n"
     ]
    }
   ],
   "source": [
    "df = pd.DataFrame(data={'col1': ['3.7', '2.0'], 'col2': ['9.1', '5.0']})\n",
    "print('Type of values in the data frame:\\n', df.dtypes)\n",
    "typecasted_df = df.astype(dtype = 'float32', copy = True, errors = 'raise')\n",
    "print('Type of values in the type-casted data frame:\\n', typecasted_df.dtypes)"
   ]
  },
  {
   "cell_type": "code",
   "execution_count": 15,
   "metadata": {
    "colab": {
     "base_uri": "https://localhost:8080/",
     "height": 153
    },
    "colab_type": "code",
    "id": "579SFs5sML96",
    "outputId": "f7d94f9a-11f0-464b-c5da-9823400141eb"
   },
   "outputs": [
    {
     "name": "stdout",
     "output_type": "stream",
     "text": [
      "Type of values in the data frame:\n",
      " col1    object\n",
      "col2    object\n",
      "dtype: object\n",
      "Type of values in the type-casted data frame:\n",
      " col1    float64\n",
      "col2     object\n",
      "dtype: object\n"
     ]
    }
   ],
   "source": [
    "df = pd.DataFrame(data={'col1': ['3.7', '2.0'], 'col2': ['abc', 'xyz']})\n",
    "print('Type of values in the data frame:\\n', df.dtypes)\n",
    "df.col1 = df.col1.astype(float)\n",
    "print('Type of values in the type-casted data frame:\\n', df.dtypes)"
   ]
  },
  {
   "cell_type": "code",
   "execution_count": 16,
   "metadata": {
    "colab": {
     "base_uri": "https://localhost:8080/",
     "height": 187
    },
    "colab_type": "code",
    "id": "beyvGpg2DVfo",
    "outputId": "13ade64c-56c4-4d30-d671-b69041215e23"
   },
   "outputs": [
    {
     "name": "stdout",
     "output_type": "stream",
     "text": [
      "Type of values in the data frame:\n",
      " col1    object\n",
      "col2    object\n",
      "col3    object\n",
      "dtype: object\n",
      "Type of values in the type-casted data frame:\n",
      " col1    float32\n",
      "col2     object\n",
      "col3    float32\n",
      "dtype: object\n"
     ]
    }
   ],
   "source": [
    "df = pd.DataFrame(data={'col1': ['3.7', '2.0'], 'col2': ['abc', 'xyz'], 'col3': ['7.5', '1.9']})\n",
    "print('Type of values in the data frame:\\n', df.dtypes)\n",
    "typecasted_df = df.astype(dtype = {'col1':'float32', 'col3':'float32'}, copy = True, errors = 'raise')\n",
    "print('Type of values in the type-casted data frame:\\n', typecasted_df.dtypes)"
   ]
  },
  {
   "cell_type": "code",
   "execution_count": 17,
   "metadata": {
    "colab": {
     "base_uri": "https://localhost:8080/",
     "height": 86
    },
    "colab_type": "code",
    "id": "rxGObte2zZ7m",
    "outputId": "dd0de62b-5680-437b-aa18-eac40038b265"
   },
   "outputs": [
    {
     "data": {
      "text/plain": [
       "\"\\ndf = pd.DataFrame(data={'col1': ['3.7', '2.0'], 'col2': ['abc', 'xyz'], 'col3': ['7.5', '1.9']})\\nprint('Type of values in the data frame:\\n', df.dtypes)\\ntypecasted_df = df.astype(dtype = {'col2':'float32'}, copy = True, errors = 'raise')\\nprint('Type of values in the type-casted data frame:\\n', typecasted_df.dtypes)\\n\""
      ]
     },
     "execution_count": 17,
     "metadata": {},
     "output_type": "execute_result"
    }
   ],
   "source": [
    "\"\"\"\n",
    "df = pd.DataFrame(data={'col1': ['3.7', '2.0'], 'col2': ['abc', 'xyz'], 'col3': ['7.5', '1.9']})\n",
    "print('Type of values in the data frame:\\n', df.dtypes)\n",
    "typecasted_df = df.astype(dtype = {'col2':'float32'}, copy = True, errors = 'raise')\n",
    "print('Type of values in the type-casted data frame:\\n', typecasted_df.dtypes)\n",
    "\"\"\""
   ]
  },
  {
   "cell_type": "code",
   "execution_count": 18,
   "metadata": {
    "colab": {
     "base_uri": "https://localhost:8080/",
     "height": 187
    },
    "colab_type": "code",
    "id": "dTCzmzmuLQ1T",
    "outputId": "6af232ae-3c3f-40a6-98f9-7195703ca01b"
   },
   "outputs": [
    {
     "name": "stdout",
     "output_type": "stream",
     "text": [
      "Type of values in the data frame:\n",
      " col1    object\n",
      "col2    object\n",
      "col3    object\n",
      "dtype: object\n",
      "Type of values in the type-casted data frame:\n",
      " col1    object\n",
      "col2    object\n",
      "col3    object\n",
      "dtype: object\n"
     ]
    }
   ],
   "source": [
    "df = pd.DataFrame(data={'col1': ['3.7', '2.0'], 'col2': ['abc', 'xyz'], 'col3': ['7.5', '1.9']})\n",
    "print('Type of values in the data frame:\\n', df.dtypes)\n",
    "typecasted_df = df.astype(dtype = {'col2':'float32'}, copy = True, errors = 'ignore')\n",
    "print('Type of values in the type-casted data frame:\\n', typecasted_df.dtypes)"
   ]
  },
  {
   "cell_type": "code",
   "execution_count": 19,
   "metadata": {
    "colab": {
     "base_uri": "https://localhost:8080/",
     "height": 153
    },
    "colab_type": "code",
    "id": "ff1l7rWl6VRs",
    "outputId": "35d0a766-d4cf-4363-894e-e1ad32a1cc20"
   },
   "outputs": [
    {
     "name": "stdout",
     "output_type": "stream",
     "text": [
      "Type of values in the data frame:\n",
      " col1    float64\n",
      "col2     object\n",
      "dtype: object\n",
      "Type of values in the type-casted data frame:\n",
      " col1     float64\n",
      "col2    category\n",
      "dtype: object\n"
     ]
    }
   ],
   "source": [
    "df = pd.DataFrame(data={'col1': [3.7, 2.0], 'col2': ['abc', 'xyz']})\n",
    "print('Type of values in the data frame:\\n', df.dtypes)\n",
    "typecasted_df = df.astype(dtype = {'col2':'category'}, copy = True, errors = 'raise')\n",
    "print('Type of values in the type-casted data frame:\\n', typecasted_df.dtypes)\n"
   ]
  },
  {
   "cell_type": "code",
   "execution_count": 20,
   "metadata": {
    "colab": {
     "base_uri": "https://localhost:8080/",
     "height": 341
    },
    "colab_type": "code",
    "id": "uImYDM4sH-eY",
    "outputId": "3872d1ce-1811-4a75-c324-850313b9501c"
   },
   "outputs": [
    {
     "ename": "ValueError",
     "evalue": "could not convert string to float: 'non-numeric'",
     "output_type": "error",
     "traceback": [
      "\u001b[0;31m---------------------------------------------------------------------------\u001b[0m",
      "\u001b[0;31mValueError\u001b[0m                                Traceback (most recent call last)",
      "\u001b[0;32m<ipython-input-20-b1f715892648>\u001b[0m in \u001b[0;36m<module>\u001b[0;34m\u001b[0m\n\u001b[1;32m      1\u001b[0m \u001b[0mseries\u001b[0m \u001b[0;34m=\u001b[0m \u001b[0mpd\u001b[0m\u001b[0;34m.\u001b[0m\u001b[0mSeries\u001b[0m\u001b[0;34m(\u001b[0m\u001b[0;34m[\u001b[0m\u001b[0;36m5\u001b[0m\u001b[0;34m,\u001b[0m \u001b[0;34m'7'\u001b[0m\u001b[0;34m,\u001b[0m \u001b[0;36m9.3\u001b[0m\u001b[0;34m,\u001b[0m\u001b[0;34m'non-numeric'\u001b[0m\u001b[0;34m]\u001b[0m\u001b[0;34m)\u001b[0m\u001b[0;34m\u001b[0m\u001b[0;34m\u001b[0m\u001b[0m\n\u001b[0;32m----> 2\u001b[0;31m \u001b[0mseries\u001b[0m\u001b[0;34m.\u001b[0m\u001b[0mastype\u001b[0m\u001b[0;34m(\u001b[0m\u001b[0;34m'float'\u001b[0m\u001b[0;34m)\u001b[0m\u001b[0;34m\u001b[0m\u001b[0;34m\u001b[0m\u001b[0m\n\u001b[0m",
      "\u001b[0;32m~/.local/share/virtualenvs/git-2T0aQk80/lib/python3.7/site-packages/pandas/core/generic.py\u001b[0m in \u001b[0;36mastype\u001b[0;34m(self, dtype, copy, errors)\u001b[0m\n\u001b[1;32m   5696\u001b[0m         \u001b[0;32melse\u001b[0m\u001b[0;34m:\u001b[0m\u001b[0;34m\u001b[0m\u001b[0;34m\u001b[0m\u001b[0m\n\u001b[1;32m   5697\u001b[0m             \u001b[0;31m# else, only a single dtype is given\u001b[0m\u001b[0;34m\u001b[0m\u001b[0;34m\u001b[0m\u001b[0;34m\u001b[0m\u001b[0m\n\u001b[0;32m-> 5698\u001b[0;31m             \u001b[0mnew_data\u001b[0m \u001b[0;34m=\u001b[0m \u001b[0mself\u001b[0m\u001b[0;34m.\u001b[0m\u001b[0m_data\u001b[0m\u001b[0;34m.\u001b[0m\u001b[0mastype\u001b[0m\u001b[0;34m(\u001b[0m\u001b[0mdtype\u001b[0m\u001b[0;34m=\u001b[0m\u001b[0mdtype\u001b[0m\u001b[0;34m,\u001b[0m \u001b[0mcopy\u001b[0m\u001b[0;34m=\u001b[0m\u001b[0mcopy\u001b[0m\u001b[0;34m,\u001b[0m \u001b[0merrors\u001b[0m\u001b[0;34m=\u001b[0m\u001b[0merrors\u001b[0m\u001b[0;34m)\u001b[0m\u001b[0;34m\u001b[0m\u001b[0;34m\u001b[0m\u001b[0m\n\u001b[0m\u001b[1;32m   5699\u001b[0m             \u001b[0;32mreturn\u001b[0m \u001b[0mself\u001b[0m\u001b[0;34m.\u001b[0m\u001b[0m_constructor\u001b[0m\u001b[0;34m(\u001b[0m\u001b[0mnew_data\u001b[0m\u001b[0;34m)\u001b[0m\u001b[0;34m.\u001b[0m\u001b[0m__finalize__\u001b[0m\u001b[0;34m(\u001b[0m\u001b[0mself\u001b[0m\u001b[0;34m)\u001b[0m\u001b[0;34m\u001b[0m\u001b[0;34m\u001b[0m\u001b[0m\n\u001b[1;32m   5700\u001b[0m \u001b[0;34m\u001b[0m\u001b[0m\n",
      "\u001b[0;32m~/.local/share/virtualenvs/git-2T0aQk80/lib/python3.7/site-packages/pandas/core/internals/managers.py\u001b[0m in \u001b[0;36mastype\u001b[0;34m(self, dtype, copy, errors)\u001b[0m\n\u001b[1;32m    580\u001b[0m \u001b[0;34m\u001b[0m\u001b[0m\n\u001b[1;32m    581\u001b[0m     \u001b[0;32mdef\u001b[0m \u001b[0mastype\u001b[0m\u001b[0;34m(\u001b[0m\u001b[0mself\u001b[0m\u001b[0;34m,\u001b[0m \u001b[0mdtype\u001b[0m\u001b[0;34m,\u001b[0m \u001b[0mcopy\u001b[0m\u001b[0;34m:\u001b[0m \u001b[0mbool\u001b[0m \u001b[0;34m=\u001b[0m \u001b[0;32mFalse\u001b[0m\u001b[0;34m,\u001b[0m \u001b[0merrors\u001b[0m\u001b[0;34m:\u001b[0m \u001b[0mstr\u001b[0m \u001b[0;34m=\u001b[0m \u001b[0;34m\"raise\"\u001b[0m\u001b[0;34m)\u001b[0m\u001b[0;34m:\u001b[0m\u001b[0;34m\u001b[0m\u001b[0;34m\u001b[0m\u001b[0m\n\u001b[0;32m--> 582\u001b[0;31m         \u001b[0;32mreturn\u001b[0m \u001b[0mself\u001b[0m\u001b[0;34m.\u001b[0m\u001b[0mapply\u001b[0m\u001b[0;34m(\u001b[0m\u001b[0;34m\"astype\"\u001b[0m\u001b[0;34m,\u001b[0m \u001b[0mdtype\u001b[0m\u001b[0;34m=\u001b[0m\u001b[0mdtype\u001b[0m\u001b[0;34m,\u001b[0m \u001b[0mcopy\u001b[0m\u001b[0;34m=\u001b[0m\u001b[0mcopy\u001b[0m\u001b[0;34m,\u001b[0m \u001b[0merrors\u001b[0m\u001b[0;34m=\u001b[0m\u001b[0merrors\u001b[0m\u001b[0;34m)\u001b[0m\u001b[0;34m\u001b[0m\u001b[0;34m\u001b[0m\u001b[0m\n\u001b[0m\u001b[1;32m    583\u001b[0m \u001b[0;34m\u001b[0m\u001b[0m\n\u001b[1;32m    584\u001b[0m     \u001b[0;32mdef\u001b[0m \u001b[0mconvert\u001b[0m\u001b[0;34m(\u001b[0m\u001b[0mself\u001b[0m\u001b[0;34m,\u001b[0m \u001b[0;34m**\u001b[0m\u001b[0mkwargs\u001b[0m\u001b[0;34m)\u001b[0m\u001b[0;34m:\u001b[0m\u001b[0;34m\u001b[0m\u001b[0;34m\u001b[0m\u001b[0m\n",
      "\u001b[0;32m~/.local/share/virtualenvs/git-2T0aQk80/lib/python3.7/site-packages/pandas/core/internals/managers.py\u001b[0m in \u001b[0;36mapply\u001b[0;34m(self, f, filter, **kwargs)\u001b[0m\n\u001b[1;32m    440\u001b[0m                 \u001b[0mapplied\u001b[0m \u001b[0;34m=\u001b[0m \u001b[0mb\u001b[0m\u001b[0;34m.\u001b[0m\u001b[0mapply\u001b[0m\u001b[0;34m(\u001b[0m\u001b[0mf\u001b[0m\u001b[0;34m,\u001b[0m \u001b[0;34m**\u001b[0m\u001b[0mkwargs\u001b[0m\u001b[0;34m)\u001b[0m\u001b[0;34m\u001b[0m\u001b[0;34m\u001b[0m\u001b[0m\n\u001b[1;32m    441\u001b[0m             \u001b[0;32melse\u001b[0m\u001b[0;34m:\u001b[0m\u001b[0;34m\u001b[0m\u001b[0;34m\u001b[0m\u001b[0m\n\u001b[0;32m--> 442\u001b[0;31m                 \u001b[0mapplied\u001b[0m \u001b[0;34m=\u001b[0m \u001b[0mgetattr\u001b[0m\u001b[0;34m(\u001b[0m\u001b[0mb\u001b[0m\u001b[0;34m,\u001b[0m \u001b[0mf\u001b[0m\u001b[0;34m)\u001b[0m\u001b[0;34m(\u001b[0m\u001b[0;34m**\u001b[0m\u001b[0mkwargs\u001b[0m\u001b[0;34m)\u001b[0m\u001b[0;34m\u001b[0m\u001b[0;34m\u001b[0m\u001b[0m\n\u001b[0m\u001b[1;32m    443\u001b[0m             \u001b[0mresult_blocks\u001b[0m \u001b[0;34m=\u001b[0m \u001b[0m_extend_blocks\u001b[0m\u001b[0;34m(\u001b[0m\u001b[0mapplied\u001b[0m\u001b[0;34m,\u001b[0m \u001b[0mresult_blocks\u001b[0m\u001b[0;34m)\u001b[0m\u001b[0;34m\u001b[0m\u001b[0;34m\u001b[0m\u001b[0m\n\u001b[1;32m    444\u001b[0m \u001b[0;34m\u001b[0m\u001b[0m\n",
      "\u001b[0;32m~/.local/share/virtualenvs/git-2T0aQk80/lib/python3.7/site-packages/pandas/core/internals/blocks.py\u001b[0m in \u001b[0;36mastype\u001b[0;34m(self, dtype, copy, errors)\u001b[0m\n\u001b[1;32m    623\u001b[0m             \u001b[0mvals1d\u001b[0m \u001b[0;34m=\u001b[0m \u001b[0mvalues\u001b[0m\u001b[0;34m.\u001b[0m\u001b[0mravel\u001b[0m\u001b[0;34m(\u001b[0m\u001b[0;34m)\u001b[0m\u001b[0;34m\u001b[0m\u001b[0;34m\u001b[0m\u001b[0m\n\u001b[1;32m    624\u001b[0m             \u001b[0;32mtry\u001b[0m\u001b[0;34m:\u001b[0m\u001b[0;34m\u001b[0m\u001b[0;34m\u001b[0m\u001b[0m\n\u001b[0;32m--> 625\u001b[0;31m                 \u001b[0mvalues\u001b[0m \u001b[0;34m=\u001b[0m \u001b[0mastype_nansafe\u001b[0m\u001b[0;34m(\u001b[0m\u001b[0mvals1d\u001b[0m\u001b[0;34m,\u001b[0m \u001b[0mdtype\u001b[0m\u001b[0;34m,\u001b[0m \u001b[0mcopy\u001b[0m\u001b[0;34m=\u001b[0m\u001b[0;32mTrue\u001b[0m\u001b[0;34m)\u001b[0m\u001b[0;34m\u001b[0m\u001b[0;34m\u001b[0m\u001b[0m\n\u001b[0m\u001b[1;32m    626\u001b[0m             \u001b[0;32mexcept\u001b[0m \u001b[0;34m(\u001b[0m\u001b[0mValueError\u001b[0m\u001b[0;34m,\u001b[0m \u001b[0mTypeError\u001b[0m\u001b[0;34m)\u001b[0m\u001b[0;34m:\u001b[0m\u001b[0;34m\u001b[0m\u001b[0;34m\u001b[0m\u001b[0m\n\u001b[1;32m    627\u001b[0m                 \u001b[0;31m# e.g. astype_nansafe can fail on object-dtype of strings\u001b[0m\u001b[0;34m\u001b[0m\u001b[0;34m\u001b[0m\u001b[0;34m\u001b[0m\u001b[0m\n",
      "\u001b[0;32m~/.local/share/virtualenvs/git-2T0aQk80/lib/python3.7/site-packages/pandas/core/dtypes/cast.py\u001b[0m in \u001b[0;36mastype_nansafe\u001b[0;34m(arr, dtype, copy, skipna)\u001b[0m\n\u001b[1;32m    895\u001b[0m     \u001b[0;32mif\u001b[0m \u001b[0mcopy\u001b[0m \u001b[0;32mor\u001b[0m \u001b[0mis_object_dtype\u001b[0m\u001b[0;34m(\u001b[0m\u001b[0marr\u001b[0m\u001b[0;34m)\u001b[0m \u001b[0;32mor\u001b[0m \u001b[0mis_object_dtype\u001b[0m\u001b[0;34m(\u001b[0m\u001b[0mdtype\u001b[0m\u001b[0;34m)\u001b[0m\u001b[0;34m:\u001b[0m\u001b[0;34m\u001b[0m\u001b[0;34m\u001b[0m\u001b[0m\n\u001b[1;32m    896\u001b[0m         \u001b[0;31m# Explicit copy, or required since NumPy can't view from / to object.\u001b[0m\u001b[0;34m\u001b[0m\u001b[0;34m\u001b[0m\u001b[0;34m\u001b[0m\u001b[0m\n\u001b[0;32m--> 897\u001b[0;31m         \u001b[0;32mreturn\u001b[0m \u001b[0marr\u001b[0m\u001b[0;34m.\u001b[0m\u001b[0mastype\u001b[0m\u001b[0;34m(\u001b[0m\u001b[0mdtype\u001b[0m\u001b[0;34m,\u001b[0m \u001b[0mcopy\u001b[0m\u001b[0;34m=\u001b[0m\u001b[0;32mTrue\u001b[0m\u001b[0;34m)\u001b[0m\u001b[0;34m\u001b[0m\u001b[0;34m\u001b[0m\u001b[0m\n\u001b[0m\u001b[1;32m    898\u001b[0m \u001b[0;34m\u001b[0m\u001b[0m\n\u001b[1;32m    899\u001b[0m     \u001b[0;32mreturn\u001b[0m \u001b[0marr\u001b[0m\u001b[0;34m.\u001b[0m\u001b[0mview\u001b[0m\u001b[0;34m(\u001b[0m\u001b[0mdtype\u001b[0m\u001b[0;34m)\u001b[0m\u001b[0;34m\u001b[0m\u001b[0;34m\u001b[0m\u001b[0m\n",
      "\u001b[0;31mValueError\u001b[0m: could not convert string to float: 'non-numeric'"
     ]
    }
   ],
   "source": [
    "series = pd.Series([5, '7', 9.3,'non-numeric'])\n",
    "series.astype('float')"
   ]
  },
  {
   "cell_type": "code",
   "execution_count": 21,
   "metadata": {
    "colab": {
     "base_uri": "https://localhost:8080/",
     "height": 102
    },
    "colab_type": "code",
    "id": "KyFQJ13iTHKW",
    "outputId": "99eb4ccc-a4c4-4c9f-cc3a-24434694049c"
   },
   "outputs": [
    {
     "data": {
      "text/plain": [
       "0              5\n",
       "1              7\n",
       "2            9.3\n",
       "3    non-numeric\n",
       "dtype: object"
      ]
     },
     "execution_count": 21,
     "metadata": {},
     "output_type": "execute_result"
    }
   ],
   "source": [
    "series = pd.Series([5, '7', 9.3,'non-numeric'])\n",
    "series.astype('float', errors = 'ignore')"
   ]
  },
  {
   "cell_type": "code",
   "execution_count": 22,
   "metadata": {
    "colab": {
     "base_uri": "https://localhost:8080/",
     "height": 85
    },
    "colab_type": "code",
    "id": "M8y7YEbEOxpu",
    "outputId": "bda9256f-6d16-4c87-c218-fe4607b12b84"
   },
   "outputs": [
    {
     "data": {
      "text/plain": [
       "0    1.0\n",
       "1    NaN\n",
       "2   -3.0\n",
       "dtype: float64"
      ]
     },
     "execution_count": 22,
     "metadata": {},
     "output_type": "execute_result"
    }
   ],
   "source": [
    "s = pd.Series(['1.0', np.NaN, -3])\n",
    "s.astype('float')"
   ]
  },
  {
   "cell_type": "code",
   "execution_count": 23,
   "metadata": {
    "colab": {
     "base_uri": "https://localhost:8080/",
     "height": 85
    },
    "colab_type": "code",
    "id": "Uw4uiZJDXjCI",
    "outputId": "2250bf69-4df7-4f64-bb96-24a27115f8d5"
   },
   "outputs": [
    {
     "data": {
      "text/plain": [
       "0    5\n",
       "1    7\n",
       "2    9\n",
       "dtype: int64"
      ]
     },
     "execution_count": 23,
     "metadata": {},
     "output_type": "execute_result"
    }
   ],
   "source": [
    "series = pd.Series([5, '7', 9])\n",
    "series.astype('int')"
   ]
  },
  {
   "cell_type": "code",
   "execution_count": 24,
   "metadata": {
    "colab": {
     "base_uri": "https://localhost:8080/",
     "height": 102
    },
    "colab_type": "code",
    "id": "QkrDlrCJOVwa",
    "outputId": "651094b9-2e5a-4b76-ea53-c0e89f5c478f"
   },
   "outputs": [
    {
     "data": {
      "text/plain": [
       "0    5.0\n",
       "1    7.0\n",
       "2    9.3\n",
       "3    NaN\n",
       "dtype: float64"
      ]
     },
     "execution_count": 24,
     "metadata": {},
     "output_type": "execute_result"
    }
   ],
   "source": [
    "series = pd.Series([5, '7', 9.3,'non-numeric'])\n",
    "pd.to_numeric(series, errors = 'coerce')"
   ]
  },
  {
   "cell_type": "code",
   "execution_count": 25,
   "metadata": {
    "colab": {
     "base_uri": "https://localhost:8080/",
     "height": 102
    },
    "colab_type": "code",
    "id": "f8PjPRfSOobn",
    "outputId": "8225a8b8-658f-47f8-ef30-8908ed03bca0"
   },
   "outputs": [
    {
     "data": {
      "text/plain": [
       "0    5.0\n",
       "1    7.0\n",
       "2    9.3\n",
       "3    0.0\n",
       "dtype: float64"
      ]
     },
     "execution_count": 25,
     "metadata": {},
     "output_type": "execute_result"
    }
   ],
   "source": [
    "series = pd.Series([5, '7', 9.3,'non-numeric'])\n",
    "pd.to_numeric(series, errors = 'coerce').fillna(0)"
   ]
  },
  {
   "cell_type": "code",
   "execution_count": 26,
   "metadata": {
    "colab": {
     "base_uri": "https://localhost:8080/",
     "height": 102
    },
    "colab_type": "code",
    "id": "V7qcWXYxnAvt",
    "outputId": "5d95a726-ed4a-4799-dc37-4597d0e9c2bb"
   },
   "outputs": [
    {
     "data": {
      "text/plain": [
       "0              5\n",
       "1              7\n",
       "2            9.3\n",
       "3    non-numeric\n",
       "dtype: object"
      ]
     },
     "execution_count": 26,
     "metadata": {},
     "output_type": "execute_result"
    }
   ],
   "source": [
    "series = pd.Series([5, '7', 9.3,'non-numeric'])\n",
    "pd.to_numeric(series, errors = 'ignore')"
   ]
  },
  {
   "cell_type": "code",
   "execution_count": 27,
   "metadata": {
    "colab": {
     "base_uri": "https://localhost:8080/",
     "height": 51
    },
    "colab_type": "code",
    "id": "00KnKGSoAlkO",
    "outputId": "89f0b36f-231e-41bc-ee2e-25b178fc8ea8"
   },
   "outputs": [
    {
     "name": "stdout",
     "output_type": "stream",
     "text": [
      "Default data type after type casting: float64\n",
      "Downcasted data type after type casting: float32\n"
     ]
    }
   ],
   "source": [
    "series = pd.Series([5.0, '7', 9.1])\n",
    "print('Default data type after type casting:', pd.to_numeric(series).dtypes)\n",
    "\n",
    "series = pd.Series([5.0, '7', 9.1])\n",
    "print('Downcasted data type after type casting:', pd.to_numeric(series, downcast = 'float').dtypes)"
   ]
  },
  {
   "cell_type": "code",
   "execution_count": 28,
   "metadata": {
    "colab": {
     "base_uri": "https://localhost:8080/",
     "height": 34
    },
    "colab_type": "code",
    "id": "nMP6oeLJ0OHY",
    "outputId": "9b9cda0e-fb4f-4222-e2b9-8b6da466b004"
   },
   "outputs": [
    {
     "data": {
      "text/plain": [
       "Timestamp('2020-11-15 00:00:00')"
      ]
     },
     "execution_count": 28,
     "metadata": {},
     "output_type": "execute_result"
    }
   ],
   "source": [
    "pd.to_datetime(arg = '15/11/2020')"
   ]
  },
  {
   "cell_type": "code",
   "execution_count": 29,
   "metadata": {
    "colab": {
     "base_uri": "https://localhost:8080/",
     "height": 85
    },
    "colab_type": "code",
    "id": "Kg8pjr2ba3iu",
    "outputId": "970c01b5-3551-469d-b421-755096cfe91b"
   },
   "outputs": [
    {
     "data": {
      "text/plain": [
       "0   2018-10-14\n",
       "1   2019-11-15\n",
       "2   2020-12-16\n",
       "dtype: datetime64[ns]"
      ]
     },
     "execution_count": 29,
     "metadata": {},
     "output_type": "execute_result"
    }
   ],
   "source": [
    "series = pd.Series(['14/10/2018', '15/11/2019', '16/12/2020'])\n",
    "pd.to_datetime(series)"
   ]
  },
  {
   "cell_type": "code",
   "execution_count": 30,
   "metadata": {
    "colab": {
     "base_uri": "https://localhost:8080/",
     "height": 34
    },
    "colab_type": "code",
    "id": "hDkRRBbub2FM",
    "outputId": "f4ee0586-c45d-44fc-fe31-96174a60768c"
   },
   "outputs": [
    {
     "data": {
      "text/plain": [
       "Timestamp('2020-11-15 00:00:00')"
      ]
     },
     "execution_count": 30,
     "metadata": {},
     "output_type": "execute_result"
    }
   ],
   "source": [
    "pd.to_datetime('15/11/2020', dayfirst = True)"
   ]
  },
  {
   "cell_type": "code",
   "execution_count": null,
   "metadata": {
    "colab": {},
    "colab_type": "code",
    "id": "rUXpT_6D8s6M"
   },
   "outputs": [],
   "source": []
  },
  {
   "cell_type": "code",
   "execution_count": null,
   "metadata": {},
   "outputs": [],
   "source": []
  }
 ],
 "metadata": {
  "colab": {
   "collapsed_sections": [],
   "name": "PandasWorkshopChapter4.ipynb",
   "provenance": []
  },
  "kernelspec": {
   "display_name": "Python 3",
   "language": "python",
   "name": "python3"
  },
  "language_info": {
   "codemirror_mode": {
    "name": "ipython",
    "version": 3
   },
   "file_extension": ".py",
   "mimetype": "text/x-python",
   "name": "python",
   "nbconvert_exporter": "python",
   "pygments_lexer": "ipython3",
   "version": "3.7.6"
  }
 },
 "nbformat": 4,
 "nbformat_minor": 1
}
