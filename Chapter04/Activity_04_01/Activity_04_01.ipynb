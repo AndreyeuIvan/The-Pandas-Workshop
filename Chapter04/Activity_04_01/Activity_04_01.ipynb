{
 "cells": [
  {
   "cell_type": "code",
   "execution_count": 1,
   "metadata": {
    "colab": {},
    "colab_type": "code",
    "id": "57OmKHPjr6lt"
   },
   "outputs": [],
   "source": [
    "# Importing pandas library with alias name pd\n",
    "import pandas as pd"
   ]
  },
  {
   "cell_type": "code",
   "execution_count": 2,
   "metadata": {
    "colab": {},
    "colab_type": "code",
    "id": "fPHqY_-7sBDF"
   },
   "outputs": [],
   "source": [
    "def activity01_01_prep():\n",
    "    # Defining columns\n",
    "    column_names = ['Applicant Id', 'Applicant Name', 'Test Date', \n",
    "                    'Mathematics Score', 'Physics Score', 'Chemistry Score']\n",
    "    \n",
    "    # Defining lists of test records\n",
    "    testRecord1 = list([1001,'James', '2020-02-01', 70, 62, 81])\n",
    "    testRecord2 = list([1002,'Pritam', '2020-04-07', 86, 61, 73])\n",
    "    testRecord3 = list([1003,'Pritha', '2020-02-01', 86, 67, 68])\n",
    "    testRecord4 = list([1004,'David', '2020-05-15', 55, 82, 62])\n",
    "    testRecord5 = list([1005,'Kaushik', '2020-05-15', 76, 84, 57])\n",
    "    testRecord6 = list([1006,'Somnath', '2020-05-26', 80, 84, 49])\n",
    "    testRecord7 = list([1007,'Peter', '2020-06-03', 79, 73, 63])\n",
    "    \n",
    "    # Defining a DataFrame from multiple Serieses\n",
    "    data_frame = pd.DataFrame([testRecord1, testRecord2, testRecord3, testRecord4, \n",
    "                               testRecord5, testRecord6, testRecord7], \n",
    "                              columns=column_names)\n",
    "    # Seeing data types of the columns\n",
    "    print(data_frame.dtypes)\n",
    "    \n",
    "    # Transforming object format to datetime format\n",
    "    data_frame['Test Date'] = pd.to_datetime(data_frame['Test Date'], format = '%Y-%m-%d')\n",
    "    \n",
    "    # Filtering data\n",
    "    filtered_data_frame = data_frame[(data_frame['Test Date'] >= '2020-05-01') & (data_frame['Test Date'] < '2020-06-30')]\n",
    "    print(filtered_data_frame)\n",
    "    \n",
    "    return filtered_data_frame\n",
    "    "
   ]
  },
  {
   "cell_type": "code",
   "execution_count": 3,
   "metadata": {},
   "outputs": [],
   "source": [
    "def activity01_01(filtered_data_frame):\n",
    "    filtered_data_frame['Average Score'] = (filtered_data_frame['Mathematics Score'] + filtered_data_frame['Physics Score'] + filtered_data_frame['Chemistry Score']) / 3\n",
    "    \n",
    "    return filtered_data_frame"
   ]
  },
  {
   "cell_type": "code",
   "execution_count": 4,
   "metadata": {
    "colab": {},
    "colab_type": "code",
    "id": "8AIxNkADsbQX"
   },
   "outputs": [
    {
     "name": "stdout",
     "output_type": "stream",
     "text": [
      "Applicant Id          int64\n",
      "Applicant Name       object\n",
      "Test Date            object\n",
      "Mathematics Score     int64\n",
      "Physics Score         int64\n",
      "Chemistry Score       int64\n",
      "dtype: object\n",
      "   Applicant Id Applicant Name  Test Date  Mathematics Score  Physics Score  \\\n",
      "3          1004          David 2020-05-15                 55             82   \n",
      "4          1005        Kaushik 2020-05-15                 76             84   \n",
      "5          1006        Somnath 2020-05-26                 80             84   \n",
      "6          1007          Peter 2020-06-03                 79             73   \n",
      "\n",
      "   Chemistry Score  \n",
      "3               62  \n",
      "4               57  \n",
      "5               49  \n",
      "6               63  \n"
     ]
    },
    {
     "data": {
      "text/html": [
       "<div>\n",
       "<style scoped>\n",
       "    .dataframe tbody tr th:only-of-type {\n",
       "        vertical-align: middle;\n",
       "    }\n",
       "\n",
       "    .dataframe tbody tr th {\n",
       "        vertical-align: top;\n",
       "    }\n",
       "\n",
       "    .dataframe thead th {\n",
       "        text-align: right;\n",
       "    }\n",
       "</style>\n",
       "<table border=\"1\" class=\"dataframe\">\n",
       "  <thead>\n",
       "    <tr style=\"text-align: right;\">\n",
       "      <th></th>\n",
       "      <th>Applicant Id</th>\n",
       "      <th>Applicant Name</th>\n",
       "      <th>Test Date</th>\n",
       "      <th>Mathematics Score</th>\n",
       "      <th>Physics Score</th>\n",
       "      <th>Chemistry Score</th>\n",
       "      <th>Average Score</th>\n",
       "    </tr>\n",
       "  </thead>\n",
       "  <tbody>\n",
       "    <tr>\n",
       "      <th>3</th>\n",
       "      <td>1004</td>\n",
       "      <td>David</td>\n",
       "      <td>2020-05-15</td>\n",
       "      <td>55</td>\n",
       "      <td>82</td>\n",
       "      <td>62</td>\n",
       "      <td>66.333333</td>\n",
       "    </tr>\n",
       "    <tr>\n",
       "      <th>4</th>\n",
       "      <td>1005</td>\n",
       "      <td>Kaushik</td>\n",
       "      <td>2020-05-15</td>\n",
       "      <td>76</td>\n",
       "      <td>84</td>\n",
       "      <td>57</td>\n",
       "      <td>72.333333</td>\n",
       "    </tr>\n",
       "    <tr>\n",
       "      <th>5</th>\n",
       "      <td>1006</td>\n",
       "      <td>Somnath</td>\n",
       "      <td>2020-05-26</td>\n",
       "      <td>80</td>\n",
       "      <td>84</td>\n",
       "      <td>49</td>\n",
       "      <td>71.000000</td>\n",
       "    </tr>\n",
       "    <tr>\n",
       "      <th>6</th>\n",
       "      <td>1007</td>\n",
       "      <td>Peter</td>\n",
       "      <td>2020-06-03</td>\n",
       "      <td>79</td>\n",
       "      <td>73</td>\n",
       "      <td>63</td>\n",
       "      <td>71.666667</td>\n",
       "    </tr>\n",
       "  </tbody>\n",
       "</table>\n",
       "</div>"
      ],
      "text/plain": [
       "   Applicant Id Applicant Name  Test Date  Mathematics Score  Physics Score  \\\n",
       "3          1004          David 2020-05-15                 55             82   \n",
       "4          1005        Kaushik 2020-05-15                 76             84   \n",
       "5          1006        Somnath 2020-05-26                 80             84   \n",
       "6          1007          Peter 2020-06-03                 79             73   \n",
       "\n",
       "   Chemistry Score  Average Score  \n",
       "3               62      66.333333  \n",
       "4               57      72.333333  \n",
       "5               49      71.000000  \n",
       "6               63      71.666667  "
      ]
     },
     "execution_count": 4,
     "metadata": {},
     "output_type": "execute_result"
    }
   ],
   "source": [
    "filtered_data_frame = activity01_01_prep()\n",
    "data_frame = activity01_01(filtered_data_frame)\n",
    "data_frame"
   ]
  }
 ],
 "metadata": {
  "colab": {
   "collapsed_sections": [],
   "name": "Activity_01_01.ipynb",
   "provenance": []
  },
  "kernelspec": {
   "display_name": "Python 3",
   "language": "python",
   "name": "python3"
  },
  "language_info": {
   "codemirror_mode": {
    "name": "ipython",
    "version": 3
   },
   "file_extension": ".py",
   "mimetype": "text/x-python",
   "name": "python",
   "nbconvert_exporter": "python",
   "pygments_lexer": "ipython3",
   "version": "3.7.4"
  }
 },
 "nbformat": 4,
 "nbformat_minor": 1
}
