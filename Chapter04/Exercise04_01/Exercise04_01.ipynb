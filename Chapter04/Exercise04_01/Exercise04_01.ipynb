{
 "cells": [
  {
   "cell_type": "code",
   "execution_count": 1,
   "metadata": {
    "colab": {},
    "colab_type": "code",
    "id": "QUBNFitzGn8c"
   },
   "outputs": [],
   "source": [
    "#2 Import pandas:\n",
    "import pandas as pd"
   ]
  },
  {
   "cell_type": "code",
   "execution_count": 2,
   "metadata": {},
   "outputs": [],
   "source": [
    "#3 Next, load the CSV file as a DataFrame on the notebook and read the CSV file:\n",
    "file_url = 'https://github.com/PacktWorkshops/The-Pandas-Workshop/blob/master/Chapter04/Data/retail_purchase.csv?raw=true'\n",
    "data_frame = pd.read_csv(file_url)"
   ]
  },
  {
   "cell_type": "code",
   "execution_count": 3,
   "metadata": {},
   "outputs": [
    {
     "data": {
      "text/html": [
       "<div>\n",
       "<style scoped>\n",
       "    .dataframe tbody tr th:only-of-type {\n",
       "        vertical-align: middle;\n",
       "    }\n",
       "\n",
       "    .dataframe tbody tr th {\n",
       "        vertical-align: top;\n",
       "    }\n",
       "\n",
       "    .dataframe thead th {\n",
       "        text-align: right;\n",
       "    }\n",
       "</style>\n",
       "<table border=\"1\" class=\"dataframe\">\n",
       "  <thead>\n",
       "    <tr style=\"text-align: right;\">\n",
       "      <th></th>\n",
       "      <th>Receipt Id</th>\n",
       "      <th>Date of Purchase</th>\n",
       "      <th>Product Name</th>\n",
       "      <th>Product Weight</th>\n",
       "      <th>Total Price</th>\n",
       "      <th>Retail shop name</th>\n",
       "    </tr>\n",
       "  </thead>\n",
       "  <tbody>\n",
       "    <tr>\n",
       "      <th>0</th>\n",
       "      <td>10001</td>\n",
       "      <td>24/05/20</td>\n",
       "      <td>Wheat</td>\n",
       "      <td>4.8lb</td>\n",
       "      <td>€17</td>\n",
       "      <td>Fline Store</td>\n",
       "    </tr>\n",
       "    <tr>\n",
       "      <th>1</th>\n",
       "      <td>10002</td>\n",
       "      <td>05/05/20</td>\n",
       "      <td>Fruit Juice</td>\n",
       "      <td>3.1lb</td>\n",
       "      <td>€19</td>\n",
       "      <td>Dello Superstore</td>\n",
       "    </tr>\n",
       "    <tr>\n",
       "      <th>2</th>\n",
       "      <td>10003</td>\n",
       "      <td>27/04/20</td>\n",
       "      <td>Vegetables</td>\n",
       "      <td>1.2lb</td>\n",
       "      <td>€15</td>\n",
       "      <td>Javies Retail</td>\n",
       "    </tr>\n",
       "    <tr>\n",
       "      <th>3</th>\n",
       "      <td>10004</td>\n",
       "      <td>05/05/20</td>\n",
       "      <td>Oil</td>\n",
       "      <td>3.1lb</td>\n",
       "      <td>€17</td>\n",
       "      <td>Javies Retail</td>\n",
       "    </tr>\n",
       "    <tr>\n",
       "      <th>4</th>\n",
       "      <td>10005</td>\n",
       "      <td>27/04/20</td>\n",
       "      <td>Wheat</td>\n",
       "      <td>4.8lb</td>\n",
       "      <td>€13</td>\n",
       "      <td>Javies Retail</td>\n",
       "    </tr>\n",
       "  </tbody>\n",
       "</table>\n",
       "</div>"
      ],
      "text/plain": [
       "   Receipt Id Date of Purchase Product Name Product Weight Total Price  \\\n",
       "0       10001         24/05/20        Wheat          4.8lb         €17   \n",
       "1       10002         05/05/20  Fruit Juice          3.1lb         €19   \n",
       "2       10003         27/04/20   Vegetables          1.2lb         €15   \n",
       "3       10004         05/05/20          Oil          3.1lb         €17   \n",
       "4       10005         27/04/20        Wheat          4.8lb         €13   \n",
       "\n",
       "   Retail shop name  \n",
       "0       Fline Store  \n",
       "1  Dello Superstore  \n",
       "2     Javies Retail  \n",
       "3     Javies Retail  \n",
       "4     Javies Retail  "
      ]
     },
     "execution_count": 3,
     "metadata": {},
     "output_type": "execute_result"
    }
   ],
   "source": [
    "#4 Use the head() function to display the first 5 rows of the DataFrame:\n",
    "data_frame.head()"
   ]
  },
  {
   "cell_type": "code",
   "execution_count": 4,
   "metadata": {},
   "outputs": [
    {
     "data": {
      "text/html": [
       "<div>\n",
       "<style scoped>\n",
       "    .dataframe tbody tr th:only-of-type {\n",
       "        vertical-align: middle;\n",
       "    }\n",
       "\n",
       "    .dataframe tbody tr th {\n",
       "        vertical-align: top;\n",
       "    }\n",
       "\n",
       "    .dataframe thead th {\n",
       "        text-align: right;\n",
       "    }\n",
       "</style>\n",
       "<table border=\"1\" class=\"dataframe\">\n",
       "  <thead>\n",
       "    <tr style=\"text-align: right;\">\n",
       "      <th></th>\n",
       "      <th>Receipt Id</th>\n",
       "      <th>Date of Purchase</th>\n",
       "      <th>Product Name</th>\n",
       "      <th>Product Weight</th>\n",
       "      <th>Total Price</th>\n",
       "      <th>Retail shop name</th>\n",
       "    </tr>\n",
       "  </thead>\n",
       "  <tbody>\n",
       "    <tr>\n",
       "      <th>99995</th>\n",
       "      <td>109996</td>\n",
       "      <td>24/05/20</td>\n",
       "      <td>Oil</td>\n",
       "      <td>4.8lb</td>\n",
       "      <td>€25</td>\n",
       "      <td>Visco Retail</td>\n",
       "    </tr>\n",
       "    <tr>\n",
       "      <th>99996</th>\n",
       "      <td>109997</td>\n",
       "      <td>20/04/20</td>\n",
       "      <td>Rice</td>\n",
       "      <td>3.1lb</td>\n",
       "      <td>€12</td>\n",
       "      <td>Kelly Superstore</td>\n",
       "    </tr>\n",
       "    <tr>\n",
       "      <th>99997</th>\n",
       "      <td>109998</td>\n",
       "      <td>08/01/20</td>\n",
       "      <td>Fruit Juice</td>\n",
       "      <td>2.7lb</td>\n",
       "      <td>€24</td>\n",
       "      <td>Dello Superstore</td>\n",
       "    </tr>\n",
       "    <tr>\n",
       "      <th>99998</th>\n",
       "      <td>109999</td>\n",
       "      <td>05/05/20</td>\n",
       "      <td>Butter</td>\n",
       "      <td>3.1lb</td>\n",
       "      <td>€22</td>\n",
       "      <td>Dello Superstore</td>\n",
       "    </tr>\n",
       "    <tr>\n",
       "      <th>99999</th>\n",
       "      <td>110000</td>\n",
       "      <td>17/04/20</td>\n",
       "      <td>Bread</td>\n",
       "      <td>4.4lb</td>\n",
       "      <td>€27</td>\n",
       "      <td>Visco Retail</td>\n",
       "    </tr>\n",
       "  </tbody>\n",
       "</table>\n",
       "</div>"
      ],
      "text/plain": [
       "       Receipt Id Date of Purchase Product Name Product Weight Total Price  \\\n",
       "99995      109996         24/05/20          Oil          4.8lb         €25   \n",
       "99996      109997         20/04/20         Rice          3.1lb         €12   \n",
       "99997      109998         08/01/20  Fruit Juice          2.7lb         €24   \n",
       "99998      109999         05/05/20       Butter          3.1lb         €22   \n",
       "99999      110000         17/04/20        Bread          4.4lb         €27   \n",
       "\n",
       "       Retail shop name  \n",
       "99995      Visco Retail  \n",
       "99996  Kelly Superstore  \n",
       "99997  Dello Superstore  \n",
       "99998  Dello Superstore  \n",
       "99999      Visco Retail  "
      ]
     },
     "execution_count": 4,
     "metadata": {},
     "output_type": "execute_result"
    }
   ],
   "source": [
    "#5 Use the tail() function to display the last 5 rows of the DataFrame:\n",
    "data_frame.tail()"
   ]
  },
  {
   "cell_type": "code",
   "execution_count": 5,
   "metadata": {},
   "outputs": [
    {
     "name": "stdout",
     "output_type": "stream",
     "text": [
      "<class 'pandas.core.frame.DataFrame'>\n",
      "RangeIndex: 100000 entries, 0 to 99999\n",
      "Data columns (total 6 columns):\n",
      " #   Column            Non-Null Count   Dtype \n",
      "---  ------            --------------   ----- \n",
      " 0   Receipt Id        100000 non-null  int64 \n",
      " 1   Date of Purchase  100000 non-null  object\n",
      " 2   Product Name      100000 non-null  object\n",
      " 3   Product Weight    100000 non-null  object\n",
      " 4   Total Price       100000 non-null  object\n",
      " 5   Retail shop name  100000 non-null  object\n",
      "dtypes: int64(1), object(5)\n",
      "memory usage: 4.6+ MB\n"
     ]
    }
   ],
   "source": [
    "#6 Use the info() function to display the data types of each column in the DataFrame:\n",
    "data_frame.info()"
   ]
  },
  {
   "cell_type": "code",
   "execution_count": 6,
   "metadata": {},
   "outputs": [
    {
     "data": {
      "text/plain": [
       "0       2020-05-24\n",
       "1       2020-05-05\n",
       "2       2020-04-27\n",
       "3       2020-05-05\n",
       "4       2020-04-27\n",
       "           ...    \n",
       "99995   2020-05-24\n",
       "99996   2020-04-20\n",
       "99997   2020-01-08\n",
       "99998   2020-05-05\n",
       "99999   2020-04-17\n",
       "Name: Date of Purchase, Length: 100000, dtype: datetime64[ns]"
      ]
     },
     "execution_count": 6,
     "metadata": {},
     "output_type": "execute_result"
    }
   ],
   "source": [
    "#7 Convert “Date of Purchase” into a datetime then display it:\n",
    "data_frame['Date of Purchase'] = pd.to_datetime(data_frame['Date of Purchase'], format='%d/%m/%y')\n",
    "data_frame['Date of Purchase']"
   ]
  },
  {
   "cell_type": "code",
   "execution_count": 7,
   "metadata": {},
   "outputs": [
    {
     "data": {
      "text/plain": [
       "0        17\n",
       "1        19\n",
       "2        15\n",
       "3        17\n",
       "4        13\n",
       "         ..\n",
       "99995    25\n",
       "99996    12\n",
       "99997    24\n",
       "99998    22\n",
       "99999    27\n",
       "Name: Total Price, Length: 100000, dtype: object"
      ]
     },
     "execution_count": 7,
     "metadata": {},
     "output_type": "execute_result"
    }
   ],
   "source": [
    "#8 Remove the '€' from 'Total Price' then display it:\n",
    "data_frame['Total Price'] = data_frame['Total Price'].str[1:]\n",
    "data_frame['Total Price']"
   ]
  },
  {
   "cell_type": "code",
   "execution_count": 8,
   "metadata": {},
   "outputs": [
    {
     "data": {
      "text/plain": [
       "0        17.0\n",
       "1        19.0\n",
       "2        15.0\n",
       "3        17.0\n",
       "4        13.0\n",
       "         ... \n",
       "99995    25.0\n",
       "99996    12.0\n",
       "99997    24.0\n",
       "99998    22.0\n",
       "99999    27.0\n",
       "Name: Total Price, Length: 100000, dtype: float64"
      ]
     },
     "execution_count": 8,
     "metadata": {},
     "output_type": "execute_result"
    }
   ],
   "source": [
    "#9 Convert “Total Price” into a float then display it:\n",
    "data_frame['Total Price'] = data_frame['Total Price'].astype('float')\n",
    "data_frame['Total Price']"
   ]
  },
  {
   "cell_type": "code",
   "execution_count": 9,
   "metadata": {},
   "outputs": [
    {
     "data": {
      "text/plain": [
       "0        4.8\n",
       "1        3.1\n",
       "2        1.2\n",
       "3        3.1\n",
       "4        4.8\n",
       "        ... \n",
       "99995    4.8\n",
       "99996    3.1\n",
       "99997    2.7\n",
       "99998    3.1\n",
       "99999    4.4\n",
       "Name: Product Weight, Length: 100000, dtype: object"
      ]
     },
     "execution_count": 9,
     "metadata": {},
     "output_type": "execute_result"
    }
   ],
   "source": [
    "#10 Remove the 'lb' from 'Product Weight' then display it:\n",
    "data_frame['Product Weight'] = data_frame['Product Weight'].str[:-2]\n",
    "data_frame['Product Weight']"
   ]
  },
  {
   "cell_type": "code",
   "execution_count": 10,
   "metadata": {},
   "outputs": [
    {
     "data": {
      "text/plain": [
       "0        4.8\n",
       "1        3.1\n",
       "2        1.2\n",
       "3        3.1\n",
       "4        4.8\n",
       "        ... \n",
       "99995    4.8\n",
       "99996    3.1\n",
       "99997    2.7\n",
       "99998    3.1\n",
       "99999    4.4\n",
       "Name: Product Weight, Length: 100000, dtype: float64"
      ]
     },
     "execution_count": 10,
     "metadata": {},
     "output_type": "execute_result"
    }
   ],
   "source": [
    "#11 Convert “Product Weight” into a float then display it:\n",
    "data_frame['Product Weight'] = data_frame['Product Weight'].astype('float')\n",
    "data_frame['Product Weight']"
   ]
  },
  {
   "cell_type": "code",
   "execution_count": 11,
   "metadata": {},
   "outputs": [
    {
     "data": {
      "text/plain": [
       "array(['Wheat', 'Fruit Juice', 'Vegetables', 'Oil', 'Butter', 'Fruits',\n",
       "       'Cheese', 'Rice', 'Bread'], dtype=object)"
      ]
     },
     "execution_count": 11,
     "metadata": {},
     "output_type": "execute_result"
    }
   ],
   "source": [
    "#12 Use the unique() function to each unique value of “Product Name”:\n",
    "data_frame['Product Name'].unique()"
   ]
  },
  {
   "cell_type": "code",
   "execution_count": 12,
   "metadata": {},
   "outputs": [
    {
     "data": {
      "text/plain": [
       "0              Wheat\n",
       "1        Fruit Juice\n",
       "2         Vegetables\n",
       "3                Oil\n",
       "4              Wheat\n",
       "            ...     \n",
       "99995            Oil\n",
       "99996           Rice\n",
       "99997    Fruit Juice\n",
       "99998         Butter\n",
       "99999          Bread\n",
       "Name: Product Name, Length: 100000, dtype: category\n",
       "Categories (9, object): [Bread, Butter, Cheese, Fruit Juice, ..., Oil, Rice, Vegetables, Wheat]"
      ]
     },
     "execution_count": 12,
     "metadata": {},
     "output_type": "execute_result"
    }
   ],
   "source": [
    "#13 Convert “Product Name” into a category then display it:\n",
    "data_frame['Product Name'] = data_frame['Product Name'].astype('category')\n",
    "data_frame['Product Name']"
   ]
  },
  {
   "cell_type": "code",
   "execution_count": 13,
   "metadata": {},
   "outputs": [
    {
     "data": {
      "text/plain": [
       "array(['Fline Store', 'Dello Superstore', 'Javies Retail',\n",
       "       'Oldi Superstore', 'Kanes Store', 'Kelly Superstore',\n",
       "       'Visco Retail', 'Rotero Retail'], dtype=object)"
      ]
     },
     "execution_count": 13,
     "metadata": {},
     "output_type": "execute_result"
    }
   ],
   "source": [
    "#14 Use the unique() function to each unique value of “Retail shop name”:\n",
    "data_frame['Retail shop name'].unique()"
   ]
  },
  {
   "cell_type": "code",
   "execution_count": 14,
   "metadata": {},
   "outputs": [
    {
     "data": {
      "text/plain": [
       "0             Fline Store\n",
       "1        Dello Superstore\n",
       "2           Javies Retail\n",
       "3           Javies Retail\n",
       "4           Javies Retail\n",
       "               ...       \n",
       "99995        Visco Retail\n",
       "99996    Kelly Superstore\n",
       "99997    Dello Superstore\n",
       "99998    Dello Superstore\n",
       "99999        Visco Retail\n",
       "Name: Retail shop name, Length: 100000, dtype: category\n",
       "Categories (8, object): [Dello Superstore, Fline Store, Javies Retail, Kanes Store, Kelly Superstore, Oldi Superstore, Rotero Retail, Visco Retail]"
      ]
     },
     "execution_count": 14,
     "metadata": {},
     "output_type": "execute_result"
    }
   ],
   "source": [
    "#15 Convert “Retail shop name” into a category then display it:\n",
    "data_frame['Retail shop name'] = data_frame['Retail shop name'].astype('category')\n",
    "data_frame['Retail shop name']"
   ]
  },
  {
   "cell_type": "code",
   "execution_count": 15,
   "metadata": {
    "colab": {},
    "colab_type": "code",
    "id": "X8R0KtEoRMX0"
   },
   "outputs": [
    {
     "name": "stdout",
     "output_type": "stream",
     "text": [
      "<class 'pandas.core.frame.DataFrame'>\n",
      "RangeIndex: 100000 entries, 0 to 99999\n",
      "Data columns (total 6 columns):\n",
      " #   Column            Non-Null Count   Dtype         \n",
      "---  ------            --------------   -----         \n",
      " 0   Receipt Id        100000 non-null  int64         \n",
      " 1   Date of Purchase  100000 non-null  datetime64[ns]\n",
      " 2   Product Name      100000 non-null  category      \n",
      " 3   Product Weight    100000 non-null  float64       \n",
      " 4   Total Price       100000 non-null  float64       \n",
      " 5   Retail shop name  100000 non-null  category      \n",
      "dtypes: category(2), datetime64[ns](1), float64(2), int64(1)\n",
      "memory usage: 3.2 MB\n"
     ]
    }
   ],
   "source": [
    "#16 Use the info() function to display the data types of each column in the DataFrame:\n",
    "data_frame.info()"
   ]
  }
 ],
 "metadata": {
  "colab": {
   "collapsed_sections": [],
   "name": "Exercise01_01.ipynb",
   "provenance": []
  },
  "kernelspec": {
   "display_name": "Python 3",
   "language": "python",
   "name": "python3"
  },
  "language_info": {
   "codemirror_mode": {
    "name": "ipython",
    "version": 3
   },
   "file_extension": ".py",
   "mimetype": "text/x-python",
   "name": "python",
   "nbconvert_exporter": "python",
   "pygments_lexer": "ipython3",
   "version": "3.7.6"
  }
 },
 "nbformat": 4,
 "nbformat_minor": 1
}
