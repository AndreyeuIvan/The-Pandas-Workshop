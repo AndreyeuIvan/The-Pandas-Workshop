{
 "cells": [
  {
   "cell_type": "code",
   "execution_count": 1,
   "metadata": {},
   "outputs": [],
   "source": [
    "#\n",
    "# required libraries\n",
    "#\n",
    "import pandas as pd\n",
    "#"
   ]
  },
  {
   "cell_type": "code",
   "execution_count": 2,
   "metadata": {},
   "outputs": [
    {
     "data": {
      "text/plain": [
       "0      0.783670\n",
       "1      0.293040\n",
       "2      0.111169\n",
       "3     -0.169703\n",
       "4     -0.147029\n",
       "         ...   \n",
       "139    0.723983\n",
       "140    0.687518\n",
       "141    0.515671\n",
       "142    0.432008\n",
       "143    0.146747\n",
       "Name: Y, Length: 144, dtype: float64"
      ]
     },
     "execution_count": 2,
     "metadata": {},
     "output_type": "execute_result"
    }
   ],
   "source": [
    "#\n",
    "# create a series\n",
    "#\n",
    "BOLD = pd.read_csv('..//Datasets//PLOS_BOLD_S1_patient_1.csv',\n",
    "                  squeeze = True)\n",
    "BOLD\n",
    "#"
   ]
  },
  {
   "cell_type": "code",
   "execution_count": 3,
   "metadata": {},
   "outputs": [
    {
     "data": {
      "text/plain": [
       "0      0.783670\n",
       "2      0.293040\n",
       "4      0.111169\n",
       "6     -0.169703\n",
       "8     -0.147029\n",
       "         ...   \n",
       "278    0.723983\n",
       "280    0.687518\n",
       "282    0.515671\n",
       "284    0.432008\n",
       "286    0.146747\n",
       "Name: Y, Length: 144, dtype: float64"
      ]
     },
     "execution_count": 3,
     "metadata": {},
     "output_type": "execute_result"
    }
   ],
   "source": [
    "#\n",
    "# replace the index with a range from 0 every 2 seconds\n",
    "#\n",
    "BOLD.index = range(0, 2*len(BOLD), 2)\n",
    "BOLD\n",
    "#"
   ]
  },
  {
   "cell_type": "code",
   "execution_count": 7,
   "metadata": {},
   "outputs": [
    {
     "data": {
      "text/plain": [
       "0      0.783670\n",
       "4      0.111169\n",
       "8     -0.147029\n",
       "12    -0.032271\n",
       "16    -0.202202\n",
       "         ...   \n",
       "268   -0.014538\n",
       "272    0.180167\n",
       "276    0.382172\n",
       "280    0.687518\n",
       "284    0.432008\n",
       "Name: Y, Length: 72, dtype: float64"
      ]
     },
     "execution_count": 7,
     "metadata": {},
     "output_type": "execute_result"
    }
   ],
   "source": [
    "#\n",
    "# construct a series having every other element of BOLD\n",
    "#\n",
    "B2 = BOLD[::2]\n",
    "B2\n",
    "#"
   ]
  },
  {
   "cell_type": "code",
   "execution_count": 10,
   "metadata": {},
   "outputs": [
    {
     "data": {
      "text/plain": [
       "284    0.432008\n",
       "280    0.687518\n",
       "276    0.382172\n",
       "272    0.180167\n",
       "268   -0.014538\n",
       "264   -0.080900\n",
       "260    0.069567\n",
       "256    0.153728\n",
       "252    0.220703\n",
       "Name: Y, dtype: float64"
      ]
     },
     "execution_count": 10,
     "metadata": {},
     "output_type": "execute_result"
    }
   ],
   "source": [
    "#\n",
    "# last 10 elements of B2\n",
    "#\n",
    "B2[len(B2):(len(B2) - 10):-1]\n",
    "#"
   ]
  }
 ],
 "metadata": {
  "kernelspec": {
   "display_name": "Python3.7",
   "language": "python",
   "name": "python3"
  },
  "language_info": {
   "codemirror_mode": {
    "name": "ipython",
    "version": 3
   },
   "file_extension": ".py",
   "mimetype": "text/x-python",
   "name": "python",
   "nbconvert_exporter": "python",
   "pygments_lexer": "ipython3",
   "version": "3.7.6"
  },
  "toc": {
   "base_numbering": 1,
   "nav_menu": {},
   "number_sections": true,
   "sideBar": true,
   "skip_h1_title": false,
   "title_cell": "Table of Contents",
   "title_sidebar": "Contents",
   "toc_cell": false,
   "toc_position": {
    "height": "calc(100% - 180px)",
    "left": "10px",
    "top": "150px",
    "width": "202.927px"
   },
   "toc_section_display": true,
   "toc_window_display": true
  },
  "varInspector": {
   "cols": {
    "lenName": 16,
    "lenType": 16,
    "lenVar": 40
   },
   "kernels_config": {
    "python": {
     "delete_cmd_postfix": "",
     "delete_cmd_prefix": "del ",
     "library": "var_list.py",
     "varRefreshCmd": "print(var_dic_list())"
    },
    "r": {
     "delete_cmd_postfix": ") ",
     "delete_cmd_prefix": "rm(",
     "library": "var_list.r",
     "varRefreshCmd": "cat(var_dic_list()) "
    }
   },
   "types_to_exclude": [
    "module",
    "function",
    "builtin_function_or_method",
    "instance",
    "_Feature"
   ],
   "window_display": true
  }
 },
 "nbformat": 4,
 "nbformat_minor": 4
}
