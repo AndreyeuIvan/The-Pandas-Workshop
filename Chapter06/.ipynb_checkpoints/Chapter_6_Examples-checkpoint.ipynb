{
 "cells": [
  {
   "cell_type": "code",
   "execution_count": 1,
   "metadata": {
    "colab": {
     "base_uri": "https://localhost:8080/",
     "height": 136
    },
    "colab_type": "code",
    "id": "6WNKArxYn0F6",
    "outputId": "4f5a4f97-1f56-41cc-ef94-d50e8c19b49c"
   },
   "outputs": [
    {
     "data": {
      "text/html": [
       "<div>\n",
       "<style scoped>\n",
       "    .dataframe tbody tr th:only-of-type {\n",
       "        vertical-align: middle;\n",
       "    }\n",
       "\n",
       "    .dataframe tbody tr th {\n",
       "        vertical-align: top;\n",
       "    }\n",
       "\n",
       "    .dataframe thead th {\n",
       "        text-align: right;\n",
       "    }\n",
       "</style>\n",
       "<table border=\"1\" class=\"dataframe\">\n",
       "  <thead>\n",
       "    <tr style=\"text-align: right;\">\n",
       "      <th></th>\n",
       "      <th>0</th>\n",
       "      <th>1</th>\n",
       "      <th>2</th>\n",
       "      <th>3</th>\n",
       "      <th>4</th>\n",
       "      <th>5</th>\n",
       "      <th>6</th>\n",
       "      <th>7</th>\n",
       "      <th>8</th>\n",
       "    </tr>\n",
       "  </thead>\n",
       "  <tbody>\n",
       "    <tr>\n",
       "      <th>0</th>\n",
       "      <td>1001.0</td>\n",
       "      <td>Pandas Banking</td>\n",
       "      <td>235000</td>\n",
       "      <td>248000</td>\n",
       "      <td>5.5</td>\n",
       "      <td>2013</td>\n",
       "      <td>3</td>\n",
       "      <td>10</td>\n",
       "      <td>0</td>\n",
       "    </tr>\n",
       "    <tr>\n",
       "      <th>1</th>\n",
       "      <td>1002.0</td>\n",
       "      <td>Pandas Grocery</td>\n",
       "      <td>196000</td>\n",
       "      <td>205000</td>\n",
       "      <td>4.5</td>\n",
       "      <td>2016</td>\n",
       "      <td>4</td>\n",
       "      <td>30</td>\n",
       "      <td>0</td>\n",
       "    </tr>\n",
       "    <tr>\n",
       "      <th>2</th>\n",
       "      <td>1003.0</td>\n",
       "      <td>Pandas Telecom</td>\n",
       "      <td>167000</td>\n",
       "      <td>193000</td>\n",
       "      <td>15.5</td>\n",
       "      <td>2010</td>\n",
       "      <td>11</td>\n",
       "      <td>24</td>\n",
       "      <td>0</td>\n",
       "    </tr>\n",
       "    <tr>\n",
       "      <th>3</th>\n",
       "      <td>1004.0</td>\n",
       "      <td>Pandas Transport</td>\n",
       "      <td>79000</td>\n",
       "      <td>90000</td>\n",
       "      <td>13.9</td>\n",
       "      <td>2018</td>\n",
       "      <td>1</td>\n",
       "      <td>15</td>\n",
       "      <td>1</td>\n",
       "    </tr>\n",
       "    <tr>\n",
       "      <th>4</th>\n",
       "      <td>1005.0</td>\n",
       "      <td>Pandas Insurance</td>\n",
       "      <td>241000</td>\n",
       "      <td>264000</td>\n",
       "      <td>9.5</td>\n",
       "      <td>2009</td>\n",
       "      <td>6</td>\n",
       "      <td>1</td>\n",
       "      <td>0</td>\n",
       "    </tr>\n",
       "  </tbody>\n",
       "</table>\n",
       "</div>"
      ],
      "text/plain": [
       "        0                 1       2       3     4     5   6   7  8\n",
       "0  1001.0    Pandas Banking  235000  248000   5.5  2013   3  10  0\n",
       "1  1002.0    Pandas Grocery  196000  205000   4.5  2016   4  30  0\n",
       "2  1003.0    Pandas Telecom  167000  193000  15.5  2010  11  24  0\n",
       "3  1004.0  Pandas Transport   79000   90000  13.9  2018   1  15  1\n",
       "4  1005.0  Pandas Insurance  241000  264000   9.5  2009   6   1  0"
      ]
     },
     "execution_count": 1,
     "metadata": {},
     "output_type": "execute_result"
    }
   ],
   "source": [
    "# Importing pandas and numpy libraries\n",
    "import pandas as pd\n",
    "import numpy as np\n",
    "\n",
    "# Defining lists\n",
    "row1 = list([1001.0, 'Pandas Banking', 235000, 248000, 5.5, 2013,3,10, 0])\n",
    "row2 = list([1002.0, 'Pandas Grocery', 196000, 205000, 4.5, 2016,4,30, 0])\n",
    "row3 = list([1003.0, 'Pandas Telecom', 167000, 193000, 15.5, 2010,11,24, 0])\n",
    "row4 = list([1004.0, 'Pandas Transport', 79000, 90000, 13.9, 2018,1,15, 1])\n",
    "row5 = list([1005.0, 'Pandas Insurance', 241000, 264000, 9.5, 2009,6,1, 0])\n",
    "\n",
    "# Defining a DataFrame\n",
    "data_frame = pd.DataFrame(data=[row1, row2, row3, row4, row5])\n",
    "\n",
    "# Display DataFrame values\n",
    "data_frame"
   ]
  },
  {
   "cell_type": "code",
   "execution_count": 2,
   "metadata": {},
   "outputs": [
    {
     "name": "stdout",
     "output_type": "stream",
     "text": [
      "<class 'pandas.core.frame.DataFrame'>\n",
      "RangeIndex: 5 entries, 0 to 4\n",
      "Data columns (total 9 columns):\n",
      " #   Column  Non-Null Count  Dtype  \n",
      "---  ------  --------------  -----  \n",
      " 0   0       5 non-null      float64\n",
      " 1   1       5 non-null      object \n",
      " 2   2       5 non-null      int64  \n",
      " 3   3       5 non-null      int64  \n",
      " 4   4       5 non-null      float64\n",
      " 5   5       5 non-null      int64  \n",
      " 6   6       5 non-null      int64  \n",
      " 7   7       5 non-null      int64  \n",
      " 8   8       5 non-null      int64  \n",
      "dtypes: float64(2), int64(6), object(1)\n",
      "memory usage: 488.0+ bytes\n"
     ]
    }
   ],
   "source": [
    "# Display DataFrame info\n",
    "data_frame.info()"
   ]
  },
  {
   "cell_type": "code",
   "execution_count": 3,
   "metadata": {
    "colab": {
     "base_uri": "https://localhost:8080/",
     "height": 34
    },
    "colab_type": "code",
    "id": "QlO-19uAVGIN",
    "outputId": "b04cac30-a7a7-4904-e124-1fe42d00726d"
   },
   "outputs": [
    {
     "data": {
      "text/plain": [
       "0    1001\n",
       "1    1002\n",
       "2    1003\n",
       "3    1004\n",
       "4    1005\n",
       "Name: 0, dtype: int64"
      ]
     },
     "execution_count": 3,
     "metadata": {},
     "output_type": "execute_result"
    }
   ],
   "source": [
    "# Convert column 0 into a int\n",
    "data_frame[0] = data_frame[0].astype('int')\n",
    "data_frame[0]"
   ]
  },
  {
   "cell_type": "code",
   "execution_count": 4,
   "metadata": {},
   "outputs": [
    {
     "data": {
      "text/plain": [
       "0    483000\n",
       "1    401000\n",
       "2    360000\n",
       "3    169000\n",
       "4    505000\n",
       "dtype: int64"
      ]
     },
     "execution_count": 4,
     "metadata": {},
     "output_type": "execute_result"
    }
   ],
   "source": [
    "# Summing column 2 and column 3 together\n",
    "data_frame[2] + data_frame[3]"
   ]
  },
  {
   "cell_type": "code",
   "execution_count": 5,
   "metadata": {},
   "outputs": [
    {
     "data": {
      "text/plain": [
       "['Customer ID',\n",
       " 'Customer Name',\n",
       " '2018 Revenue',\n",
       " '2019 Revenue',\n",
       " 'Growth',\n",
       " 'Start Year',\n",
       " 'Start Month',\n",
       " 'Start Day',\n",
       " 'New Customer']"
      ]
     },
     "execution_count": 5,
     "metadata": {},
     "output_type": "execute_result"
    }
   ],
   "source": [
    "# Create list of column headers\n",
    "column_names = [\"Customer ID\", \"Customer Name\", \"2018 Revenue\", \"2019 Revenue\", \"Growth\", \"Start Year\", \"Start Month\", \"Start Day\", \"New Customer\"]\n",
    "column_names"
   ]
  },
  {
   "cell_type": "code",
   "execution_count": 6,
   "metadata": {
    "scrolled": true
   },
   "outputs": [
    {
     "data": {
      "text/html": [
       "<div>\n",
       "<style scoped>\n",
       "    .dataframe tbody tr th:only-of-type {\n",
       "        vertical-align: middle;\n",
       "    }\n",
       "\n",
       "    .dataframe tbody tr th {\n",
       "        vertical-align: top;\n",
       "    }\n",
       "\n",
       "    .dataframe thead th {\n",
       "        text-align: right;\n",
       "    }\n",
       "</style>\n",
       "<table border=\"1\" class=\"dataframe\">\n",
       "  <thead>\n",
       "    <tr style=\"text-align: right;\">\n",
       "      <th></th>\n",
       "      <th>Customer ID</th>\n",
       "      <th>Customer Name</th>\n",
       "      <th>2018 Revenue</th>\n",
       "      <th>2019 Revenue</th>\n",
       "      <th>Growth</th>\n",
       "      <th>Start Year</th>\n",
       "      <th>Start Month</th>\n",
       "      <th>Start Day</th>\n",
       "      <th>New Customer</th>\n",
       "    </tr>\n",
       "  </thead>\n",
       "  <tbody>\n",
       "    <tr>\n",
       "      <th>0</th>\n",
       "      <td>1001</td>\n",
       "      <td>Pandas Banking</td>\n",
       "      <td>235000</td>\n",
       "      <td>248000</td>\n",
       "      <td>5.5</td>\n",
       "      <td>2013</td>\n",
       "      <td>3</td>\n",
       "      <td>10</td>\n",
       "      <td>0</td>\n",
       "    </tr>\n",
       "    <tr>\n",
       "      <th>1</th>\n",
       "      <td>1002</td>\n",
       "      <td>Pandas Grocery</td>\n",
       "      <td>196000</td>\n",
       "      <td>205000</td>\n",
       "      <td>4.5</td>\n",
       "      <td>2016</td>\n",
       "      <td>4</td>\n",
       "      <td>30</td>\n",
       "      <td>0</td>\n",
       "    </tr>\n",
       "    <tr>\n",
       "      <th>2</th>\n",
       "      <td>1003</td>\n",
       "      <td>Pandas Telecom</td>\n",
       "      <td>167000</td>\n",
       "      <td>193000</td>\n",
       "      <td>15.5</td>\n",
       "      <td>2010</td>\n",
       "      <td>11</td>\n",
       "      <td>24</td>\n",
       "      <td>0</td>\n",
       "    </tr>\n",
       "    <tr>\n",
       "      <th>3</th>\n",
       "      <td>1004</td>\n",
       "      <td>Pandas Transport</td>\n",
       "      <td>79000</td>\n",
       "      <td>90000</td>\n",
       "      <td>13.9</td>\n",
       "      <td>2018</td>\n",
       "      <td>1</td>\n",
       "      <td>15</td>\n",
       "      <td>1</td>\n",
       "    </tr>\n",
       "    <tr>\n",
       "      <th>4</th>\n",
       "      <td>1005</td>\n",
       "      <td>Pandas Insurance</td>\n",
       "      <td>241000</td>\n",
       "      <td>264000</td>\n",
       "      <td>9.5</td>\n",
       "      <td>2009</td>\n",
       "      <td>6</td>\n",
       "      <td>1</td>\n",
       "      <td>0</td>\n",
       "    </tr>\n",
       "  </tbody>\n",
       "</table>\n",
       "</div>"
      ],
      "text/plain": [
       "   Customer ID     Customer Name  2018 Revenue  2019 Revenue  Growth  \\\n",
       "0         1001    Pandas Banking        235000        248000     5.5   \n",
       "1         1002    Pandas Grocery        196000        205000     4.5   \n",
       "2         1003    Pandas Telecom        167000        193000    15.5   \n",
       "3         1004  Pandas Transport         79000         90000    13.9   \n",
       "4         1005  Pandas Insurance        241000        264000     9.5   \n",
       "\n",
       "   Start Year  Start Month  Start Day  New Customer  \n",
       "0        2013            3         10             0  \n",
       "1        2016            4         30             0  \n",
       "2        2010           11         24             0  \n",
       "3        2018            1         15             1  \n",
       "4        2009            6          1             0  "
      ]
     },
     "execution_count": 6,
     "metadata": {},
     "output_type": "execute_result"
    }
   ],
   "source": [
    "# Replace missing column headers\n",
    "data_frame.columns = column_names\n",
    "data_frame"
   ]
  },
  {
   "cell_type": "code",
   "execution_count": 11,
   "metadata": {},
   "outputs": [
    {
     "data": {
      "text/html": [
       "<div>\n",
       "<style scoped>\n",
       "    .dataframe tbody tr th:only-of-type {\n",
       "        vertical-align: middle;\n",
       "    }\n",
       "\n",
       "    .dataframe tbody tr th {\n",
       "        vertical-align: top;\n",
       "    }\n",
       "\n",
       "    .dataframe thead th {\n",
       "        text-align: right;\n",
       "    }\n",
       "</style>\n",
       "<table border=\"1\" class=\"dataframe\">\n",
       "  <thead>\n",
       "    <tr style=\"text-align: right;\">\n",
       "      <th></th>\n",
       "      <th>10001</th>\n",
       "      <th>24/05/20</th>\n",
       "      <th>Wheat</th>\n",
       "      <th>4.8lb</th>\n",
       "      <th>€17</th>\n",
       "      <th>Fline Store</th>\n",
       "    </tr>\n",
       "  </thead>\n",
       "  <tbody>\n",
       "    <tr>\n",
       "      <th>0</th>\n",
       "      <td>10002</td>\n",
       "      <td>05/05/20</td>\n",
       "      <td>Fruit Juice</td>\n",
       "      <td>3.1lb</td>\n",
       "      <td>€19</td>\n",
       "      <td>Dello Superstore</td>\n",
       "    </tr>\n",
       "    <tr>\n",
       "      <th>1</th>\n",
       "      <td>10003</td>\n",
       "      <td>27/04/20</td>\n",
       "      <td>Vegetables</td>\n",
       "      <td>1.2lb</td>\n",
       "      <td>€15</td>\n",
       "      <td>Javies Retail</td>\n",
       "    </tr>\n",
       "    <tr>\n",
       "      <th>2</th>\n",
       "      <td>10004</td>\n",
       "      <td>05/05/20</td>\n",
       "      <td>Oil</td>\n",
       "      <td>3.1lb</td>\n",
       "      <td>€17</td>\n",
       "      <td>Javies Retail</td>\n",
       "    </tr>\n",
       "    <tr>\n",
       "      <th>3</th>\n",
       "      <td>10005</td>\n",
       "      <td>27/04/20</td>\n",
       "      <td>Wheat</td>\n",
       "      <td>4.8lb</td>\n",
       "      <td>€13</td>\n",
       "      <td>Javies Retail</td>\n",
       "    </tr>\n",
       "    <tr>\n",
       "      <th>4</th>\n",
       "      <td>10006</td>\n",
       "      <td>14/01/20</td>\n",
       "      <td>Butter</td>\n",
       "      <td>3.6lb</td>\n",
       "      <td>€27</td>\n",
       "      <td>Oldi Superstore</td>\n",
       "    </tr>\n",
       "    <tr>\n",
       "      <th>5</th>\n",
       "      <td>10007</td>\n",
       "      <td>20/04/20</td>\n",
       "      <td>Oil</td>\n",
       "      <td>4.8lb</td>\n",
       "      <td>€21</td>\n",
       "      <td>Dello Superstore</td>\n",
       "    </tr>\n",
       "    <tr>\n",
       "      <th>6</th>\n",
       "      <td>10008</td>\n",
       "      <td>05/05/20</td>\n",
       "      <td>Wheat</td>\n",
       "      <td>3.6lb</td>\n",
       "      <td>€25</td>\n",
       "      <td>Oldi Superstore</td>\n",
       "    </tr>\n",
       "    <tr>\n",
       "      <th>7</th>\n",
       "      <td>10009</td>\n",
       "      <td>17/04/20</td>\n",
       "      <td>Fruits</td>\n",
       "      <td>1.2lb</td>\n",
       "      <td>€24</td>\n",
       "      <td>Oldi Superstore</td>\n",
       "    </tr>\n",
       "    <tr>\n",
       "      <th>8</th>\n",
       "      <td>10010</td>\n",
       "      <td>15/06/20</td>\n",
       "      <td>Oil</td>\n",
       "      <td>4.4lb</td>\n",
       "      <td>€25</td>\n",
       "      <td>Kanes Store</td>\n",
       "    </tr>\n",
       "    <tr>\n",
       "      <th>9</th>\n",
       "      <td>10011</td>\n",
       "      <td>17/06/20</td>\n",
       "      <td>Oil</td>\n",
       "      <td>4.4lb</td>\n",
       "      <td>€16</td>\n",
       "      <td>Fline Store</td>\n",
       "    </tr>\n",
       "    <tr>\n",
       "      <th>10</th>\n",
       "      <td>10012</td>\n",
       "      <td>11/06/20</td>\n",
       "      <td>Cheese</td>\n",
       "      <td>2.3lb</td>\n",
       "      <td>€20</td>\n",
       "      <td>Fline Store</td>\n",
       "    </tr>\n",
       "    <tr>\n",
       "      <th>11</th>\n",
       "      <td>10013</td>\n",
       "      <td>19/03/20</td>\n",
       "      <td>Rice</td>\n",
       "      <td>4.4lb</td>\n",
       "      <td>€27</td>\n",
       "      <td>Kanes Store</td>\n",
       "    </tr>\n",
       "    <tr>\n",
       "      <th>12</th>\n",
       "      <td>10014</td>\n",
       "      <td>01/01/20</td>\n",
       "      <td>Cheese</td>\n",
       "      <td>1.2lb</td>\n",
       "      <td>€10</td>\n",
       "      <td>Fline Store</td>\n",
       "    </tr>\n",
       "    <tr>\n",
       "      <th>13</th>\n",
       "      <td>10015</td>\n",
       "      <td>07/07/20</td>\n",
       "      <td>Fruit Juice</td>\n",
       "      <td>3.6lb</td>\n",
       "      <td>€27</td>\n",
       "      <td>Oldi Superstore</td>\n",
       "    </tr>\n",
       "  </tbody>\n",
       "</table>\n",
       "</div>"
      ],
      "text/plain": [
       "    10001  24/05/20        Wheat  4.8lb  €17       Fline Store\n",
       "0   10002  05/05/20  Fruit Juice  3.1lb  €19  Dello Superstore\n",
       "1   10003  27/04/20   Vegetables  1.2lb  €15     Javies Retail\n",
       "2   10004  05/05/20          Oil  3.1lb  €17     Javies Retail\n",
       "3   10005  27/04/20        Wheat  4.8lb  €13     Javies Retail\n",
       "4   10006  14/01/20       Butter  3.6lb  €27   Oldi Superstore\n",
       "5   10007  20/04/20          Oil  4.8lb  €21  Dello Superstore\n",
       "6   10008  05/05/20        Wheat  3.6lb  €25   Oldi Superstore\n",
       "7   10009  17/04/20       Fruits  1.2lb  €24   Oldi Superstore\n",
       "8   10010  15/06/20          Oil  4.4lb  €25       Kanes Store\n",
       "9   10011  17/06/20          Oil  4.4lb  €16       Fline Store\n",
       "10  10012  11/06/20       Cheese  2.3lb  €20       Fline Store\n",
       "11  10013  19/03/20         Rice  4.4lb  €27       Kanes Store\n",
       "12  10014  01/01/20       Cheese  1.2lb  €10       Fline Store\n",
       "13  10015  07/07/20  Fruit Juice  3.6lb  €27   Oldi Superstore"
      ]
     },
     "execution_count": 11,
     "metadata": {},
     "output_type": "execute_result"
    }
   ],
   "source": [
    "#Define the csv URL\n",
    "file_url = 'https://raw.githubusercontent.com/PacktWorkshops/The-Pandas-Workshop/master/Chapter06/Data/retail_purchase_missing_headers.csv'\n",
    "\n",
    "# Import the csv as a DataFrame\n",
    "data_frame = pd.read_csv(file_url)\n",
    "\n",
    "#Display the DataFrame\n",
    "data_frame"
   ]
  },
  {
   "cell_type": "code",
   "execution_count": 12,
   "metadata": {},
   "outputs": [
    {
     "data": {
      "text/html": [
       "<div>\n",
       "<style scoped>\n",
       "    .dataframe tbody tr th:only-of-type {\n",
       "        vertical-align: middle;\n",
       "    }\n",
       "\n",
       "    .dataframe tbody tr th {\n",
       "        vertical-align: top;\n",
       "    }\n",
       "\n",
       "    .dataframe thead th {\n",
       "        text-align: right;\n",
       "    }\n",
       "</style>\n",
       "<table border=\"1\" class=\"dataframe\">\n",
       "  <thead>\n",
       "    <tr style=\"text-align: right;\">\n",
       "      <th></th>\n",
       "      <th>0</th>\n",
       "      <th>1</th>\n",
       "      <th>2</th>\n",
       "      <th>3</th>\n",
       "      <th>4</th>\n",
       "      <th>5</th>\n",
       "    </tr>\n",
       "  </thead>\n",
       "  <tbody>\n",
       "    <tr>\n",
       "      <th>0</th>\n",
       "      <td>10001</td>\n",
       "      <td>24/05/20</td>\n",
       "      <td>Wheat</td>\n",
       "      <td>4.8lb</td>\n",
       "      <td>€17</td>\n",
       "      <td>Fline Store</td>\n",
       "    </tr>\n",
       "    <tr>\n",
       "      <th>1</th>\n",
       "      <td>10002</td>\n",
       "      <td>05/05/20</td>\n",
       "      <td>Fruit Juice</td>\n",
       "      <td>3.1lb</td>\n",
       "      <td>€19</td>\n",
       "      <td>Dello Superstore</td>\n",
       "    </tr>\n",
       "    <tr>\n",
       "      <th>2</th>\n",
       "      <td>10003</td>\n",
       "      <td>27/04/20</td>\n",
       "      <td>Vegetables</td>\n",
       "      <td>1.2lb</td>\n",
       "      <td>€15</td>\n",
       "      <td>Javies Retail</td>\n",
       "    </tr>\n",
       "    <tr>\n",
       "      <th>3</th>\n",
       "      <td>10004</td>\n",
       "      <td>05/05/20</td>\n",
       "      <td>Oil</td>\n",
       "      <td>3.1lb</td>\n",
       "      <td>€17</td>\n",
       "      <td>Javies Retail</td>\n",
       "    </tr>\n",
       "    <tr>\n",
       "      <th>4</th>\n",
       "      <td>10005</td>\n",
       "      <td>27/04/20</td>\n",
       "      <td>Wheat</td>\n",
       "      <td>4.8lb</td>\n",
       "      <td>€13</td>\n",
       "      <td>Javies Retail</td>\n",
       "    </tr>\n",
       "    <tr>\n",
       "      <th>5</th>\n",
       "      <td>10006</td>\n",
       "      <td>14/01/20</td>\n",
       "      <td>Butter</td>\n",
       "      <td>3.6lb</td>\n",
       "      <td>€27</td>\n",
       "      <td>Oldi Superstore</td>\n",
       "    </tr>\n",
       "    <tr>\n",
       "      <th>6</th>\n",
       "      <td>10007</td>\n",
       "      <td>20/04/20</td>\n",
       "      <td>Oil</td>\n",
       "      <td>4.8lb</td>\n",
       "      <td>€21</td>\n",
       "      <td>Dello Superstore</td>\n",
       "    </tr>\n",
       "    <tr>\n",
       "      <th>7</th>\n",
       "      <td>10008</td>\n",
       "      <td>05/05/20</td>\n",
       "      <td>Wheat</td>\n",
       "      <td>3.6lb</td>\n",
       "      <td>€25</td>\n",
       "      <td>Oldi Superstore</td>\n",
       "    </tr>\n",
       "    <tr>\n",
       "      <th>8</th>\n",
       "      <td>10009</td>\n",
       "      <td>17/04/20</td>\n",
       "      <td>Fruits</td>\n",
       "      <td>1.2lb</td>\n",
       "      <td>€24</td>\n",
       "      <td>Oldi Superstore</td>\n",
       "    </tr>\n",
       "    <tr>\n",
       "      <th>9</th>\n",
       "      <td>10010</td>\n",
       "      <td>15/06/20</td>\n",
       "      <td>Oil</td>\n",
       "      <td>4.4lb</td>\n",
       "      <td>€25</td>\n",
       "      <td>Kanes Store</td>\n",
       "    </tr>\n",
       "    <tr>\n",
       "      <th>10</th>\n",
       "      <td>10011</td>\n",
       "      <td>17/06/20</td>\n",
       "      <td>Oil</td>\n",
       "      <td>4.4lb</td>\n",
       "      <td>€16</td>\n",
       "      <td>Fline Store</td>\n",
       "    </tr>\n",
       "    <tr>\n",
       "      <th>11</th>\n",
       "      <td>10012</td>\n",
       "      <td>11/06/20</td>\n",
       "      <td>Cheese</td>\n",
       "      <td>2.3lb</td>\n",
       "      <td>€20</td>\n",
       "      <td>Fline Store</td>\n",
       "    </tr>\n",
       "    <tr>\n",
       "      <th>12</th>\n",
       "      <td>10013</td>\n",
       "      <td>19/03/20</td>\n",
       "      <td>Rice</td>\n",
       "      <td>4.4lb</td>\n",
       "      <td>€27</td>\n",
       "      <td>Kanes Store</td>\n",
       "    </tr>\n",
       "    <tr>\n",
       "      <th>13</th>\n",
       "      <td>10014</td>\n",
       "      <td>01/01/20</td>\n",
       "      <td>Cheese</td>\n",
       "      <td>1.2lb</td>\n",
       "      <td>€10</td>\n",
       "      <td>Fline Store</td>\n",
       "    </tr>\n",
       "    <tr>\n",
       "      <th>14</th>\n",
       "      <td>10015</td>\n",
       "      <td>07/07/20</td>\n",
       "      <td>Fruit Juice</td>\n",
       "      <td>3.6lb</td>\n",
       "      <td>€27</td>\n",
       "      <td>Oldi Superstore</td>\n",
       "    </tr>\n",
       "  </tbody>\n",
       "</table>\n",
       "</div>"
      ],
      "text/plain": [
       "        0         1            2      3    4                 5\n",
       "0   10001  24/05/20        Wheat  4.8lb  €17       Fline Store\n",
       "1   10002  05/05/20  Fruit Juice  3.1lb  €19  Dello Superstore\n",
       "2   10003  27/04/20   Vegetables  1.2lb  €15     Javies Retail\n",
       "3   10004  05/05/20          Oil  3.1lb  €17     Javies Retail\n",
       "4   10005  27/04/20        Wheat  4.8lb  €13     Javies Retail\n",
       "5   10006  14/01/20       Butter  3.6lb  €27   Oldi Superstore\n",
       "6   10007  20/04/20          Oil  4.8lb  €21  Dello Superstore\n",
       "7   10008  05/05/20        Wheat  3.6lb  €25   Oldi Superstore\n",
       "8   10009  17/04/20       Fruits  1.2lb  €24   Oldi Superstore\n",
       "9   10010  15/06/20          Oil  4.4lb  €25       Kanes Store\n",
       "10  10011  17/06/20          Oil  4.4lb  €16       Fline Store\n",
       "11  10012  11/06/20       Cheese  2.3lb  €20       Fline Store\n",
       "12  10013  19/03/20         Rice  4.4lb  €27       Kanes Store\n",
       "13  10014  01/01/20       Cheese  1.2lb  €10       Fline Store\n",
       "14  10015  07/07/20  Fruit Juice  3.6lb  €27   Oldi Superstore"
      ]
     },
     "execution_count": 12,
     "metadata": {},
     "output_type": "execute_result"
    }
   ],
   "source": [
    "# Import the csv as a DataFrame\n",
    "data_frame = pd.read_csv(file_url, header=None)\n",
    "\n",
    "#Display the DataFrame\n",
    "data_frame"
   ]
  },
  {
   "cell_type": "code",
   "execution_count": 13,
   "metadata": {},
   "outputs": [
    {
     "data": {
      "text/html": [
       "<div>\n",
       "<style scoped>\n",
       "    .dataframe tbody tr th:only-of-type {\n",
       "        vertical-align: middle;\n",
       "    }\n",
       "\n",
       "    .dataframe tbody tr th {\n",
       "        vertical-align: top;\n",
       "    }\n",
       "\n",
       "    .dataframe thead th {\n",
       "        text-align: right;\n",
       "    }\n",
       "</style>\n",
       "<table border=\"1\" class=\"dataframe\">\n",
       "  <thead>\n",
       "    <tr style=\"text-align: right;\">\n",
       "      <th></th>\n",
       "      <th>Receipt Id</th>\n",
       "      <th>Date of Purchase</th>\n",
       "      <th>Product Name</th>\n",
       "      <th>Product Weight</th>\n",
       "      <th>Total Price</th>\n",
       "      <th>Retail shop name</th>\n",
       "    </tr>\n",
       "  </thead>\n",
       "  <tbody>\n",
       "    <tr>\n",
       "      <th>0</th>\n",
       "      <td>10001</td>\n",
       "      <td>24/05/20</td>\n",
       "      <td>Wheat</td>\n",
       "      <td>4.8lb</td>\n",
       "      <td>€17</td>\n",
       "      <td>Fline Store</td>\n",
       "    </tr>\n",
       "    <tr>\n",
       "      <th>1</th>\n",
       "      <td>10002</td>\n",
       "      <td>05/05/20</td>\n",
       "      <td>Fruit Juice</td>\n",
       "      <td>3.1lb</td>\n",
       "      <td>€19</td>\n",
       "      <td>Dello Superstore</td>\n",
       "    </tr>\n",
       "    <tr>\n",
       "      <th>2</th>\n",
       "      <td>10003</td>\n",
       "      <td>27/04/20</td>\n",
       "      <td>Vegetables</td>\n",
       "      <td>1.2lb</td>\n",
       "      <td>€15</td>\n",
       "      <td>Javies Retail</td>\n",
       "    </tr>\n",
       "    <tr>\n",
       "      <th>3</th>\n",
       "      <td>10004</td>\n",
       "      <td>05/05/20</td>\n",
       "      <td>Oil</td>\n",
       "      <td>3.1lb</td>\n",
       "      <td>€17</td>\n",
       "      <td>Javies Retail</td>\n",
       "    </tr>\n",
       "    <tr>\n",
       "      <th>4</th>\n",
       "      <td>10005</td>\n",
       "      <td>27/04/20</td>\n",
       "      <td>Wheat</td>\n",
       "      <td>4.8lb</td>\n",
       "      <td>€13</td>\n",
       "      <td>Javies Retail</td>\n",
       "    </tr>\n",
       "    <tr>\n",
       "      <th>5</th>\n",
       "      <td>10006</td>\n",
       "      <td>14/01/20</td>\n",
       "      <td>Butter</td>\n",
       "      <td>3.6lb</td>\n",
       "      <td>€27</td>\n",
       "      <td>Oldi Superstore</td>\n",
       "    </tr>\n",
       "    <tr>\n",
       "      <th>6</th>\n",
       "      <td>10007</td>\n",
       "      <td>20/04/20</td>\n",
       "      <td>Oil</td>\n",
       "      <td>4.8lb</td>\n",
       "      <td>€21</td>\n",
       "      <td>Dello Superstore</td>\n",
       "    </tr>\n",
       "    <tr>\n",
       "      <th>7</th>\n",
       "      <td>10008</td>\n",
       "      <td>05/05/20</td>\n",
       "      <td>Wheat</td>\n",
       "      <td>3.6lb</td>\n",
       "      <td>€25</td>\n",
       "      <td>Oldi Superstore</td>\n",
       "    </tr>\n",
       "    <tr>\n",
       "      <th>8</th>\n",
       "      <td>10009</td>\n",
       "      <td>17/04/20</td>\n",
       "      <td>Fruits</td>\n",
       "      <td>1.2lb</td>\n",
       "      <td>€24</td>\n",
       "      <td>Oldi Superstore</td>\n",
       "    </tr>\n",
       "    <tr>\n",
       "      <th>9</th>\n",
       "      <td>10010</td>\n",
       "      <td>15/06/20</td>\n",
       "      <td>Oil</td>\n",
       "      <td>4.4lb</td>\n",
       "      <td>€25</td>\n",
       "      <td>Kanes Store</td>\n",
       "    </tr>\n",
       "    <tr>\n",
       "      <th>10</th>\n",
       "      <td>10011</td>\n",
       "      <td>17/06/20</td>\n",
       "      <td>Oil</td>\n",
       "      <td>4.4lb</td>\n",
       "      <td>€16</td>\n",
       "      <td>Fline Store</td>\n",
       "    </tr>\n",
       "    <tr>\n",
       "      <th>11</th>\n",
       "      <td>10012</td>\n",
       "      <td>11/06/20</td>\n",
       "      <td>Cheese</td>\n",
       "      <td>2.3lb</td>\n",
       "      <td>€20</td>\n",
       "      <td>Fline Store</td>\n",
       "    </tr>\n",
       "    <tr>\n",
       "      <th>12</th>\n",
       "      <td>10013</td>\n",
       "      <td>19/03/20</td>\n",
       "      <td>Rice</td>\n",
       "      <td>4.4lb</td>\n",
       "      <td>€27</td>\n",
       "      <td>Kanes Store</td>\n",
       "    </tr>\n",
       "    <tr>\n",
       "      <th>13</th>\n",
       "      <td>10014</td>\n",
       "      <td>01/01/20</td>\n",
       "      <td>Cheese</td>\n",
       "      <td>1.2lb</td>\n",
       "      <td>€10</td>\n",
       "      <td>Fline Store</td>\n",
       "    </tr>\n",
       "    <tr>\n",
       "      <th>14</th>\n",
       "      <td>10015</td>\n",
       "      <td>07/07/20</td>\n",
       "      <td>Fruit Juice</td>\n",
       "      <td>3.6lb</td>\n",
       "      <td>€27</td>\n",
       "      <td>Oldi Superstore</td>\n",
       "    </tr>\n",
       "  </tbody>\n",
       "</table>\n",
       "</div>"
      ],
      "text/plain": [
       "    Receipt Id Date of Purchase Product Name Product Weight Total Price  \\\n",
       "0        10001         24/05/20        Wheat          4.8lb         €17   \n",
       "1        10002         05/05/20  Fruit Juice          3.1lb         €19   \n",
       "2        10003         27/04/20   Vegetables          1.2lb         €15   \n",
       "3        10004         05/05/20          Oil          3.1lb         €17   \n",
       "4        10005         27/04/20        Wheat          4.8lb         €13   \n",
       "5        10006         14/01/20       Butter          3.6lb         €27   \n",
       "6        10007         20/04/20          Oil          4.8lb         €21   \n",
       "7        10008         05/05/20        Wheat          3.6lb         €25   \n",
       "8        10009         17/04/20       Fruits          1.2lb         €24   \n",
       "9        10010         15/06/20          Oil          4.4lb         €25   \n",
       "10       10011         17/06/20          Oil          4.4lb         €16   \n",
       "11       10012         11/06/20       Cheese          2.3lb         €20   \n",
       "12       10013         19/03/20         Rice          4.4lb         €27   \n",
       "13       10014         01/01/20       Cheese          1.2lb         €10   \n",
       "14       10015         07/07/20  Fruit Juice          3.6lb         €27   \n",
       "\n",
       "    Retail shop name  \n",
       "0        Fline Store  \n",
       "1   Dello Superstore  \n",
       "2      Javies Retail  \n",
       "3      Javies Retail  \n",
       "4      Javies Retail  \n",
       "5    Oldi Superstore  \n",
       "6   Dello Superstore  \n",
       "7    Oldi Superstore  \n",
       "8    Oldi Superstore  \n",
       "9        Kanes Store  \n",
       "10       Fline Store  \n",
       "11       Fline Store  \n",
       "12       Kanes Store  \n",
       "13       Fline Store  \n",
       "14   Oldi Superstore  "
      ]
     },
     "execution_count": 13,
     "metadata": {},
     "output_type": "execute_result"
    }
   ],
   "source": [
    "# Create list of column headers\n",
    "column_names = [\"Receipt Id\", \"Date of Purchase\", \"Product Name\", \"Product Weight\", \"Total Price\", \"Retail shop name\"]\n",
    "\n",
    "# Replace missing column headers\n",
    "data_frame.columns = column_names\n",
    "data_frame"
   ]
  },
  {
   "cell_type": "code",
   "execution_count": 14,
   "metadata": {},
   "outputs": [
    {
     "name": "stdout",
     "output_type": "stream",
     "text": [
      "Collecting mimesis\n",
      "  Downloading mimesis-4.1.2.tar.gz (2.8 MB)\n",
      "\u001b[K     |████████████████████████████████| 2.8 MB 1.8 MB/s eta 0:00:01\n",
      "\u001b[?25hBuilding wheels for collected packages: mimesis\n",
      "  Building wheel for mimesis (setup.py) ... \u001b[?25ldone\n",
      "\u001b[?25h  Created wheel for mimesis: filename=mimesis-4.1.2-py3-none-any.whl size=2848668 sha256=dfd96406e4d1c2645a8a791098fcf60602f6eb2193c7b87ca2f7280fa63b183d\n",
      "  Stored in directory: /Users/williamso/Library/Caches/pip/wheels/5a/04/57/acd217c68a0f4a5c19e2851b1bf20af424a202f374f6477b7f\n",
      "Successfully built mimesis\n",
      "Installing collected packages: mimesis\n",
      "Successfully installed mimesis-4.1.2\n"
     ]
    }
   ],
   "source": [
    "!pip install mimesis"
   ]
  },
  {
   "cell_type": "code",
   "execution_count": 40,
   "metadata": {},
   "outputs": [],
   "source": [
    "from mimesis import Person\n",
    "from mimesis import Address\n",
    "from mimesis.enums import Gender\n",
    "from mimesis import Datetime\n",
    "person = Person('en')\n",
    "import pandas as pd\n",
    "import random\n",
    "person = Person()\n",
    "addess = Address()\n",
    "datetime = Datetime()\n",
    "def create_rows_mimesis(num=1):\n",
    "    output = [{\"full_name\":person.full_name(),\n",
    "                   \"address\":addess.address() + ', '+ addess.city() + ', '+ addess.state(),\n",
    "                   #\"name\":person.name() + ' ' + person.name(),\n",
    "                   #\"email\":person.email(),\n",
    "                   \"creation_date_time\":datetime.datetime()\n",
    "                   #\"paragraph\":person.paragraph(),\n",
    "                   #\"Conrad\":person.catch_phrase(),\n",
    "                   #\"randomdata\":random.randint(1000,2000)\n",
    "              } for x in range(num)\n",
    "             ]\n",
    "    return output\n",
    "\n",
    "df_mimesis = pd.DataFrame(create_rows_mimesis(10))"
   ]
  },
  {
   "cell_type": "code",
   "execution_count": 41,
   "metadata": {},
   "outputs": [
    {
     "data": {
      "text/html": [
       "<div>\n",
       "<style scoped>\n",
       "    .dataframe tbody tr th:only-of-type {\n",
       "        vertical-align: middle;\n",
       "    }\n",
       "\n",
       "    .dataframe tbody tr th {\n",
       "        vertical-align: top;\n",
       "    }\n",
       "\n",
       "    .dataframe thead th {\n",
       "        text-align: right;\n",
       "    }\n",
       "</style>\n",
       "<table border=\"1\" class=\"dataframe\">\n",
       "  <thead>\n",
       "    <tr style=\"text-align: right;\">\n",
       "      <th></th>\n",
       "      <th>full_name</th>\n",
       "      <th>address</th>\n",
       "      <th>creation_date_time</th>\n",
       "    </tr>\n",
       "  </thead>\n",
       "  <tbody>\n",
       "    <tr>\n",
       "      <th>0</th>\n",
       "      <td>Regena Phillips</td>\n",
       "      <td>1252 Ord Townline, Pampa, New Hampshire</td>\n",
       "      <td>2018-02-08 22:32:23.172602</td>\n",
       "    </tr>\n",
       "    <tr>\n",
       "      <th>1</th>\n",
       "      <td>Rolande Bowen</td>\n",
       "      <td>1091 Santa Barbara Line, Fullerton, Georgia</td>\n",
       "      <td>2015-05-29 23:01:58.196541</td>\n",
       "    </tr>\n",
       "    <tr>\n",
       "      <th>2</th>\n",
       "      <td>Josiah Spencer</td>\n",
       "      <td>1268 Burgoyne Promenade, San Leandro, Florida</td>\n",
       "      <td>2013-08-23 09:41:48.824323</td>\n",
       "    </tr>\n",
       "    <tr>\n",
       "      <th>3</th>\n",
       "      <td>Latoyia Watts</td>\n",
       "      <td>352 Dearborn Gate, Norman, New York</td>\n",
       "      <td>2004-05-29 02:07:28.531585</td>\n",
       "    </tr>\n",
       "    <tr>\n",
       "      <th>4</th>\n",
       "      <td>Maddie Blair</td>\n",
       "      <td>1110 London Line, Flagstaff, North Dakota</td>\n",
       "      <td>2020-05-18 15:23:12.243274</td>\n",
       "    </tr>\n",
       "    <tr>\n",
       "      <th>5</th>\n",
       "      <td>Pasquale Cooper</td>\n",
       "      <td>1313 Silverview Stravenue, Kenner, North Carolina</td>\n",
       "      <td>2006-04-12 11:47:38.053828</td>\n",
       "    </tr>\n",
       "    <tr>\n",
       "      <th>6</th>\n",
       "      <td>Giuseppe Wood</td>\n",
       "      <td>738 Opalo Circle, Brooklyn Center, Kansas</td>\n",
       "      <td>2001-03-20 17:14:45.150522</td>\n",
       "    </tr>\n",
       "    <tr>\n",
       "      <th>7</th>\n",
       "      <td>Lindsey Garza</td>\n",
       "      <td>747 Desmond Nene, Olive Branch, Wisconsin</td>\n",
       "      <td>2008-04-24 19:42:11.206692</td>\n",
       "    </tr>\n",
       "    <tr>\n",
       "      <th>8</th>\n",
       "      <td>Randy Mcpherson</td>\n",
       "      <td>171 Byron Street, Pleasanton, Vermont</td>\n",
       "      <td>2010-06-21 22:52:23.019956</td>\n",
       "    </tr>\n",
       "    <tr>\n",
       "      <th>9</th>\n",
       "      <td>Cristobal Walsh</td>\n",
       "      <td>55 Crestwell Square, Oxford, Alaska</td>\n",
       "      <td>2014-12-13 09:47:34.974209</td>\n",
       "    </tr>\n",
       "  </tbody>\n",
       "</table>\n",
       "</div>"
      ],
      "text/plain": [
       "         full_name                                            address  \\\n",
       "0  Regena Phillips            1252 Ord Townline, Pampa, New Hampshire   \n",
       "1    Rolande Bowen        1091 Santa Barbara Line, Fullerton, Georgia   \n",
       "2   Josiah Spencer      1268 Burgoyne Promenade, San Leandro, Florida   \n",
       "3    Latoyia Watts                352 Dearborn Gate, Norman, New York   \n",
       "4     Maddie Blair          1110 London Line, Flagstaff, North Dakota   \n",
       "5  Pasquale Cooper  1313 Silverview Stravenue, Kenner, North Carolina   \n",
       "6    Giuseppe Wood          738 Opalo Circle, Brooklyn Center, Kansas   \n",
       "7    Lindsey Garza          747 Desmond Nene, Olive Branch, Wisconsin   \n",
       "8  Randy Mcpherson              171 Byron Street, Pleasanton, Vermont   \n",
       "9  Cristobal Walsh                55 Crestwell Square, Oxford, Alaska   \n",
       "\n",
       "          creation_date_time  \n",
       "0 2018-02-08 22:32:23.172602  \n",
       "1 2015-05-29 23:01:58.196541  \n",
       "2 2013-08-23 09:41:48.824323  \n",
       "3 2004-05-29 02:07:28.531585  \n",
       "4 2020-05-18 15:23:12.243274  \n",
       "5 2006-04-12 11:47:38.053828  \n",
       "6 2001-03-20 17:14:45.150522  \n",
       "7 2008-04-24 19:42:11.206692  \n",
       "8 2010-06-21 22:52:23.019956  \n",
       "9 2014-12-13 09:47:34.974209  "
      ]
     },
     "execution_count": 41,
     "metadata": {},
     "output_type": "execute_result"
    }
   ],
   "source": [
    "df_mimesis"
   ]
  },
  {
   "cell_type": "code",
   "execution_count": 42,
   "metadata": {},
   "outputs": [],
   "source": [
    "df_mimesis.to_csv(r'dataframe.csv', index = False, header=True)"
   ]
  },
  {
   "cell_type": "code",
   "execution_count": null,
   "metadata": {},
   "outputs": [],
   "source": []
  },
  {
   "cell_type": "code",
   "execution_count": null,
   "metadata": {},
   "outputs": [],
   "source": [
    "file_url = 'https://raw.githubusercontent.com/PacktWorkshops/The-Pandas-Workshop/master/Chapter06/Data/retail_purchase_missing_headers.csv'\n",
    "data_frame = pd.read_csv(file_url)\n",
    "data_frame"
   ]
  },
  {
   "cell_type": "code",
   "execution_count": 28,
   "metadata": {},
   "outputs": [
    {
     "data": {
      "text/html": [
       "<div>\n",
       "<style scoped>\n",
       "    .dataframe tbody tr th:only-of-type {\n",
       "        vertical-align: middle;\n",
       "    }\n",
       "\n",
       "    .dataframe tbody tr th {\n",
       "        vertical-align: top;\n",
       "    }\n",
       "\n",
       "    .dataframe thead th {\n",
       "        text-align: right;\n",
       "    }\n",
       "</style>\n",
       "<table border=\"1\" class=\"dataframe\">\n",
       "  <thead>\n",
       "    <tr style=\"text-align: right;\">\n",
       "      <th></th>\n",
       "      <th>Customer ID</th>\n",
       "      <th>NaN</th>\n",
       "      <th>2018 Revenue</th>\n",
       "      <th>2019 Revenue</th>\n",
       "      <th>Growth</th>\n",
       "      <th>Start Year</th>\n",
       "      <th>Start Month</th>\n",
       "      <th>Start Day</th>\n",
       "      <th>New Customer</th>\n",
       "    </tr>\n",
       "  </thead>\n",
       "  <tbody>\n",
       "    <tr>\n",
       "      <th>0</th>\n",
       "      <td>1001.0</td>\n",
       "      <td>Pandas Banking</td>\n",
       "      <td>235000</td>\n",
       "      <td>248000</td>\n",
       "      <td>5.5</td>\n",
       "      <td>2013</td>\n",
       "      <td>3</td>\n",
       "      <td>10</td>\n",
       "      <td>0</td>\n",
       "    </tr>\n",
       "    <tr>\n",
       "      <th>1</th>\n",
       "      <td>1002.0</td>\n",
       "      <td>Pandas Grocery</td>\n",
       "      <td>196000</td>\n",
       "      <td>205000</td>\n",
       "      <td>4.5</td>\n",
       "      <td>2016</td>\n",
       "      <td>4</td>\n",
       "      <td>30</td>\n",
       "      <td>0</td>\n",
       "    </tr>\n",
       "    <tr>\n",
       "      <th>2</th>\n",
       "      <td>1003.0</td>\n",
       "      <td>Pandas Telecom</td>\n",
       "      <td>167000</td>\n",
       "      <td>193000</td>\n",
       "      <td>15.5</td>\n",
       "      <td>2010</td>\n",
       "      <td>11</td>\n",
       "      <td>24</td>\n",
       "      <td>0</td>\n",
       "    </tr>\n",
       "    <tr>\n",
       "      <th>3</th>\n",
       "      <td>1004.0</td>\n",
       "      <td>Pandas Transport</td>\n",
       "      <td>79000</td>\n",
       "      <td>90000</td>\n",
       "      <td>13.9</td>\n",
       "      <td>2018</td>\n",
       "      <td>1</td>\n",
       "      <td>15</td>\n",
       "      <td>1</td>\n",
       "    </tr>\n",
       "    <tr>\n",
       "      <th>4</th>\n",
       "      <td>1005.0</td>\n",
       "      <td>Pandas Insurance</td>\n",
       "      <td>241000</td>\n",
       "      <td>264000</td>\n",
       "      <td>9.5</td>\n",
       "      <td>2009</td>\n",
       "      <td>6</td>\n",
       "      <td>1</td>\n",
       "      <td>0</td>\n",
       "    </tr>\n",
       "  </tbody>\n",
       "</table>\n",
       "</div>"
      ],
      "text/plain": [
       "   Customer ID               NaN 2018 Revenue 2019 Revenue Growth  Start Year  \\\n",
       "0       1001.0    Pandas Banking       235000       248000    5.5        2013   \n",
       "1       1002.0    Pandas Grocery       196000       205000    4.5        2016   \n",
       "2       1003.0    Pandas Telecom       167000       193000   15.5        2010   \n",
       "3       1004.0  Pandas Transport        79000        90000   13.9        2018   \n",
       "4       1005.0  Pandas Insurance       241000       264000    9.5        2009   \n",
       "\n",
       "   Start Month  Start Day  New Customer  \n",
       "0            3         10             0  \n",
       "1            4         30             0  \n",
       "2           11         24             0  \n",
       "3            1         15             1  \n",
       "4            6          1             0  "
      ]
     },
     "execution_count": 28,
     "metadata": {},
     "output_type": "execute_result"
    }
   ],
   "source": [
    "# Defining columns\n",
    "column_names = [\"Customer ID\", None, \"2018 Revenue\", \"2019 Revenue\", \"Growth\", \"Start Year\", \"Start Month\", \"Start Day\", \"New Customer\"]\n",
    "\n",
    "# Defining lists\n",
    "row1 = list([1001.0, 'Pandas Banking', '235000', '248000', '5.5', 2013,3,10, 0])\n",
    "row2 = list([1002.0, 'Pandas Grocery', '196000', '205000', '4.5', 2016,4,30, 0])\n",
    "row3 = list([1003.0, 'Pandas Telecom', '167000', '193000', '15.5', 2010,11,24, 0])\n",
    "row4 = list([1004.0, 'Pandas Transport', '79000', '90000', '13.9', 2018,1,15, 1])\n",
    "row5 = list([1005.0, 'Pandas Insurance', '241000', '264000', '9.5', 2009,6,1, 0])\n",
    "\n",
    "# Defining a DataFrame\n",
    "data_frame = pd.DataFrame(data=[row1, row2, row3, row4, row5], columns=column_names)\n",
    "\n",
    "# Display DataFrame values\n",
    "data_frame"
   ]
  },
  {
   "cell_type": "code",
   "execution_count": 10,
   "metadata": {
    "colab": {
     "base_uri": "https://localhost:8080/",
     "height": 255
    },
    "colab_type": "code",
    "id": "dDYyclqDI4Kz",
    "outputId": "2000e658-83af-405f-d8c8-5278e952c194"
   },
   "outputs": [
    {
     "data": {
      "text/plain": [
       "0     5.5\n",
       "1     4.5\n",
       "2    15.5\n",
       "3    13.9\n",
       "4     9.5\n",
       "Name: Growth, dtype: float64"
      ]
     },
     "execution_count": 10,
     "metadata": {},
     "output_type": "execute_result"
    }
   ],
   "source": [
    "# Create function to remove '%'\n",
    "def remove_percentage(column):\n",
    "    new_column = column.replace('%', '')\n",
    "    return float(new_column)\n",
    "\n",
    "# Convert \"Growth\" into a float\n",
    "data_frame['Growth'] = data_frame['Growth'].apply(remove_percentage)\n",
    "data_frame[\"Growth\"]"
   ]
  },
  {
   "cell_type": "code",
   "execution_count": 11,
   "metadata": {},
   "outputs": [
    {
     "data": {
      "text/plain": [
       "0   2013-03-10\n",
       "1   2016-04-30\n",
       "2   2010-11-24\n",
       "3   2018-01-15\n",
       "4   2009-06-01\n",
       "Name: Starting Date, dtype: datetime64[ns]"
      ]
     },
     "execution_count": 11,
     "metadata": {},
     "output_type": "execute_result"
    }
   ],
   "source": [
    "# Rename the columns\n",
    "data_frame.rename(columns={'Start Year': 'year', 'Start Month': 'month', 'Start Day': 'day'}, inplace=True)\n",
    "\n",
    "# Convert the 3 columns into a datetime:\n",
    "data_frame['Starting Date'] = pd.to_datetime(data_frame[['day', 'month', 'year']])\n",
    "data_frame['Starting Date']"
   ]
  },
  {
   "cell_type": "code",
   "execution_count": 12,
   "metadata": {},
   "outputs": [
    {
     "data": {
      "text/plain": [
       "0    False\n",
       "1    False\n",
       "2    False\n",
       "3     True\n",
       "4    False\n",
       "Name: New Customer, dtype: bool"
      ]
     },
     "execution_count": 12,
     "metadata": {},
     "output_type": "execute_result"
    }
   ],
   "source": [
    "# Convert \"New Customer\" into a bool\n",
    "data_frame[\"New Customer\"] = data_frame['New Customer'].astype('bool')\n",
    "data_frame[\"New Customer\"]"
   ]
  },
  {
   "cell_type": "code",
   "execution_count": 13,
   "metadata": {},
   "outputs": [
    {
     "data": {
      "text/plain": [
       "0      Pandas Banking\n",
       "1      Pandas Grocery\n",
       "2      Pandas Telecom\n",
       "3    Pandas Transport\n",
       "4    Pandas Insurance\n",
       "Name: Customer Name, dtype: category\n",
       "Categories (5, object): [Pandas Banking, Pandas Grocery, Pandas Insurance, Pandas Telecom, Pandas Transport]"
      ]
     },
     "execution_count": 13,
     "metadata": {},
     "output_type": "execute_result"
    }
   ],
   "source": [
    "# Convert \"Customer Name\" into a category\n",
    "data_frame[\"Customer Name\"] = data_frame['Customer Name'].astype('category')\n",
    "data_frame[\"Customer Name\"]"
   ]
  },
  {
   "cell_type": "code",
   "execution_count": 14,
   "metadata": {},
   "outputs": [
    {
     "data": {
      "text/plain": [
       "Customer ID               int64\n",
       "Customer Name          category\n",
       "2018 Revenue              int64\n",
       "2019 Revenue              int64\n",
       "Growth                  float64\n",
       "year                      int64\n",
       "month                     int64\n",
       "day                       int64\n",
       "New Customer               bool\n",
       "Starting Date    datetime64[ns]\n",
       "dtype: object"
      ]
     },
     "execution_count": 14,
     "metadata": {},
     "output_type": "execute_result"
    }
   ],
   "source": [
    "# Display DataFrame dtypes\n",
    "data_frame.dtypes"
   ]
  },
  {
   "cell_type": "code",
   "execution_count": 15,
   "metadata": {},
   "outputs": [
    {
     "data": {
      "text/plain": [
       "0    483000\n",
       "1    401000\n",
       "2    360000\n",
       "3    169000\n",
       "4    505000\n",
       "dtype: int64"
      ]
     },
     "execution_count": 15,
     "metadata": {},
     "output_type": "execute_result"
    }
   ],
   "source": [
    "# Adding revenue together\n",
    "data_frame['2018 Revenue'] + data_frame['2019 Revenue']"
   ]
  },
  {
   "cell_type": "code",
   "execution_count": 16,
   "metadata": {},
   "outputs": [
    {
     "data": {
      "text/plain": [
       "0   -2732 days\n",
       "1   -1585 days\n",
       "2   -3569 days\n",
       "3    -960 days\n",
       "4   -4110 days\n",
       "Name: Starting Date, dtype: timedelta64[ns]"
      ]
     },
     "execution_count": 16,
     "metadata": {},
     "output_type": "execute_result"
    }
   ],
   "source": [
    "# Difference between 'Starting Date' and '2020-09-01'\n",
    "data_frame['Starting Date'] - pd.to_datetime('2020-09-01')"
   ]
  },
  {
   "cell_type": "code",
   "execution_count": 17,
   "metadata": {},
   "outputs": [
    {
     "data": {
      "text/html": [
       "<div>\n",
       "<style scoped>\n",
       "    .dataframe tbody tr th:only-of-type {\n",
       "        vertical-align: middle;\n",
       "    }\n",
       "\n",
       "    .dataframe tbody tr th {\n",
       "        vertical-align: top;\n",
       "    }\n",
       "\n",
       "    .dataframe thead th {\n",
       "        text-align: right;\n",
       "    }\n",
       "</style>\n",
       "<table border=\"1\" class=\"dataframe\">\n",
       "  <thead>\n",
       "    <tr style=\"text-align: right;\">\n",
       "      <th></th>\n",
       "      <th>Customer ID</th>\n",
       "      <th>Customer Name</th>\n",
       "      <th>2018 Revenue</th>\n",
       "      <th>2019 Revenue</th>\n",
       "      <th>Growth</th>\n",
       "      <th>New Customer</th>\n",
       "      <th>Starting Date</th>\n",
       "    </tr>\n",
       "  </thead>\n",
       "  <tbody>\n",
       "    <tr>\n",
       "      <th>0</th>\n",
       "      <td>NaN</td>\n",
       "      <td>Pandas Banking</td>\n",
       "      <td>235000.0</td>\n",
       "      <td>248000.0</td>\n",
       "      <td>5.5</td>\n",
       "      <td>0.0</td>\n",
       "      <td>2013-03-10</td>\n",
       "    </tr>\n",
       "    <tr>\n",
       "      <th>1</th>\n",
       "      <td>1002.0</td>\n",
       "      <td>Pandas Grocery</td>\n",
       "      <td>196000.0</td>\n",
       "      <td>205000.0</td>\n",
       "      <td>4.5</td>\n",
       "      <td>NaN</td>\n",
       "      <td>2016-04-30</td>\n",
       "    </tr>\n",
       "    <tr>\n",
       "      <th>2</th>\n",
       "      <td>1003.0</td>\n",
       "      <td>Pandas Telecom</td>\n",
       "      <td>NaN</td>\n",
       "      <td>193000.0</td>\n",
       "      <td>15.5</td>\n",
       "      <td>0.0</td>\n",
       "      <td>NaT</td>\n",
       "    </tr>\n",
       "    <tr>\n",
       "      <th>3</th>\n",
       "      <td>1004.0</td>\n",
       "      <td>Pandas Transport</td>\n",
       "      <td>79000.0</td>\n",
       "      <td>NaN</td>\n",
       "      <td>NaN</td>\n",
       "      <td>1.0</td>\n",
       "      <td>2018-01-15</td>\n",
       "    </tr>\n",
       "    <tr>\n",
       "      <th>4</th>\n",
       "      <td>1005.0</td>\n",
       "      <td>NaN</td>\n",
       "      <td>241000.0</td>\n",
       "      <td>264000.0</td>\n",
       "      <td>9.5</td>\n",
       "      <td>0.0</td>\n",
       "      <td>2009-06-01</td>\n",
       "    </tr>\n",
       "  </tbody>\n",
       "</table>\n",
       "</div>"
      ],
      "text/plain": [
       "   Customer ID     Customer Name  2018 Revenue  2019 Revenue  Growth  \\\n",
       "0          NaN    Pandas Banking      235000.0      248000.0     5.5   \n",
       "1       1002.0    Pandas Grocery      196000.0      205000.0     4.5   \n",
       "2       1003.0    Pandas Telecom           NaN      193000.0    15.5   \n",
       "3       1004.0  Pandas Transport       79000.0           NaN     NaN   \n",
       "4       1005.0               NaN      241000.0      264000.0     9.5   \n",
       "\n",
       "   New Customer Starting Date  \n",
       "0           0.0    2013-03-10  \n",
       "1           NaN    2016-04-30  \n",
       "2           0.0           NaT  \n",
       "3           1.0    2018-01-15  \n",
       "4           0.0    2009-06-01  "
      ]
     },
     "execution_count": 17,
     "metadata": {},
     "output_type": "execute_result"
    }
   ],
   "source": [
    "# Remove 'year','month','day'\n",
    "data_frame.drop(['year','month','day'], axis = 1, inplace=True)\n",
    "\n",
    "# Add null values\n",
    "data_frame.iloc[0,0] = None\n",
    "data_frame.iloc[4,1] = None\n",
    "data_frame.iloc[2,2] = None\n",
    "data_frame.iloc[3,3] = None\n",
    "data_frame.iloc[3,4] = None\n",
    "data_frame.iloc[1,5] = None\n",
    "data_frame.iloc[2,6] = None\n",
    "\n",
    "# Display the Dataframe\n",
    "data_frame"
   ]
  },
  {
   "cell_type": "code",
   "execution_count": 18,
   "metadata": {},
   "outputs": [
    {
     "name": "stdout",
     "output_type": "stream",
     "text": [
      "<class 'pandas.core.frame.DataFrame'>\n",
      "RangeIndex: 5 entries, 0 to 4\n",
      "Data columns (total 7 columns):\n",
      " #   Column         Non-Null Count  Dtype         \n",
      "---  ------         --------------  -----         \n",
      " 0   Customer ID    4 non-null      float64       \n",
      " 1   Customer Name  4 non-null      category      \n",
      " 2   2018 Revenue   4 non-null      float64       \n",
      " 3   2019 Revenue   4 non-null      float64       \n",
      " 4   Growth         4 non-null      float64       \n",
      " 5   New Customer   4 non-null      float64       \n",
      " 6   Starting Date  4 non-null      datetime64[ns]\n",
      "dtypes: category(1), datetime64[ns](1), float64(5)\n",
      "memory usage: 573.0 bytes\n"
     ]
    }
   ],
   "source": [
    "# Display DataFrame info\n",
    "data_frame.info()"
   ]
  },
  {
   "cell_type": "code",
   "execution_count": 19,
   "metadata": {},
   "outputs": [
    {
     "ename": "ValueError",
     "evalue": "Cannot convert non-finite values (NA or inf) to integer",
     "output_type": "error",
     "traceback": [
      "\u001b[0;31m---------------------------------------------------------------------------\u001b[0m",
      "\u001b[0;31mValueError\u001b[0m                                Traceback (most recent call last)",
      "\u001b[0;32m<ipython-input-19-82552b9762dd>\u001b[0m in \u001b[0;36m<module>\u001b[0;34m\u001b[0m\n\u001b[1;32m      1\u001b[0m \u001b[0;31m# Convert \"Customer ID\" into a int\u001b[0m\u001b[0;34m\u001b[0m\u001b[0;34m\u001b[0m\u001b[0;34m\u001b[0m\u001b[0m\n\u001b[0;32m----> 2\u001b[0;31m \u001b[0mdata_frame\u001b[0m\u001b[0;34m[\u001b[0m\u001b[0;34m\"Customer ID\"\u001b[0m\u001b[0;34m]\u001b[0m \u001b[0;34m=\u001b[0m \u001b[0mdata_frame\u001b[0m\u001b[0;34m[\u001b[0m\u001b[0;34m'Customer ID'\u001b[0m\u001b[0;34m]\u001b[0m\u001b[0;34m.\u001b[0m\u001b[0mastype\u001b[0m\u001b[0;34m(\u001b[0m\u001b[0;34m'int'\u001b[0m\u001b[0;34m)\u001b[0m\u001b[0;34m\u001b[0m\u001b[0;34m\u001b[0m\u001b[0m\n\u001b[0m\u001b[1;32m      3\u001b[0m \u001b[0mdata_frame\u001b[0m\u001b[0;34m[\u001b[0m\u001b[0;34m\"Customer ID\"\u001b[0m\u001b[0;34m]\u001b[0m\u001b[0;34m\u001b[0m\u001b[0;34m\u001b[0m\u001b[0m\n",
      "\u001b[0;32m~/.local/share/virtualenvs/git-2T0aQk80/lib/python3.7/site-packages/pandas/core/generic.py\u001b[0m in \u001b[0;36mastype\u001b[0;34m(self, dtype, copy, errors)\u001b[0m\n\u001b[1;32m   5696\u001b[0m         \u001b[0;32melse\u001b[0m\u001b[0;34m:\u001b[0m\u001b[0;34m\u001b[0m\u001b[0;34m\u001b[0m\u001b[0m\n\u001b[1;32m   5697\u001b[0m             \u001b[0;31m# else, only a single dtype is given\u001b[0m\u001b[0;34m\u001b[0m\u001b[0;34m\u001b[0m\u001b[0;34m\u001b[0m\u001b[0m\n\u001b[0;32m-> 5698\u001b[0;31m             \u001b[0mnew_data\u001b[0m \u001b[0;34m=\u001b[0m \u001b[0mself\u001b[0m\u001b[0;34m.\u001b[0m\u001b[0m_data\u001b[0m\u001b[0;34m.\u001b[0m\u001b[0mastype\u001b[0m\u001b[0;34m(\u001b[0m\u001b[0mdtype\u001b[0m\u001b[0;34m=\u001b[0m\u001b[0mdtype\u001b[0m\u001b[0;34m,\u001b[0m \u001b[0mcopy\u001b[0m\u001b[0;34m=\u001b[0m\u001b[0mcopy\u001b[0m\u001b[0;34m,\u001b[0m \u001b[0merrors\u001b[0m\u001b[0;34m=\u001b[0m\u001b[0merrors\u001b[0m\u001b[0;34m)\u001b[0m\u001b[0;34m\u001b[0m\u001b[0;34m\u001b[0m\u001b[0m\n\u001b[0m\u001b[1;32m   5699\u001b[0m             \u001b[0;32mreturn\u001b[0m \u001b[0mself\u001b[0m\u001b[0;34m.\u001b[0m\u001b[0m_constructor\u001b[0m\u001b[0;34m(\u001b[0m\u001b[0mnew_data\u001b[0m\u001b[0;34m)\u001b[0m\u001b[0;34m.\u001b[0m\u001b[0m__finalize__\u001b[0m\u001b[0;34m(\u001b[0m\u001b[0mself\u001b[0m\u001b[0;34m)\u001b[0m\u001b[0;34m\u001b[0m\u001b[0;34m\u001b[0m\u001b[0m\n\u001b[1;32m   5700\u001b[0m \u001b[0;34m\u001b[0m\u001b[0m\n",
      "\u001b[0;32m~/.local/share/virtualenvs/git-2T0aQk80/lib/python3.7/site-packages/pandas/core/internals/managers.py\u001b[0m in \u001b[0;36mastype\u001b[0;34m(self, dtype, copy, errors)\u001b[0m\n\u001b[1;32m    580\u001b[0m \u001b[0;34m\u001b[0m\u001b[0m\n\u001b[1;32m    581\u001b[0m     \u001b[0;32mdef\u001b[0m \u001b[0mastype\u001b[0m\u001b[0;34m(\u001b[0m\u001b[0mself\u001b[0m\u001b[0;34m,\u001b[0m \u001b[0mdtype\u001b[0m\u001b[0;34m,\u001b[0m \u001b[0mcopy\u001b[0m\u001b[0;34m:\u001b[0m \u001b[0mbool\u001b[0m \u001b[0;34m=\u001b[0m \u001b[0;32mFalse\u001b[0m\u001b[0;34m,\u001b[0m \u001b[0merrors\u001b[0m\u001b[0;34m:\u001b[0m \u001b[0mstr\u001b[0m \u001b[0;34m=\u001b[0m \u001b[0;34m\"raise\"\u001b[0m\u001b[0;34m)\u001b[0m\u001b[0;34m:\u001b[0m\u001b[0;34m\u001b[0m\u001b[0;34m\u001b[0m\u001b[0m\n\u001b[0;32m--> 582\u001b[0;31m         \u001b[0;32mreturn\u001b[0m \u001b[0mself\u001b[0m\u001b[0;34m.\u001b[0m\u001b[0mapply\u001b[0m\u001b[0;34m(\u001b[0m\u001b[0;34m\"astype\"\u001b[0m\u001b[0;34m,\u001b[0m \u001b[0mdtype\u001b[0m\u001b[0;34m=\u001b[0m\u001b[0mdtype\u001b[0m\u001b[0;34m,\u001b[0m \u001b[0mcopy\u001b[0m\u001b[0;34m=\u001b[0m\u001b[0mcopy\u001b[0m\u001b[0;34m,\u001b[0m \u001b[0merrors\u001b[0m\u001b[0;34m=\u001b[0m\u001b[0merrors\u001b[0m\u001b[0;34m)\u001b[0m\u001b[0;34m\u001b[0m\u001b[0;34m\u001b[0m\u001b[0m\n\u001b[0m\u001b[1;32m    583\u001b[0m \u001b[0;34m\u001b[0m\u001b[0m\n\u001b[1;32m    584\u001b[0m     \u001b[0;32mdef\u001b[0m \u001b[0mconvert\u001b[0m\u001b[0;34m(\u001b[0m\u001b[0mself\u001b[0m\u001b[0;34m,\u001b[0m \u001b[0;34m**\u001b[0m\u001b[0mkwargs\u001b[0m\u001b[0;34m)\u001b[0m\u001b[0;34m:\u001b[0m\u001b[0;34m\u001b[0m\u001b[0;34m\u001b[0m\u001b[0m\n",
      "\u001b[0;32m~/.local/share/virtualenvs/git-2T0aQk80/lib/python3.7/site-packages/pandas/core/internals/managers.py\u001b[0m in \u001b[0;36mapply\u001b[0;34m(self, f, filter, **kwargs)\u001b[0m\n\u001b[1;32m    440\u001b[0m                 \u001b[0mapplied\u001b[0m \u001b[0;34m=\u001b[0m \u001b[0mb\u001b[0m\u001b[0;34m.\u001b[0m\u001b[0mapply\u001b[0m\u001b[0;34m(\u001b[0m\u001b[0mf\u001b[0m\u001b[0;34m,\u001b[0m \u001b[0;34m**\u001b[0m\u001b[0mkwargs\u001b[0m\u001b[0;34m)\u001b[0m\u001b[0;34m\u001b[0m\u001b[0;34m\u001b[0m\u001b[0m\n\u001b[1;32m    441\u001b[0m             \u001b[0;32melse\u001b[0m\u001b[0;34m:\u001b[0m\u001b[0;34m\u001b[0m\u001b[0;34m\u001b[0m\u001b[0m\n\u001b[0;32m--> 442\u001b[0;31m                 \u001b[0mapplied\u001b[0m \u001b[0;34m=\u001b[0m \u001b[0mgetattr\u001b[0m\u001b[0;34m(\u001b[0m\u001b[0mb\u001b[0m\u001b[0;34m,\u001b[0m \u001b[0mf\u001b[0m\u001b[0;34m)\u001b[0m\u001b[0;34m(\u001b[0m\u001b[0;34m**\u001b[0m\u001b[0mkwargs\u001b[0m\u001b[0;34m)\u001b[0m\u001b[0;34m\u001b[0m\u001b[0;34m\u001b[0m\u001b[0m\n\u001b[0m\u001b[1;32m    443\u001b[0m             \u001b[0mresult_blocks\u001b[0m \u001b[0;34m=\u001b[0m \u001b[0m_extend_blocks\u001b[0m\u001b[0;34m(\u001b[0m\u001b[0mapplied\u001b[0m\u001b[0;34m,\u001b[0m \u001b[0mresult_blocks\u001b[0m\u001b[0;34m)\u001b[0m\u001b[0;34m\u001b[0m\u001b[0;34m\u001b[0m\u001b[0m\n\u001b[1;32m    444\u001b[0m \u001b[0;34m\u001b[0m\u001b[0m\n",
      "\u001b[0;32m~/.local/share/virtualenvs/git-2T0aQk80/lib/python3.7/site-packages/pandas/core/internals/blocks.py\u001b[0m in \u001b[0;36mastype\u001b[0;34m(self, dtype, copy, errors)\u001b[0m\n\u001b[1;32m    623\u001b[0m             \u001b[0mvals1d\u001b[0m \u001b[0;34m=\u001b[0m \u001b[0mvalues\u001b[0m\u001b[0;34m.\u001b[0m\u001b[0mravel\u001b[0m\u001b[0;34m(\u001b[0m\u001b[0;34m)\u001b[0m\u001b[0;34m\u001b[0m\u001b[0;34m\u001b[0m\u001b[0m\n\u001b[1;32m    624\u001b[0m             \u001b[0;32mtry\u001b[0m\u001b[0;34m:\u001b[0m\u001b[0;34m\u001b[0m\u001b[0;34m\u001b[0m\u001b[0m\n\u001b[0;32m--> 625\u001b[0;31m                 \u001b[0mvalues\u001b[0m \u001b[0;34m=\u001b[0m \u001b[0mastype_nansafe\u001b[0m\u001b[0;34m(\u001b[0m\u001b[0mvals1d\u001b[0m\u001b[0;34m,\u001b[0m \u001b[0mdtype\u001b[0m\u001b[0;34m,\u001b[0m \u001b[0mcopy\u001b[0m\u001b[0;34m=\u001b[0m\u001b[0;32mTrue\u001b[0m\u001b[0;34m)\u001b[0m\u001b[0;34m\u001b[0m\u001b[0;34m\u001b[0m\u001b[0m\n\u001b[0m\u001b[1;32m    626\u001b[0m             \u001b[0;32mexcept\u001b[0m \u001b[0;34m(\u001b[0m\u001b[0mValueError\u001b[0m\u001b[0;34m,\u001b[0m \u001b[0mTypeError\u001b[0m\u001b[0;34m)\u001b[0m\u001b[0;34m:\u001b[0m\u001b[0;34m\u001b[0m\u001b[0;34m\u001b[0m\u001b[0m\n\u001b[1;32m    627\u001b[0m                 \u001b[0;31m# e.g. astype_nansafe can fail on object-dtype of strings\u001b[0m\u001b[0;34m\u001b[0m\u001b[0;34m\u001b[0m\u001b[0;34m\u001b[0m\u001b[0m\n",
      "\u001b[0;32m~/.local/share/virtualenvs/git-2T0aQk80/lib/python3.7/site-packages/pandas/core/dtypes/cast.py\u001b[0m in \u001b[0;36mastype_nansafe\u001b[0;34m(arr, dtype, copy, skipna)\u001b[0m\n\u001b[1;32m    866\u001b[0m \u001b[0;34m\u001b[0m\u001b[0m\n\u001b[1;32m    867\u001b[0m         \u001b[0;32mif\u001b[0m \u001b[0;32mnot\u001b[0m \u001b[0mnp\u001b[0m\u001b[0;34m.\u001b[0m\u001b[0misfinite\u001b[0m\u001b[0;34m(\u001b[0m\u001b[0marr\u001b[0m\u001b[0;34m)\u001b[0m\u001b[0;34m.\u001b[0m\u001b[0mall\u001b[0m\u001b[0;34m(\u001b[0m\u001b[0;34m)\u001b[0m\u001b[0;34m:\u001b[0m\u001b[0;34m\u001b[0m\u001b[0;34m\u001b[0m\u001b[0m\n\u001b[0;32m--> 868\u001b[0;31m             \u001b[0;32mraise\u001b[0m \u001b[0mValueError\u001b[0m\u001b[0;34m(\u001b[0m\u001b[0;34m\"Cannot convert non-finite values (NA or inf) to integer\"\u001b[0m\u001b[0;34m)\u001b[0m\u001b[0;34m\u001b[0m\u001b[0;34m\u001b[0m\u001b[0m\n\u001b[0m\u001b[1;32m    869\u001b[0m \u001b[0;34m\u001b[0m\u001b[0m\n\u001b[1;32m    870\u001b[0m     \u001b[0;32melif\u001b[0m \u001b[0mis_object_dtype\u001b[0m\u001b[0;34m(\u001b[0m\u001b[0marr\u001b[0m\u001b[0;34m)\u001b[0m\u001b[0;34m:\u001b[0m\u001b[0;34m\u001b[0m\u001b[0;34m\u001b[0m\u001b[0m\n",
      "\u001b[0;31mValueError\u001b[0m: Cannot convert non-finite values (NA or inf) to integer"
     ]
    }
   ],
   "source": [
    "# Convert \"Customer ID\" into a int\n",
    "data_frame[\"Customer ID\"] = data_frame['Customer ID'].astype('int')\n",
    "data_frame[\"Customer ID\"]"
   ]
  },
  {
   "cell_type": "code",
   "execution_count": 20,
   "metadata": {},
   "outputs": [
    {
     "data": {
      "text/plain": [
       "0      Pandas Banking\n",
       "1      Pandas Grocery\n",
       "2      Pandas Telecom\n",
       "3    Pandas Transport\n",
       "4                 NaN\n",
       "Name: Customer Name, dtype: object"
      ]
     },
     "execution_count": 20,
     "metadata": {},
     "output_type": "execute_result"
    }
   ],
   "source": [
    "# Convert \"Customer Name\" into a object\n",
    "data_frame[\"Customer Name\"] = data_frame['Customer Name'].astype('object')\n",
    "data_frame[\"Customer Name\"]"
   ]
  },
  {
   "cell_type": "code",
   "execution_count": 21,
   "metadata": {},
   "outputs": [
    {
     "data": {
      "text/plain": [
       "0    False\n",
       "1     True\n",
       "2    False\n",
       "3     True\n",
       "4    False\n",
       "Name: New Customer, dtype: bool"
      ]
     },
     "execution_count": 21,
     "metadata": {},
     "output_type": "execute_result"
    }
   ],
   "source": [
    "# Convert \"New Customer\" into a bool\n",
    "data_frame[\"New Customer\"] = data_frame['New Customer'].astype('bool')\n",
    "data_frame[\"New Customer\"]"
   ]
  },
  {
   "cell_type": "code",
   "execution_count": 22,
   "metadata": {},
   "outputs": [
    {
     "data": {
      "text/plain": [
       "0   -2732 days\n",
       "1   -1585 days\n",
       "2          NaT\n",
       "3    -960 days\n",
       "4   -4110 days\n",
       "Name: Starting Date, dtype: timedelta64[ns]"
      ]
     },
     "execution_count": 22,
     "metadata": {},
     "output_type": "execute_result"
    }
   ],
   "source": [
    "# Difference between 'Starting Date' and '2020-09-01'\n",
    "data_frame['Starting Date'] - pd.to_datetime('2020-09-01')"
   ]
  },
  {
   "cell_type": "code",
   "execution_count": 23,
   "metadata": {},
   "outputs": [
    {
     "data": {
      "text/html": [
       "<div>\n",
       "<style scoped>\n",
       "    .dataframe tbody tr th:only-of-type {\n",
       "        vertical-align: middle;\n",
       "    }\n",
       "\n",
       "    .dataframe tbody tr th {\n",
       "        vertical-align: top;\n",
       "    }\n",
       "\n",
       "    .dataframe thead th {\n",
       "        text-align: right;\n",
       "    }\n",
       "</style>\n",
       "<table border=\"1\" class=\"dataframe\">\n",
       "  <thead>\n",
       "    <tr style=\"text-align: right;\">\n",
       "      <th></th>\n",
       "      <th>Customer ID</th>\n",
       "      <th>Customer Name</th>\n",
       "      <th>2018 Revenue</th>\n",
       "      <th>2019 Revenue</th>\n",
       "      <th>Growth</th>\n",
       "      <th>Start Year</th>\n",
       "      <th>Start Month</th>\n",
       "      <th>Start Day</th>\n",
       "      <th>New Customer</th>\n",
       "    </tr>\n",
       "  </thead>\n",
       "  <tbody>\n",
       "    <tr>\n",
       "      <th>0</th>\n",
       "      <td>1001.0</td>\n",
       "      <td>Pandas Banking</td>\n",
       "      <td>235000</td>\n",
       "      <td>248000</td>\n",
       "      <td>5.5</td>\n",
       "      <td>2013</td>\n",
       "      <td>3</td>\n",
       "      <td>10</td>\n",
       "      <td>0</td>\n",
       "    </tr>\n",
       "    <tr>\n",
       "      <th>1</th>\n",
       "      <td>1002.0</td>\n",
       "      <td>Pandas Grocery</td>\n",
       "      <td>196000</td>\n",
       "      <td>205000</td>\n",
       "      <td>4.5</td>\n",
       "      <td>2016</td>\n",
       "      <td>4</td>\n",
       "      <td>30</td>\n",
       "      <td>0</td>\n",
       "    </tr>\n",
       "    <tr>\n",
       "      <th>2</th>\n",
       "      <td>1003.0</td>\n",
       "      <td>Pandas Telecom</td>\n",
       "      <td>167000</td>\n",
       "      <td>193000</td>\n",
       "      <td>15.5</td>\n",
       "      <td>2010</td>\n",
       "      <td>11</td>\n",
       "      <td>24</td>\n",
       "      <td>0</td>\n",
       "    </tr>\n",
       "    <tr>\n",
       "      <th>3</th>\n",
       "      <td>1004.0</td>\n",
       "      <td>Pandas Transport</td>\n",
       "      <td>79000</td>\n",
       "      <td>90000</td>\n",
       "      <td>13.9</td>\n",
       "      <td>2018</td>\n",
       "      <td>1</td>\n",
       "      <td>15</td>\n",
       "      <td>1</td>\n",
       "    </tr>\n",
       "    <tr>\n",
       "      <th>4</th>\n",
       "      <td>1005.0</td>\n",
       "      <td>Pandas Insurance</td>\n",
       "      <td>241000</td>\n",
       "      <td>264000</td>\n",
       "      <td>9.5</td>\n",
       "      <td>2009</td>\n",
       "      <td>6</td>\n",
       "      <td>1</td>\n",
       "      <td>0</td>\n",
       "    </tr>\n",
       "  </tbody>\n",
       "</table>\n",
       "</div>"
      ],
      "text/plain": [
       "   Customer ID     Customer Name 2018 Revenue 2019 Revenue Growth  Start Year  \\\n",
       "0       1001.0    Pandas Banking       235000       248000    5.5        2013   \n",
       "1       1002.0    Pandas Grocery       196000       205000    4.5        2016   \n",
       "2       1003.0    Pandas Telecom       167000       193000   15.5        2010   \n",
       "3       1004.0  Pandas Transport        79000        90000   13.9        2018   \n",
       "4       1005.0  Pandas Insurance       241000       264000    9.5        2009   \n",
       "\n",
       "   Start Month  Start Day  New Customer  \n",
       "0            3         10             0  \n",
       "1            4         30             0  \n",
       "2           11         24             0  \n",
       "3            1         15             1  \n",
       "4            6          1             0  "
      ]
     },
     "execution_count": 23,
     "metadata": {},
     "output_type": "execute_result"
    }
   ],
   "source": [
    "# Importing pandas and numpy libraries\n",
    "import pandas as pd\n",
    "import numpy as np\n",
    "\n",
    "# Defining columns\n",
    "column_names = [\"Customer ID\", \"Customer Name\", \"2018 Revenue\", \"2019 Revenue\", \"Growth\", \"Start Year\", \"Start Month\", \"Start Day\", \"New Customer\"]\n",
    "\n",
    "# Defining lists\n",
    "row1 = list([1001.0, 'Pandas Banking', '235000', '248000', '5.5', 2013,3,10, 0])\n",
    "row2 = list([1002.0, 'Pandas Grocery', '196000', '205000', '4.5', 2016,4,30, 0])\n",
    "row3 = list([1003.0, 'Pandas Telecom', '167000', '193000', '15.5', 2010,11,24, 0])\n",
    "row4 = list([1004.0, 'Pandas Transport', '79000', '90000', '13.9', 2018,1,15, 1])\n",
    "row5 = list([1005.0, 'Pandas Insurance', '241000', '264000', '9.5', 2009,6,1, 0])\n",
    "\n",
    "# Defining a DataFrame\n",
    "data_frame = pd.DataFrame(data=[row1, row2, row3, row4, row5], columns=column_names)\n",
    "\n",
    "# Display DataFrame values\n",
    "data_frame"
   ]
  },
  {
   "cell_type": "code",
   "execution_count": 24,
   "metadata": {},
   "outputs": [
    {
     "data": {
      "text/plain": [
       "Customer ID      float64\n",
       "Customer Name     object\n",
       "2018 Revenue      object\n",
       "2019 Revenue      object\n",
       "Growth            object\n",
       "Start Year         int64\n",
       "Start Month        int64\n",
       "Start Day          int64\n",
       "New Customer       int64\n",
       "dtype: object"
      ]
     },
     "execution_count": 24,
     "metadata": {},
     "output_type": "execute_result"
    }
   ],
   "source": [
    "# Display DataFrame dtypes\n",
    "data_frame.dtypes"
   ]
  },
  {
   "cell_type": "code",
   "execution_count": 25,
   "metadata": {},
   "outputs": [
    {
     "data": {
      "text/html": [
       "<div>\n",
       "<style scoped>\n",
       "    .dataframe tbody tr th:only-of-type {\n",
       "        vertical-align: middle;\n",
       "    }\n",
       "\n",
       "    .dataframe tbody tr th {\n",
       "        vertical-align: top;\n",
       "    }\n",
       "\n",
       "    .dataframe thead th {\n",
       "        text-align: right;\n",
       "    }\n",
       "</style>\n",
       "<table border=\"1\" class=\"dataframe\">\n",
       "  <thead>\n",
       "    <tr style=\"text-align: right;\">\n",
       "      <th></th>\n",
       "      <th>Customer Name</th>\n",
       "      <th>2018 Revenue</th>\n",
       "      <th>2019 Revenue</th>\n",
       "      <th>Growth</th>\n",
       "    </tr>\n",
       "  </thead>\n",
       "  <tbody>\n",
       "    <tr>\n",
       "      <th>0</th>\n",
       "      <td>Pandas Banking</td>\n",
       "      <td>235000</td>\n",
       "      <td>248000</td>\n",
       "      <td>5.5</td>\n",
       "    </tr>\n",
       "    <tr>\n",
       "      <th>1</th>\n",
       "      <td>Pandas Grocery</td>\n",
       "      <td>196000</td>\n",
       "      <td>205000</td>\n",
       "      <td>4.5</td>\n",
       "    </tr>\n",
       "    <tr>\n",
       "      <th>2</th>\n",
       "      <td>Pandas Telecom</td>\n",
       "      <td>167000</td>\n",
       "      <td>193000</td>\n",
       "      <td>15.5</td>\n",
       "    </tr>\n",
       "    <tr>\n",
       "      <th>3</th>\n",
       "      <td>Pandas Transport</td>\n",
       "      <td>79000</td>\n",
       "      <td>90000</td>\n",
       "      <td>13.9</td>\n",
       "    </tr>\n",
       "    <tr>\n",
       "      <th>4</th>\n",
       "      <td>Pandas Insurance</td>\n",
       "      <td>241000</td>\n",
       "      <td>264000</td>\n",
       "      <td>9.5</td>\n",
       "    </tr>\n",
       "  </tbody>\n",
       "</table>\n",
       "</div>"
      ],
      "text/plain": [
       "      Customer Name 2018 Revenue 2019 Revenue Growth\n",
       "0    Pandas Banking       235000       248000    5.5\n",
       "1    Pandas Grocery       196000       205000    4.5\n",
       "2    Pandas Telecom       167000       193000   15.5\n",
       "3  Pandas Transport        79000        90000   13.9\n",
       "4  Pandas Insurance       241000       264000    9.5"
      ]
     },
     "execution_count": 25,
     "metadata": {},
     "output_type": "execute_result"
    }
   ],
   "source": [
    "# select_dtypes() object\n",
    "data_frame.select_dtypes('object')"
   ]
  },
  {
   "cell_type": "code",
   "execution_count": 26,
   "metadata": {},
   "outputs": [
    {
     "data": {
      "text/html": [
       "<div>\n",
       "<style scoped>\n",
       "    .dataframe tbody tr th:only-of-type {\n",
       "        vertical-align: middle;\n",
       "    }\n",
       "\n",
       "    .dataframe tbody tr th {\n",
       "        vertical-align: top;\n",
       "    }\n",
       "\n",
       "    .dataframe thead th {\n",
       "        text-align: right;\n",
       "    }\n",
       "</style>\n",
       "<table border=\"1\" class=\"dataframe\">\n",
       "  <thead>\n",
       "    <tr style=\"text-align: right;\">\n",
       "      <th></th>\n",
       "      <th>Customer ID</th>\n",
       "      <th>Customer Name</th>\n",
       "      <th>2018 Revenue</th>\n",
       "      <th>2019 Revenue</th>\n",
       "      <th>Growth</th>\n",
       "    </tr>\n",
       "  </thead>\n",
       "  <tbody>\n",
       "    <tr>\n",
       "      <th>0</th>\n",
       "      <td>1001.0</td>\n",
       "      <td>Pandas Banking</td>\n",
       "      <td>235000</td>\n",
       "      <td>248000</td>\n",
       "      <td>5.5</td>\n",
       "    </tr>\n",
       "    <tr>\n",
       "      <th>1</th>\n",
       "      <td>1002.0</td>\n",
       "      <td>Pandas Grocery</td>\n",
       "      <td>196000</td>\n",
       "      <td>205000</td>\n",
       "      <td>4.5</td>\n",
       "    </tr>\n",
       "    <tr>\n",
       "      <th>2</th>\n",
       "      <td>1003.0</td>\n",
       "      <td>Pandas Telecom</td>\n",
       "      <td>167000</td>\n",
       "      <td>193000</td>\n",
       "      <td>15.5</td>\n",
       "    </tr>\n",
       "    <tr>\n",
       "      <th>3</th>\n",
       "      <td>1004.0</td>\n",
       "      <td>Pandas Transport</td>\n",
       "      <td>79000</td>\n",
       "      <td>90000</td>\n",
       "      <td>13.9</td>\n",
       "    </tr>\n",
       "    <tr>\n",
       "      <th>4</th>\n",
       "      <td>1005.0</td>\n",
       "      <td>Pandas Insurance</td>\n",
       "      <td>241000</td>\n",
       "      <td>264000</td>\n",
       "      <td>9.5</td>\n",
       "    </tr>\n",
       "  </tbody>\n",
       "</table>\n",
       "</div>"
      ],
      "text/plain": [
       "   Customer ID     Customer Name 2018 Revenue 2019 Revenue Growth\n",
       "0       1001.0    Pandas Banking       235000       248000    5.5\n",
       "1       1002.0    Pandas Grocery       196000       205000    4.5\n",
       "2       1003.0    Pandas Telecom       167000       193000   15.5\n",
       "3       1004.0  Pandas Transport        79000        90000   13.9\n",
       "4       1005.0  Pandas Insurance       241000       264000    9.5"
      ]
     },
     "execution_count": 26,
     "metadata": {},
     "output_type": "execute_result"
    }
   ],
   "source": [
    "# select_dtypes() object and number but excluding int64\n",
    "data_frame.select_dtypes(['number','object'], exclude='int64')"
   ]
  },
  {
   "cell_type": "code",
   "execution_count": 6,
   "metadata": {},
   "outputs": [
    {
     "data": {
      "text/plain": [
       "0    pandas is awesome\n",
       "dtype: object"
      ]
     },
     "execution_count": 6,
     "metadata": {},
     "output_type": "execute_result"
    }
   ],
   "source": [
    "s = pd.Series(['pandas is awesome'])\n",
    "s"
   ]
  },
  {
   "cell_type": "code",
   "execution_count": 10,
   "metadata": {},
   "outputs": [
    {
     "data": {
      "text/plain": [
       "0    [pandas, is, awesome]\n",
       "dtype: object"
      ]
     },
     "execution_count": 10,
     "metadata": {},
     "output_type": "execute_result"
    }
   ],
   "source": [
    "s.str.split()"
   ]
  },
  {
   "cell_type": "code",
   "execution_count": 11,
   "metadata": {},
   "outputs": [
    {
     "data": {
      "text/plain": [
       "0    python is awesome\n",
       "dtype: object"
      ]
     },
     "execution_count": 11,
     "metadata": {},
     "output_type": "execute_result"
    }
   ],
   "source": [
    "s.str.replace('pandas', 'python')"
   ]
  },
  {
   "cell_type": "code",
   "execution_count": 12,
   "metadata": {},
   "outputs": [
    {
     "data": {
      "text/plain": [
       "0    3\n",
       "dtype: int64"
      ]
     },
     "execution_count": 12,
     "metadata": {},
     "output_type": "execute_result"
    }
   ],
   "source": [
    "s.str.count('a')"
   ]
  },
  {
   "cell_type": "code",
   "execution_count": 13,
   "metadata": {},
   "outputs": [
    {
     "data": {
      "text/plain": [
       "0    17\n",
       "dtype: int64"
      ]
     },
     "execution_count": 13,
     "metadata": {},
     "output_type": "execute_result"
    }
   ],
   "source": [
    "s.str.len()"
   ]
  },
  {
   "cell_type": "code",
   "execution_count": 15,
   "metadata": {},
   "outputs": [
    {
     "data": {
      "text/plain": [
       "0    Pandas is awesome\n",
       "dtype: object"
      ]
     },
     "execution_count": 15,
     "metadata": {},
     "output_type": "execute_result"
    }
   ],
   "source": [
    "s.str.capitalize()"
   ]
  },
  {
   "cell_type": "code",
   "execution_count": 16,
   "metadata": {},
   "outputs": [
    {
     "data": {
      "text/plain": [
       "0    True\n",
       "dtype: bool"
      ]
     },
     "execution_count": 16,
     "metadata": {},
     "output_type": "execute_result"
    }
   ],
   "source": [
    "s.str.islower()"
   ]
  },
  {
   "cell_type": "code",
   "execution_count": 80,
   "metadata": {},
   "outputs": [
    {
     "data": {
      "text/plain": [
       "[large, small, medium, small]\n",
       "Categories (3, object): [large, small, medium]"
      ]
     },
     "execution_count": 80,
     "metadata": {},
     "output_type": "execute_result"
    }
   ],
   "source": [
    "s = pd.Categorical([\"large\", \"small\", \"medium\", \"small\"], categories=[\"large\", \"small\", \"medium\"],ordered=False)\n",
    "s"
   ]
  },
  {
   "cell_type": "code",
   "execution_count": 81,
   "metadata": {},
   "outputs": [
    {
     "data": {
      "text/plain": [
       "Index(['large', 'small', 'medium'], dtype='object')"
      ]
     },
     "execution_count": 81,
     "metadata": {},
     "output_type": "execute_result"
    }
   ],
   "source": [
    "s.categories"
   ]
  },
  {
   "cell_type": "code",
   "execution_count": 82,
   "metadata": {},
   "outputs": [
    {
     "data": {
      "text/plain": [
       "[large, small, medium, small]\n",
       "Categories (4, object): [large, small, medium, extra large]"
      ]
     },
     "execution_count": 82,
     "metadata": {},
     "output_type": "execute_result"
    }
   ],
   "source": [
    "s.add_categories(['extra large'])"
   ]
  },
  {
   "cell_type": "code",
   "execution_count": 83,
   "metadata": {},
   "outputs": [
    {
     "data": {
      "text/plain": [
       "[large, small, medium, small]\n",
       "Categories (3, object): [small < medium < large]"
      ]
     },
     "execution_count": 83,
     "metadata": {},
     "output_type": "execute_result"
    }
   ],
   "source": [
    "s = s.reorder_categories([\"small\", \"medium\",\"large\"], ordered=True)\n",
    "s"
   ]
  },
  {
   "cell_type": "code",
   "execution_count": 84,
   "metadata": {},
   "outputs": [
    {
     "data": {
      "text/plain": [
       "[small, small, medium, large]\n",
       "Categories (3, object): [small < medium < large]"
      ]
     },
     "execution_count": 84,
     "metadata": {},
     "output_type": "execute_result"
    }
   ],
   "source": [
    "s.sort_values()"
   ]
  },
  {
   "cell_type": "code",
   "execution_count": 100,
   "metadata": {},
   "outputs": [
    {
     "data": {
      "text/plain": [
       "0   1990-05-31 10:00:00\n",
       "1   1995-06-05 15:00:00\n",
       "2   2020-09-09 12:00:00\n",
       "dtype: datetime64[ns]"
      ]
     },
     "execution_count": 100,
     "metadata": {},
     "output_type": "execute_result"
    }
   ],
   "source": [
    "s = pd.to_datetime(pd.Series(['1990-05-31 10:00', '1995-06-05 15:00', '2020-09-09 12:00']))\n",
    "s"
   ]
  },
  {
   "cell_type": "code",
   "execution_count": 104,
   "metadata": {},
   "outputs": [
    {
     "data": {
      "text/plain": [
       "0    1990-05-31\n",
       "1    1995-06-05\n",
       "2    2020-09-09\n",
       "dtype: object"
      ]
     },
     "execution_count": 104,
     "metadata": {},
     "output_type": "execute_result"
    }
   ],
   "source": [
    "s.dt.date"
   ]
  },
  {
   "cell_type": "code",
   "execution_count": 105,
   "metadata": {},
   "outputs": [
    {
     "data": {
      "text/plain": [
       "0    10:00:00\n",
       "1    15:00:00\n",
       "2    12:00:00\n",
       "dtype: object"
      ]
     },
     "execution_count": 105,
     "metadata": {},
     "output_type": "execute_result"
    }
   ],
   "source": [
    "s.dt.time"
   ]
  },
  {
   "cell_type": "code",
   "execution_count": 101,
   "metadata": {},
   "outputs": [
    {
     "data": {
      "text/plain": [
       "0    1990\n",
       "1    1995\n",
       "2    2020\n",
       "dtype: int64"
      ]
     },
     "execution_count": 101,
     "metadata": {},
     "output_type": "execute_result"
    }
   ],
   "source": [
    "s.dt.year"
   ]
  },
  {
   "cell_type": "code",
   "execution_count": 102,
   "metadata": {},
   "outputs": [
    {
     "data": {
      "text/plain": [
       "0     Thursday\n",
       "1       Monday\n",
       "2    Wednesday\n",
       "dtype: object"
      ]
     },
     "execution_count": 102,
     "metadata": {},
     "output_type": "execute_result"
    }
   ],
   "source": [
    "s.dt.day_name()"
   ]
  },
  {
   "cell_type": "code",
   "execution_count": 111,
   "metadata": {},
   "outputs": [
    {
     "data": {
      "text/plain": [
       "0   -10807 days\n",
       "1    -8976 days\n",
       "2      252 days\n",
       "dtype: timedelta64[ns]"
      ]
     },
     "execution_count": 111,
     "metadata": {},
     "output_type": "execute_result"
    }
   ],
   "source": [
    "s = pd.to_datetime(pd.Series(['1990-05-31', '1995-06-05', '2020-09-09'])) - pd.to_datetime('2020-01-01')\n",
    "s"
   ]
  },
  {
   "cell_type": "code",
   "execution_count": 114,
   "metadata": {},
   "outputs": [
    {
     "data": {
      "text/plain": [
       "0   -933724800.0\n",
       "1   -775526400.0\n",
       "2     21772800.0\n",
       "dtype: float64"
      ]
     },
     "execution_count": 114,
     "metadata": {},
     "output_type": "execute_result"
    }
   ],
   "source": [
    "s.dt.total_seconds()"
   ]
  },
  {
   "cell_type": "code",
   "execution_count": 115,
   "metadata": {},
   "outputs": [
    {
     "data": {
      "text/plain": [
       "array([datetime.timedelta(days=-10807), datetime.timedelta(days=-8976),\n",
       "       datetime.timedelta(days=252)], dtype=object)"
      ]
     },
     "execution_count": 115,
     "metadata": {},
     "output_type": "execute_result"
    }
   ],
   "source": [
    "s.dt.to_pytimedelta()"
   ]
  },
  {
   "cell_type": "code",
   "execution_count": 117,
   "metadata": {},
   "outputs": [
    {
     "data": {
      "text/html": [
       "<div>\n",
       "<style scoped>\n",
       "    .dataframe tbody tr th:only-of-type {\n",
       "        vertical-align: middle;\n",
       "    }\n",
       "\n",
       "    .dataframe tbody tr th {\n",
       "        vertical-align: top;\n",
       "    }\n",
       "\n",
       "    .dataframe thead th {\n",
       "        text-align: right;\n",
       "    }\n",
       "</style>\n",
       "<table border=\"1\" class=\"dataframe\">\n",
       "  <thead>\n",
       "    <tr style=\"text-align: right;\">\n",
       "      <th></th>\n",
       "      <th>days</th>\n",
       "      <th>hours</th>\n",
       "      <th>minutes</th>\n",
       "      <th>seconds</th>\n",
       "      <th>milliseconds</th>\n",
       "      <th>microseconds</th>\n",
       "      <th>nanoseconds</th>\n",
       "    </tr>\n",
       "  </thead>\n",
       "  <tbody>\n",
       "    <tr>\n",
       "      <th>0</th>\n",
       "      <td>-10807</td>\n",
       "      <td>0</td>\n",
       "      <td>0</td>\n",
       "      <td>0</td>\n",
       "      <td>0</td>\n",
       "      <td>0</td>\n",
       "      <td>0</td>\n",
       "    </tr>\n",
       "    <tr>\n",
       "      <th>1</th>\n",
       "      <td>-8976</td>\n",
       "      <td>0</td>\n",
       "      <td>0</td>\n",
       "      <td>0</td>\n",
       "      <td>0</td>\n",
       "      <td>0</td>\n",
       "      <td>0</td>\n",
       "    </tr>\n",
       "    <tr>\n",
       "      <th>2</th>\n",
       "      <td>252</td>\n",
       "      <td>0</td>\n",
       "      <td>0</td>\n",
       "      <td>0</td>\n",
       "      <td>0</td>\n",
       "      <td>0</td>\n",
       "      <td>0</td>\n",
       "    </tr>\n",
       "  </tbody>\n",
       "</table>\n",
       "</div>"
      ],
      "text/plain": [
       "    days  hours  minutes  seconds  milliseconds  microseconds  nanoseconds\n",
       "0 -10807      0        0        0             0             0            0\n",
       "1  -8976      0        0        0             0             0            0\n",
       "2    252      0        0        0             0             0            0"
      ]
     },
     "execution_count": 117,
     "metadata": {},
     "output_type": "execute_result"
    }
   ],
   "source": [
    "s.dt.components"
   ]
  },
  {
   "cell_type": "code",
   "execution_count": null,
   "metadata": {},
   "outputs": [],
   "source": []
  }
 ],
 "metadata": {
  "colab": {
   "collapsed_sections": [],
   "name": "PandasWorkshopChapter4.ipynb",
   "provenance": []
  },
  "kernelspec": {
   "display_name": "Python 3",
   "language": "python",
   "name": "python3"
  },
  "language_info": {
   "codemirror_mode": {
    "name": "ipython",
    "version": 3
   },
   "file_extension": ".py",
   "mimetype": "text/x-python",
   "name": "python",
   "nbconvert_exporter": "python",
   "pygments_lexer": "ipython3",
   "version": "3.7.6"
  }
 },
 "nbformat": 4,
 "nbformat_minor": 1
}
