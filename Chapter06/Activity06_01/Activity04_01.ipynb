{
 "cells": [
  {
   "cell_type": "code",
   "execution_count": 1,
   "metadata": {},
   "outputs": [],
   "source": [
    "#2 Import the pandas package:\n",
    "import pandas as pd"
   ]
  },
  {
   "cell_type": "code",
   "execution_count": 2,
   "metadata": {},
   "outputs": [],
   "source": [
    "#3 Load the CSV file as a DataFrame:\n",
    "file_url = 'https://raw.githubusercontent.com/PacktWorkshops/The-Pandas-Workshop/master/Chapter04/Data/wine_review.csv'\n",
    "data_frame = pd.read_csv(file_url)"
   ]
  },
  {
   "cell_type": "code",
   "execution_count": 3,
   "metadata": {},
   "outputs": [
    {
     "data": {
      "text/html": [
       "<div>\n",
       "<style scoped>\n",
       "    .dataframe tbody tr th:only-of-type {\n",
       "        vertical-align: middle;\n",
       "    }\n",
       "\n",
       "    .dataframe tbody tr th {\n",
       "        vertical-align: top;\n",
       "    }\n",
       "\n",
       "    .dataframe thead th {\n",
       "        text-align: right;\n",
       "    }\n",
       "</style>\n",
       "<table border=\"1\" class=\"dataframe\">\n",
       "  <thead>\n",
       "    <tr style=\"text-align: right;\">\n",
       "      <th></th>\n",
       "      <th>id</th>\n",
       "      <th>country</th>\n",
       "      <th>designation</th>\n",
       "      <th>points</th>\n",
       "      <th>price</th>\n",
       "      <th>province</th>\n",
       "      <th>region</th>\n",
       "      <th>taster_name</th>\n",
       "      <th>taster_twitter_handle</th>\n",
       "      <th>variety</th>\n",
       "      <th>winery</th>\n",
       "    </tr>\n",
       "  </thead>\n",
       "  <tbody>\n",
       "    <tr>\n",
       "      <th>0</th>\n",
       "      <td>0</td>\n",
       "      <td>Italy</td>\n",
       "      <td>Vulkà Bianco</td>\n",
       "      <td>87</td>\n",
       "      <td>NaN</td>\n",
       "      <td>Sicily &amp; Sardinia</td>\n",
       "      <td>Etna</td>\n",
       "      <td>Kerin O’Keefe</td>\n",
       "      <td>@kerinokeefe</td>\n",
       "      <td>White Blend</td>\n",
       "      <td>Nicosia</td>\n",
       "    </tr>\n",
       "    <tr>\n",
       "      <th>1</th>\n",
       "      <td>1</td>\n",
       "      <td>Portugal</td>\n",
       "      <td>Avidagos</td>\n",
       "      <td>87</td>\n",
       "      <td>15.0</td>\n",
       "      <td>Douro</td>\n",
       "      <td>NaN</td>\n",
       "      <td>Roger Voss</td>\n",
       "      <td>@vossroger</td>\n",
       "      <td>Portuguese Red</td>\n",
       "      <td>Quinta dos Avidagos</td>\n",
       "    </tr>\n",
       "    <tr>\n",
       "      <th>2</th>\n",
       "      <td>2</td>\n",
       "      <td>US</td>\n",
       "      <td>NaN</td>\n",
       "      <td>87</td>\n",
       "      <td>14.0</td>\n",
       "      <td>Oregon</td>\n",
       "      <td>Willamette Valley</td>\n",
       "      <td>Paul Gregutt</td>\n",
       "      <td>@paulgwine</td>\n",
       "      <td>Pinot Gris</td>\n",
       "      <td>Rainstorm</td>\n",
       "    </tr>\n",
       "    <tr>\n",
       "      <th>3</th>\n",
       "      <td>3</td>\n",
       "      <td>US</td>\n",
       "      <td>Reserve Late Harvest</td>\n",
       "      <td>87</td>\n",
       "      <td>13.0</td>\n",
       "      <td>Michigan</td>\n",
       "      <td>Lake Michigan Shore</td>\n",
       "      <td>Alexander Peartree</td>\n",
       "      <td>NaN</td>\n",
       "      <td>Riesling</td>\n",
       "      <td>St. Julian</td>\n",
       "    </tr>\n",
       "    <tr>\n",
       "      <th>4</th>\n",
       "      <td>4</td>\n",
       "      <td>US</td>\n",
       "      <td>Vintner's Reserve Wild Child Block</td>\n",
       "      <td>87</td>\n",
       "      <td>65.0</td>\n",
       "      <td>Oregon</td>\n",
       "      <td>Willamette Valley</td>\n",
       "      <td>Paul Gregutt</td>\n",
       "      <td>@paulgwine</td>\n",
       "      <td>Pinot Noir</td>\n",
       "      <td>Sweet Cheeks</td>\n",
       "    </tr>\n",
       "    <tr>\n",
       "      <th>5</th>\n",
       "      <td>5</td>\n",
       "      <td>Spain</td>\n",
       "      <td>Ars In Vitro</td>\n",
       "      <td>87</td>\n",
       "      <td>15.0</td>\n",
       "      <td>Northern Spain</td>\n",
       "      <td>Navarra</td>\n",
       "      <td>Michael Schachner</td>\n",
       "      <td>@wineschach</td>\n",
       "      <td>Tempranillo-Merlot</td>\n",
       "      <td>Tandem</td>\n",
       "    </tr>\n",
       "    <tr>\n",
       "      <th>6</th>\n",
       "      <td>6</td>\n",
       "      <td>Italy</td>\n",
       "      <td>Belsito</td>\n",
       "      <td>87</td>\n",
       "      <td>16.0</td>\n",
       "      <td>Sicily &amp; Sardinia</td>\n",
       "      <td>Vittoria</td>\n",
       "      <td>Kerin O’Keefe</td>\n",
       "      <td>@kerinokeefe</td>\n",
       "      <td>Frappato</td>\n",
       "      <td>Terre di Giurfo</td>\n",
       "    </tr>\n",
       "    <tr>\n",
       "      <th>7</th>\n",
       "      <td>7</td>\n",
       "      <td>France</td>\n",
       "      <td>NaN</td>\n",
       "      <td>87</td>\n",
       "      <td>24.0</td>\n",
       "      <td>Alsace</td>\n",
       "      <td>Alsace</td>\n",
       "      <td>Roger Voss</td>\n",
       "      <td>@vossroger</td>\n",
       "      <td>Gewürztraminer</td>\n",
       "      <td>Trimbach</td>\n",
       "    </tr>\n",
       "    <tr>\n",
       "      <th>8</th>\n",
       "      <td>8</td>\n",
       "      <td>Germany</td>\n",
       "      <td>Shine</td>\n",
       "      <td>87</td>\n",
       "      <td>12.0</td>\n",
       "      <td>Rheinhessen</td>\n",
       "      <td>NaN</td>\n",
       "      <td>Anna Lee C. Iijima</td>\n",
       "      <td>NaN</td>\n",
       "      <td>Gewürztraminer</td>\n",
       "      <td>Heinz Eifel</td>\n",
       "    </tr>\n",
       "    <tr>\n",
       "      <th>9</th>\n",
       "      <td>9</td>\n",
       "      <td>France</td>\n",
       "      <td>Les Natures</td>\n",
       "      <td>87</td>\n",
       "      <td>27.0</td>\n",
       "      <td>Alsace</td>\n",
       "      <td>Alsace</td>\n",
       "      <td>Roger Voss</td>\n",
       "      <td>@vossroger</td>\n",
       "      <td>Pinot Gris</td>\n",
       "      <td>Jean-Baptiste Adam</td>\n",
       "    </tr>\n",
       "  </tbody>\n",
       "</table>\n",
       "</div>"
      ],
      "text/plain": [
       "   id   country                         designation  points  price  \\\n",
       "0   0     Italy                        Vulkà Bianco      87    NaN   \n",
       "1   1  Portugal                            Avidagos      87   15.0   \n",
       "2   2        US                                 NaN      87   14.0   \n",
       "3   3        US                Reserve Late Harvest      87   13.0   \n",
       "4   4        US  Vintner's Reserve Wild Child Block      87   65.0   \n",
       "5   5     Spain                        Ars In Vitro      87   15.0   \n",
       "6   6     Italy                             Belsito      87   16.0   \n",
       "7   7    France                                 NaN      87   24.0   \n",
       "8   8   Germany                               Shine      87   12.0   \n",
       "9   9    France                         Les Natures      87   27.0   \n",
       "\n",
       "            province               region         taster_name  \\\n",
       "0  Sicily & Sardinia                 Etna       Kerin O’Keefe   \n",
       "1              Douro                  NaN          Roger Voss   \n",
       "2             Oregon    Willamette Valley        Paul Gregutt   \n",
       "3           Michigan  Lake Michigan Shore  Alexander Peartree   \n",
       "4             Oregon    Willamette Valley        Paul Gregutt   \n",
       "5     Northern Spain              Navarra   Michael Schachner   \n",
       "6  Sicily & Sardinia             Vittoria       Kerin O’Keefe   \n",
       "7             Alsace               Alsace          Roger Voss   \n",
       "8        Rheinhessen                  NaN  Anna Lee C. Iijima   \n",
       "9             Alsace               Alsace          Roger Voss   \n",
       "\n",
       "  taster_twitter_handle             variety               winery  \n",
       "0          @kerinokeefe         White Blend              Nicosia  \n",
       "1            @vossroger      Portuguese Red  Quinta dos Avidagos  \n",
       "2           @paulgwine           Pinot Gris            Rainstorm  \n",
       "3                   NaN            Riesling           St. Julian  \n",
       "4           @paulgwine           Pinot Noir         Sweet Cheeks  \n",
       "5           @wineschach  Tempranillo-Merlot               Tandem  \n",
       "6          @kerinokeefe            Frappato      Terre di Giurfo  \n",
       "7            @vossroger      Gewürztraminer             Trimbach  \n",
       "8                   NaN      Gewürztraminer          Heinz Eifel  \n",
       "9            @vossroger          Pinot Gris   Jean-Baptiste Adam  "
      ]
     },
     "execution_count": 3,
     "metadata": {},
     "output_type": "execute_result"
    }
   ],
   "source": [
    "#4 Display the first 10 rows of the DataFrame:\n",
    "data_frame.head(10)"
   ]
  },
  {
   "cell_type": "code",
   "execution_count": 4,
   "metadata": {},
   "outputs": [
    {
     "name": "stdout",
     "output_type": "stream",
     "text": [
      "<class 'pandas.core.frame.DataFrame'>\n",
      "RangeIndex: 29998 entries, 0 to 29997\n",
      "Data columns (total 11 columns):\n",
      " #   Column                 Non-Null Count  Dtype  \n",
      "---  ------                 --------------  -----  \n",
      " 0   id                     29998 non-null  int64  \n",
      " 1   country                29983 non-null  object \n",
      " 2   designation            21455 non-null  object \n",
      " 3   points                 29998 non-null  int64  \n",
      " 4   price                  27850 non-null  float64\n",
      " 5   province               29983 non-null  object \n",
      " 6   region                 24968 non-null  object \n",
      " 7   taster_name            23812 non-null  object \n",
      " 8   taster_twitter_handle  22685 non-null  object \n",
      " 9   variety                29998 non-null  object \n",
      " 10  winery                 29998 non-null  object \n",
      "dtypes: float64(1), int64(2), object(8)\n",
      "memory usage: 2.5+ MB\n"
     ]
    }
   ],
   "source": [
    "#5 Display the data types of each column in the DataFrame:\n",
    "data_frame.info()"
   ]
  },
  {
   "cell_type": "code",
   "execution_count": 5,
   "metadata": {},
   "outputs": [
    {
     "data": {
      "text/html": [
       "<div>\n",
       "<style scoped>\n",
       "    .dataframe tbody tr th:only-of-type {\n",
       "        vertical-align: middle;\n",
       "    }\n",
       "\n",
       "    .dataframe tbody tr th {\n",
       "        vertical-align: top;\n",
       "    }\n",
       "\n",
       "    .dataframe thead th {\n",
       "        text-align: right;\n",
       "    }\n",
       "</style>\n",
       "<table border=\"1\" class=\"dataframe\">\n",
       "  <thead>\n",
       "    <tr style=\"text-align: right;\">\n",
       "      <th></th>\n",
       "      <th>id</th>\n",
       "      <th>country</th>\n",
       "      <th>designation</th>\n",
       "      <th>points</th>\n",
       "      <th>price</th>\n",
       "      <th>province</th>\n",
       "      <th>region</th>\n",
       "      <th>taster_name</th>\n",
       "      <th>taster_twitter_handle</th>\n",
       "      <th>variety</th>\n",
       "      <th>winery</th>\n",
       "    </tr>\n",
       "  </thead>\n",
       "  <tbody>\n",
       "    <tr>\n",
       "      <th>0</th>\n",
       "      <td>0</td>\n",
       "      <td>Italy</td>\n",
       "      <td>Vulkà Bianco</td>\n",
       "      <td>87</td>\n",
       "      <td>0.0</td>\n",
       "      <td>Sicily &amp; Sardinia</td>\n",
       "      <td>Etna</td>\n",
       "      <td>Kerin O’Keefe</td>\n",
       "      <td>@kerinokeefe</td>\n",
       "      <td>White Blend</td>\n",
       "      <td>Nicosia</td>\n",
       "    </tr>\n",
       "    <tr>\n",
       "      <th>1</th>\n",
       "      <td>1</td>\n",
       "      <td>Portugal</td>\n",
       "      <td>Avidagos</td>\n",
       "      <td>87</td>\n",
       "      <td>15.0</td>\n",
       "      <td>Douro</td>\n",
       "      <td>Unknown</td>\n",
       "      <td>Roger Voss</td>\n",
       "      <td>@vossroger</td>\n",
       "      <td>Portuguese Red</td>\n",
       "      <td>Quinta dos Avidagos</td>\n",
       "    </tr>\n",
       "    <tr>\n",
       "      <th>2</th>\n",
       "      <td>2</td>\n",
       "      <td>US</td>\n",
       "      <td>Unknown</td>\n",
       "      <td>87</td>\n",
       "      <td>14.0</td>\n",
       "      <td>Oregon</td>\n",
       "      <td>Willamette Valley</td>\n",
       "      <td>Paul Gregutt</td>\n",
       "      <td>@paulgwine</td>\n",
       "      <td>Pinot Gris</td>\n",
       "      <td>Rainstorm</td>\n",
       "    </tr>\n",
       "    <tr>\n",
       "      <th>3</th>\n",
       "      <td>3</td>\n",
       "      <td>US</td>\n",
       "      <td>Reserve Late Harvest</td>\n",
       "      <td>87</td>\n",
       "      <td>13.0</td>\n",
       "      <td>Michigan</td>\n",
       "      <td>Lake Michigan Shore</td>\n",
       "      <td>Alexander Peartree</td>\n",
       "      <td>Unknown</td>\n",
       "      <td>Riesling</td>\n",
       "      <td>St. Julian</td>\n",
       "    </tr>\n",
       "    <tr>\n",
       "      <th>4</th>\n",
       "      <td>4</td>\n",
       "      <td>US</td>\n",
       "      <td>Vintner's Reserve Wild Child Block</td>\n",
       "      <td>87</td>\n",
       "      <td>65.0</td>\n",
       "      <td>Oregon</td>\n",
       "      <td>Willamette Valley</td>\n",
       "      <td>Paul Gregutt</td>\n",
       "      <td>@paulgwine</td>\n",
       "      <td>Pinot Noir</td>\n",
       "      <td>Sweet Cheeks</td>\n",
       "    </tr>\n",
       "    <tr>\n",
       "      <th>5</th>\n",
       "      <td>5</td>\n",
       "      <td>Spain</td>\n",
       "      <td>Ars In Vitro</td>\n",
       "      <td>87</td>\n",
       "      <td>15.0</td>\n",
       "      <td>Northern Spain</td>\n",
       "      <td>Navarra</td>\n",
       "      <td>Michael Schachner</td>\n",
       "      <td>@wineschach</td>\n",
       "      <td>Tempranillo-Merlot</td>\n",
       "      <td>Tandem</td>\n",
       "    </tr>\n",
       "    <tr>\n",
       "      <th>6</th>\n",
       "      <td>6</td>\n",
       "      <td>Italy</td>\n",
       "      <td>Belsito</td>\n",
       "      <td>87</td>\n",
       "      <td>16.0</td>\n",
       "      <td>Sicily &amp; Sardinia</td>\n",
       "      <td>Vittoria</td>\n",
       "      <td>Kerin O’Keefe</td>\n",
       "      <td>@kerinokeefe</td>\n",
       "      <td>Frappato</td>\n",
       "      <td>Terre di Giurfo</td>\n",
       "    </tr>\n",
       "    <tr>\n",
       "      <th>7</th>\n",
       "      <td>7</td>\n",
       "      <td>France</td>\n",
       "      <td>Unknown</td>\n",
       "      <td>87</td>\n",
       "      <td>24.0</td>\n",
       "      <td>Alsace</td>\n",
       "      <td>Alsace</td>\n",
       "      <td>Roger Voss</td>\n",
       "      <td>@vossroger</td>\n",
       "      <td>Gewürztraminer</td>\n",
       "      <td>Trimbach</td>\n",
       "    </tr>\n",
       "    <tr>\n",
       "      <th>8</th>\n",
       "      <td>8</td>\n",
       "      <td>Germany</td>\n",
       "      <td>Shine</td>\n",
       "      <td>87</td>\n",
       "      <td>12.0</td>\n",
       "      <td>Rheinhessen</td>\n",
       "      <td>Unknown</td>\n",
       "      <td>Anna Lee C. Iijima</td>\n",
       "      <td>Unknown</td>\n",
       "      <td>Gewürztraminer</td>\n",
       "      <td>Heinz Eifel</td>\n",
       "    </tr>\n",
       "    <tr>\n",
       "      <th>9</th>\n",
       "      <td>9</td>\n",
       "      <td>France</td>\n",
       "      <td>Les Natures</td>\n",
       "      <td>87</td>\n",
       "      <td>27.0</td>\n",
       "      <td>Alsace</td>\n",
       "      <td>Alsace</td>\n",
       "      <td>Roger Voss</td>\n",
       "      <td>@vossroger</td>\n",
       "      <td>Pinot Gris</td>\n",
       "      <td>Jean-Baptiste Adam</td>\n",
       "    </tr>\n",
       "  </tbody>\n",
       "</table>\n",
       "</div>"
      ],
      "text/plain": [
       "   id   country                         designation  points  price  \\\n",
       "0   0     Italy                        Vulkà Bianco      87    0.0   \n",
       "1   1  Portugal                            Avidagos      87   15.0   \n",
       "2   2        US                             Unknown      87   14.0   \n",
       "3   3        US                Reserve Late Harvest      87   13.0   \n",
       "4   4        US  Vintner's Reserve Wild Child Block      87   65.0   \n",
       "5   5     Spain                        Ars In Vitro      87   15.0   \n",
       "6   6     Italy                             Belsito      87   16.0   \n",
       "7   7    France                             Unknown      87   24.0   \n",
       "8   8   Germany                               Shine      87   12.0   \n",
       "9   9    France                         Les Natures      87   27.0   \n",
       "\n",
       "            province               region         taster_name  \\\n",
       "0  Sicily & Sardinia                 Etna       Kerin O’Keefe   \n",
       "1              Douro              Unknown          Roger Voss   \n",
       "2             Oregon    Willamette Valley        Paul Gregutt   \n",
       "3           Michigan  Lake Michigan Shore  Alexander Peartree   \n",
       "4             Oregon    Willamette Valley        Paul Gregutt   \n",
       "5     Northern Spain              Navarra   Michael Schachner   \n",
       "6  Sicily & Sardinia             Vittoria       Kerin O’Keefe   \n",
       "7             Alsace               Alsace          Roger Voss   \n",
       "8        Rheinhessen              Unknown  Anna Lee C. Iijima   \n",
       "9             Alsace               Alsace          Roger Voss   \n",
       "\n",
       "  taster_twitter_handle             variety               winery  \n",
       "0          @kerinokeefe         White Blend              Nicosia  \n",
       "1            @vossroger      Portuguese Red  Quinta dos Avidagos  \n",
       "2           @paulgwine           Pinot Gris            Rainstorm  \n",
       "3               Unknown            Riesling           St. Julian  \n",
       "4           @paulgwine           Pinot Noir         Sweet Cheeks  \n",
       "5           @wineschach  Tempranillo-Merlot               Tandem  \n",
       "6          @kerinokeefe            Frappato      Terre di Giurfo  \n",
       "7            @vossroger      Gewürztraminer             Trimbach  \n",
       "8               Unknown      Gewürztraminer          Heinz Eifel  \n",
       "9            @vossroger          Pinot Gris   Jean-Baptiste Adam  "
      ]
     },
     "execution_count": 5,
     "metadata": {},
     "output_type": "execute_result"
    }
   ],
   "source": [
    "#6 Handle missing values by replacing them and display the top 10 rows of the DataFrame:\n",
    "data_frame.fillna(value = {'country': 'Unknown',\n",
    "                           'designation': 'Unknown',\n",
    "                           'province': 'Unknown',\n",
    "                           'region': 'Unknown',\n",
    "                           'taster_name': 'Unknown',\n",
    "                           'taster_twitter_handle': 'Unknown',\n",
    "                           'variety': 'Unknown',\n",
    "                           'winery': 'Unknown',\n",
    "                           'price' : 0\n",
    "                          }, inplace= True)\n",
    "data_frame.head(10)"
   ]
  },
  {
   "cell_type": "code",
   "execution_count": 6,
   "metadata": {},
   "outputs": [
    {
     "data": {
      "text/plain": [
       "42"
      ]
     },
     "execution_count": 6,
     "metadata": {},
     "output_type": "execute_result"
    }
   ],
   "source": [
    "#7A Count the number of distinct unique values for “country”\n",
    "data_frame['country'].nunique()"
   ]
  },
  {
   "cell_type": "code",
   "execution_count": 7,
   "metadata": {},
   "outputs": [
    {
     "data": {
      "text/plain": [
       "13589"
      ]
     },
     "execution_count": 7,
     "metadata": {},
     "output_type": "execute_result"
    }
   ],
   "source": [
    "#7B Count the number of distinct unique values for “designation”\n",
    "data_frame['designation'].nunique()"
   ]
  },
  {
   "cell_type": "code",
   "execution_count": 8,
   "metadata": {},
   "outputs": [
    {
     "data": {
      "text/plain": [
       "332"
      ]
     },
     "execution_count": 8,
     "metadata": {},
     "output_type": "execute_result"
    }
   ],
   "source": [
    "#7C Count the number of distinct unique values for “province”\n",
    "data_frame['province'].nunique()"
   ]
  },
  {
   "cell_type": "code",
   "execution_count": 9,
   "metadata": {},
   "outputs": [
    {
     "data": {
      "text/plain": [
       "967"
      ]
     },
     "execution_count": 9,
     "metadata": {},
     "output_type": "execute_result"
    }
   ],
   "source": [
    "#7D Count the number of distinct unique values for “region”\n",
    "data_frame['region'].nunique()"
   ]
  },
  {
   "cell_type": "code",
   "execution_count": 10,
   "metadata": {},
   "outputs": [
    {
     "data": {
      "text/plain": [
       "20"
      ]
     },
     "execution_count": 10,
     "metadata": {},
     "output_type": "execute_result"
    }
   ],
   "source": [
    "#7E Count the number of distinct unique values for “taster_name”\n",
    "data_frame['taster_name'].nunique()"
   ]
  },
  {
   "cell_type": "code",
   "execution_count": 11,
   "metadata": {},
   "outputs": [
    {
     "data": {
      "text/plain": [
       "16"
      ]
     },
     "execution_count": 11,
     "metadata": {},
     "output_type": "execute_result"
    }
   ],
   "source": [
    "#7F Count the number of distinct unique values for “taster_twitter_handle”\n",
    "data_frame['taster_twitter_handle'].nunique()"
   ]
  },
  {
   "cell_type": "code",
   "execution_count": 12,
   "metadata": {},
   "outputs": [
    {
     "data": {
      "text/plain": [
       "479"
      ]
     },
     "execution_count": 12,
     "metadata": {},
     "output_type": "execute_result"
    }
   ],
   "source": [
    "#7G Count the number of distinct unique values for “variety”\n",
    "data_frame['variety'].nunique()"
   ]
  },
  {
   "cell_type": "code",
   "execution_count": 13,
   "metadata": {},
   "outputs": [
    {
     "data": {
      "text/plain": [
       "9942"
      ]
     },
     "execution_count": 13,
     "metadata": {},
     "output_type": "execute_result"
    }
   ],
   "source": [
    "#7H Count the number of distinct unique values for “winery”\n",
    "data_frame['winery'].nunique()"
   ]
  },
  {
   "cell_type": "code",
   "execution_count": 14,
   "metadata": {},
   "outputs": [
    {
     "data": {
      "text/plain": [
       "0           Italy\n",
       "1        Portugal\n",
       "2              US\n",
       "3              US\n",
       "4              US\n",
       "           ...   \n",
       "29993          US\n",
       "29994      France\n",
       "29995          US\n",
       "29996          US\n",
       "29997          US\n",
       "Name: country, Length: 29998, dtype: category\n",
       "Categories (42, object): [Argentina, Armenia, Australia, Austria, ..., US, Ukraine, Unknown, Uruguay]"
      ]
     },
     "execution_count": 14,
     "metadata": {},
     "output_type": "execute_result"
    }
   ],
   "source": [
    "#8A Convert “country” into a category then display it:\n",
    "data_frame['country'] = data_frame['country'].astype('category')\n",
    "data_frame['country']"
   ]
  },
  {
   "cell_type": "code",
   "execution_count": 15,
   "metadata": {},
   "outputs": [
    {
     "data": {
      "text/plain": [
       "0        Sicily & Sardinia\n",
       "1                    Douro\n",
       "2                   Oregon\n",
       "3                 Michigan\n",
       "4                   Oregon\n",
       "               ...        \n",
       "29993           California\n",
       "29994            Champagne\n",
       "29995           California\n",
       "29996             New York\n",
       "29997           California\n",
       "Name: province, Length: 29998, dtype: category\n",
       "Categories (332, object): [Aconcagua Costa, Aconcagua Valley, Aegean, Ahr, ..., Zenata, Österreichischer Sekt, Štajerska, Župa]"
      ]
     },
     "execution_count": 15,
     "metadata": {},
     "output_type": "execute_result"
    }
   ],
   "source": [
    "#8B Convert “province” into a category then display it:\n",
    "data_frame['province'] = data_frame['province'].astype('category')\n",
    "data_frame['province']"
   ]
  },
  {
   "cell_type": "code",
   "execution_count": 16,
   "metadata": {},
   "outputs": [
    {
     "data": {
      "text/plain": [
       "0                       Etna\n",
       "1                    Unknown\n",
       "2          Willamette Valley\n",
       "3        Lake Michigan Shore\n",
       "4          Willamette Valley\n",
       "                ...         \n",
       "29993          Amador County\n",
       "29994              Champagne\n",
       "29995             California\n",
       "29996           Finger Lakes\n",
       "29997            Paso Robles\n",
       "Name: region, Length: 29998, dtype: category\n",
       "Categories (967, object): [Adelaida District, Adelaide, Adelaide Hills, Adelaide Plains, ..., Yolo County, York Mountain, Yorkville Highlands, Yountville]"
      ]
     },
     "execution_count": 16,
     "metadata": {},
     "output_type": "execute_result"
    }
   ],
   "source": [
    "#8C Convert “region” into a category then display it:\n",
    "data_frame['region'] = data_frame['region'].astype('category')\n",
    "data_frame['region']"
   ]
  },
  {
   "cell_type": "code",
   "execution_count": 17,
   "metadata": {},
   "outputs": [
    {
     "data": {
      "text/plain": [
       "0             Kerin O’Keefe\n",
       "1                Roger Voss\n",
       "2              Paul Gregutt\n",
       "3        Alexander Peartree\n",
       "4              Paul Gregutt\n",
       "                ...        \n",
       "29993               Unknown\n",
       "29994            Roger Voss\n",
       "29995               Unknown\n",
       "29996    Anna Lee C. Iijima\n",
       "29997         Matt Kettmann\n",
       "Name: taster_name, Length: 29998, dtype: category\n",
       "Categories (20, object): [Alexander Peartree, Anna Lee C. Iijima, Anne Krebiehl MW, Carrie Dykes, ..., Sean P. Sullivan, Susan Kostrzewa, Unknown, Virginie Boone]"
      ]
     },
     "execution_count": 17,
     "metadata": {},
     "output_type": "execute_result"
    }
   ],
   "source": [
    "#8D Convert “taster_name” into a category then display it:\n",
    "data_frame['taster_name'] = data_frame['taster_name'].astype('category')\n",
    "data_frame['taster_name']"
   ]
  },
  {
   "cell_type": "code",
   "execution_count": 18,
   "metadata": {},
   "outputs": [
    {
     "data": {
      "text/plain": [
       "0         @kerinokeefe\n",
       "1           @vossroger\n",
       "2          @paulgwine \n",
       "3              Unknown\n",
       "4          @paulgwine \n",
       "             ...      \n",
       "29993          Unknown\n",
       "29994       @vossroger\n",
       "29995          Unknown\n",
       "29996          Unknown\n",
       "29997    @mattkettmann\n",
       "Name: taster_twitter_handle, Length: 29998, dtype: category\n",
       "Categories (16, object): [@AnneInVino, @JoeCz, @bkfiona, @gordone_cellars, ..., @wineschach, @winewchristina, @worldwineguys, Unknown]"
      ]
     },
     "execution_count": 18,
     "metadata": {},
     "output_type": "execute_result"
    }
   ],
   "source": [
    "#8E Convert “taster_twitter_handle” into a category then display it:\n",
    "data_frame['taster_twitter_handle'] = data_frame['taster_twitter_handle'].astype('category')\n",
    "data_frame['taster_twitter_handle']"
   ]
  },
  {
   "cell_type": "code",
   "execution_count": 19,
   "metadata": {},
   "outputs": [
    {
     "data": {
      "text/plain": [
       "0                  White Blend\n",
       "1               Portuguese Red\n",
       "2                   Pinot Gris\n",
       "3                     Riesling\n",
       "4                   Pinot Noir\n",
       "                 ...          \n",
       "29993                Zinfandel\n",
       "29994          Champagne Blend\n",
       "29995            Orange Muscat\n",
       "29996                 Riesling\n",
       "29997    Rhône-style Red Blend\n",
       "Name: variety, Length: 29998, dtype: category\n",
       "Categories (479, object): [Agiorgitiko, Aglianico, Albana, Albanello, ..., Zierfandler, Zierfandler-Rotgipfler, Zinfandel, Zweigelt]"
      ]
     },
     "execution_count": 19,
     "metadata": {},
     "output_type": "execute_result"
    }
   ],
   "source": [
    "#8F Convert “variety” into a category then display it:\n",
    "data_frame['variety'] = data_frame['variety'].astype('category')\n",
    "data_frame['variety']"
   ]
  },
  {
   "cell_type": "code",
   "execution_count": 20,
   "metadata": {},
   "outputs": [
    {
     "data": {
      "text/plain": [
       "Index(['Argentina', 'Armenia', 'Australia', 'Austria',\n",
       "       'Bosnia and Herzegovina', 'Brazil', 'Bulgaria', 'Canada', 'Chile',\n",
       "       'Croatia', 'Cyprus', 'Czech Republic', 'England', 'France', 'Georgia',\n",
       "       'Germany', 'Greece', 'Hungary', 'India', 'Israel', 'Italy', 'Lebanon',\n",
       "       'Luxembourg', 'Macedonia', 'Mexico', 'Moldova', 'Morocco',\n",
       "       'New Zealand', 'Peru', 'Portugal', 'Romania', 'Serbia', 'Slovakia',\n",
       "       'Slovenia', 'South Africa', 'Spain', 'Switzerland', 'Turkey', 'US',\n",
       "       'Ukraine', 'Unknown', 'Uruguay'],\n",
       "      dtype='object')"
      ]
     },
     "execution_count": 20,
     "metadata": {},
     "output_type": "execute_result"
    }
   ],
   "source": [
    "data_frame['country'].cat.categories"
   ]
  },
  {
   "cell_type": "code",
   "execution_count": 21,
   "metadata": {},
   "outputs": [
    {
     "data": {
      "text/plain": [
       "0         0\n",
       "1        15\n",
       "2        14\n",
       "3        13\n",
       "4        65\n",
       "         ..\n",
       "29993    20\n",
       "29994    36\n",
       "29995    14\n",
       "29996    19\n",
       "29997    54\n",
       "Name: price, Length: 29998, dtype: int64"
      ]
     },
     "execution_count": 21,
     "metadata": {},
     "output_type": "execute_result"
    }
   ],
   "source": [
    "#9 Convert “price” into an int64:\n",
    "data_frame['price'] = data_frame['price'].astype('int')\n",
    "data_frame['price']"
   ]
  },
  {
   "cell_type": "code",
   "execution_count": 22,
   "metadata": {},
   "outputs": [
    {
     "name": "stdout",
     "output_type": "stream",
     "text": [
      "<class 'pandas.core.frame.DataFrame'>\n",
      "RangeIndex: 29998 entries, 0 to 29997\n",
      "Data columns (total 11 columns):\n",
      " #   Column                 Non-Null Count  Dtype   \n",
      "---  ------                 --------------  -----   \n",
      " 0   id                     29998 non-null  int64   \n",
      " 1   country                29998 non-null  category\n",
      " 2   designation            29998 non-null  object  \n",
      " 3   points                 29998 non-null  int64   \n",
      " 4   price                  29998 non-null  int64   \n",
      " 5   province               29998 non-null  category\n",
      " 6   region                 29998 non-null  category\n",
      " 7   taster_name            29998 non-null  category\n",
      " 8   taster_twitter_handle  29998 non-null  category\n",
      " 9   variety                29998 non-null  category\n",
      " 10  winery                 29998 non-null  object  \n",
      "dtypes: category(6), int64(3), object(2)\n",
      "memory usage: 1.5+ MB\n"
     ]
    }
   ],
   "source": [
    "#10 Display the data types of each column in the DataFrame:\n",
    "data_frame.info()"
   ]
  }
 ],
 "metadata": {
  "colab": {
   "collapsed_sections": [],
   "name": "Activity_01_01.ipynb",
   "provenance": []
  },
  "kernelspec": {
   "display_name": "Python 3",
   "language": "python",
   "name": "python3"
  },
  "language_info": {
   "codemirror_mode": {
    "name": "ipython",
    "version": 3
   },
   "file_extension": ".py",
   "mimetype": "text/x-python",
   "name": "python",
   "nbconvert_exporter": "python",
   "pygments_lexer": "ipython3",
   "version": "3.7.6"
  }
 },
 "nbformat": 4,
 "nbformat_minor": 1
}
