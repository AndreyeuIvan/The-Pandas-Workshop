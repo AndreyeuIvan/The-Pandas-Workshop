{
 "cells": [
  {
   "cell_type": "code",
   "execution_count": 1,
   "metadata": {},
   "outputs": [
    {
     "name": "stdout",
     "output_type": "stream",
     "text": [
      "importing Jupyter notebook from Activity06_01.ipynb\n"
     ]
    },
    {
     "name": "stderr",
     "output_type": "stream",
     "text": [
      "..\n",
      "----------------------------------------------------------------------\n",
      "Ran 2 tests in 0.835s\n",
      "\n",
      "OK\n"
     ]
    }
   ],
   "source": [
    "import unittest\n",
    "import pandas as pd\n",
    "import import_ipynb\n",
    "import pandas.testing as pd_testing\n",
    "\n",
    "class Test(unittest.TestCase):\n",
    "    def setUp(self):\n",
    "        import Activity06_01\n",
    "        self.exercises = Activity06_01\n",
    "\n",
    "        self.file_url = 'https://raw.githubusercontent.com/PacktWorkshops/The-Pandas-Workshop/master/Chapter06/Data/student-mat.csv'\n",
    "        self.data_frame = pd.read_csv(self.file_url, delimiter=';')\n",
    "\n",
    "    def test_file_url(self):\n",
    "        self.assertEqual(self.exercises.file_url, self.file_url)\n",
    "        \n",
    "    def test_df(self):\n",
    "        self.data_frame = self.data_frame[[\n",
    "            'school', 'sex', 'age', 'address', 'health', 'absences', 'G1', 'G2', 'G3'\n",
    "        ]]\n",
    "        pd_testing.assert_frame_equal(self.exercises.data_frame, self.data_frame)\n",
    "\n",
    "if __name__ == '__main__':\n",
    "    unittest.main(argv=['first-arg-is-ignored'], exit=False)\n"
   ]
  },
  {
   "cell_type": "code",
   "execution_count": null,
   "metadata": {},
   "outputs": [],
   "source": []
  }
 ],
 "metadata": {
  "kernelspec": {
   "display_name": "Python 3",
   "language": "python",
   "name": "python3"
  },
  "language_info": {
   "codemirror_mode": {
    "name": "ipython",
    "version": 3
   },
   "file_extension": ".py",
   "mimetype": "text/x-python",
   "name": "python",
   "nbconvert_exporter": "python",
   "pygments_lexer": "ipython3",
   "version": "3.8.5"
  }
 },
 "nbformat": 4,
 "nbformat_minor": 4
}
