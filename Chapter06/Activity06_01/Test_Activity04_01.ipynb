{
 "cells": [
  {
   "cell_type": "code",
   "execution_count": 1,
   "metadata": {},
   "outputs": [
    {
     "name": "stdout",
     "output_type": "stream",
     "text": [
      "importing Jupyter notebook from Activity04_01.ipynb\n",
      "<class 'pandas.core.frame.DataFrame'>\n",
      "RangeIndex: 29998 entries, 0 to 29997\n",
      "Data columns (total 11 columns):\n",
      " #   Column                 Non-Null Count  Dtype  \n",
      "---  ------                 --------------  -----  \n",
      " 0   id                     29998 non-null  int64  \n",
      " 1   country                29983 non-null  object \n",
      " 2   designation            21455 non-null  object \n",
      " 3   points                 29998 non-null  int64  \n",
      " 4   price                  27850 non-null  float64\n",
      " 5   province               29983 non-null  object \n",
      " 6   region                 24968 non-null  object \n",
      " 7   taster_name            23812 non-null  object \n",
      " 8   taster_twitter_handle  22685 non-null  object \n",
      " 9   variety                29998 non-null  object \n",
      " 10  winery                 29998 non-null  object \n",
      "dtypes: float64(1), int64(2), object(8)\n",
      "memory usage: 2.5+ MB\n",
      "<class 'pandas.core.frame.DataFrame'>\n",
      "RangeIndex: 29998 entries, 0 to 29997\n",
      "Data columns (total 11 columns):\n",
      " #   Column                 Non-Null Count  Dtype   \n",
      "---  ------                 --------------  -----   \n",
      " 0   id                     29998 non-null  int64   \n",
      " 1   country                29998 non-null  category\n",
      " 2   designation            29998 non-null  object  \n",
      " 3   points                 29998 non-null  int64   \n",
      " 4   price                  29998 non-null  int64   \n",
      " 5   province               29998 non-null  category\n",
      " 6   region                 29998 non-null  category\n",
      " 7   taster_name            29998 non-null  category\n",
      " 8   taster_twitter_handle  29998 non-null  category\n",
      " 9   variety                29998 non-null  category\n",
      " 10  winery                 29998 non-null  object  \n",
      "dtypes: category(6), int64(3), object(2)\n",
      "memory usage: 1.5+ MB\n"
     ]
    },
    {
     "name": "stderr",
     "output_type": "stream",
     "text": [
      "..\n",
      "----------------------------------------------------------------------\n",
      "Ran 2 tests in 3.519s\n",
      "\n",
      "OK\n"
     ]
    }
   ],
   "source": [
    "import unittest\n",
    "import pandas as pd\n",
    "import import_ipynb\n",
    "import pandas.testing as pd_testing\n",
    "\n",
    "class Test(unittest.TestCase):\n",
    "    def setUp(self):\n",
    "        import Activity04_01\n",
    "        self.exercises = Activity04_01\n",
    "\n",
    "        self.file_url = 'https://raw.githubusercontent.com/PacktWorkshops/The-Pandas-Workshop/master/Chapter04/Data/wine_review.csv'\n",
    "        self.data_frame = pd.read_csv(self.file_url)\n",
    "\n",
    "    def test_file_url(self):\n",
    "        self.assertEqual(self.exercises.file_url, self.file_url)\n",
    "        \n",
    "    def test_df(self):\n",
    "        self.data_frame.fillna(value = {'country': 'Unknown',\n",
    "                           'designation': 'Unknown',\n",
    "                           'province': 'Unknown',\n",
    "                           'region': 'Unknown',\n",
    "                           'taster_name': 'Unknown',\n",
    "                           'taster_twitter_handle': 'Unknown',\n",
    "                           'variety': 'Unknown',\n",
    "                           'winery': 'Unknown',\n",
    "                           'price' : 0\n",
    "                          }, inplace= True)\n",
    "        self.data_frame['country'] = self.data_frame['country'].astype('category')\n",
    "        self.data_frame['province'] = self.data_frame['province'].astype('category')\n",
    "        self.data_frame['region'] = self.data_frame['region'].astype('category')\n",
    "        self.data_frame['taster_name'] = self.data_frame['taster_name'].astype('category')\n",
    "        self.data_frame['taster_twitter_handle'] = self.data_frame['taster_twitter_handle'].astype('category')\n",
    "        self.data_frame['variety'] = self.data_frame['variety'].astype('category')\n",
    "        self.data_frame['price'] = self.data_frame['price'].astype('int')\n",
    "\n",
    "        pd_testing.assert_frame_equal(self.exercises.data_frame, self.data_frame)\n",
    "\n",
    "if __name__ == '__main__':\n",
    "    unittest.main(argv=['first-arg-is-ignored'], exit=False)\n"
   ]
  }
 ],
 "metadata": {
  "kernelspec": {
   "display_name": "Python 3",
   "language": "python",
   "name": "python3"
  },
  "language_info": {
   "codemirror_mode": {
    "name": "ipython",
    "version": 3
   },
   "file_extension": ".py",
   "mimetype": "text/x-python",
   "name": "python",
   "nbconvert_exporter": "python",
   "pygments_lexer": "ipython3",
   "version": "3.7.6"
  }
 },
 "nbformat": 4,
 "nbformat_minor": 4
}
