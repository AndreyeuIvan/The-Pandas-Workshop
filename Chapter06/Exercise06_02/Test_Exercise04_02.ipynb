{
 "cells": [
  {
   "cell_type": "code",
   "execution_count": 1,
   "metadata": {},
   "outputs": [
    {
     "name": "stdout",
     "output_type": "stream",
     "text": [
      "importing Jupyter notebook from Exercise04_02.ipynb\n",
      "<class 'pandas.core.frame.DataFrame'>\n",
      "RangeIndex: 58 entries, 0 to 57\n",
      "Data columns (total 6 columns):\n",
      " #   Column            Non-Null Count  Dtype  \n",
      "---  ------            --------------  -----  \n",
      " 0   Receipt Id        44 non-null     float64\n",
      " 1   Date of Purchase  46 non-null     object \n",
      " 2   Product Name      46 non-null     object \n",
      " 3   Product Weight    51 non-null     float64\n",
      " 4   Total Price       51 non-null     float64\n",
      " 5   Retail shop name  45 non-null     object \n",
      "dtypes: float64(3), object(3)\n",
      "memory usage: 2.8+ KB\n",
      "<class 'pandas.core.frame.DataFrame'>\n",
      "RangeIndex: 58 entries, 0 to 57\n",
      "Data columns (total 6 columns):\n",
      " #   Column            Non-Null Count  Dtype         \n",
      "---  ------            --------------  -----         \n",
      " 0   Receipt Id        58 non-null     int64         \n",
      " 1   Date of Purchase  58 non-null     datetime64[ns]\n",
      " 2   Product Name      58 non-null     category      \n",
      " 3   Product Weight    58 non-null     int64         \n",
      " 4   Total Price       58 non-null     int64         \n",
      " 5   Retail shop name  58 non-null     category      \n",
      "dtypes: category(2), datetime64[ns](1), int64(3)\n",
      "memory usage: 2.8 KB\n"
     ]
    },
    {
     "name": "stderr",
     "output_type": "stream",
     "text": [
      "..\n",
      "----------------------------------------------------------------------\n",
      "Ran 2 tests in 0.319s\n",
      "\n",
      "OK\n"
     ]
    }
   ],
   "source": [
    "import unittest\n",
    "import pandas as pd\n",
    "import import_ipynb\n",
    "import pandas.testing as pd_testing\n",
    "\n",
    "class Test(unittest.TestCase):\n",
    "    def setUp(self):\n",
    "        import Exercise04_02\n",
    "        self.exercises = Exercise04_02\n",
    "\n",
    "        self.file_url = 'https://raw.githubusercontent.com/PacktWorkshops/The-Pandas-Workshop/master/Chapter04/Data/retail_purchase_missing.csv'\n",
    "        self.data_frame = pd.read_csv(self.file_url)\n",
    "\n",
    "    def test_file_url(self):\n",
    "        self.assertEqual(self.exercises.file_url, self.file_url)\n",
    "        \n",
    "    def test_df(self):\n",
    "        self.data_frame.fillna(value = {'Receipt Id': 0, 'Product Weight': 0, 'Total Price': 0}, inplace= True)\n",
    "        self.data_frame['Date of Purchase'].fillna('01/01/99',inplace = True)\n",
    "        self.data_frame.fillna(value = {'Product Name': 'Missing Name', 'Retail shop name': 'Missing Name'}, inplace= True)\n",
    "        self.data_frame['Date of Purchase'] = pd.to_datetime(self.data_frame['Date of Purchase'], format='%d/%m/%y')\n",
    "        self.data_frame['Receipt Id'] = self.data_frame['Receipt Id'].astype('int')\n",
    "        self.data_frame['Total Price'] = self.data_frame['Total Price'].astype('int')\n",
    "        self.data_frame['Product Weight'] = self.data_frame['Product Weight'].astype('int')\n",
    "        self.data_frame['Product Name'] = self.data_frame['Product Name'].astype('category')\n",
    "        self.data_frame['Retail shop name'] = self.data_frame['Retail shop name'].astype('category')\n",
    "        pd_testing.assert_frame_equal(self.exercises.data_frame, self.data_frame)\n",
    "\n",
    "if __name__ == '__main__':\n",
    "    unittest.main(argv=['first-arg-is-ignored'], exit=False)\n"
   ]
  }
 ],
 "metadata": {
  "kernelspec": {
   "display_name": "Python 3",
   "language": "python",
   "name": "python3"
  },
  "language_info": {
   "codemirror_mode": {
    "name": "ipython",
    "version": 3
   },
   "file_extension": ".py",
   "mimetype": "text/x-python",
   "name": "python",
   "nbconvert_exporter": "python",
   "pygments_lexer": "ipython3",
   "version": "3.7.6"
  }
 },
 "nbformat": 4,
 "nbformat_minor": 4
}
