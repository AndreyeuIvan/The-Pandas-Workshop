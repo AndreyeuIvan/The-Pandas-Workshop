{
 "cells": [
  {
   "cell_type": "code",
   "execution_count": 1,
   "metadata": {},
   "outputs": [],
   "source": [
    "#\n",
    "# required libraries\n",
    "#\n",
    "import pandas as pd\n",
    "#"
   ]
  },
  {
   "cell_type": "code",
   "execution_count": 2,
   "metadata": {},
   "outputs": [
    {
     "data": {
      "text/plain": [
       "fruit\n",
       "orange    149\n",
       "apple      98\n",
       "orange     69\n",
       "peach     103\n",
       "peach     124\n",
       "orange     81\n",
       "pear      144\n",
       "orange     67\n",
       "peach     113\n",
       "peach     127\n",
       "Name: qty_ordered, dtype: int64"
      ]
     },
     "execution_count": 2,
     "metadata": {},
     "output_type": "execute_result"
    }
   ],
   "source": [
    "#\n",
    "fruit_orders = pd.read_csv('../Datasets/fruit_orders.csv', \n",
    "                          index_col = 0,\n",
    "                          squeeze = True)\n",
    "fruit_orders.head(10)"
   ]
  },
  {
   "cell_type": "code",
   "execution_count": 3,
   "metadata": {},
   "outputs": [
    {
     "name": "stdout",
     "output_type": "stream",
     "text": [
      "the total number apples orders this week is: 1175\n"
     ]
    }
   ],
   "source": [
    "#\n",
    "# get the total number of apples\n",
    "#\n",
    "apples = sum(fruit_orders['apple'])\n",
    "print('the total number apples orders this week is:', apples)\n",
    "#"
   ]
  },
  {
   "cell_type": "code",
   "execution_count": 5,
   "metadata": {},
   "outputs": [
    {
     "name": "stdout",
     "output_type": "stream",
     "text": [
      "there are more oranges (1125) ordered than peaches (1011)\n"
     ]
    }
   ],
   "source": [
    "#\n",
    "# which are more, oranges or peaches?\n",
    "#\n",
    "oranges = sum(fruit_orders['orange'])\n",
    "peaches = sum(fruit_orders['peach'])\n",
    "#\n",
    "if oranges > peaches:\n",
    "    print('there are more oranges (' + str(oranges) + \n",
    "          ') ordered than peaches (' + str(peaches) + ')')\n",
    "elif peaches > oranges:\n",
    "    print('there are more peaches (' + str(peaches) +\n",
    "          ') ordered than oranges (' + str(oranges) + ')')\n",
    "else:\n",
    "    print('there are the same number of orders for peaches and oranges')\n",
    "#    "
   ]
  },
  {
   "cell_type": "code",
   "execution_count": 5,
   "metadata": {},
   "outputs": [],
   "source": [
    "#\n",
    "# create a series with all the pears and peaches\n",
    "#\n",
    "p_fruits_1 = pd.concat([fruit_orders['pear'], fruit_orders['peach']])\n",
    "#\n",
    "# create an equivalent series using a list comprehension\n",
    "#\n",
    "p_fruits_2 = \\\n",
    "pd.Series(fruit_orders[[i \n",
    "                        for i in range(len(fruit_orders)) \n",
    "                        if fruit_orders.index[i].startswith('p')]])\n",
    "#"
   ]
  },
  {
   "cell_type": "code",
   "execution_count": 6,
   "metadata": {},
   "outputs": [
    {
     "name": "stdout",
     "output_type": "stream",
     "text": [
      "fruit\n",
      "pear     144\n",
      "pear      50\n",
      "pear      47\n",
      "pear     101\n",
      "pear      60\n",
      "pear     127\n",
      "pear      61\n",
      "pear      65\n",
      "pear     146\n",
      "pear      98\n",
      "pear      70\n",
      "pear      74\n",
      "peach    103\n",
      "peach    124\n",
      "peach    113\n",
      "peach    127\n",
      "peach    108\n",
      "peach    126\n",
      "peach     30\n",
      "peach     61\n",
      "peach     39\n",
      "peach     55\n",
      "peach     87\n",
      "peach     38\n",
      "Name: qty_ordered, dtype: int64\n",
      "fruit\n",
      "peach    103\n",
      "peach    124\n",
      "pear     144\n",
      "peach    113\n",
      "peach    127\n",
      "pear      50\n",
      "peach    108\n",
      "pear      47\n",
      "peach    126\n",
      "pear     101\n",
      "pear      60\n",
      "peach     30\n",
      "peach     61\n",
      "peach     39\n",
      "peach     55\n",
      "pear     127\n",
      "pear      61\n",
      "pear      65\n",
      "pear     146\n",
      "pear      98\n",
      "pear      70\n",
      "pear      74\n",
      "peach     87\n",
      "peach     38\n",
      "Name: qty_ordered, dtype: int64\n"
     ]
    }
   ],
   "source": [
    "#\n",
    "# print out both Series and compare\n",
    "#\n",
    "print(p_fruits_1)\n",
    "print(p_fruits_2)"
   ]
  },
  {
   "cell_type": "code",
   "execution_count": null,
   "metadata": {},
   "outputs": [],
   "source": []
  }
 ],
 "metadata": {
  "kernelspec": {
   "display_name": "Python 3",
   "language": "python",
   "name": "python3"
  },
  "language_info": {
   "codemirror_mode": {
    "name": "ipython",
    "version": 3
   },
   "file_extension": ".py",
   "mimetype": "text/x-python",
   "name": "python",
   "nbconvert_exporter": "python",
   "pygments_lexer": "ipython3",
   "version": "3.8.10"
  },
  "toc": {
   "base_numbering": 1,
   "nav_menu": {},
   "number_sections": true,
   "sideBar": true,
   "skip_h1_title": false,
   "title_cell": "Table of Contents",
   "title_sidebar": "Contents",
   "toc_cell": false,
   "toc_position": {
    "height": "calc(100% - 180px)",
    "left": "10px",
    "top": "150px",
    "width": "202.927px"
   },
   "toc_section_display": true,
   "toc_window_display": true
  },
  "varInspector": {
   "cols": {
    "lenName": 16,
    "lenType": 16,
    "lenVar": 40
   },
   "kernels_config": {
    "python": {
     "delete_cmd_postfix": "",
     "delete_cmd_prefix": "del ",
     "library": "var_list.py",
     "varRefreshCmd": "print(var_dic_list())"
    },
    "r": {
     "delete_cmd_postfix": ") ",
     "delete_cmd_prefix": "rm(",
     "library": "var_list.r",
     "varRefreshCmd": "cat(var_dic_list()) "
    }
   },
   "types_to_exclude": [
    "module",
    "function",
    "builtin_function_or_method",
    "instance",
    "_Feature"
   ],
   "window_display": false
  }
 },
 "nbformat": 4,
 "nbformat_minor": 4
}
