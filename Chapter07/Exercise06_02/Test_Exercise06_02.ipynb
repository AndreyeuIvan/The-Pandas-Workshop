{
 "cells": [
  {
   "cell_type": "code",
   "execution_count": 1,
   "metadata": {},
   "outputs": [
    {
     "name": "stdout",
     "output_type": "stream",
     "text": [
      "importing Jupyter notebook from Exercise06_02.ipynb\n"
     ]
    },
    {
     "name": "stderr",
     "output_type": "stream",
     "text": [
      "..\n",
      "----------------------------------------------------------------------\n",
      "Ran 2 tests in 0.584s\n",
      "\n",
      "OK\n"
     ]
    }
   ],
   "source": [
    "import unittest\n",
    "import pandas as pd\n",
    "import import_ipynb\n",
    "import pandas.testing as pd_testing\n",
    "\n",
    "class Test(unittest.TestCase):\n",
    "    def setUp(self):\n",
    "        import Exercise06_02\n",
    "        self.exercises = Exercise06_02\n",
    "\n",
    "        self.file_url_2018 = 'https://raw.githubusercontent.com/PacktWorkshops/The-Pandas-Workshop/master/Chapter06/Data/store_sales_demographics_2018.csv'\n",
    "        self.file_url_2019 = 'https://raw.githubusercontent.com/PacktWorkshops/The-Pandas-Workshop/master/Chapter06/Data/store_sales_demographics_2019.csv'\n",
    "\n",
    "        self.data_frame_2018 = pd.read_csv(self.file_url_2018)\n",
    "        self.data_frame_2019 = pd.read_csv(self.file_url_2019)\n",
    "\n",
    "\n",
    "    def test_file_url(self):\n",
    "        self.assertEqual(self.exercises.file_url_2018, self.file_url_2018)\n",
    "        self.assertEqual(self.exercises.file_url_2019, self.file_url_2019)\n",
    "        \n",
    "    def test_df(self):\n",
    "        self.data_frame_2018[\"year\"] = 2018\n",
    "        self.data_frame_2019[\"year\"] = 2019\n",
    "        self.data_frame = pd.concat([self.data_frame_2018, self.data_frame_2019])\n",
    "        self.data_frame = self.data_frame.melt(id_vars=[\"year\", \"store_id\"],var_name=[\"demographic\"],value_name=\"sales\")\n",
    "        self.data_frame['gender'] = self.data_frame.demographic.str[0].astype(str)\n",
    "        self.data_frame['age_group'] = self.data_frame.demographic.str[1:].astype(str)\n",
    "        self.data_frame.drop('demographic', axis=1, inplace=True)\n",
    "        self.data_frame = self.data_frame.sort_values(by=['year', 'store_id', 'gender'])\n",
    "        self.data_frame = self.data_frame[[\"store_id\", \"age_group\", \"gender\", \"year\", \"sales\"]]\n",
    "        self.data_frame = self.data_frame.reset_index(drop = True)\n",
    "        pd_testing.assert_frame_equal(self.exercises.data_frame, self.data_frame)\n",
    "\n",
    "if __name__ == '__main__':\n",
    "    unittest.main(argv=['first-arg-is-ignored'], exit=False)\n"
   ]
  }
 ],
 "metadata": {
  "kernelspec": {
   "display_name": "Python 3",
   "language": "python",
   "name": "python3"
  },
  "language_info": {
   "codemirror_mode": {
    "name": "ipython",
    "version": 3
   },
   "file_extension": ".py",
   "mimetype": "text/x-python",
   "name": "python",
   "nbconvert_exporter": "python",
   "pygments_lexer": "ipython3",
   "version": "3.7.6"
  }
 },
 "nbformat": 4,
 "nbformat_minor": 4
}
