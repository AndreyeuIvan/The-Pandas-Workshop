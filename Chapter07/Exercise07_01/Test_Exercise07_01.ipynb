{
 "cells": [
  {
   "cell_type": "code",
   "execution_count": 1,
   "metadata": {},
   "outputs": [
    {
     "name": "stdout",
     "output_type": "stream",
     "text": [
      "importing Jupyter notebook from Exercise06_01.ipynb\n"
     ]
    },
    {
     "name": "stderr",
     "output_type": "stream",
     "text": [
      "..\n",
      "----------------------------------------------------------------------\n",
      "Ran 2 tests in 0.314s\n",
      "\n",
      "OK\n"
     ]
    }
   ],
   "source": [
    "import unittest\n",
    "import pandas as pd\n",
    "import import_ipynb\n",
    "import pandas.testing as pd_testing\n",
    "\n",
    "class Test(unittest.TestCase):\n",
    "    def setUp(self):\n",
    "        import Exercise06_01\n",
    "        self.exercises = Exercise06_01\n",
    "\n",
    "        self.file_url = 'https://raw.githubusercontent.com/PacktWorkshops/The-Pandas-Workshop/master/Chapter06/Data/messy_addresses.csv'\n",
    "        self.data_frame = pd.read_csv(self.file_url, header=None)\n",
    "\n",
    "    def test_file_url(self):\n",
    "        self.assertEqual(self.exercises.file_url, self.file_url)\n",
    "        \n",
    "    def test_df(self):\n",
    "        self.data_frame.drop([2,3], axis=1, inplace=True)\n",
    "        self.column_names = [\"full_name\", \"address\"]\n",
    "        self.data_frame.columns = [\"full_name\", \"address\"]\n",
    "        self.data_frame[['first_name','last_name']]=self.data_frame.full_name.str.split(expand=True)\n",
    "        self.data_frame.drop('full_name', axis=1, inplace=True)\n",
    "        self.data_frame[['street', 'city','state']] = self.data_frame.address.str.split(pat = \", \", expand=True)\n",
    "        self.data_frame.drop('address', axis=1, inplace=True)\n",
    "        pd_testing.assert_frame_equal(self.exercises.data_frame, self.data_frame)\n",
    "    \n",
    "    \n",
    "\n",
    "if __name__ == '__main__':\n",
    "    unittest.main(argv=['first-arg-is-ignored'], exit=False)\n"
   ]
  }
 ],
 "metadata": {
  "kernelspec": {
   "display_name": "Python 3",
   "language": "python",
   "name": "python3"
  },
  "language_info": {
   "codemirror_mode": {
    "name": "ipython",
    "version": 3
   },
   "file_extension": ".py",
   "mimetype": "text/x-python",
   "name": "python",
   "nbconvert_exporter": "python",
   "pygments_lexer": "ipython3",
   "version": "3.7.6"
  }
 },
 "nbformat": 4,
 "nbformat_minor": 4
}
