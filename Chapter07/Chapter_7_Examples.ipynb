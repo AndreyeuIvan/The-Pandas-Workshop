{
 "cells": [
  {
   "cell_type": "code",
   "execution_count": null,
   "metadata": {
    "colab": {
     "base_uri": "https://localhost:8080/",
     "height": 136
    },
    "colab_type": "code",
    "id": "6WNKArxYn0F6",
    "outputId": "4f5a4f97-1f56-41cc-ef94-d50e8c19b49c"
   },
   "outputs": [],
   "source": [
    "!pip install matplotlib"
   ]
  },
  {
   "cell_type": "code",
   "execution_count": 1,
   "metadata": {
    "colab": {
     "base_uri": "https://localhost:8080/",
     "height": 34
    },
    "colab_type": "code",
    "id": "QlO-19uAVGIN",
    "outputId": "b04cac30-a7a7-4904-e124-1fe42d00726d"
   },
   "outputs": [
    {
     "data": {
      "text/html": [
       "<div>\n",
       "<style scoped>\n",
       "    .dataframe tbody tr th:only-of-type {\n",
       "        vertical-align: middle;\n",
       "    }\n",
       "\n",
       "    .dataframe tbody tr th {\n",
       "        vertical-align: top;\n",
       "    }\n",
       "\n",
       "    .dataframe thead th {\n",
       "        text-align: right;\n",
       "    }\n",
       "</style>\n",
       "<table border=\"1\" class=\"dataframe\">\n",
       "  <thead>\n",
       "    <tr style=\"text-align: right;\">\n",
       "      <th></th>\n",
       "      <th>Year</th>\n",
       "      <th>Sales</th>\n",
       "    </tr>\n",
       "  </thead>\n",
       "  <tbody>\n",
       "    <tr>\n",
       "      <th>0</th>\n",
       "      <td>2000</td>\n",
       "      <td>4107</td>\n",
       "    </tr>\n",
       "    <tr>\n",
       "      <th>1</th>\n",
       "      <td>2001</td>\n",
       "      <td>6492</td>\n",
       "    </tr>\n",
       "    <tr>\n",
       "      <th>2</th>\n",
       "      <td>2002</td>\n",
       "      <td>1476</td>\n",
       "    </tr>\n",
       "    <tr>\n",
       "      <th>3</th>\n",
       "      <td>2003</td>\n",
       "      <td>8508</td>\n",
       "    </tr>\n",
       "    <tr>\n",
       "      <th>4</th>\n",
       "      <td>2004</td>\n",
       "      <td>7416</td>\n",
       "    </tr>\n",
       "    <tr>\n",
       "      <th>5</th>\n",
       "      <td>2005</td>\n",
       "      <td>2747</td>\n",
       "    </tr>\n",
       "    <tr>\n",
       "      <th>6</th>\n",
       "      <td>2006</td>\n",
       "      <td>1606</td>\n",
       "    </tr>\n",
       "    <tr>\n",
       "      <th>7</th>\n",
       "      <td>2007</td>\n",
       "      <td>7947</td>\n",
       "    </tr>\n",
       "    <tr>\n",
       "      <th>8</th>\n",
       "      <td>2008</td>\n",
       "      <td>9506</td>\n",
       "    </tr>\n",
       "    <tr>\n",
       "      <th>9</th>\n",
       "      <td>2009</td>\n",
       "      <td>5441</td>\n",
       "    </tr>\n",
       "    <tr>\n",
       "      <th>10</th>\n",
       "      <td>2010</td>\n",
       "      <td>7617</td>\n",
       "    </tr>\n",
       "    <tr>\n",
       "      <th>11</th>\n",
       "      <td>2011</td>\n",
       "      <td>847</td>\n",
       "    </tr>\n",
       "    <tr>\n",
       "      <th>12</th>\n",
       "      <td>2012</td>\n",
       "      <td>4389</td>\n",
       "    </tr>\n",
       "    <tr>\n",
       "      <th>13</th>\n",
       "      <td>2013</td>\n",
       "      <td>3139</td>\n",
       "    </tr>\n",
       "    <tr>\n",
       "      <th>14</th>\n",
       "      <td>2014</td>\n",
       "      <td>7546</td>\n",
       "    </tr>\n",
       "    <tr>\n",
       "      <th>15</th>\n",
       "      <td>2015</td>\n",
       "      <td>3150</td>\n",
       "    </tr>\n",
       "    <tr>\n",
       "      <th>16</th>\n",
       "      <td>2016</td>\n",
       "      <td>4426</td>\n",
       "    </tr>\n",
       "    <tr>\n",
       "      <th>17</th>\n",
       "      <td>2017</td>\n",
       "      <td>4969</td>\n",
       "    </tr>\n",
       "    <tr>\n",
       "      <th>18</th>\n",
       "      <td>2018</td>\n",
       "      <td>8457</td>\n",
       "    </tr>\n",
       "    <tr>\n",
       "      <th>19</th>\n",
       "      <td>2019</td>\n",
       "      <td>5491</td>\n",
       "    </tr>\n",
       "  </tbody>\n",
       "</table>\n",
       "</div>"
      ],
      "text/plain": [
       "    Year  Sales\n",
       "0   2000   4107\n",
       "1   2001   6492\n",
       "2   2002   1476\n",
       "3   2003   8508\n",
       "4   2004   7416\n",
       "5   2005   2747\n",
       "6   2006   1606\n",
       "7   2007   7947\n",
       "8   2008   9506\n",
       "9   2009   5441\n",
       "10  2010   7617\n",
       "11  2011    847\n",
       "12  2012   4389\n",
       "13  2013   3139\n",
       "14  2014   7546\n",
       "15  2015   3150\n",
       "16  2016   4426\n",
       "17  2017   4969\n",
       "18  2018   8457\n",
       "19  2019   5491"
      ]
     },
     "execution_count": 1,
     "metadata": {},
     "output_type": "execute_result"
    }
   ],
   "source": [
    "# Importing pandas and numpy libraries\n",
    "import pandas as pd\n",
    "import numpy as np\n",
    "import matplotlib.pyplot as plt\n",
    "\n",
    "\n",
    "# Defining a DataFrame\n",
    "data_frame = pd.DataFrame({\n",
    "    'Year':['2000','2001','2002','2003','2004','2005','2006','2007','2008','2009',\n",
    "            '2010','2011','2012','2013','2014','2015','2016','2017','2018','2019'],\n",
    "    'Sales':[4107,6492,1476,8508,7416,2747,1606,7947,9506,5441,7617,847,4389,3139,7546,3150,4426,4969,8457,5491]})\n",
    "\n",
    "# Display DataFrame values\n",
    "data_frame"
   ]
  },
  {
   "cell_type": "code",
   "execution_count": null,
   "metadata": {},
   "outputs": [],
   "source": [
    "data_frame.plot()"
   ]
  },
  {
   "cell_type": "code",
   "execution_count": null,
   "metadata": {},
   "outputs": [],
   "source": [
    "data_frame.plot(x = 'Year')"
   ]
  },
  {
   "cell_type": "code",
   "execution_count": null,
   "metadata": {},
   "outputs": [],
   "source": [
    "data_frame.plot(x = 'Year')\n",
    "plt.show()"
   ]
  },
  {
   "cell_type": "code",
   "execution_count": null,
   "metadata": {
    "scrolled": true
   },
   "outputs": [],
   "source": [
    "data_frame.plot(x = 'Year', title = 'Yearly Sales')\n",
    "plt.show()"
   ]
  },
  {
   "cell_type": "code",
   "execution_count": null,
   "metadata": {},
   "outputs": [],
   "source": [
    "data_frame.plot(x = 'Year', title = 'Yearly Sales', legend = False)\n",
    "plt.show()"
   ]
  },
  {
   "cell_type": "code",
   "execution_count": null,
   "metadata": {},
   "outputs": [],
   "source": [
    "data_frame.plot(x = 'Year', title = 'Yearly Sales', grid = True)\n",
    "plt.show()"
   ]
  },
  {
   "cell_type": "code",
   "execution_count": null,
   "metadata": {},
   "outputs": [],
   "source": [
    "data_frame.plot(x = 'Year', title = 'Yearly Sales', grid = True, color = 'tab:orange')\n",
    "plt.show()"
   ]
  },
  {
   "cell_type": "code",
   "execution_count": null,
   "metadata": {},
   "outputs": [],
   "source": [
    "data_frame.plot(x = 'Year', title = 'Yearly Sales', grid = True, color = 'tab:orange', linestyle = 'dotted')\n",
    "plt.show()"
   ]
  },
  {
   "cell_type": "code",
   "execution_count": null,
   "metadata": {},
   "outputs": [],
   "source": [
    "data_frame.plot(x = 'Year', title = 'Yearly Sales', grid = True, color = 'tab:orange', linestyle = 'dashed')\n",
    "plt.show()"
   ]
  },
  {
   "cell_type": "code",
   "execution_count": null,
   "metadata": {},
   "outputs": [],
   "source": [
    "data_frame.plot(kind = 'bar', x = 'Year', y ='Sales', title = 'Yearly Sales', color = 'tab:orange')\n",
    "plt.show()"
   ]
  },
  {
   "cell_type": "code",
   "execution_count": null,
   "metadata": {},
   "outputs": [],
   "source": [
    "data_frame.plot(kind = 'barh', x = 'Year', title = 'Yearly Sales', color = 'tab:orange')\n",
    "plt.show()"
   ]
  },
  {
   "cell_type": "code",
   "execution_count": null,
   "metadata": {},
   "outputs": [],
   "source": [
    "data_frame.plot(kind = 'area', x = 'Year', title = 'Yearly Sales', color = 'tab:orange')\n",
    "plt.show()"
   ]
  },
  {
   "cell_type": "code",
   "execution_count": null,
   "metadata": {},
   "outputs": [],
   "source": [
    "# Set up the random seed\n",
    "np.random.seed(8)\n",
    "\n",
    "# Defining a DataFrame\n",
    "data_frame = pd.DataFrame(np.random.randint(1, 7, 600),columns = ['output'])\n",
    "\n",
    "# Display DataFrame values\n",
    "data_frame"
   ]
  },
  {
   "cell_type": "code",
   "execution_count": null,
   "metadata": {},
   "outputs": [],
   "source": [
    "data_frame.plot(kind = 'hist')\n",
    "plt.show()"
   ]
  },
  {
   "cell_type": "code",
   "execution_count": null,
   "metadata": {},
   "outputs": [],
   "source": [
    "data_frame.plot(kind = 'hist', bins = 11)\n",
    "plt.show()"
   ]
  },
  {
   "cell_type": "code",
   "execution_count": null,
   "metadata": {},
   "outputs": [],
   "source": [
    "# Importing libraries\n",
    "import pandas as pd\n",
    "import numpy as np\n",
    "import matplotlib.pyplot as plt\n",
    " \n",
    "# Defining a DataFrame\n",
    "data_frame = pd.DataFrame({\n",
    "    'Year':['2010','2011','2012','2013','2014','2015','2016','2017','2018','2019'],\n",
    "    'Sales':[4107,1606,7947,9506,5441,7617,8437,4389,3139,7546]})\n",
    " \n",
    "# Display DataFrame values\n",
    "data_frame"
   ]
  },
  {
   "cell_type": "code",
   "execution_count": null,
   "metadata": {},
   "outputs": [],
   "source": [
    "plt.plot(data_frame['Sales'])\n",
    "plt.plot"
   ]
  },
  {
   "cell_type": "code",
   "execution_count": null,
   "metadata": {},
   "outputs": [],
   "source": [
    "plt.figure(figsize=(10, 6))\n",
    "plt.plot(data_frame['Year'], data_frame['Sales'])\n",
    "plt.show()"
   ]
  },
  {
   "cell_type": "code",
   "execution_count": null,
   "metadata": {},
   "outputs": [],
   "source": [
    "x = data_frame['Year']\n",
    "y = data_frame['Sales']\n",
    "plt.plot(x, y)\n",
    "plt.show()"
   ]
  },
  {
   "cell_type": "code",
   "execution_count": null,
   "metadata": {},
   "outputs": [],
   "source": [
    "x = data_frame['Year']\n",
    "y = data_frame['Sales']\n",
    "plt.plot(x, y)\n",
    "plt.title('Yearly Sales')\n",
    "plt.xlabel('Years')\n",
    "plt.ylabel('Sales in Units')\n",
    "plt.show()"
   ]
  },
  {
   "cell_type": "code",
   "execution_count": null,
   "metadata": {},
   "outputs": [],
   "source": [
    "x = data_frame['Year']\n",
    "y = data_frame['Sales']\n",
    "plt.plot(x, y, color = 'tab:red')\n",
    "plt.title('Yearly Sales')\n",
    "plt.xlabel('Years')\n",
    "plt.ylabel('Sales in Units')\n",
    "plt.show()"
   ]
  },
  {
   "cell_type": "code",
   "execution_count": null,
   "metadata": {},
   "outputs": [],
   "source": [
    "x = data_frame['Year']\n",
    "y = data_frame['Sales']\n",
    "plt.plot(x, y, color = 'tab:red', linewidth = 5)\n",
    "plt.title('Yearly Sales')\n",
    "plt.xlabel('Years')\n",
    "plt.ylabel('Sales in Units')\n",
    "plt.show()"
   ]
  },
  {
   "cell_type": "code",
   "execution_count": null,
   "metadata": {},
   "outputs": [],
   "source": [
    "x = data_frame['Year']\n",
    "y = data_frame['Sales']\n",
    "plt.plot(x, y, color = 'tab:red', linewidth = 2, linestyle = '--')\n",
    "plt.title('Yearly Sales')\n",
    "plt.xlabel('Years')\n",
    "plt.ylabel('Sales in Units')\n",
    "plt.show()"
   ]
  },
  {
   "cell_type": "code",
   "execution_count": null,
   "metadata": {},
   "outputs": [],
   "source": [
    "x = data_frame['Year']\n",
    "y = data_frame['Sales']\n",
    "plt.plot(x, y, color = 'tab:red', linewidth = 2, linestyle = '--', marker='o')\n",
    "plt.title('Yearly Sales')\n",
    "plt.xlabel('Years')\n",
    "plt.ylabel('Sales in Units')\n",
    "plt.show()"
   ]
  },
  {
   "cell_type": "code",
   "execution_count": 2,
   "metadata": {
    "colab": {
     "base_uri": "https://localhost:8080/",
     "height": 255
    },
    "colab_type": "code",
    "id": "dDYyclqDI4Kz",
    "outputId": "2000e658-83af-405f-d8c8-5278e952c194"
   },
   "outputs": [
    {
     "data": {
      "text/html": [
       "<div>\n",
       "<style scoped>\n",
       "    .dataframe tbody tr th:only-of-type {\n",
       "        vertical-align: middle;\n",
       "    }\n",
       "\n",
       "    .dataframe tbody tr th {\n",
       "        vertical-align: top;\n",
       "    }\n",
       "\n",
       "    .dataframe thead th {\n",
       "        text-align: right;\n",
       "    }\n",
       "</style>\n",
       "<table border=\"1\" class=\"dataframe\">\n",
       "  <thead>\n",
       "    <tr style=\"text-align: right;\">\n",
       "      <th></th>\n",
       "      <th>Height</th>\n",
       "      <th>Weight</th>\n",
       "    </tr>\n",
       "  </thead>\n",
       "  <tbody>\n",
       "    <tr>\n",
       "      <th>0</th>\n",
       "      <td>67</td>\n",
       "      <td>175</td>\n",
       "    </tr>\n",
       "    <tr>\n",
       "      <th>1</th>\n",
       "      <td>75</td>\n",
       "      <td>208</td>\n",
       "    </tr>\n",
       "    <tr>\n",
       "      <th>2</th>\n",
       "      <td>119</td>\n",
       "      <td>159</td>\n",
       "    </tr>\n",
       "    <tr>\n",
       "      <th>3</th>\n",
       "      <td>69</td>\n",
       "      <td>159</td>\n",
       "    </tr>\n",
       "    <tr>\n",
       "      <th>4</th>\n",
       "      <td>106</td>\n",
       "      <td>178</td>\n",
       "    </tr>\n",
       "    <tr>\n",
       "      <th>5</th>\n",
       "      <td>111</td>\n",
       "      <td>179</td>\n",
       "    </tr>\n",
       "    <tr>\n",
       "      <th>6</th>\n",
       "      <td>120</td>\n",
       "      <td>168</td>\n",
       "    </tr>\n",
       "    <tr>\n",
       "      <th>7</th>\n",
       "      <td>80</td>\n",
       "      <td>198</td>\n",
       "    </tr>\n",
       "    <tr>\n",
       "      <th>8</th>\n",
       "      <td>108</td>\n",
       "      <td>155</td>\n",
       "    </tr>\n",
       "    <tr>\n",
       "      <th>9</th>\n",
       "      <td>100</td>\n",
       "      <td>165</td>\n",
       "    </tr>\n",
       "    <tr>\n",
       "      <th>10</th>\n",
       "      <td>79</td>\n",
       "      <td>195</td>\n",
       "    </tr>\n",
       "    <tr>\n",
       "      <th>11</th>\n",
       "      <td>53</td>\n",
       "      <td>203</td>\n",
       "    </tr>\n",
       "    <tr>\n",
       "      <th>12</th>\n",
       "      <td>75</td>\n",
       "      <td>190</td>\n",
       "    </tr>\n",
       "    <tr>\n",
       "      <th>13</th>\n",
       "      <td>89</td>\n",
       "      <td>157</td>\n",
       "    </tr>\n",
       "    <tr>\n",
       "      <th>14</th>\n",
       "      <td>120</td>\n",
       "      <td>153</td>\n",
       "    </tr>\n",
       "    <tr>\n",
       "      <th>15</th>\n",
       "      <td>67</td>\n",
       "      <td>194</td>\n",
       "    </tr>\n",
       "    <tr>\n",
       "      <th>16</th>\n",
       "      <td>70</td>\n",
       "      <td>177</td>\n",
       "    </tr>\n",
       "    <tr>\n",
       "      <th>17</th>\n",
       "      <td>77</td>\n",
       "      <td>184</td>\n",
       "    </tr>\n",
       "    <tr>\n",
       "      <th>18</th>\n",
       "      <td>65</td>\n",
       "      <td>170</td>\n",
       "    </tr>\n",
       "    <tr>\n",
       "      <th>19</th>\n",
       "      <td>71</td>\n",
       "      <td>158</td>\n",
       "    </tr>\n",
       "  </tbody>\n",
       "</table>\n",
       "</div>"
      ],
      "text/plain": [
       "    Height  Weight\n",
       "0       67     175\n",
       "1       75     208\n",
       "2      119     159\n",
       "3       69     159\n",
       "4      106     178\n",
       "5      111     179\n",
       "6      120     168\n",
       "7       80     198\n",
       "8      108     155\n",
       "9      100     165\n",
       "10      79     195\n",
       "11      53     203\n",
       "12      75     190\n",
       "13      89     157\n",
       "14     120     153\n",
       "15      67     194\n",
       "16      70     177\n",
       "17      77     184\n",
       "18      65     170\n",
       "19      71     158"
      ]
     },
     "execution_count": 2,
     "metadata": {},
     "output_type": "execute_result"
    }
   ],
   "source": [
    "# Importing libraries\n",
    "import pandas as pd\n",
    "import numpy as np\n",
    "import matplotlib.pyplot as plt\n",
    " \n",
    "# Defining a DataFrame\n",
    "data_frame = data_frame = pd.DataFrame({\n",
    "'Height':[67,75,119,69,106,111,120,80,108,100,79,53,75,89,120,67,70,77,65,71],\n",
    "'Weight':[175,208,159,159,178,179,168,198,155,165,195,203,190,157,153,194,177,184,170,158]})\n",
    "\n",
    "# Display DataFrame values\n",
    "data_frame"
   ]
  },
  {
   "cell_type": "code",
   "execution_count": 9,
   "metadata": {},
   "outputs": [
    {
     "data": {
      "image/png": "[encoded data removed]",
      "text/plain": [
       "<Figure size 432x288 with 1 Axes>"
      ]
     },
     "metadata": {
      "needs_background": "light"
     },
     "output_type": "display_data"
    }
   ],
   "source": [
    "data_frame.plot(kind=\"scatter\", x = 'Height', y = 'Weight')\n",
    "plt.show()"
   ]
  },
  {
   "cell_type": "code",
   "execution_count": 35,
   "metadata": {},
   "outputs": [
    {
     "data": {
      "text/html": [
       "<div>\n",
       "<style scoped>\n",
       "    .dataframe tbody tr th:only-of-type {\n",
       "        vertical-align: middle;\n",
       "    }\n",
       "\n",
       "    .dataframe tbody tr th {\n",
       "        vertical-align: top;\n",
       "    }\n",
       "\n",
       "    .dataframe thead th {\n",
       "        text-align: right;\n",
       "    }\n",
       "</style>\n",
       "<table border=\"1\" class=\"dataframe\">\n",
       "  <thead>\n",
       "    <tr style=\"text-align: right;\">\n",
       "      <th></th>\n",
       "      <th>Brand</th>\n",
       "      <th>Sales</th>\n",
       "    </tr>\n",
       "  </thead>\n",
       "  <tbody>\n",
       "    <tr>\n",
       "      <th>0</th>\n",
       "      <td>1</td>\n",
       "      <td>1725</td>\n",
       "    </tr>\n",
       "    <tr>\n",
       "      <th>1</th>\n",
       "      <td>2</td>\n",
       "      <td>218</td>\n",
       "    </tr>\n",
       "    <tr>\n",
       "      <th>2</th>\n",
       "      <td>3</td>\n",
       "      <td>1459</td>\n",
       "    </tr>\n",
       "    <tr>\n",
       "      <th>3</th>\n",
       "      <td>4</td>\n",
       "      <td>185</td>\n",
       "    </tr>\n",
       "    <tr>\n",
       "      <th>4</th>\n",
       "      <td>5</td>\n",
       "      <td>1778</td>\n",
       "    </tr>\n",
       "    <tr>\n",
       "      <th>5</th>\n",
       "      <td>6</td>\n",
       "      <td>179</td>\n",
       "    </tr>\n",
       "    <tr>\n",
       "      <th>6</th>\n",
       "      <td>7</td>\n",
       "      <td>1968</td>\n",
       "    </tr>\n",
       "    <tr>\n",
       "      <th>7</th>\n",
       "      <td>8</td>\n",
       "      <td>198</td>\n",
       "    </tr>\n",
       "    <tr>\n",
       "      <th>8</th>\n",
       "      <td>9</td>\n",
       "      <td>155</td>\n",
       "    </tr>\n",
       "    <tr>\n",
       "      <th>9</th>\n",
       "      <td>10</td>\n",
       "      <td>165</td>\n",
       "    </tr>\n",
       "  </tbody>\n",
       "</table>\n",
       "</div>"
      ],
      "text/plain": [
       "  Brand  Sales\n",
       "0     1   1725\n",
       "1     2    218\n",
       "2     3   1459\n",
       "3     4    185\n",
       "4     5   1778\n",
       "5     6    179\n",
       "6     7   1968\n",
       "7     8    198\n",
       "8     9    155\n",
       "9    10    165"
      ]
     },
     "execution_count": 35,
     "metadata": {},
     "output_type": "execute_result"
    }
   ],
   "source": [
    "# Importing libraries\n",
    "import pandas as pd\n",
    "import numpy as np\n",
    "import matplotlib.pyplot as plt\n",
    " \n",
    "# Defining a DataFrame\n",
    "data_frame = data_frame = pd.DataFrame({\n",
    "'Brand':['1','2','3','4','5','6','7','8','9','10'],\n",
    "'Sales':[1725,218,1459,185,1778,179,1968,198,155,165]})\n",
    "\n",
    "# Display DataFrame values\n",
    "data_frame"
   ]
  },
  {
   "cell_type": "code",
   "execution_count": 38,
   "metadata": {},
   "outputs": [
    {
     "data": {
      "image/png": "[encoded data removed]",
      "text/plain": [
       "<Figure size 432x288 with 1 Axes>"
      ]
     },
     "metadata": {},
     "output_type": "display_data"
    }
   ],
   "source": [
    "data_frame.plot(kind=\"pie\", y = 'Sales', legend = False)\n",
    "plt.show()"
   ]
  },
  {
   "cell_type": "code",
   "execution_count": 27,
   "metadata": {},
   "outputs": [
    {
     "data": {
      "text/html": [
       "<div>\n",
       "<style scoped>\n",
       "    .dataframe tbody tr th:only-of-type {\n",
       "        vertical-align: middle;\n",
       "    }\n",
       "\n",
       "    .dataframe tbody tr th {\n",
       "        vertical-align: top;\n",
       "    }\n",
       "\n",
       "    .dataframe thead th {\n",
       "        text-align: right;\n",
       "    }\n",
       "</style>\n",
       "<table border=\"1\" class=\"dataframe\">\n",
       "  <thead>\n",
       "    <tr style=\"text-align: right;\">\n",
       "      <th></th>\n",
       "      <th>Height</th>\n",
       "      <th>Gender</th>\n",
       "    </tr>\n",
       "  </thead>\n",
       "  <tbody>\n",
       "    <tr>\n",
       "      <th>0</th>\n",
       "      <td>175</td>\n",
       "      <td>F</td>\n",
       "    </tr>\n",
       "    <tr>\n",
       "      <th>1</th>\n",
       "      <td>208</td>\n",
       "      <td>M</td>\n",
       "    </tr>\n",
       "    <tr>\n",
       "      <th>2</th>\n",
       "      <td>159</td>\n",
       "      <td>F</td>\n",
       "    </tr>\n",
       "    <tr>\n",
       "      <th>3</th>\n",
       "      <td>130</td>\n",
       "      <td>F</td>\n",
       "    </tr>\n",
       "    <tr>\n",
       "      <th>4</th>\n",
       "      <td>178</td>\n",
       "      <td>M</td>\n",
       "    </tr>\n",
       "    <tr>\n",
       "      <th>5</th>\n",
       "      <td>179</td>\n",
       "      <td>M</td>\n",
       "    </tr>\n",
       "    <tr>\n",
       "      <th>6</th>\n",
       "      <td>168</td>\n",
       "      <td>F</td>\n",
       "    </tr>\n",
       "    <tr>\n",
       "      <th>7</th>\n",
       "      <td>100</td>\n",
       "      <td>M</td>\n",
       "    </tr>\n",
       "    <tr>\n",
       "      <th>8</th>\n",
       "      <td>155</td>\n",
       "      <td>F</td>\n",
       "    </tr>\n",
       "    <tr>\n",
       "      <th>9</th>\n",
       "      <td>165</td>\n",
       "      <td>F</td>\n",
       "    </tr>\n",
       "    <tr>\n",
       "      <th>10</th>\n",
       "      <td>195</td>\n",
       "      <td>M</td>\n",
       "    </tr>\n",
       "    <tr>\n",
       "      <th>11</th>\n",
       "      <td>250</td>\n",
       "      <td>M</td>\n",
       "    </tr>\n",
       "    <tr>\n",
       "      <th>12</th>\n",
       "      <td>190</td>\n",
       "      <td>F</td>\n",
       "    </tr>\n",
       "    <tr>\n",
       "      <th>13</th>\n",
       "      <td>157</td>\n",
       "      <td>M</td>\n",
       "    </tr>\n",
       "    <tr>\n",
       "      <th>14</th>\n",
       "      <td>153</td>\n",
       "      <td>M</td>\n",
       "    </tr>\n",
       "    <tr>\n",
       "      <th>15</th>\n",
       "      <td>194</td>\n",
       "      <td>M</td>\n",
       "    </tr>\n",
       "    <tr>\n",
       "      <th>16</th>\n",
       "      <td>177</td>\n",
       "      <td>F</td>\n",
       "    </tr>\n",
       "    <tr>\n",
       "      <th>17</th>\n",
       "      <td>184</td>\n",
       "      <td>M</td>\n",
       "    </tr>\n",
       "    <tr>\n",
       "      <th>18</th>\n",
       "      <td>170</td>\n",
       "      <td>M</td>\n",
       "    </tr>\n",
       "    <tr>\n",
       "      <th>19</th>\n",
       "      <td>210</td>\n",
       "      <td>F</td>\n",
       "    </tr>\n",
       "  </tbody>\n",
       "</table>\n",
       "</div>"
      ],
      "text/plain": [
       "    Height Gender\n",
       "0      175      F\n",
       "1      208      M\n",
       "2      159      F\n",
       "3      130      F\n",
       "4      178      M\n",
       "5      179      M\n",
       "6      168      F\n",
       "7      100      M\n",
       "8      155      F\n",
       "9      165      F\n",
       "10     195      M\n",
       "11     250      M\n",
       "12     190      F\n",
       "13     157      M\n",
       "14     153      M\n",
       "15     194      M\n",
       "16     177      F\n",
       "17     184      M\n",
       "18     170      M\n",
       "19     210      F"
      ]
     },
     "execution_count": 27,
     "metadata": {},
     "output_type": "execute_result"
    }
   ],
   "source": [
    "# Importing libraries\n",
    "import pandas as pd\n",
    "import numpy as np\n",
    "import matplotlib.pyplot as plt\n",
    "\n",
    "# Defining a DataFrame\n",
    "data_frame = data_frame = pd.DataFrame({\n",
    "'Height':[175,208,159,130,178,179,168,100,155,165,195,250,190,157,153,194,177,184,170,210],\n",
    "'Gender':['F','M','F','F','M','M','F','M','F','F','M','M','F','M','M','M','F','M','M','F']})\n",
    " \n",
    "# Display DataFrame values\n",
    "data_frame"
   ]
  },
  {
   "cell_type": "code",
   "execution_count": 30,
   "metadata": {},
   "outputs": [
    {
     "data": {
      "image/png": "[encoded data removed]",
      "text/plain": [
       "<Figure size 432x288 with 1 Axes>"
      ]
     },
     "metadata": {
      "needs_background": "light"
     },
     "output_type": "display_data"
    }
   ],
   "source": [
    "data_frame.boxplot(by=\"Gender\", column=\"Height\")\n",
    "plt.show()"
   ]
  },
  {
   "cell_type": "code",
   "execution_count": 68,
   "metadata": {},
   "outputs": [
    {
     "data": {
      "text/html": [
       "<div>\n",
       "<style scoped>\n",
       "    .dataframe tbody tr th:only-of-type {\n",
       "        vertical-align: middle;\n",
       "    }\n",
       "\n",
       "    .dataframe tbody tr th {\n",
       "        vertical-align: top;\n",
       "    }\n",
       "\n",
       "    .dataframe thead th {\n",
       "        text-align: right;\n",
       "    }\n",
       "</style>\n",
       "<table border=\"1\" class=\"dataframe\">\n",
       "  <thead>\n",
       "    <tr style=\"text-align: right;\">\n",
       "      <th></th>\n",
       "      <th>Store</th>\n",
       "      <th>Year</th>\n",
       "      <th>Sales</th>\n",
       "    </tr>\n",
       "  </thead>\n",
       "  <tbody>\n",
       "    <tr>\n",
       "      <th>0</th>\n",
       "      <td>A</td>\n",
       "      <td>2010</td>\n",
       "      <td>175</td>\n",
       "    </tr>\n",
       "    <tr>\n",
       "      <th>1</th>\n",
       "      <td>A</td>\n",
       "      <td>2011</td>\n",
       "      <td>208</td>\n",
       "    </tr>\n",
       "    <tr>\n",
       "      <th>2</th>\n",
       "      <td>A</td>\n",
       "      <td>2012</td>\n",
       "      <td>159</td>\n",
       "    </tr>\n",
       "    <tr>\n",
       "      <th>3</th>\n",
       "      <td>A</td>\n",
       "      <td>2013</td>\n",
       "      <td>159</td>\n",
       "    </tr>\n",
       "    <tr>\n",
       "      <th>4</th>\n",
       "      <td>A</td>\n",
       "      <td>2014</td>\n",
       "      <td>178</td>\n",
       "    </tr>\n",
       "    <tr>\n",
       "      <th>5</th>\n",
       "      <td>A</td>\n",
       "      <td>2015</td>\n",
       "      <td>179</td>\n",
       "    </tr>\n",
       "    <tr>\n",
       "      <th>6</th>\n",
       "      <td>A</td>\n",
       "      <td>2016</td>\n",
       "      <td>168</td>\n",
       "    </tr>\n",
       "    <tr>\n",
       "      <th>7</th>\n",
       "      <td>A</td>\n",
       "      <td>2017</td>\n",
       "      <td>198</td>\n",
       "    </tr>\n",
       "    <tr>\n",
       "      <th>8</th>\n",
       "      <td>A</td>\n",
       "      <td>2018</td>\n",
       "      <td>155</td>\n",
       "    </tr>\n",
       "    <tr>\n",
       "      <th>9</th>\n",
       "      <td>A</td>\n",
       "      <td>2019</td>\n",
       "      <td>165</td>\n",
       "    </tr>\n",
       "    <tr>\n",
       "      <th>10</th>\n",
       "      <td>B</td>\n",
       "      <td>2010</td>\n",
       "      <td>195</td>\n",
       "    </tr>\n",
       "    <tr>\n",
       "      <th>11</th>\n",
       "      <td>B</td>\n",
       "      <td>2011</td>\n",
       "      <td>203</td>\n",
       "    </tr>\n",
       "    <tr>\n",
       "      <th>12</th>\n",
       "      <td>B</td>\n",
       "      <td>2012</td>\n",
       "      <td>190</td>\n",
       "    </tr>\n",
       "    <tr>\n",
       "      <th>13</th>\n",
       "      <td>B</td>\n",
       "      <td>2013</td>\n",
       "      <td>157</td>\n",
       "    </tr>\n",
       "    <tr>\n",
       "      <th>14</th>\n",
       "      <td>B</td>\n",
       "      <td>2014</td>\n",
       "      <td>153</td>\n",
       "    </tr>\n",
       "    <tr>\n",
       "      <th>15</th>\n",
       "      <td>B</td>\n",
       "      <td>2015</td>\n",
       "      <td>194</td>\n",
       "    </tr>\n",
       "    <tr>\n",
       "      <th>16</th>\n",
       "      <td>B</td>\n",
       "      <td>2016</td>\n",
       "      <td>177</td>\n",
       "    </tr>\n",
       "    <tr>\n",
       "      <th>17</th>\n",
       "      <td>B</td>\n",
       "      <td>2017</td>\n",
       "      <td>184</td>\n",
       "    </tr>\n",
       "    <tr>\n",
       "      <th>18</th>\n",
       "      <td>B</td>\n",
       "      <td>2018</td>\n",
       "      <td>170</td>\n",
       "    </tr>\n",
       "    <tr>\n",
       "      <th>19</th>\n",
       "      <td>B</td>\n",
       "      <td>2019</td>\n",
       "      <td>158</td>\n",
       "    </tr>\n",
       "  </tbody>\n",
       "</table>\n",
       "</div>"
      ],
      "text/plain": [
       "   Store  Year  Sales\n",
       "0      A  2010    175\n",
       "1      A  2011    208\n",
       "2      A  2012    159\n",
       "3      A  2013    159\n",
       "4      A  2014    178\n",
       "5      A  2015    179\n",
       "6      A  2016    168\n",
       "7      A  2017    198\n",
       "8      A  2018    155\n",
       "9      A  2019    165\n",
       "10     B  2010    195\n",
       "11     B  2011    203\n",
       "12     B  2012    190\n",
       "13     B  2013    157\n",
       "14     B  2014    153\n",
       "15     B  2015    194\n",
       "16     B  2016    177\n",
       "17     B  2017    184\n",
       "18     B  2018    170\n",
       "19     B  2019    158"
      ]
     },
     "execution_count": 68,
     "metadata": {},
     "output_type": "execute_result"
    }
   ],
   "source": [
    "# Importing libraries\n",
    "import pandas as pd\n",
    "import numpy as np\n",
    "import matplotlib.pyplot as plt\n",
    " \n",
    "# Defining a DataFrame\n",
    "data_frame = data_frame = pd.DataFrame({\n",
    "'Store':['A','A','A','A','A','A','A','A','A','A','B','B','B','B','B','B','B','B','B','B'],\n",
    "'Year':[2010,2011,2012,2013,2014,2015,2016,2017,2018,2019,2010,2011,2012,2013,2014,2015,2016,2017,2018,2019],\n",
    "'Sales':[175,208,159,159,178,179,168,198,155,165,195,203,190,157,153,194,177,184,170,158]})\n",
    " \n",
    "# Display DataFrame values\n",
    "data_frame"
   ]
  },
  {
   "cell_type": "code",
   "execution_count": 71,
   "metadata": {},
   "outputs": [
    {
     "data": {
      "image/png": "[encoded data removed]",
      "text/plain": [
       "<Figure size 432x288 with 1 Axes>"
      ]
     },
     "metadata": {
      "needs_background": "light"
     },
     "output_type": "display_data"
    }
   ],
   "source": [
    "df = data_frame.pivot(index='Year', columns='Store', values='Sales')\n",
    "df.plot()\n",
    "plt.show()"
   ]
  },
  {
   "cell_type": "code",
   "execution_count": 72,
   "metadata": {},
   "outputs": [
    {
     "data": {
      "image/png": "[encoded data removed]",
      "text/plain": [
       "<Figure size 432x288 with 1 Axes>"
      ]
     },
     "metadata": {
      "needs_background": "light"
     },
     "output_type": "display_data"
    }
   ],
   "source": [
    "df = data_frame.pivot(index='Year', columns='Store', values='Sales')\n",
    "df.plot(kind = 'bar')\n",
    "plt.show()"
   ]
  },
  {
   "cell_type": "code",
   "execution_count": 44,
   "metadata": {},
   "outputs": [
    {
     "data": {
      "image/png": "[encoded data removed]",
      "text/plain": [
       "<Figure size 432x288 with 1 Axes>"
      ]
     },
     "metadata": {
      "needs_background": "light"
     },
     "output_type": "display_data"
    }
   ],
   "source": [
    "data_frame.plot(kind='scatter', x = 'Height', y = 'Weight')\n",
    "plt.show()\n"
   ]
  },
  {
   "cell_type": "code",
   "execution_count": null,
   "metadata": {},
   "outputs": [],
   "source": [
    "data_frame.plot(kind='pie', y = 'Sales', legend = False)\n",
    "plt.show()"
   ]
  },
  {
   "cell_type": "code",
   "execution_count": null,
   "metadata": {},
   "outputs": [],
   "source": [
    "# Delete the column\n",
    "data_frame.drop('creation_date_time', axis=1, inplace=True)\n",
    "data_frame"
   ]
  },
  {
   "cell_type": "code",
   "execution_count": null,
   "metadata": {},
   "outputs": [],
   "source": [
    "# Defining columns\n",
    "column_names = ['id', 'city', 'state', 'city', 'state']\n",
    "\n",
    "# Defining lists\n",
    "row1 = list([1,'Hutchinson', 'Texas', 'Hutchinson', 'Texas'])\n",
    "row2 = list([2,'Yorkville', 'South Dakota', 'Yorkville', 'South Dakota'])\n",
    "row3 = list([1,'Hutchinson', 'Texas', 'Hutchinson', 'Texas'])\n",
    "row4 = list([3,'Round Lake', 'Kansas', 'Round Lake', 'Kansas'])\n",
    "row5 = list([4,'Orinda', 'Montana', 'Orinda', 'Montana'])\n",
    "row6 = list([3,'Round Lake', 'Kansas', 'Round Lake', 'Kansas'])\n",
    "\n",
    "# Defining a DataFrame\n",
    "data_frame = pd.DataFrame(data=[row1, row2, row3, row4, row5, row6], columns=column_names)\n",
    "\n",
    "# Display DataFrame values\n",
    "data_frame"
   ]
  },
  {
   "cell_type": "code",
   "execution_count": null,
   "metadata": {},
   "outputs": [],
   "source": [
    "# Check if columns are duplicates\n",
    "data_frame.columns.duplicated()"
   ]
  },
  {
   "cell_type": "code",
   "execution_count": null,
   "metadata": {},
   "outputs": [],
   "source": [
    "# Select only the non duplicate columns\n",
    "data_frame = data_frame.drop_duplicates()\n",
    "data_frame"
   ]
  },
  {
   "cell_type": "code",
   "execution_count": null,
   "metadata": {},
   "outputs": [],
   "source": [
    "# Remove row duplicates\n",
    "data_frame = data_frame.drop_duplicates()\n",
    "data_frame"
   ]
  },
  {
   "cell_type": "code",
   "execution_count": null,
   "metadata": {},
   "outputs": [],
   "source": [
    "def create_rows_mimesis(num=1):\n",
    "    output = [{\"city\":addess.city(),\n",
    "                   \"state\":addess.state()\n",
    "              } for x in range(num)\n",
    "             ]\n",
    "    return output\n",
    "\n",
    "df_mimesis = pd.DataFrame(create_rows_mimesis(10))\n",
    "df_mimesis"
   ]
  },
  {
   "cell_type": "code",
   "execution_count": null,
   "metadata": {},
   "outputs": [],
   "source": [
    "# Defining columns\n",
    "column_names = ['YEAR', 'M0-24', 'M25-54', 'M55', 'F0-24', 'F25-54', 'F55']\n",
    " \n",
    "# Defining lists\n",
    "row1 = list([2018, 282, 812, 993, 712, 466, 373])\n",
    "row2 = list([2019, 243,196,365,340,969,659])\n",
    " \n",
    "# Defining a DataFrame\n",
    "data_frame = pd.DataFrame(data=[row1, row2], columns=column_names)\n",
    " \n",
    "# Display DataFrame values\n",
    "data_frame"
   ]
  },
  {
   "cell_type": "code",
   "execution_count": null,
   "metadata": {},
   "outputs": [],
   "source": [
    "# Move the demographics columns into rows\n",
    "data_frame = data_frame.melt(id_vars=[\"YEAR\"],var_name=[\"demographic\"],value_name=\"sales\")\n",
    "data_frame"
   ]
  },
  {
   "cell_type": "code",
   "execution_count": null,
   "metadata": {},
   "outputs": [],
   "source": [
    "# Split the column into new columns\n",
    "data_frame['gender'] = data_frame.demographic.str[0].astype(str)\n",
    "data_frame['age_group'] = data_frame.demographic.str[1:].astype(str)\n",
    "data_frame"
   ]
  },
  {
   "cell_type": "code",
   "execution_count": null,
   "metadata": {},
   "outputs": [],
   "source": [
    "# Delete the column\n",
    "data_frame.drop('demographic', axis=1, inplace=True)\n",
    "data_frame"
   ]
  },
  {
   "cell_type": "code",
   "execution_count": null,
   "metadata": {},
   "outputs": [],
   "source": [
    "# Defining lists\n",
    "row1 = list([1, 282])\n",
    "row2 = list([2, 243])\n",
    "row3 = list([3, 391])\n",
    "row4 = list([4, 973])\n",
    "\n",
    "# Defining a DataFrame\n",
    "data_frame_2018 = pd.DataFrame(data=[row1, row2, row3, row4], columns=['store_id', 'sales'])\n",
    " \n",
    "# Display DataFrame values\n",
    "data_frame_2018"
   ]
  },
  {
   "cell_type": "code",
   "execution_count": null,
   "metadata": {},
   "outputs": [],
   "source": [
    "# Defining lists\n",
    "row5 = list([1, 272])\n",
    "row6 = list([2, 370])\n",
    "row7 = list([3, 178])\n",
    "row8 = list([4, 622])\n",
    "\n",
    "# Defining a DataFrame\n",
    "data_frame_2019 = pd.DataFrame(data=[row5, row6, row7, row8], columns=['store_id', 'sales'])\n",
    " \n",
    "# Display DataFrame values\n",
    "data_frame_2019"
   ]
  },
  {
   "cell_type": "code",
   "execution_count": null,
   "metadata": {},
   "outputs": [],
   "source": [
    "# Creating a column for the year\n",
    "data_frame_2018[\"year\"]=\"2018\"\n",
    "data_frame_2018"
   ]
  },
  {
   "cell_type": "code",
   "execution_count": null,
   "metadata": {},
   "outputs": [],
   "source": [
    "# Creating a column for the year\n",
    "data_frame_2019[\"year\"]=\"2019\"\n",
    "data_frame_2019"
   ]
  },
  {
   "cell_type": "code",
   "execution_count": null,
   "metadata": {},
   "outputs": [],
   "source": [
    "# Concatenating the dataframe\n",
    "data_frame = pd.concat([data_frame_2018, data_frame_2019])\n",
    "data_frame"
   ]
  },
  {
   "cell_type": "code",
   "execution_count": null,
   "metadata": {},
   "outputs": [],
   "source": [
    "# Sorting the dataframe\n",
    "data_frame = data_frame.sort_values(by=['store_id', 'year'])\n",
    "data_frame"
   ]
  },
  {
   "cell_type": "code",
   "execution_count": null,
   "metadata": {},
   "outputs": [],
   "source": [
    "# Resetting the dataframe's index\n",
    "data_frame = data_frame.reset_index(drop = True)\n",
    "data_frame"
   ]
  },
  {
   "cell_type": "code",
   "execution_count": null,
   "metadata": {},
   "outputs": [],
   "source": [
    "# Defining columns\n",
    "column_names = ['id', 'city', 'state', 'population']\n",
    "\n",
    "# Defining lists\n",
    "row1 = list([1,'Hutchinson', 'Texas', 20938])\n",
    "row2 = list([None ,'Yorkville', 'Illinois', 20119])\n",
    "row3 = list([3,'Round Lake', 'Illinois', None])\n",
    "row4 = list([4,'Orinda', None, 19926])\n",
    "\n",
    "# Defining a DataFrame\n",
    "data_frame = pd.DataFrame(data=[row1, row2, row3, row4], columns=column_names)\n",
    "\n",
    "# Display DataFrame values\n",
    "data_frame"
   ]
  },
  {
   "cell_type": "code",
   "execution_count": null,
   "metadata": {},
   "outputs": [],
   "source": [
    "# Select rows with missing data\n",
    "data_frame[data_frame.isnull().any(1)]"
   ]
  },
  {
   "cell_type": "code",
   "execution_count": null,
   "metadata": {},
   "outputs": [],
   "source": [
    "# Drop any rows with missing data\n",
    "data_frame.dropna()"
   ]
  },
  {
   "cell_type": "code",
   "execution_count": null,
   "metadata": {},
   "outputs": [],
   "source": [
    "# Filling missing values\n",
    "data_frame['state'] = data_frame.state.fillna('Missing Value')\n",
    "data_frame"
   ]
  },
  {
   "cell_type": "code",
   "execution_count": null,
   "metadata": {},
   "outputs": [],
   "source": [
    "# Filling missing values\n",
    "data_frame['id'] = data_frame.id.fillna(-999)\n",
    "data_frame"
   ]
  },
  {
   "cell_type": "code",
   "execution_count": null,
   "metadata": {},
   "outputs": [],
   "source": [
    "# Filling missing values\n",
    "data_frame['population'] = data_frame.id.fillna(-999)\n",
    "data_frame"
   ]
  },
  {
   "cell_type": "code",
   "execution_count": null,
   "metadata": {},
   "outputs": [],
   "source": [
    "# Defining columns\n",
    "column_names = ['store_id', 'sales', 'year']\n",
    "\n",
    "# Defining lists\n",
    "row1 = list([1,282, 2018])\n",
    "row2 = list([1,272, 2019])\n",
    "row3 = list([2,243, 2018])\n",
    "row4 = list([2,370, 2019])\n",
    "row5 = list([3,391, 2018])\n",
    "row6 = list([3,178, 2019])\n",
    "row7 = list([4,973, 2018])\n",
    "row8 = list([4,622, 2019])\n",
    "\n",
    "# Defining a DataFrame\n",
    "data_frame = pd.DataFrame(data=[row1, row2, row3, row4, row5, row6, row7, row8], columns=column_names)\n",
    "\n",
    "# Display DataFrame values\n",
    "data_frame"
   ]
  },
  {
   "cell_type": "code",
   "execution_count": null,
   "metadata": {},
   "outputs": [],
   "source": [
    "# Grouping the data\n",
    "grouped = data_frame.groupby('store_id')[['sales']]\n",
    "grouped"
   ]
  },
  {
   "cell_type": "code",
   "execution_count": null,
   "metadata": {},
   "outputs": [],
   "source": [
    "# Sum aggregation\n",
    "grouped.sum()"
   ]
  },
  {
   "cell_type": "code",
   "execution_count": null,
   "metadata": {},
   "outputs": [],
   "source": [
    "# Average aggregation\n",
    "grouped.mean()"
   ]
  },
  {
   "cell_type": "code",
   "execution_count": null,
   "metadata": {},
   "outputs": [],
   "source": [
    "# Min aggregation\n",
    "grouped.min()"
   ]
  },
  {
   "cell_type": "code",
   "execution_count": null,
   "metadata": {},
   "outputs": [],
   "source": [
    "# Max aggregation\n",
    "grouped.max()"
   ]
  },
  {
   "cell_type": "code",
   "execution_count": null,
   "metadata": {},
   "outputs": [],
   "source": [
    "# Standard deviation aggregation\n",
    "grouped.std()"
   ]
  },
  {
   "cell_type": "code",
   "execution_count": null,
   "metadata": {},
   "outputs": [],
   "source": [
    "# Variance aggregation\n",
    "grouped.var()"
   ]
  },
  {
   "cell_type": "code",
   "execution_count": null,
   "metadata": {},
   "outputs": [],
   "source": [
    "# Describe aggregation\n",
    "grouped.describe()"
   ]
  },
  {
   "cell_type": "code",
   "execution_count": null,
   "metadata": {},
   "outputs": [],
   "source": [
    "# List of aggregations\n",
    "grouped.agg(['sum', 'mean','min', 'max', 'std'])"
   ]
  },
  {
   "cell_type": "code",
   "execution_count": null,
   "metadata": {},
   "outputs": [],
   "source": [
    "# Defining lists\n",
    "row1 = list(['Pandas', 'Product A', 476, 46, 2010])\n",
    "row2 = list(['Pandas', 'Product B', 794, 39, 2010])\n",
    "row3 = list(['Pandas', 'Product C', 199, 62, 2010])\n",
    "row4 = list(['Pandas', 'Product A', 686, 26, 2011])\n",
    "row5 = list(['Pandas', 'Product B', 207, 93, 2011])\n",
    "row6 = list(['Pandas', 'Product C', 199, 62, 2011])\n",
    "row7 = list(['Python', 'Product A', 300, 33, 2010])\n",
    "row8 = list(['Python', 'Product B', 949, 51, 2010])\n",
    "row9 = list(['Python', 'Product C', 168, 30, 2010])\n",
    "row10 = list(['Python', 'Product A', 921, 51, 2011])\n",
    "row11 = list(['Python', 'Product B', 266, 24, 2011])\n",
    "row12 = list(['Python', 'Product C', 674, 39, 2011])\n",
    "\n",
    "# Defining a DataFrame\n",
    "data_frame = pd.DataFrame(data=[row1, row2, row3, row4, row5, row6, row7, row8, row9, row10, row11, row12], columns=['brand', 'type', 'sales', 'units', 'year'])\n",
    "\n",
    "# Display DataFrame values\n",
    "data_frame"
   ]
  },
  {
   "cell_type": "code",
   "execution_count": null,
   "metadata": {},
   "outputs": [],
   "source": [
    "# Pivot table average sales by brand\n",
    "pd.pivot_table(data_frame, index = 'brand', values = 'sales')"
   ]
  },
  {
   "cell_type": "code",
   "execution_count": null,
   "metadata": {},
   "outputs": [],
   "source": [
    "# Pivot table total, min and max sales by brand\n",
    "pd.pivot_table(data_frame, index = 'brand', values = 'sales', aggfunc = ['sum', 'min', 'max'])"
   ]
  },
  {
   "cell_type": "code",
   "execution_count": null,
   "metadata": {},
   "outputs": [],
   "source": [
    "# Pivot table total, min and max sales and unites by brand\n",
    "pd.pivot_table(data_frame, index = ['brand'], values = ['sales','units'], aggfunc = ['sum', 'min', 'max'])"
   ]
  },
  {
   "cell_type": "code",
   "execution_count": null,
   "metadata": {},
   "outputs": [],
   "source": [
    "# Pivot table total, min and max sales and unites by type and brand\n",
    "pd.pivot_table(data_frame, index = ['type','brand'], values = ['sales','units'], aggfunc = ['sum', 'min', 'max'])"
   ]
  },
  {
   "cell_type": "code",
   "execution_count": null,
   "metadata": {},
   "outputs": [],
   "source": [
    "# Pivot table total, min and max sales and unites by type and brand\n",
    "pd.pivot_table(data_frame, index = ['brand','type'], values = ['sales','units'], aggfunc = ['sum', 'min', 'max'])"
   ]
  },
  {
   "cell_type": "code",
   "execution_count": null,
   "metadata": {},
   "outputs": [],
   "source": [
    "# Pivot table total, min and max sales and unites by type and brand\n",
    "pd.pivot_table(data_frame, index = ['brand','type'], values = ['sales','units'], aggfunc = ['sum', 'min', 'max'], margins = True, margins_name='Total')"
   ]
  },
  {
   "cell_type": "code",
   "execution_count": null,
   "metadata": {},
   "outputs": [],
   "source": [
    "# Defining columns\n",
    "column_names = ['id', 'city', 'state', 'population']\n",
    "\n",
    "# Defining lists\n",
    "row1 = list([1,'Hutchinson', 'Texas', 20938])\n",
    "row2 = list([None ,'Yorkville', 'Illinois', 20119])\n",
    "row3 = list([3,'Round Lake', 'Illinois', None])\n",
    "row4 = list([4,'Orinda', 'California', 19926])\n",
    " \n",
    "# Defining a DataFrame\n",
    "data_frame = pd.DataFrame(data=[row1, row2, row3, row4], columns=column_names)\n",
    "\n",
    "# Display DataFrame values\n",
    "data_frame"
   ]
  },
  {
   "cell_type": "code",
   "execution_count": null,
   "metadata": {},
   "outputs": [],
   "source": [
    "data_frame.dropna()"
   ]
  },
  {
   "cell_type": "code",
   "execution_count": null,
   "metadata": {},
   "outputs": [],
   "source": [
    "data_frame"
   ]
  },
  {
   "cell_type": "code",
   "execution_count": null,
   "metadata": {},
   "outputs": [],
   "source": [
    "data_frame[~data_frame['population'].isnull()]"
   ]
  },
  {
   "cell_type": "code",
   "execution_count": null,
   "metadata": {},
   "outputs": [],
   "source": [
    "data_frame.dropna(axis = 1)"
   ]
  },
  {
   "cell_type": "code",
   "execution_count": null,
   "metadata": {},
   "outputs": [],
   "source": [
    "from mimesis import Person\n",
    "from mimesis import Address\n",
    "from mimesis.enums import Gender\n",
    "from mimesis import Datetime\n",
    "person = Person('en')\n",
    "import pandas as pd\n",
    "import random\n",
    "person = Person()\n",
    "addess = Address()\n",
    "datetime = Datetime()\n",
    "def create_rows_mimesis(num=1):\n",
    "    output = [{\"full_name\":person.full_name(),\n",
    "                   \"address\":addess.address() + ', '+ addess.city() + ', '+ addess.state()\n",
    "                   #\"name\":person.name() + ' ' + person.name(),\n",
    "                   #\"email\":person.email(),\n",
    "                   #\"creation_date_time\":datetime.datetime()\n",
    "                   #\"paragraph\":person.paragraph(),\n",
    "                   #\"Conrad\":person.catch_phrase(),\n",
    "                   #\"randomdata\":random.randint(1000,2000)\n",
    "              } for x in range(num)\n",
    "             ]\n",
    "    return output\n",
    "\n",
    "df_mimesis = pd.DataFrame(create_rows_mimesis(50))\n",
    "df_mimesis"
   ]
  },
  {
   "cell_type": "code",
   "execution_count": null,
   "metadata": {},
   "outputs": [],
   "source": [
    "df_mimesis.to_csv('test')"
   ]
  },
  {
   "cell_type": "code",
   "execution_count": null,
   "metadata": {},
   "outputs": [],
   "source": [
    "# Defining columns\n",
    "column_names = ['YEAR', 'M0-24', 'M25-54', 'M55', 'F0-24', 'F25-54', 'F55']\n",
    " \n",
    "# Defining lists\n",
    "row1 = list([2018, 282, 812, 993, 712, 466, 373])\n",
    "row2 = list([2019, 243,196,365,340,969,659])\n",
    " \n",
    "# Defining a DataFrame\n",
    "data_frame = pd.DataFrame(data=[row1, row2], columns=column_names)\n",
    " \n",
    "# Display DataFrame values\n",
    "data_frame\n"
   ]
  },
  {
   "cell_type": "code",
   "execution_count": null,
   "metadata": {},
   "outputs": [],
   "source": []
  }
 ],
 "metadata": {
  "colab": {
   "collapsed_sections": [],
   "name": "PandasWorkshopChapter4.ipynb",
   "provenance": []
  },
  "kernelspec": {
   "display_name": "Python 3",
   "language": "python",
   "name": "python3"
  },
  "language_info": {
   "codemirror_mode": {
    "name": "ipython",
    "version": 3
   },
   "file_extension": ".py",
   "mimetype": "text/x-python",
   "name": "python",
   "nbconvert_exporter": "python",
   "pygments_lexer": "ipython3",
   "version": "3.7.6"
  }
 },
 "nbformat": 4,
 "nbformat_minor": 1
}
