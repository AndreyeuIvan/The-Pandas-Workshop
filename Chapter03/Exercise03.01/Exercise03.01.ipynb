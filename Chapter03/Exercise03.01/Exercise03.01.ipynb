{
 "cells": [
  {
   "cell_type": "markdown",
   "metadata": {},
   "source": [
    "# Exercise 03-01 | Gross domestic product\n",
    "\n",
    "The task: Find and load data on GDP.\n",
    "\n",
    "\n",
    "1. Load Pandas"
   ]
  },
  {
   "cell_type": "code",
   "execution_count": 2,
   "metadata": {},
   "outputs": [],
   "source": [
    "import pandas as pd"
   ]
  },
  {
   "cell_type": "markdown",
   "metadata": {},
   "source": [
    "2. Query a search engine\n",
    "\n",
    "Now we know about the \"datapackage\" format, let's see whether there exists a prepared dataset in this format (which would help us loading it).\n",
    "\n",
    "* [Duck Duck Go](https://duckduckgo.com/?q=gdp+datapackage)\n",
    "* [Google Search](https://www.google.com/search?q=gdp+datapackage)\n",
    "\n",
    "And indeed, we find the site: https://github.com/datasets/gdp as first or among the top results.\n",
    "\n",
    "3. Install \"pandas-datapackage-reader\" to access the datapackage format."
   ]
  },
  {
   "cell_type": "code",
   "execution_count": 3,
   "metadata": {},
   "outputs": [
    {
     "name": "stdout",
     "output_type": "stream",
     "text": [
      "Requirement already satisfied: pandas-datapackage-reader in /home/tir/.virtualenvs/pandasworkshop/lib/python3.7/site-packages (0.13.1)\n",
      "Requirement already satisfied: requests in /home/tir/.virtualenvs/pandasworkshop/lib/python3.7/site-packages (from pandas-datapackage-reader) (2.23.0)\n",
      "Requirement already satisfied: pandas>=0.24.0 in /home/tir/.virtualenvs/pandasworkshop/lib/python3.7/site-packages (from pandas-datapackage-reader) (1.0.3)\n",
      "Requirement already satisfied: idna<3,>=2.5 in /home/tir/.virtualenvs/pandasworkshop/lib/python3.7/site-packages (from requests->pandas-datapackage-reader) (2.9)\n",
      "Requirement already satisfied: certifi>=2017.4.17 in /home/tir/.virtualenvs/pandasworkshop/lib/python3.7/site-packages (from requests->pandas-datapackage-reader) (2020.4.5.1)\n",
      "Requirement already satisfied: chardet<4,>=3.0.2 in /home/tir/.virtualenvs/pandasworkshop/lib/python3.7/site-packages (from requests->pandas-datapackage-reader) (3.0.4)\n",
      "Requirement already satisfied: urllib3!=1.25.0,!=1.25.1,<1.26,>=1.21.1 in /home/tir/.virtualenvs/pandasworkshop/lib/python3.7/site-packages (from requests->pandas-datapackage-reader) (1.25.9)\n",
      "Requirement already satisfied: pytz>=2017.2 in /home/tir/.virtualenvs/pandasworkshop/lib/python3.7/site-packages (from pandas>=0.24.0->pandas-datapackage-reader) (2019.3)\n",
      "Requirement already satisfied: numpy>=1.13.3 in /home/tir/.virtualenvs/pandasworkshop/lib/python3.7/site-packages (from pandas>=0.24.0->pandas-datapackage-reader) (1.18.4)\n",
      "Requirement already satisfied: python-dateutil>=2.6.1 in /home/tir/.virtualenvs/pandasworkshop/lib/python3.7/site-packages (from pandas>=0.24.0->pandas-datapackage-reader) (2.8.1)\n",
      "Requirement already satisfied: six>=1.5 in /home/tir/.virtualenvs/pandasworkshop/lib/python3.7/site-packages (from python-dateutil>=2.6.1->pandas>=0.24.0->pandas-datapackage-reader) (1.14.0)\n"
     ]
    }
   ],
   "source": [
    "!pip install pandas-datapackage-reader"
   ]
  },
  {
   "cell_type": "markdown",
   "metadata": {},
   "source": [
    "4. Import the pandas datapackage adapter and load the JSON file from the GDP dataset repository."
   ]
  },
  {
   "cell_type": "code",
   "execution_count": 4,
   "metadata": {},
   "outputs": [],
   "source": [
    "import pandas_datapackage_reader as pdr"
   ]
  },
  {
   "cell_type": "code",
   "execution_count": 7,
   "metadata": {},
   "outputs": [],
   "source": [
    "df = pdr.read_datapackage(\"https://raw.githubusercontent.com/datasets/gdp/master/datapackage.json\")"
   ]
  },
  {
   "cell_type": "markdown",
   "metadata": {},
   "source": [
    "5. Confirm the successful load of the data, by using head, tail and info."
   ]
  },
  {
   "cell_type": "code",
   "execution_count": 15,
   "metadata": {},
   "outputs": [
    {
     "data": {
      "text/html": [
       "<div>\n",
       "<style scoped>\n",
       "    .dataframe tbody tr th:only-of-type {\n",
       "        vertical-align: middle;\n",
       "    }\n",
       "\n",
       "    .dataframe tbody tr th {\n",
       "        vertical-align: top;\n",
       "    }\n",
       "\n",
       "    .dataframe thead th {\n",
       "        text-align: right;\n",
       "    }\n",
       "</style>\n",
       "<table border=\"1\" class=\"dataframe\">\n",
       "  <thead>\n",
       "    <tr style=\"text-align: right;\">\n",
       "      <th></th>\n",
       "      <th>Country Name</th>\n",
       "      <th>Country Code</th>\n",
       "      <th>Year</th>\n",
       "      <th>Value</th>\n",
       "    </tr>\n",
       "  </thead>\n",
       "  <tbody>\n",
       "    <tr>\n",
       "      <th>0</th>\n",
       "      <td>Arab World</td>\n",
       "      <td>ARB</td>\n",
       "      <td>1968</td>\n",
       "      <td>2.576068e+10</td>\n",
       "    </tr>\n",
       "    <tr>\n",
       "      <th>1</th>\n",
       "      <td>Arab World</td>\n",
       "      <td>ARB</td>\n",
       "      <td>1969</td>\n",
       "      <td>2.843420e+10</td>\n",
       "    </tr>\n",
       "    <tr>\n",
       "      <th>2</th>\n",
       "      <td>Arab World</td>\n",
       "      <td>ARB</td>\n",
       "      <td>1970</td>\n",
       "      <td>3.138550e+10</td>\n",
       "    </tr>\n",
       "    <tr>\n",
       "      <th>3</th>\n",
       "      <td>Arab World</td>\n",
       "      <td>ARB</td>\n",
       "      <td>1971</td>\n",
       "      <td>3.642691e+10</td>\n",
       "    </tr>\n",
       "    <tr>\n",
       "      <th>4</th>\n",
       "      <td>Arab World</td>\n",
       "      <td>ARB</td>\n",
       "      <td>1972</td>\n",
       "      <td>4.331606e+10</td>\n",
       "    </tr>\n",
       "  </tbody>\n",
       "</table>\n",
       "</div>"
      ],
      "text/plain": [
       "  Country Name Country Code  Year         Value\n",
       "0   Arab World          ARB  1968  2.576068e+10\n",
       "1   Arab World          ARB  1969  2.843420e+10\n",
       "2   Arab World          ARB  1970  3.138550e+10\n",
       "3   Arab World          ARB  1971  3.642691e+10\n",
       "4   Arab World          ARB  1972  4.331606e+10"
      ]
     },
     "execution_count": 15,
     "metadata": {},
     "output_type": "execute_result"
    }
   ],
   "source": [
    "df.head()"
   ]
  },
  {
   "cell_type": "code",
   "execution_count": 16,
   "metadata": {},
   "outputs": [
    {
     "data": {
      "text/html": [
       "<div>\n",
       "<style scoped>\n",
       "    .dataframe tbody tr th:only-of-type {\n",
       "        vertical-align: middle;\n",
       "    }\n",
       "\n",
       "    .dataframe tbody tr th {\n",
       "        vertical-align: top;\n",
       "    }\n",
       "\n",
       "    .dataframe thead th {\n",
       "        text-align: right;\n",
       "    }\n",
       "</style>\n",
       "<table border=\"1\" class=\"dataframe\">\n",
       "  <thead>\n",
       "    <tr style=\"text-align: right;\">\n",
       "      <th></th>\n",
       "      <th>Country Name</th>\n",
       "      <th>Country Code</th>\n",
       "      <th>Year</th>\n",
       "      <th>Value</th>\n",
       "    </tr>\n",
       "  </thead>\n",
       "  <tbody>\n",
       "    <tr>\n",
       "      <th>11502</th>\n",
       "      <td>Zimbabwe</td>\n",
       "      <td>ZWE</td>\n",
       "      <td>2012</td>\n",
       "      <td>1.424249e+10</td>\n",
       "    </tr>\n",
       "    <tr>\n",
       "      <th>11503</th>\n",
       "      <td>Zimbabwe</td>\n",
       "      <td>ZWE</td>\n",
       "      <td>2013</td>\n",
       "      <td>1.545177e+10</td>\n",
       "    </tr>\n",
       "    <tr>\n",
       "      <th>11504</th>\n",
       "      <td>Zimbabwe</td>\n",
       "      <td>ZWE</td>\n",
       "      <td>2014</td>\n",
       "      <td>1.589105e+10</td>\n",
       "    </tr>\n",
       "    <tr>\n",
       "      <th>11505</th>\n",
       "      <td>Zimbabwe</td>\n",
       "      <td>ZWE</td>\n",
       "      <td>2015</td>\n",
       "      <td>1.630467e+10</td>\n",
       "    </tr>\n",
       "    <tr>\n",
       "      <th>11506</th>\n",
       "      <td>Zimbabwe</td>\n",
       "      <td>ZWE</td>\n",
       "      <td>2016</td>\n",
       "      <td>1.661996e+10</td>\n",
       "    </tr>\n",
       "  </tbody>\n",
       "</table>\n",
       "</div>"
      ],
      "text/plain": [
       "      Country Name Country Code  Year         Value\n",
       "11502     Zimbabwe          ZWE  2012  1.424249e+10\n",
       "11503     Zimbabwe          ZWE  2013  1.545177e+10\n",
       "11504     Zimbabwe          ZWE  2014  1.589105e+10\n",
       "11505     Zimbabwe          ZWE  2015  1.630467e+10\n",
       "11506     Zimbabwe          ZWE  2016  1.661996e+10"
      ]
     },
     "execution_count": 16,
     "metadata": {},
     "output_type": "execute_result"
    }
   ],
   "source": [
    "df.tail()"
   ]
  },
  {
   "cell_type": "code",
   "execution_count": 17,
   "metadata": {},
   "outputs": [
    {
     "name": "stdout",
     "output_type": "stream",
     "text": [
      "<class 'pandas.core.frame.DataFrame'>\n",
      "RangeIndex: 11507 entries, 0 to 11506\n",
      "Data columns (total 4 columns):\n",
      " #   Column        Non-Null Count  Dtype  \n",
      "---  ------        --------------  -----  \n",
      " 0   Country Name  11507 non-null  object \n",
      " 1   Country Code  11507 non-null  object \n",
      " 2   Year          11507 non-null  int64  \n",
      " 3   Value         11507 non-null  float64\n",
      "dtypes: float64(1), int64(1), object(2)\n",
      "memory usage: 359.7+ KB\n"
     ]
    }
   ],
   "source": [
    "df.info()"
   ]
  },
  {
   "cell_type": "code",
   "execution_count": null,
   "metadata": {},
   "outputs": [],
   "source": []
  }
 ],
 "metadata": {
  "jupytext": {
   "formats": "ipynb,md"
  },
  "kernelspec": {
   "display_name": "pandasworkshop",
   "language": "python",
   "name": "pandasworkshop"
  },
  "language_info": {
   "codemirror_mode": {
    "name": "ipython",
    "version": 3
   },
   "file_extension": ".py",
   "mimetype": "text/x-python",
   "name": "python",
   "nbconvert_exporter": "python",
   "pygments_lexer": "ipython3",
   "version": "3.7.4"
  }
 },
 "nbformat": 4,
 "nbformat_minor": 4
}
