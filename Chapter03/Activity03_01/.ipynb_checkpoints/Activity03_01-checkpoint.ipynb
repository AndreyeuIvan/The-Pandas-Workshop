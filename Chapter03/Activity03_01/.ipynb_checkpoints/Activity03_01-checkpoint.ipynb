{
 "cells": [
  {
   "cell_type": "code",
   "execution_count": null,
   "metadata": {},
   "outputs": [],
   "source": [
    "#\n",
    "# libraries\n",
    "#\n",
    "import pandas as pd\n",
    "import sqlite3"
   ]
  },
  {
   "cell_type": "code",
   "execution_count": null,
   "metadata": {},
   "outputs": [],
   "source": [
    "#\n",
    "# show all tables in supply_company.db\n",
    "#\n",
    "tables = pd.read_sql(\"SELECT name FROM sqlite_master WHERE type = 'table'\", \n",
    "                     sqlite3.connect('..\\\\Chapter03\\\\datasets\\\\supply_company.db'))\n",
    "tables"
   ]
  },
  {
   "cell_type": "code",
   "execution_count": null,
   "metadata": {},
   "outputs": [],
   "source": [
    "#\n",
    "# now read the entire Customers list\n",
    "#\n",
    "customers = pd.read_sql(\"select * from Customers\", \n",
    "                        sqlite3.connect(\"..\\\\Chapter03\\\\datasets\\\\supply_company.db\"))\n",
    "customers"
   ]
  },
  {
   "cell_type": "code",
   "execution_count": null,
   "metadata": {},
   "outputs": [],
   "source": [
    "#\n",
    "# now read the entire Customers list\n",
    "#\n",
    "customers = pd.read_sql(\"select * from Customers\", \n",
    "                        sqlite3.connect(\"..\\\\Chapter03\\\\datasets\\\\supply_company.db\"))\n",
    "customers"
   ]
  }
 ],
 "metadata": {
  "kernelspec": {
   "display_name": "Python 3",
   "language": "python",
   "name": "python3"
  },
  "language_info": {
   "codemirror_mode": {
    "name": "ipython",
    "version": 3
   },
   "file_extension": ".py",
   "mimetype": "text/x-python",
   "name": "python",
   "nbconvert_exporter": "python",
   "pygments_lexer": "ipython3",
   "version": "3.7.6"
  },
  "toc": {
   "base_numbering": 1,
   "nav_menu": {},
   "number_sections": true,
   "sideBar": true,
   "skip_h1_title": false,
   "title_cell": "Table of Contents",
   "title_sidebar": "Contents",
   "toc_cell": false,
   "toc_position": {},
   "toc_section_display": true,
   "toc_window_display": true
  }
 },
 "nbformat": 4,
 "nbformat_minor": 4
}
