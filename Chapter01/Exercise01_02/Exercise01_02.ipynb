{
 "cells": [
  {
   "cell_type": "code",
   "execution_count": 1,
   "metadata": {
    "colab": {},
    "colab_type": "code",
    "id": "-nC-FDk7SIgI"
   },
   "outputs": [],
   "source": [
    "# Importing pandas library with alias name pd\n",
    "import pandas as pd"
   ]
  },
  {
   "cell_type": "code",
   "execution_count": 2,
   "metadata": {
    "colab": {},
    "colab_type": "code",
    "id": "nV30z51oShXl"
   },
   "outputs": [],
   "source": [
    "def exercise01_02():\n",
    "    # Defining columns\n",
    "    column_names = ['Applicant Id', 'Applicant Name', 'Test Date', \n",
    "                    'Mathematics Score', 'Physics Score', 'Chemistry Score']\n",
    "\n",
    "    # Defining lists of test records\n",
    "    testRecord1 = list([1001,'James', '01-02-2020', 70, 62, 81])\n",
    "    testRecord2 = list([1002,'Pritam', '07-04-2020', 86, 61, 73])\n",
    "    testRecord3 = list([1003,'Pritha', '01-02-2020', 86, 67, 68])\n",
    "    testRecord4 = list([1004,'David', '15-05-2020', 55, 82, 62])\n",
    "    testRecord5 = list([1005,'Kaushik', '15-05-2020', 76, 84, 57])\n",
    "    testRecord6 = list([1006,'Somnath', '26-05-2020', 80, 84, 49])\n",
    "    testRecord7 = list([1007,'Peter', '03-06-2020', 79, 73, 63])\n",
    "\n",
    "    # Defining a DataFrame from multiple Serieses\n",
    "    data_frame = pd.DataFrame([testRecord1, testRecord2, testRecord3, testRecord4, \n",
    "                               testRecord5, testRecord6, testRecord7], \n",
    "                              columns=column_names)\n",
    "    # Calculating final weighted score\n",
    "    data_frame['Final Test Score'] = (data_frame['Mathematics Score'] * 0.5) + (data_frame['Physics Score'] * 0.3) + (data_frame['Physics Score'] * 0.2)\n",
    "\n",
    "    return data_frame"
   ]
  },
  {
   "cell_type": "code",
   "execution_count": 3,
   "metadata": {
    "colab": {},
    "colab_type": "code",
    "id": "gXKN9IGMxKaW"
   },
   "outputs": [
    {
     "data": {
      "text/html": [
       "<div>\n",
       "<style scoped>\n",
       "    .dataframe tbody tr th:only-of-type {\n",
       "        vertical-align: middle;\n",
       "    }\n",
       "\n",
       "    .dataframe tbody tr th {\n",
       "        vertical-align: top;\n",
       "    }\n",
       "\n",
       "    .dataframe thead th {\n",
       "        text-align: right;\n",
       "    }\n",
       "</style>\n",
       "<table border=\"1\" class=\"dataframe\">\n",
       "  <thead>\n",
       "    <tr style=\"text-align: right;\">\n",
       "      <th></th>\n",
       "      <th>Applicant Id</th>\n",
       "      <th>Applicant Name</th>\n",
       "      <th>Test Date</th>\n",
       "      <th>Mathematics Score</th>\n",
       "      <th>Physics Score</th>\n",
       "      <th>Chemistry Score</th>\n",
       "      <th>Final Test Score</th>\n",
       "    </tr>\n",
       "  </thead>\n",
       "  <tbody>\n",
       "    <tr>\n",
       "      <th>0</th>\n",
       "      <td>1001</td>\n",
       "      <td>James</td>\n",
       "      <td>01-02-2020</td>\n",
       "      <td>70</td>\n",
       "      <td>62</td>\n",
       "      <td>81</td>\n",
       "      <td>66.0</td>\n",
       "    </tr>\n",
       "    <tr>\n",
       "      <th>1</th>\n",
       "      <td>1002</td>\n",
       "      <td>Pritam</td>\n",
       "      <td>07-04-2020</td>\n",
       "      <td>86</td>\n",
       "      <td>61</td>\n",
       "      <td>73</td>\n",
       "      <td>73.5</td>\n",
       "    </tr>\n",
       "    <tr>\n",
       "      <th>2</th>\n",
       "      <td>1003</td>\n",
       "      <td>Pritha</td>\n",
       "      <td>01-02-2020</td>\n",
       "      <td>86</td>\n",
       "      <td>67</td>\n",
       "      <td>68</td>\n",
       "      <td>76.5</td>\n",
       "    </tr>\n",
       "    <tr>\n",
       "      <th>3</th>\n",
       "      <td>1004</td>\n",
       "      <td>David</td>\n",
       "      <td>15-05-2020</td>\n",
       "      <td>55</td>\n",
       "      <td>82</td>\n",
       "      <td>62</td>\n",
       "      <td>68.5</td>\n",
       "    </tr>\n",
       "    <tr>\n",
       "      <th>4</th>\n",
       "      <td>1005</td>\n",
       "      <td>Kaushik</td>\n",
       "      <td>15-05-2020</td>\n",
       "      <td>76</td>\n",
       "      <td>84</td>\n",
       "      <td>57</td>\n",
       "      <td>80.0</td>\n",
       "    </tr>\n",
       "    <tr>\n",
       "      <th>5</th>\n",
       "      <td>1006</td>\n",
       "      <td>Somnath</td>\n",
       "      <td>26-05-2020</td>\n",
       "      <td>80</td>\n",
       "      <td>84</td>\n",
       "      <td>49</td>\n",
       "      <td>82.0</td>\n",
       "    </tr>\n",
       "    <tr>\n",
       "      <th>6</th>\n",
       "      <td>1007</td>\n",
       "      <td>Peter</td>\n",
       "      <td>03-06-2020</td>\n",
       "      <td>79</td>\n",
       "      <td>73</td>\n",
       "      <td>63</td>\n",
       "      <td>76.0</td>\n",
       "    </tr>\n",
       "  </tbody>\n",
       "</table>\n",
       "</div>"
      ],
      "text/plain": [
       "   Applicant Id Applicant Name   Test Date  Mathematics Score  Physics Score  \\\n",
       "0          1001          James  01-02-2020                 70             62   \n",
       "1          1002         Pritam  07-04-2020                 86             61   \n",
       "2          1003         Pritha  01-02-2020                 86             67   \n",
       "3          1004          David  15-05-2020                 55             82   \n",
       "4          1005        Kaushik  15-05-2020                 76             84   \n",
       "5          1006        Somnath  26-05-2020                 80             84   \n",
       "6          1007          Peter  03-06-2020                 79             73   \n",
       "\n",
       "   Chemistry Score  Final Test Score  \n",
       "0               81              66.0  \n",
       "1               73              73.5  \n",
       "2               68              76.5  \n",
       "3               62              68.5  \n",
       "4               57              80.0  \n",
       "5               49              82.0  \n",
       "6               63              76.0  "
      ]
     },
     "execution_count": 3,
     "metadata": {},
     "output_type": "execute_result"
    }
   ],
   "source": [
    "data_frame = exercise01_02()\n",
    "data_frame"
   ]
  },
  {
   "cell_type": "code",
   "execution_count": null,
   "metadata": {},
   "outputs": [],
   "source": []
  }
 ],
 "metadata": {
  "colab": {
   "collapsed_sections": [],
   "name": "Exercise01_02.ipynb",
   "provenance": []
  },
  "kernelspec": {
   "display_name": "Python 3",
   "language": "python",
   "name": "python3"
  },
  "language_info": {
   "codemirror_mode": {
    "name": "ipython",
    "version": 3
   },
   "file_extension": ".py",
   "mimetype": "text/x-python",
   "name": "python",
   "nbconvert_exporter": "python",
   "pygments_lexer": "ipython3",
   "version": "3.7.4"
  }
 },
 "nbformat": 4,
 "nbformat_minor": 1
}
