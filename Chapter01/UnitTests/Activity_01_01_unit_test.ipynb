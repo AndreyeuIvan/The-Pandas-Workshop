{
 "cells": [
  {
   "cell_type": "code",
   "execution_count": 1,
   "metadata": {
    "colab": {},
    "colab_type": "code",
    "id": "QUBNFitzGn8c"
   },
   "outputs": [],
   "source": [
    "# Importing pandas library with alias name pd\n",
    "import pandas as pd\n",
    "import unittest"
   ]
  },
  {
   "cell_type": "code",
   "execution_count": 2,
   "metadata": {
    "colab": {},
    "colab_type": "code",
    "id": "tv3FpesXKNFr"
   },
   "outputs": [
    {
     "name": "stdout",
     "output_type": "stream",
     "text": [
      "Applicant Id          int64\n",
      "Applicant Name       object\n",
      "Test Date            object\n",
      "Mathematics Score     int64\n",
      "Physics Score         int64\n",
      "Chemistry Score       int64\n",
      "dtype: object\n",
      "   Applicant Id Applicant Name  Test Date  Mathematics Score  Physics Score  \\\n",
      "3          1004          David 2020-05-15                 55             82   \n",
      "4          1005        Kaushik 2020-05-15                 76             84   \n",
      "5          1006        Somnath 2020-05-26                 80             84   \n",
      "6          1007          Peter 2020-06-03                 79             73   \n",
      "\n",
      "   Chemistry Score  \n",
      "3               62  \n",
      "4               57  \n",
      "5               49  \n",
      "6               63  \n"
     ]
    }
   ],
   "source": [
    "%run ./../Activity_01_01/Activity_01_01.ipynb"
   ]
  },
  {
   "cell_type": "code",
   "execution_count": 3,
   "metadata": {},
   "outputs": [
    {
     "name": "stderr",
     "output_type": "stream",
     "text": [
      "."
     ]
    },
    {
     "name": "stdout",
     "output_type": "stream",
     "text": [
      "Applicant Id          int64\n",
      "Applicant Name       object\n",
      "Test Date            object\n",
      "Mathematics Score     int64\n",
      "Physics Score         int64\n",
      "Chemistry Score       int64\n",
      "dtype: object\n",
      "   Applicant Id Applicant Name  Test Date  Mathematics Score  Physics Score  \\\n",
      "3          1004          David 2020-05-15                 55             82   \n",
      "4          1005        Kaushik 2020-05-15                 76             84   \n",
      "5          1006        Somnath 2020-05-26                 80             84   \n",
      "6          1007          Peter 2020-06-03                 79             73   \n",
      "\n",
      "   Chemistry Score  \n",
      "3               62  \n",
      "4               57  \n",
      "5               49  \n",
      "6               63  \n"
     ]
    },
    {
     "name": "stderr",
     "output_type": "stream",
     "text": [
      "\n",
      "----------------------------------------------------------------------\n",
      "Ran 1 test in 0.011s\n",
      "\n",
      "OK\n"
     ]
    }
   ],
   "source": [
    "class TestActivity01_01(unittest.TestCase):\n",
    "\n",
    "    def test_activity01_01(self):\n",
    "        filtered_data_frame = activity01_01_prep()\n",
    "        data_frame = activity01_01(filtered_data_frame)\n",
    "        self.assertEqual(len(data_frame['Average Score']), 4)\n",
    "\n",
    "if __name__ == '__main__':\n",
    "    unittest.main(argv=['first-arg-is-ignored'], exit=False)"
   ]
  },
  {
   "cell_type": "code",
   "execution_count": null,
   "metadata": {},
   "outputs": [],
   "source": []
  }
 ],
 "metadata": {
  "colab": {
   "collapsed_sections": [],
   "name": "Exercise01_01.ipynb",
   "provenance": []
  },
  "kernelspec": {
   "display_name": "Python 3",
   "language": "python",
   "name": "python3"
  },
  "language_info": {
   "codemirror_mode": {
    "name": "ipython",
    "version": 3
   },
   "file_extension": ".py",
   "mimetype": "text/x-python",
   "name": "python",
   "nbconvert_exporter": "python",
   "pygments_lexer": "ipython3",
   "version": "3.7.4"
  }
 },
 "nbformat": 4,
 "nbformat_minor": 1
}
