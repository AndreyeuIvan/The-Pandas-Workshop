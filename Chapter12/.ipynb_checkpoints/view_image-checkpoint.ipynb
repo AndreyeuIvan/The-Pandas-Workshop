{
 "cells": [
  {
   "cell_type": "code",
   "execution_count": 11,
   "id": "34dec0f6",
   "metadata": {},
   "outputs": [],
   "source": [
    "from PIL import Image\n",
    "import numpy as np"
   ]
  },
  {
   "cell_type": "code",
   "execution_count": 12,
   "id": "0c08291a",
   "metadata": {},
   "outputs": [],
   "source": [
    "image = Image.open(\"c:/eaf llc/aa-analytics and bi/alliance molds/radome_quality/large_scratch.png\").resize((255, 255))\n",
    "data = (np.asarray(image) / 255)"
   ]
  },
  {
   "cell_type": "code",
   "execution_count": null,
   "id": "7763d452",
   "metadata": {},
   "outputs": [],
   "source": [
    "image.show()"
   ]
  },
  {
   "cell_type": "code",
   "execution_count": null,
   "id": "a54b837e",
   "metadata": {},
   "outputs": [],
   "source": []
  }
 ],
 "metadata": {
  "kernelspec": {
   "display_name": "Python 3 (ipykernel)",
   "language": "python",
   "name": "python3"
  },
  "language_info": {
   "codemirror_mode": {
    "name": "ipython",
    "version": 3
   },
   "file_extension": ".py",
   "mimetype": "text/x-python",
   "name": "python",
   "nbconvert_exporter": "python",
   "pygments_lexer": "ipython3",
   "version": "3.9.5"
  }
 },
 "nbformat": 4,
 "nbformat_minor": 5
}
