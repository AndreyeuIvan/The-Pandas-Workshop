{
 "cells": [
  {
   "cell_type": "code",
   "execution_count": 1,
   "id": "c790bb88",
   "metadata": {},
   "outputs": [],
   "source": [
    "#\n",
    "# libraries\n",
    "#\n",
    "import pandas as pd\n",
    "import numpy as np\n",
    "#"
   ]
  },
  {
   "cell_type": "code",
   "execution_count": 2,
   "id": "a711d9cb",
   "metadata": {},
   "outputs": [],
   "source": [
    "data_fn = 'household_power_consumption.csv'\n",
    "home_elec = \\\n",
    "    pd.read_csv('../datasets/' + data_fn, \n",
    "                sep = ';',\n",
    "                low_memory = False)"
   ]
  },
  {
   "cell_type": "code",
   "execution_count": 3,
   "id": "950c585c",
   "metadata": {
    "scrolled": true
   },
   "outputs": [
    {
     "data": {
      "text/html": [
       "<div>\n",
       "<style scoped>\n",
       "    .dataframe tbody tr th:only-of-type {\n",
       "        vertical-align: middle;\n",
       "    }\n",
       "\n",
       "    .dataframe tbody tr th {\n",
       "        vertical-align: top;\n",
       "    }\n",
       "\n",
       "    .dataframe thead th {\n",
       "        text-align: right;\n",
       "    }\n",
       "</style>\n",
       "<table border=\"1\" class=\"dataframe\">\n",
       "  <thead>\n",
       "    <tr style=\"text-align: right;\">\n",
       "      <th></th>\n",
       "      <th>Date</th>\n",
       "      <th>Time</th>\n",
       "      <th>Global_active_power</th>\n",
       "      <th>Global_reactive_power</th>\n",
       "      <th>Voltage</th>\n",
       "      <th>Global_intensity</th>\n",
       "      <th>Sub_metering_1</th>\n",
       "      <th>Sub_metering_2</th>\n",
       "      <th>Sub_metering_3</th>\n",
       "    </tr>\n",
       "  </thead>\n",
       "  <tbody>\n",
       "    <tr>\n",
       "      <th>0</th>\n",
       "      <td>16/12/2006</td>\n",
       "      <td>17:24:00</td>\n",
       "      <td>4.216</td>\n",
       "      <td>0.418</td>\n",
       "      <td>234.840</td>\n",
       "      <td>18.400</td>\n",
       "      <td>0.000</td>\n",
       "      <td>1.000</td>\n",
       "      <td>17.0</td>\n",
       "    </tr>\n",
       "    <tr>\n",
       "      <th>1</th>\n",
       "      <td>16/12/2006</td>\n",
       "      <td>17:25:00</td>\n",
       "      <td>5.360</td>\n",
       "      <td>0.436</td>\n",
       "      <td>233.630</td>\n",
       "      <td>23.000</td>\n",
       "      <td>0.000</td>\n",
       "      <td>1.000</td>\n",
       "      <td>16.0</td>\n",
       "    </tr>\n",
       "    <tr>\n",
       "      <th>2</th>\n",
       "      <td>16/12/2006</td>\n",
       "      <td>17:26:00</td>\n",
       "      <td>5.374</td>\n",
       "      <td>0.498</td>\n",
       "      <td>233.290</td>\n",
       "      <td>23.000</td>\n",
       "      <td>0.000</td>\n",
       "      <td>2.000</td>\n",
       "      <td>17.0</td>\n",
       "    </tr>\n",
       "    <tr>\n",
       "      <th>3</th>\n",
       "      <td>16/12/2006</td>\n",
       "      <td>17:27:00</td>\n",
       "      <td>5.388</td>\n",
       "      <td>0.502</td>\n",
       "      <td>233.740</td>\n",
       "      <td>23.000</td>\n",
       "      <td>0.000</td>\n",
       "      <td>1.000</td>\n",
       "      <td>17.0</td>\n",
       "    </tr>\n",
       "    <tr>\n",
       "      <th>4</th>\n",
       "      <td>16/12/2006</td>\n",
       "      <td>17:28:00</td>\n",
       "      <td>3.666</td>\n",
       "      <td>0.528</td>\n",
       "      <td>235.680</td>\n",
       "      <td>15.800</td>\n",
       "      <td>0.000</td>\n",
       "      <td>1.000</td>\n",
       "      <td>17.0</td>\n",
       "    </tr>\n",
       "  </tbody>\n",
       "</table>\n",
       "</div>"
      ],
      "text/plain": [
       "         Date      Time Global_active_power Global_reactive_power  Voltage  \\\n",
       "0  16/12/2006  17:24:00               4.216                 0.418  234.840   \n",
       "1  16/12/2006  17:25:00               5.360                 0.436  233.630   \n",
       "2  16/12/2006  17:26:00               5.374                 0.498  233.290   \n",
       "3  16/12/2006  17:27:00               5.388                 0.502  233.740   \n",
       "4  16/12/2006  17:28:00               3.666                 0.528  235.680   \n",
       "\n",
       "  Global_intensity Sub_metering_1 Sub_metering_2  Sub_metering_3  \n",
       "0           18.400          0.000          1.000            17.0  \n",
       "1           23.000          0.000          1.000            16.0  \n",
       "2           23.000          0.000          2.000            17.0  \n",
       "3           23.000          0.000          1.000            17.0  \n",
       "4           15.800          0.000          1.000            17.0  "
      ]
     },
     "execution_count": 3,
     "metadata": {},
     "output_type": "execute_result"
    }
   ],
   "source": [
    "home_elec.head()"
   ]
  },
  {
   "cell_type": "code",
   "execution_count": 4,
   "id": "f49474f7",
   "metadata": {},
   "outputs": [
    {
     "data": {
      "text/plain": [
       "Date                      object\n",
       "Time                      object\n",
       "Global_active_power       object\n",
       "Global_reactive_power     object\n",
       "Voltage                   object\n",
       "Global_intensity          object\n",
       "Sub_metering_1            object\n",
       "Sub_metering_2            object\n",
       "Sub_metering_3           float64\n",
       "dtype: object"
      ]
     },
     "execution_count": 4,
     "metadata": {},
     "output_type": "execute_result"
    }
   ],
   "source": [
    "home_elec.dtypes"
   ]
  },
  {
   "cell_type": "code",
   "execution_count": 5,
   "id": "f8ac8b96",
   "metadata": {},
   "outputs": [
    {
     "name": "stdout",
     "output_type": "stream",
     "text": [
      "information for column Date:\n",
      " count       2075259\n",
      "unique         1442\n",
      "top       19/6/2009\n",
      "freq           1440\n",
      "Name: Date, dtype: object\n",
      "information for column Time:\n",
      " count      2075259\n",
      "unique        1440\n",
      "top       20:56:00\n",
      "freq          1442\n",
      "Name: Time, dtype: object\n",
      "information for column Global_active_power:\n",
      " count     2075259\n",
      "unique       4187\n",
      "top             ?\n",
      "freq        25979\n",
      "Name: Global_active_power, dtype: object\n",
      "information for column Global_reactive_power:\n",
      " count     2075259\n",
      "unique        533\n",
      "top         0.000\n",
      "freq       481561\n",
      "Name: Global_reactive_power, dtype: object\n",
      "information for column Voltage:\n",
      " count     2075259\n",
      "unique       2838\n",
      "top             ?\n",
      "freq        25979\n",
      "Name: Voltage, dtype: object\n",
      "information for column Global_intensity:\n",
      " count     2075259\n",
      "unique        222\n",
      "top         1.000\n",
      "freq       172785\n",
      "Name: Global_intensity, dtype: object\n",
      "information for column Sub_metering_1:\n",
      " count     2075259\n",
      "unique         89\n",
      "top         0.000\n",
      "freq      1880175\n",
      "Name: Sub_metering_1, dtype: object\n",
      "information for column Sub_metering_2:\n",
      " count     2075259\n",
      "unique         82\n",
      "top         0.000\n",
      "freq      1436830\n",
      "Name: Sub_metering_2, dtype: object\n",
      "information for column Sub_metering_3:\n",
      " count    2.049280e+06\n",
      "mean     6.458447e+00\n",
      "std      8.437154e+00\n",
      "min      0.000000e+00\n",
      "25%      0.000000e+00\n",
      "50%      1.000000e+00\n",
      "75%      1.700000e+01\n",
      "max      3.100000e+01\n",
      "Name: Sub_metering_3, dtype: float64\n"
     ]
    }
   ],
   "source": [
    "for col in home_elec.columns:\n",
    "    print('information for column ' + \n",
    "          col + \n",
    "          ':\\n', \n",
    "          home_elec[col].describe())"
   ]
  },
  {
   "cell_type": "code",
   "execution_count": 7,
   "id": "afb34247",
   "metadata": {},
   "outputs": [],
   "source": [
    "home_elec.replace('?', np.nan, inplace = True)\n",
    "home_elec.interpolate(inplace = True)"
   ]
  },
  {
   "cell_type": "code",
   "execution_count": 8,
   "id": "5e971cd0",
   "metadata": {},
   "outputs": [],
   "source": [
    "for col in home_elec.columns[2:]:\n",
    "    home_elec[col] = home_elec[col].astype(float)"
   ]
  },
  {
   "cell_type": "code",
   "execution_count": 10,
   "id": "17c8921b",
   "metadata": {},
   "outputs": [
    {
     "data": {
      "text/plain": [
       "<AxesSubplot:xlabel='Date'>"
      ]
     },
     "execution_count": 10,
     "metadata": {},
     "output_type": "execute_result"
    },
    {
     "data": {
      "image/png": "[encoded data removed]",
      "text/plain": [
       "<Figure size 432x288 with 1 Axes>"
      ]
     },
     "metadata": {
      "needs_background": "light"
     },
     "output_type": "display_data"
    }
   ],
   "source": [
    "(home_elec[['Date', \n",
    "            'Sub_metering_1']].\n",
    "             plot(x = 'Date', \n",
    "                  y = 'Sub_metering_1'))"
   ]
  },
  {
   "cell_type": "code",
   "execution_count": 11,
   "id": "5596d3e9",
   "metadata": {},
   "outputs": [
    {
     "data": {
      "text/html": [
       "<div>\n",
       "<style scoped>\n",
       "    .dataframe tbody tr th:only-of-type {\n",
       "        vertical-align: middle;\n",
       "    }\n",
       "\n",
       "    .dataframe tbody tr th {\n",
       "        vertical-align: top;\n",
       "    }\n",
       "\n",
       "    .dataframe thead th {\n",
       "        text-align: right;\n",
       "    }\n",
       "</style>\n",
       "<table border=\"1\" class=\"dataframe\">\n",
       "  <thead>\n",
       "    <tr style=\"text-align: right;\">\n",
       "      <th></th>\n",
       "      <th>Date</th>\n",
       "      <th>Time</th>\n",
       "      <th>Kitchen_power_use</th>\n",
       "    </tr>\n",
       "  </thead>\n",
       "  <tbody>\n",
       "    <tr>\n",
       "      <th>1074636</th>\n",
       "      <td>1/1/2009</td>\n",
       "      <td>00:00:00</td>\n",
       "      <td>0.0</td>\n",
       "    </tr>\n",
       "    <tr>\n",
       "      <th>1074637</th>\n",
       "      <td>1/1/2009</td>\n",
       "      <td>00:01:00</td>\n",
       "      <td>0.0</td>\n",
       "    </tr>\n",
       "    <tr>\n",
       "      <th>1074638</th>\n",
       "      <td>1/1/2009</td>\n",
       "      <td>00:02:00</td>\n",
       "      <td>0.0</td>\n",
       "    </tr>\n",
       "    <tr>\n",
       "      <th>1074639</th>\n",
       "      <td>1/1/2009</td>\n",
       "      <td>00:03:00</td>\n",
       "      <td>0.0</td>\n",
       "    </tr>\n",
       "    <tr>\n",
       "      <th>1074640</th>\n",
       "      <td>1/1/2009</td>\n",
       "      <td>00:04:00</td>\n",
       "      <td>0.0</td>\n",
       "    </tr>\n",
       "  </tbody>\n",
       "</table>\n",
       "</div>"
      ],
      "text/plain": [
       "             Date      Time  Kitchen_power_use\n",
       "1074636  1/1/2009  00:00:00                0.0\n",
       "1074637  1/1/2009  00:01:00                0.0\n",
       "1074638  1/1/2009  00:02:00                0.0\n",
       "1074639  1/1/2009  00:03:00                0.0\n",
       "1074640  1/1/2009  00:04:00                0.0"
      ]
     },
     "execution_count": 11,
     "metadata": {},
     "output_type": "execute_result"
    }
   ],
   "source": [
    "#\n",
    "# Sub_metering_1 is the kitchen and related\n",
    "# create a new DataFrame with the dates, times and these data\n",
    "#\n",
    "kitchen_elec = home_elec[['Date', \n",
    "                          'Time', \n",
    "                          'Sub_metering_1']]\n",
    "(kitchen_elec = \\\n",
    "     kitchen_elec.loc[kitchen_elec['Date'].\n",
    "                      str.contains('2009'), :])\n",
    "kitchen_elec.columns = ['Date',\n",
    "                        'Time',\n",
    "                        'Kitchen_power_use']\n",
    "kitchen_elec.head()"
   ]
  },
  {
   "cell_type": "code",
   "execution_count": 12,
   "id": "73581e62",
   "metadata": {},
   "outputs": [
    {
     "data": {
      "text/html": [
       "<div>\n",
       "<style scoped>\n",
       "    .dataframe tbody tr th:only-of-type {\n",
       "        vertical-align: middle;\n",
       "    }\n",
       "\n",
       "    .dataframe tbody tr th {\n",
       "        vertical-align: top;\n",
       "    }\n",
       "\n",
       "    .dataframe thead th {\n",
       "        text-align: right;\n",
       "    }\n",
       "</style>\n",
       "<table border=\"1\" class=\"dataframe\">\n",
       "  <thead>\n",
       "    <tr style=\"text-align: right;\">\n",
       "      <th></th>\n",
       "      <th>Date</th>\n",
       "      <th>Time</th>\n",
       "      <th>Kitchen_power_use</th>\n",
       "      <th>timestamp</th>\n",
       "    </tr>\n",
       "  </thead>\n",
       "  <tbody>\n",
       "    <tr>\n",
       "      <th>1074636</th>\n",
       "      <td>1/1/2009</td>\n",
       "      <td>00:00:00</td>\n",
       "      <td>0.0</td>\n",
       "      <td>2009-01-01 00:00:00</td>\n",
       "    </tr>\n",
       "    <tr>\n",
       "      <th>1074637</th>\n",
       "      <td>1/1/2009</td>\n",
       "      <td>00:01:00</td>\n",
       "      <td>0.0</td>\n",
       "      <td>2009-01-01 00:01:00</td>\n",
       "    </tr>\n",
       "    <tr>\n",
       "      <th>1074638</th>\n",
       "      <td>1/1/2009</td>\n",
       "      <td>00:02:00</td>\n",
       "      <td>0.0</td>\n",
       "      <td>2009-01-01 00:02:00</td>\n",
       "    </tr>\n",
       "    <tr>\n",
       "      <th>1074639</th>\n",
       "      <td>1/1/2009</td>\n",
       "      <td>00:03:00</td>\n",
       "      <td>0.0</td>\n",
       "      <td>2009-01-01 00:03:00</td>\n",
       "    </tr>\n",
       "    <tr>\n",
       "      <th>1074640</th>\n",
       "      <td>1/1/2009</td>\n",
       "      <td>00:04:00</td>\n",
       "      <td>0.0</td>\n",
       "      <td>2009-01-01 00:04:00</td>\n",
       "    </tr>\n",
       "  </tbody>\n",
       "</table>\n",
       "</div>"
      ],
      "text/plain": [
       "             Date      Time  Kitchen_power_use           timestamp\n",
       "1074636  1/1/2009  00:00:00                0.0 2009-01-01 00:00:00\n",
       "1074637  1/1/2009  00:01:00                0.0 2009-01-01 00:01:00\n",
       "1074638  1/1/2009  00:02:00                0.0 2009-01-01 00:02:00\n",
       "1074639  1/1/2009  00:03:00                0.0 2009-01-01 00:03:00\n",
       "1074640  1/1/2009  00:04:00                0.0 2009-01-01 00:04:00"
      ]
     },
     "execution_count": 12,
     "metadata": {},
     "output_type": "execute_result"
    }
   ],
   "source": [
    "kitchen_elec.loc[:, 'timestamp'] = \\\n",
    "    pd.to_datetime(kitchen_elec.loc[:, 'Date'] + ' '\n",
    "                   + kitchen_elec.loc[:, 'Time'],\n",
    "                  dayfirst = True)\n",
    "kitchen_elec.sort_values('timestamp', \n",
    "                         inplace = True)\n",
    "kitchen_elec.head()"
   ]
  },
  {
   "cell_type": "code",
   "execution_count": 13,
   "id": "42bdc098",
   "metadata": {},
   "outputs": [
    {
     "data": {
      "text/html": [
       "<div>\n",
       "<style scoped>\n",
       "    .dataframe tbody tr th:only-of-type {\n",
       "        vertical-align: middle;\n",
       "    }\n",
       "\n",
       "    .dataframe tbody tr th {\n",
       "        vertical-align: top;\n",
       "    }\n",
       "\n",
       "    .dataframe thead th {\n",
       "        text-align: right;\n",
       "    }\n",
       "</style>\n",
       "<table border=\"1\" class=\"dataframe\">\n",
       "  <thead>\n",
       "    <tr style=\"text-align: right;\">\n",
       "      <th></th>\n",
       "      <th>Date</th>\n",
       "      <th>Time</th>\n",
       "      <th>Kitchen_power_use</th>\n",
       "      <th>timestamp</th>\n",
       "      <th>hour</th>\n",
       "      <th>date</th>\n",
       "    </tr>\n",
       "  </thead>\n",
       "  <tbody>\n",
       "    <tr>\n",
       "      <th>1074636</th>\n",
       "      <td>1/1/2009</td>\n",
       "      <td>00:00:00</td>\n",
       "      <td>0.0</td>\n",
       "      <td>2009-01-01 00:00:00</td>\n",
       "      <td>0</td>\n",
       "      <td>2009-01-01</td>\n",
       "    </tr>\n",
       "    <tr>\n",
       "      <th>1074637</th>\n",
       "      <td>1/1/2009</td>\n",
       "      <td>00:01:00</td>\n",
       "      <td>0.0</td>\n",
       "      <td>2009-01-01 00:01:00</td>\n",
       "      <td>0</td>\n",
       "      <td>2009-01-01</td>\n",
       "    </tr>\n",
       "    <tr>\n",
       "      <th>1074638</th>\n",
       "      <td>1/1/2009</td>\n",
       "      <td>00:02:00</td>\n",
       "      <td>0.0</td>\n",
       "      <td>2009-01-01 00:02:00</td>\n",
       "      <td>0</td>\n",
       "      <td>2009-01-01</td>\n",
       "    </tr>\n",
       "    <tr>\n",
       "      <th>1074639</th>\n",
       "      <td>1/1/2009</td>\n",
       "      <td>00:03:00</td>\n",
       "      <td>0.0</td>\n",
       "      <td>2009-01-01 00:03:00</td>\n",
       "      <td>0</td>\n",
       "      <td>2009-01-01</td>\n",
       "    </tr>\n",
       "    <tr>\n",
       "      <th>1074640</th>\n",
       "      <td>1/1/2009</td>\n",
       "      <td>00:04:00</td>\n",
       "      <td>0.0</td>\n",
       "      <td>2009-01-01 00:04:00</td>\n",
       "      <td>0</td>\n",
       "      <td>2009-01-01</td>\n",
       "    </tr>\n",
       "  </tbody>\n",
       "</table>\n",
       "</div>"
      ],
      "text/plain": [
       "             Date      Time  Kitchen_power_use           timestamp  hour  \\\n",
       "1074636  1/1/2009  00:00:00                0.0 2009-01-01 00:00:00     0   \n",
       "1074637  1/1/2009  00:01:00                0.0 2009-01-01 00:01:00     0   \n",
       "1074638  1/1/2009  00:02:00                0.0 2009-01-01 00:02:00     0   \n",
       "1074639  1/1/2009  00:03:00                0.0 2009-01-01 00:03:00     0   \n",
       "1074640  1/1/2009  00:04:00                0.0 2009-01-01 00:04:00     0   \n",
       "\n",
       "               date  \n",
       "1074636  2009-01-01  \n",
       "1074637  2009-01-01  \n",
       "1074638  2009-01-01  \n",
       "1074639  2009-01-01  \n",
       "1074640  2009-01-01  "
      ]
     },
     "execution_count": 13,
     "metadata": {},
     "output_type": "execute_result"
    }
   ],
   "source": [
    "#\n",
    "# create an hours column\n",
    "#\n",
    "kitchen_elec['hour'] = \\\n",
    "    kitchen_elec['timestamp'].dt.hour\n",
    "#\n",
    "# create a date column in the standard format\n",
    "#\n",
    "kitchen_elec['date'] = \\\n",
    "    kitchen_elec['timestamp'].dt.date\n",
    "kitchen_elec.head()"
   ]
  },
  {
   "cell_type": "code",
   "execution_count": 14,
   "id": "58b83186",
   "metadata": {},
   "outputs": [
    {
     "data": {
      "text/html": [
       "<div>\n",
       "<style scoped>\n",
       "    .dataframe tbody tr th:only-of-type {\n",
       "        vertical-align: middle;\n",
       "    }\n",
       "\n",
       "    .dataframe tbody tr th {\n",
       "        vertical-align: top;\n",
       "    }\n",
       "\n",
       "    .dataframe thead th {\n",
       "        text-align: right;\n",
       "    }\n",
       "</style>\n",
       "<table border=\"1\" class=\"dataframe\">\n",
       "  <thead>\n",
       "    <tr style=\"text-align: right;\">\n",
       "      <th></th>\n",
       "      <th>date</th>\n",
       "      <th>hour</th>\n",
       "      <th>Kitchen_power_use</th>\n",
       "    </tr>\n",
       "  </thead>\n",
       "  <tbody>\n",
       "    <tr>\n",
       "      <th>20</th>\n",
       "      <td>2009-01-01</td>\n",
       "      <td>20</td>\n",
       "      <td>0.0</td>\n",
       "    </tr>\n",
       "    <tr>\n",
       "      <th>21</th>\n",
       "      <td>2009-01-01</td>\n",
       "      <td>21</td>\n",
       "      <td>0.0</td>\n",
       "    </tr>\n",
       "    <tr>\n",
       "      <th>22</th>\n",
       "      <td>2009-01-01</td>\n",
       "      <td>22</td>\n",
       "      <td>0.0</td>\n",
       "    </tr>\n",
       "    <tr>\n",
       "      <th>23</th>\n",
       "      <td>2009-01-01</td>\n",
       "      <td>23</td>\n",
       "      <td>0.0</td>\n",
       "    </tr>\n",
       "    <tr>\n",
       "      <th>24</th>\n",
       "      <td>2009-01-02</td>\n",
       "      <td>0</td>\n",
       "      <td>0.0</td>\n",
       "    </tr>\n",
       "    <tr>\n",
       "      <th>25</th>\n",
       "      <td>2009-01-02</td>\n",
       "      <td>1</td>\n",
       "      <td>0.0</td>\n",
       "    </tr>\n",
       "    <tr>\n",
       "      <th>26</th>\n",
       "      <td>2009-01-02</td>\n",
       "      <td>2</td>\n",
       "      <td>0.0</td>\n",
       "    </tr>\n",
       "    <tr>\n",
       "      <th>27</th>\n",
       "      <td>2009-01-02</td>\n",
       "      <td>3</td>\n",
       "      <td>0.0</td>\n",
       "    </tr>\n",
       "  </tbody>\n",
       "</table>\n",
       "</div>"
      ],
      "text/plain": [
       "          date  hour  Kitchen_power_use\n",
       "20  2009-01-01    20                0.0\n",
       "21  2009-01-01    21                0.0\n",
       "22  2009-01-01    22                0.0\n",
       "23  2009-01-01    23                0.0\n",
       "24  2009-01-02     0                0.0\n",
       "25  2009-01-02     1                0.0\n",
       "26  2009-01-02     2                0.0\n",
       "27  2009-01-02     3                0.0"
      ]
     },
     "execution_count": 14,
     "metadata": {},
     "output_type": "execute_result"
    }
   ],
   "source": [
    "kitchen_elec = \\\n",
    "    (kitchen_elec[['date',\n",
    "                  'hour', \n",
    "                  'Kitchen_power_use']].\n",
    "                  groupby(['date',\n",
    "                           'hour']).sum())\n",
    "kitchen_elec.reset_index(inplace = True)\n",
    "kitchen_elec.iloc[20:28, :]"
   ]
  },
  {
   "cell_type": "code",
   "execution_count": 15,
   "id": "2c64926d",
   "metadata": {},
   "outputs": [
    {
     "data": {
      "text/plain": [
       "<AxesSubplot:xlabel='hour'>"
      ]
     },
     "execution_count": 15,
     "metadata": {},
     "output_type": "execute_result"
    },
    {
     "data": {
      "image/png": "[encoded data removed]",
      "text/plain": [
       "<Figure size 432x288 with 1 Axes>"
      ]
     },
     "metadata": {
      "needs_background": "light"
     },
     "output_type": "display_data"
    }
   ],
   "source": [
    "#\n",
    "# aggregate values by hour for January\n",
    "#\n",
    "(kitchen_elec.loc[((kitchen_elec['date'] >= \n",
    "                    pd.to_datetime('2009-01-01')) & \n",
    "                   (kitchen_elec['date'] <\n",
    "                    pd.to_datetime('2009-02-01'))),\n",
    "                  ['hour',\n",
    "                   'Kitchen_power_use']].\n",
    "                   groupby('hour').mean().plot(kind = \n",
    "                                               'bar'))"
   ]
  },
  {
   "cell_type": "code",
   "execution_count": 16,
   "id": "eee40bbf",
   "metadata": {},
   "outputs": [
    {
     "data": {
      "text/plain": [
       "<AxesSubplot:xlabel='hour'>"
      ]
     },
     "execution_count": 16,
     "metadata": {},
     "output_type": "execute_result"
    },
    {
     "data": {
      "image/png": "[encoded data removed]",
      "text/plain": [
       "<Figure size 432x288 with 1 Axes>"
      ]
     },
     "metadata": {
      "needs_background": "light"
     },
     "output_type": "display_data"
    }
   ],
   "source": [
    "#\n",
    "# aggregate values by hour for the entire year\n",
    "#\n",
    "(kitchen_elec.loc[:,\n",
    "                  ['hour', \n",
    "                   'Kitchen_power_use']].\n",
    "                    groupby('hour').mean().plot(kind = \n",
    "                                                'bar'))"
   ]
  },
  {
   "cell_type": "code",
   "execution_count": null,
   "id": "8542d7e2",
   "metadata": {},
   "outputs": [],
   "source": []
  }
 ],
 "metadata": {
  "kernelspec": {
   "display_name": "Python 3",
   "language": "python",
   "name": "python3"
  },
  "language_info": {
   "codemirror_mode": {
    "name": "ipython",
    "version": 3
   },
   "file_extension": ".py",
   "mimetype": "text/x-python",
   "name": "python",
   "nbconvert_exporter": "python",
   "pygments_lexer": "ipython3",
   "version": "3.8.10"
  }
 },
 "nbformat": 4,
 "nbformat_minor": 5
}
