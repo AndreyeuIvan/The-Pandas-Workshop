{
 "cells": [
  {
   "cell_type": "code",
   "execution_count": 1,
   "metadata": {},
   "outputs": [],
   "source": [
    "#\n",
    "# libraries\n",
    "#\n",
    "import pandas as pd"
   ]
  },
  {
   "cell_type": "code",
   "execution_count": 2,
   "metadata": {},
   "outputs": [
    {
     "data": {
      "text/html": [
       "<div>\n",
       "<style scoped>\n",
       "    .dataframe tbody tr th:only-of-type {\n",
       "        vertical-align: middle;\n",
       "    }\n",
       "\n",
       "    .dataframe tbody tr th {\n",
       "        vertical-align: top;\n",
       "    }\n",
       "\n",
       "    .dataframe thead th {\n",
       "        text-align: right;\n",
       "    }\n",
       "</style>\n",
       "<table border=\"1\" class=\"dataframe\">\n",
       "  <thead>\n",
       "    <tr style=\"text-align: right;\">\n",
       "      <th></th>\n",
       "      <th>datetime</th>\n",
       "      <th>power</th>\n",
       "    </tr>\n",
       "  </thead>\n",
       "  <tbody>\n",
       "    <tr>\n",
       "      <th>0</th>\n",
       "      <td>2020-1-1 00:00</td>\n",
       "      <td>221.403466</td>\n",
       "    </tr>\n",
       "    <tr>\n",
       "      <th>1</th>\n",
       "      <td>2020-1-1 01:55</td>\n",
       "      <td>327.370592</td>\n",
       "    </tr>\n",
       "    <tr>\n",
       "      <th>2</th>\n",
       "      <td>2020-1-1 03:50</td>\n",
       "      <td>223.272440</td>\n",
       "    </tr>\n",
       "    <tr>\n",
       "      <th>3</th>\n",
       "      <td>2020-1-1 04:04</td>\n",
       "      <td>328.380592</td>\n",
       "    </tr>\n",
       "    <tr>\n",
       "      <th>4</th>\n",
       "      <td>2020-1-1 05:45</td>\n",
       "      <td>329.109239</td>\n",
       "    </tr>\n",
       "  </tbody>\n",
       "</table>\n",
       "</div>"
      ],
      "text/plain": [
       "         datetime       power\n",
       "0  2020-1-1 00:00  221.403466\n",
       "1  2020-1-1 01:55  327.370592\n",
       "2  2020-1-1 03:50  223.272440\n",
       "3  2020-1-1 04:04  328.380592\n",
       "4  2020-1-1 05:45  329.109239"
      ]
     },
     "execution_count": 2,
     "metadata": {},
     "output_type": "execute_result"
    }
   ],
   "source": [
    "#\n",
    "# load data\n",
    "#\n",
    "engine_power = pd.read_csv('../datasets/engine_power.csv')\n",
    "engine_power.head()"
   ]
  },
  {
   "cell_type": "code",
   "execution_count": 3,
   "metadata": {},
   "outputs": [
    {
     "name": "stdout",
     "output_type": "stream",
     "text": [
      "2020-1-1 00:00\n",
      "<class 'str'>\n"
     ]
    }
   ],
   "source": [
    "print(engine_power.datetime[0])\n",
    "print(type(engine_power.datetime[0]))"
   ]
  },
  {
   "cell_type": "code",
   "execution_count": 4,
   "metadata": {
    "scrolled": false
   },
   "outputs": [
    {
     "data": {
      "text/html": [
       "<div>\n",
       "<style scoped>\n",
       "    .dataframe tbody tr th:only-of-type {\n",
       "        vertical-align: middle;\n",
       "    }\n",
       "\n",
       "    .dataframe tbody tr th {\n",
       "        vertical-align: top;\n",
       "    }\n",
       "\n",
       "    .dataframe thead th {\n",
       "        text-align: right;\n",
       "    }\n",
       "</style>\n",
       "<table border=\"1\" class=\"dataframe\">\n",
       "  <thead>\n",
       "    <tr style=\"text-align: right;\">\n",
       "      <th></th>\n",
       "      <th>datetime</th>\n",
       "      <th>power</th>\n",
       "    </tr>\n",
       "  </thead>\n",
       "  <tbody>\n",
       "    <tr>\n",
       "      <th>0</th>\n",
       "      <td>2020-01-01 00:00:00</td>\n",
       "      <td>221.403466</td>\n",
       "    </tr>\n",
       "    <tr>\n",
       "      <th>1</th>\n",
       "      <td>2020-01-01 01:55:00</td>\n",
       "      <td>327.370592</td>\n",
       "    </tr>\n",
       "    <tr>\n",
       "      <th>2</th>\n",
       "      <td>2020-01-01 03:50:00</td>\n",
       "      <td>223.272440</td>\n",
       "    </tr>\n",
       "    <tr>\n",
       "      <th>3</th>\n",
       "      <td>2020-01-01 04:04:00</td>\n",
       "      <td>328.380592</td>\n",
       "    </tr>\n",
       "    <tr>\n",
       "      <th>4</th>\n",
       "      <td>2020-01-01 05:45:00</td>\n",
       "      <td>329.109239</td>\n",
       "    </tr>\n",
       "    <tr>\n",
       "      <th>...</th>\n",
       "      <td>...</td>\n",
       "      <td>...</td>\n",
       "    </tr>\n",
       "    <tr>\n",
       "      <th>2114</th>\n",
       "      <td>2020-04-15 11:02:00</td>\n",
       "      <td>131.620792</td>\n",
       "    </tr>\n",
       "    <tr>\n",
       "      <th>2115</th>\n",
       "      <td>2020-04-15 11:16:00</td>\n",
       "      <td>8.703348</td>\n",
       "    </tr>\n",
       "    <tr>\n",
       "      <th>2116</th>\n",
       "      <td>2020-04-15 12:43:00</td>\n",
       "      <td>23.701833</td>\n",
       "    </tr>\n",
       "    <tr>\n",
       "      <th>2117</th>\n",
       "      <td>2020-04-15 12:57:00</td>\n",
       "      <td>110.785479</td>\n",
       "    </tr>\n",
       "    <tr>\n",
       "      <th>2118</th>\n",
       "      <td>2020-04-15 13:12:00</td>\n",
       "      <td>22.869297</td>\n",
       "    </tr>\n",
       "  </tbody>\n",
       "</table>\n",
       "<p>2119 rows × 2 columns</p>\n",
       "</div>"
      ],
      "text/plain": [
       "                datetime       power\n",
       "0    2020-01-01 00:00:00  221.403466\n",
       "1    2020-01-01 01:55:00  327.370592\n",
       "2    2020-01-01 03:50:00  223.272440\n",
       "3    2020-01-01 04:04:00  328.380592\n",
       "4    2020-01-01 05:45:00  329.109239\n",
       "...                  ...         ...\n",
       "2114 2020-04-15 11:02:00  131.620792\n",
       "2115 2020-04-15 11:16:00    8.703348\n",
       "2116 2020-04-15 12:43:00   23.701833\n",
       "2117 2020-04-15 12:57:00  110.785479\n",
       "2118 2020-04-15 13:12:00   22.869297\n",
       "\n",
       "[2119 rows x 2 columns]"
      ]
     },
     "execution_count": 4,
     "metadata": {},
     "output_type": "execute_result"
    }
   ],
   "source": [
    "#\n",
    "# use the Pandas method pd.to_datetime() to convert\n",
    "# the datetime column from a string to a Pandas Timestamp\n",
    "#\n",
    "engine_power['datetime'] = pd.to_datetime(engine_power['datetime'])\n",
    "engine_power\n",
    "#"
   ]
  },
  {
   "cell_type": "code",
   "execution_count": 5,
   "metadata": {},
   "outputs": [
    {
     "data": {
      "text/plain": [
       "pandas._libs.tslibs.timestamps.Timestamp"
      ]
     },
     "execution_count": 5,
     "metadata": {},
     "output_type": "execute_result"
    }
   ],
   "source": [
    "#\n",
    "# verify the type of the datetime column\n",
    "#\n",
    "type(engine_power.datetime[0])"
   ]
  },
  {
   "cell_type": "code",
   "execution_count": 6,
   "metadata": {
    "scrolled": false
   },
   "outputs": [
    {
     "data": {
      "text/html": [
       "<div>\n",
       "<style scoped>\n",
       "    .dataframe tbody tr th:only-of-type {\n",
       "        vertical-align: middle;\n",
       "    }\n",
       "\n",
       "    .dataframe tbody tr th {\n",
       "        vertical-align: top;\n",
       "    }\n",
       "\n",
       "    .dataframe thead th {\n",
       "        text-align: right;\n",
       "    }\n",
       "</style>\n",
       "<table border=\"1\" class=\"dataframe\">\n",
       "  <thead>\n",
       "    <tr style=\"text-align: right;\">\n",
       "      <th></th>\n",
       "      <th>datetime</th>\n",
       "      <th>power</th>\n",
       "      <th>month</th>\n",
       "    </tr>\n",
       "  </thead>\n",
       "  <tbody>\n",
       "    <tr>\n",
       "      <th>0</th>\n",
       "      <td>2020-01-01 00:00:00</td>\n",
       "      <td>221.403466</td>\n",
       "      <td>1</td>\n",
       "    </tr>\n",
       "    <tr>\n",
       "      <th>1</th>\n",
       "      <td>2020-01-01 01:55:00</td>\n",
       "      <td>327.370592</td>\n",
       "      <td>1</td>\n",
       "    </tr>\n",
       "    <tr>\n",
       "      <th>2</th>\n",
       "      <td>2020-01-01 03:50:00</td>\n",
       "      <td>223.272440</td>\n",
       "      <td>1</td>\n",
       "    </tr>\n",
       "    <tr>\n",
       "      <th>3</th>\n",
       "      <td>2020-01-01 04:04:00</td>\n",
       "      <td>328.380592</td>\n",
       "      <td>1</td>\n",
       "    </tr>\n",
       "    <tr>\n",
       "      <th>4</th>\n",
       "      <td>2020-01-01 05:45:00</td>\n",
       "      <td>329.109239</td>\n",
       "      <td>1</td>\n",
       "    </tr>\n",
       "    <tr>\n",
       "      <th>...</th>\n",
       "      <td>...</td>\n",
       "      <td>...</td>\n",
       "      <td>...</td>\n",
       "    </tr>\n",
       "    <tr>\n",
       "      <th>2114</th>\n",
       "      <td>2020-04-15 11:02:00</td>\n",
       "      <td>131.620792</td>\n",
       "      <td>4</td>\n",
       "    </tr>\n",
       "    <tr>\n",
       "      <th>2115</th>\n",
       "      <td>2020-04-15 11:16:00</td>\n",
       "      <td>8.703348</td>\n",
       "      <td>4</td>\n",
       "    </tr>\n",
       "    <tr>\n",
       "      <th>2116</th>\n",
       "      <td>2020-04-15 12:43:00</td>\n",
       "      <td>23.701833</td>\n",
       "      <td>4</td>\n",
       "    </tr>\n",
       "    <tr>\n",
       "      <th>2117</th>\n",
       "      <td>2020-04-15 12:57:00</td>\n",
       "      <td>110.785479</td>\n",
       "      <td>4</td>\n",
       "    </tr>\n",
       "    <tr>\n",
       "      <th>2118</th>\n",
       "      <td>2020-04-15 13:12:00</td>\n",
       "      <td>22.869297</td>\n",
       "      <td>4</td>\n",
       "    </tr>\n",
       "  </tbody>\n",
       "</table>\n",
       "<p>2119 rows × 3 columns</p>\n",
       "</div>"
      ],
      "text/plain": [
       "                datetime       power  month\n",
       "0    2020-01-01 00:00:00  221.403466      1\n",
       "1    2020-01-01 01:55:00  327.370592      1\n",
       "2    2020-01-01 03:50:00  223.272440      1\n",
       "3    2020-01-01 04:04:00  328.380592      1\n",
       "4    2020-01-01 05:45:00  329.109239      1\n",
       "...                  ...         ...    ...\n",
       "2114 2020-04-15 11:02:00  131.620792      4\n",
       "2115 2020-04-15 11:16:00    8.703348      4\n",
       "2116 2020-04-15 12:43:00   23.701833      4\n",
       "2117 2020-04-15 12:57:00  110.785479      4\n",
       "2118 2020-04-15 13:12:00   22.869297      4\n",
       "\n",
       "[2119 rows x 3 columns]"
      ]
     },
     "execution_count": 6,
     "metadata": {},
     "output_type": "execute_result"
    }
   ],
   "source": [
    "#\n",
    "# create a column with the months\n",
    "#\n",
    "engine_power['month'] = [engine_power.datetime[i].month\n",
    "                         for i in engine_power.index]\n",
    "engine_power"
   ]
  },
  {
   "cell_type": "code",
   "execution_count": 7,
   "metadata": {
    "scrolled": true
   },
   "outputs": [
    {
     "name": "stdout",
     "output_type": "stream",
     "text": [
      "                datetime       power  month  day_of_month\n",
      "0    2020-01-01 00:00:00  221.403466      1             1\n",
      "1    2020-01-01 01:55:00  327.370592      1             1\n",
      "2    2020-01-01 03:50:00  223.272440      1             1\n",
      "3    2020-01-01 04:04:00  328.380592      1             1\n",
      "4    2020-01-01 05:45:00  329.109239      1             1\n",
      "...                  ...         ...    ...           ...\n",
      "2114 2020-04-15 11:02:00  131.620792      4            15\n",
      "2115 2020-04-15 11:16:00    8.703348      4            15\n",
      "2116 2020-04-15 12:43:00   23.701833      4            15\n",
      "2117 2020-04-15 12:57:00  110.785479      4            15\n",
      "2118 2020-04-15 13:12:00   22.869297      4            15\n",
      "\n",
      "[2119 rows x 4 columns]\n"
     ]
    }
   ],
   "source": [
    "# \n",
    "# create a column with the day of month\n",
    "#\n",
    "engine_power['day_of_month'] = [engine_power.datetime[i].day\n",
    "                                for i in engine_power.index]\n",
    "print(engine_power)"
   ]
  },
  {
   "cell_type": "code",
   "execution_count": 8,
   "metadata": {},
   "outputs": [
    {
     "name": "stdout",
     "output_type": "stream",
     "text": [
      "[ 1  2  3  4  5  6  7  8  9 10 11 12 13 14 15 16 17 18 19 20 21 22 23 24\n",
      " 25 26 27 28 29 30 31]\n"
     ]
    }
   ],
   "source": [
    "#\n",
    "# inspect if all the days of months are represented\n",
    "#\n",
    "print(engine_power.day_of_month.unique())"
   ]
  },
  {
   "cell_type": "code",
   "execution_count": 9,
   "metadata": {},
   "outputs": [
    {
     "data": {
      "text/plain": [
       "array([2, 3, 4, 5, 6, 0, 1], dtype=int64)"
      ]
     },
     "execution_count": 9,
     "metadata": {},
     "output_type": "execute_result"
    }
   ],
   "source": [
    "#\n",
    "# determine if there are data for every day of the week\n",
    "#\n",
    "pd.Series([engine_power.datetime[i].weekday() \n",
    "           for i in engine_power.index]).unique()"
   ]
  },
  {
   "cell_type": "code",
   "execution_count": 10,
   "metadata": {},
   "outputs": [
    {
     "data": {
      "text/plain": [
       "<AxesSubplot:xlabel='month'>"
      ]
     },
     "execution_count": 10,
     "metadata": {},
     "output_type": "execute_result"
    },
    {
     "data": {
      "image/png": "[encoded data removed]",
      "text/plain": [
       "<Figure size 432x288 with 1 Axes>"
      ]
     },
     "metadata": {
      "needs_background": "light"
     },
     "output_type": "display_data"
    }
   ],
   "source": [
    "#\n",
    "# investigate average power output month by month\n",
    "# during  the course of the test\n",
    "#\n",
    "(engine_power[['power', 'month']].\n",
    "    groupby(['month']).mean()).plot()"
   ]
  },
  {
   "cell_type": "code",
   "execution_count": 11,
   "metadata": {},
   "outputs": [
    {
     "data": {
      "text/plain": [
       "<AxesSubplot:>"
      ]
     },
     "execution_count": 11,
     "metadata": {},
     "output_type": "execute_result"
    },
    {
     "data": {
      "image/png": "[encoded data removed]",
      "text/plain": [
       "<Figure size 432x288 with 1 Axes>"
      ]
     },
     "metadata": {
      "needs_background": "light"
     },
     "output_type": "display_data"
    }
   ],
   "source": [
    "#\n",
    "# investigate if there are shorter-term variations\n",
    "#\n",
    "(engine_power[['power', \n",
    "              'month', \n",
    "              'day_of_month']].\n",
    "    groupby(['month',\n",
    "             'day_of_month']).mean().reset_index(drop = True)).plot()"
   ]
  },
  {
   "cell_type": "code",
   "execution_count": null,
   "metadata": {},
   "outputs": [],
   "source": []
  }
 ],
 "metadata": {
  "kernelspec": {
   "display_name": "Python 3 (ipykernel)",
   "language": "python",
   "name": "python3"
  },
  "language_info": {
   "codemirror_mode": {
    "name": "ipython",
    "version": 3
   },
   "file_extension": ".py",
   "mimetype": "text/x-python",
   "name": "python",
   "nbconvert_exporter": "python",
   "pygments_lexer": "ipython3",
   "version": "3.9.5"
  },
  "toc": {
   "base_numbering": 1,
   "nav_menu": {},
   "number_sections": true,
   "sideBar": true,
   "skip_h1_title": false,
   "title_cell": "Table of Contents",
   "title_sidebar": "Contents",
   "toc_cell": false,
   "toc_position": {},
   "toc_section_display": true,
   "toc_window_display": true
  },
  "varInspector": {
   "cols": {
    "lenName": 16,
    "lenType": 16,
    "lenVar": 40
   },
   "kernels_config": {
    "python": {
     "delete_cmd_postfix": "",
     "delete_cmd_prefix": "del ",
     "library": "var_list.py",
     "varRefreshCmd": "print(var_dic_list())"
    },
    "r": {
     "delete_cmd_postfix": ") ",
     "delete_cmd_prefix": "rm(",
     "library": "var_list.r",
     "varRefreshCmd": "cat(var_dic_list()) "
    }
   },
   "types_to_exclude": [
    "module",
    "function",
    "builtin_function_or_method",
    "instance",
    "_Feature"
   ],
   "window_display": false
  }
 },
 "nbformat": 4,
 "nbformat_minor": 4
}
