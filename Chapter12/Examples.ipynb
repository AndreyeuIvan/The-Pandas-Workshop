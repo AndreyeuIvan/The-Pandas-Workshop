{
 "cells": [
  {
   "cell_type": "code",
   "execution_count": 1,
   "metadata": {},
   "outputs": [],
   "source": [
    "#\n",
    "# libraries\n",
    "#\n",
    "import pandas as pd\n",
    "import numpy as np\n",
    "import matplotlib.pyplot as plt\n",
    "import re\n",
    "#"
   ]
  },
  {
   "cell_type": "code",
   "execution_count": 2,
   "metadata": {},
   "outputs": [
    {
     "data": {
      "text/plain": [
       "Timestamp('2020-12-25 00:00:00')"
      ]
     },
     "execution_count": 2,
     "metadata": {},
     "output_type": "execute_result"
    }
   ],
   "source": [
    "#\n",
    "# make a pandas Timestamp for 12/25/2020\n",
    "#\n",
    "my_timestamp = pd.Timestamp('12-25-2020')\n",
    "my_timestamp"
   ]
  },
  {
   "cell_type": "code",
   "execution_count": 3,
   "metadata": {},
   "outputs": [
    {
     "data": {
      "text/plain": [
       "datetime.datetime(2020, 12, 25, 0, 0)"
      ]
     },
     "execution_count": 3,
     "metadata": {},
     "output_type": "execute_result"
    }
   ],
   "source": [
    "#\n",
    "# make a datetime object for 12/25/2020\n",
    "#\n",
    "from datetime import datetime\n",
    "my_datetime = datetime.strptime('12-25-2020','%m-%d-%Y')\n",
    "my_datetime"
   ]
  },
  {
   "cell_type": "code",
   "execution_count": 4,
   "metadata": {},
   "outputs": [
    {
     "name": "stdout",
     "output_type": "stream",
     "text": [
      "               TS             DT\n",
      "0            asm8              -\n",
      "1      astimezone     astimezone\n",
      "2            ceil              -\n",
      "3         combine        combine\n",
      "4           ctime          ctime\n",
      "5            date           date\n",
      "6             day            day\n",
      "7        day_name              -\n",
      "8     day_of_week              -\n",
      "9     day_of_year              -\n",
      "10      dayofweek              -\n",
      "11      dayofyear              -\n",
      "12  days_in_month              -\n",
      "13    daysinmonth              -\n",
      "14            dst            dst\n",
      "15          floor              -\n",
      "16           fold           fold\n",
      "17           freq              -\n",
      "18        freqstr              -\n",
      "19  fromisoformat  fromisoformat\n",
      "20    fromordinal    fromordinal\n",
      "21  fromtimestamp  fromtimestamp\n",
      "22           hour           hour\n",
      "23   is_leap_year              - \n",
      "\n",
      "                  TS           DT\n",
      "25    is_month_start            -\n",
      "26    is_quarter_end            -\n",
      "27  is_quarter_start            -\n",
      "28       is_year_end            -\n",
      "29     is_year_start            -\n",
      "30       isocalendar  isocalendar\n",
      "31         isoformat    isoformat\n",
      "32        isoweekday   isoweekday\n",
      "33               max          max\n",
      "34       microsecond  microsecond\n",
      "35               min          min\n",
      "36            minute       minute\n",
      "37             month        month\n",
      "38        month_name            -\n",
      "39        nanosecond            -\n",
      "40         normalize            -\n",
      "41               now          now\n",
      "42           quarter            -\n",
      "43           replace      replace\n",
      "44        resolution   resolution\n",
      "45             round            -\n",
      "46            second       second\n",
      "47          strftime     strftime\n",
      "48          strptime     strptime \n",
      "\n",
      "                  TS                DT\n",
      "50         timestamp         timestamp\n",
      "51         timetuple         timetuple\n",
      "52            timetz            timetz\n",
      "53     to_datetime64                 -\n",
      "54    to_julian_date                 -\n",
      "55          to_numpy                 -\n",
      "56         to_period                 -\n",
      "57     to_pydatetime                 -\n",
      "58             today             today\n",
      "59         toordinal         toordinal\n",
      "60                tz                 -\n",
      "61        tz_convert                 -\n",
      "62       tz_localize                 -\n",
      "63            tzinfo            tzinfo\n",
      "64            tzname            tzname\n",
      "65  utcfromtimestamp  utcfromtimestamp\n",
      "66            utcnow            utcnow\n",
      "67         utcoffset         utcoffset\n",
      "68      utctimetuple      utctimetuple\n",
      "69             value                 -\n",
      "70              week                 -\n",
      "71           weekday           weekday\n",
      "72        weekofyear                 -\n",
      "73              year              year \n",
      "\n"
     ]
    }
   ],
   "source": [
    "#\n",
    "# compare the methods for the two objects\n",
    "#\n",
    "timestamp_methods = \\\n",
    "    pd.DataFrame({'TS' : [i for i in dir(my_timestamp) \n",
    "                          if not i.startswith(\"_\")]})\n",
    "#\n",
    "datetime_methods = \\\n",
    "    pd.DataFrame({'DT' : [i for i in dir(my_datetime) \n",
    "                          if not i.startswith(\"_\")]})\n",
    "#\n",
    "methods = \\\n",
    "    pd.merge(timestamp_methods, datetime_methods, \n",
    "             left_on = ['TS'], right_on = ['DT'],\n",
    "             how = 'outer').fillna(\"-\")\n",
    "#\n",
    "for i in range(3):\n",
    "    print(methods.loc[(i * (methods.shape[0] / 3)):\n",
    "                      ((i + 1) * (methods.shape[0] / 3)) - 1], '\\n')"
   ]
  },
  {
   "cell_type": "code",
   "execution_count": 5,
   "metadata": {},
   "outputs": [
    {
     "name": "stdout",
     "output_type": "stream",
     "text": [
      "3 PM 5 minutes 9 seconds 1234 microseconds 987 nanoseconds\n"
     ]
    }
   ],
   "source": [
    "my_time = pd.Timestamp('2020-12-25 15:05:09.001234987')\n",
    "print(my_time.hour - 12, ('AM' if my_time.hour < 12 else 'PM'),\n",
    "      my_time.minute, 'minutes',\n",
    "      my_time.second, 'seconds', \n",
    "      my_time.microsecond, 'microseconds', \n",
    "      my_time.nanosecond, 'nanoseconds')"
   ]
  },
  {
   "cell_type": "code",
   "execution_count": 6,
   "metadata": {},
   "outputs": [
    {
     "data": {
      "text/plain": [
       "Timestamp('2020-07-31 13:51:00')"
      ]
     },
     "execution_count": 6,
     "metadata": {},
     "output_type": "execute_result"
    }
   ],
   "source": [
    "#\n",
    "# create a date as a string, then convert to Timestamp\n",
    "#\n",
    "string_date = '2020-07-31 13:51'\n",
    "TS_date = pd.to_datetime(string_date)\n",
    "TS_date"
   ]
  },
  {
   "cell_type": "code",
   "execution_count": 7,
   "metadata": {},
   "outputs": [
    {
     "data": {
      "text/plain": [
       "pandas.core.indexes.datetimes.DatetimeIndex"
      ]
     },
     "execution_count": 7,
     "metadata": {},
     "output_type": "execute_result"
    }
   ],
   "source": [
    "#\n",
    "# create a time series\n",
    "#\n",
    "dates = pd.date_range(start = '2012-01-01', \n",
    "                      end = '2019-12-31',\n",
    "                      freq = 'W-MON')\n",
    "type(dates)"
   ]
  },
  {
   "cell_type": "code",
   "execution_count": 8,
   "metadata": {},
   "outputs": [
    {
     "name": "stdout",
     "output_type": "stream",
     "text": [
      "DatetimeIndex(['2012-01-02', '2012-01-09', '2012-01-16', '2012-01-23',\n",
      "               '2012-01-30', '2012-02-06', '2012-02-13', '2012-02-20',\n",
      "               '2012-02-27', '2012-03-05',\n",
      "               ...\n",
      "               '2019-10-28', '2019-11-04', '2019-11-11', '2019-11-18',\n",
      "               '2019-11-25', '2019-12-02', '2019-12-09', '2019-12-16',\n",
      "               '2019-12-23', '2019-12-30'],\n",
      "              dtype='datetime64[ns]', length=418, freq='W-MON')\n"
     ]
    }
   ],
   "source": [
    "print(dates)"
   ]
  },
  {
   "cell_type": "code",
   "execution_count": 9,
   "metadata": {},
   "outputs": [
    {
     "data": {
      "text/plain": [
       "pandas._libs.tslibs.timedeltas.Timedelta"
      ]
     },
     "execution_count": 9,
     "metadata": {},
     "output_type": "execute_result"
    }
   ],
   "source": [
    "#\n",
    "# inspect the type if we subtract two of the dates\n",
    "#\n",
    "type(dates[1] - dates[0])"
   ]
  },
  {
   "cell_type": "code",
   "execution_count": 10,
   "metadata": {},
   "outputs": [],
   "source": [
    "values = pd.Series([(dates[i] - dates[0]).total_seconds() \n",
    "                    for i in range(len(dates))]) / 60 / 60 # convert to hours\n",
    "values = 1037.65 + values**1.5 / 1000"
   ]
  },
  {
   "cell_type": "code",
   "execution_count": 11,
   "metadata": {},
   "outputs": [
    {
     "data": {
      "text/html": [
       "<div>\n",
       "<style scoped>\n",
       "    .dataframe tbody tr th:only-of-type {\n",
       "        vertical-align: middle;\n",
       "    }\n",
       "\n",
       "    .dataframe tbody tr th {\n",
       "        vertical-align: top;\n",
       "    }\n",
       "\n",
       "    .dataframe thead th {\n",
       "        text-align: right;\n",
       "    }\n",
       "</style>\n",
       "<table border=\"1\" class=\"dataframe\">\n",
       "  <thead>\n",
       "    <tr style=\"text-align: right;\">\n",
       "      <th></th>\n",
       "      <th>date</th>\n",
       "      <th>value</th>\n",
       "    </tr>\n",
       "  </thead>\n",
       "  <tbody>\n",
       "    <tr>\n",
       "      <th>0</th>\n",
       "      <td>2012-01-02</td>\n",
       "      <td>1037.650000</td>\n",
       "    </tr>\n",
       "    <tr>\n",
       "      <th>1</th>\n",
       "      <td>2012-01-09</td>\n",
       "      <td>1039.827529</td>\n",
       "    </tr>\n",
       "    <tr>\n",
       "      <th>2</th>\n",
       "      <td>2012-01-16</td>\n",
       "      <td>1043.808982</td>\n",
       "    </tr>\n",
       "    <tr>\n",
       "      <th>3</th>\n",
       "      <td>2012-01-23</td>\n",
       "      <td>1048.964772</td>\n",
       "    </tr>\n",
       "    <tr>\n",
       "      <th>4</th>\n",
       "      <td>2012-01-30</td>\n",
       "      <td>1055.070231</td>\n",
       "    </tr>\n",
       "  </tbody>\n",
       "</table>\n",
       "</div>"
      ],
      "text/plain": [
       "        date        value\n",
       "0 2012-01-02  1037.650000\n",
       "1 2012-01-09  1039.827529\n",
       "2 2012-01-16  1043.808982\n",
       "3 2012-01-23  1048.964772\n",
       "4 2012-01-30  1055.070231"
      ]
     },
     "execution_count": 11,
     "metadata": {},
     "output_type": "execute_result"
    }
   ],
   "source": [
    "time_series = pd.DataFrame({'date' : dates,\n",
    "                           'value' : values})\n",
    "time_series.head()"
   ]
  },
  {
   "cell_type": "code",
   "execution_count": 12,
   "metadata": {
    "scrolled": false
   },
   "outputs": [
    {
     "data": {
      "text/html": [
       "<div>\n",
       "<style scoped>\n",
       "    .dataframe tbody tr th:only-of-type {\n",
       "        vertical-align: middle;\n",
       "    }\n",
       "\n",
       "    .dataframe tbody tr th {\n",
       "        vertical-align: top;\n",
       "    }\n",
       "\n",
       "    .dataframe thead th {\n",
       "        text-align: right;\n",
       "    }\n",
       "</style>\n",
       "<table border=\"1\" class=\"dataframe\">\n",
       "  <thead>\n",
       "    <tr style=\"text-align: right;\">\n",
       "      <th></th>\n",
       "      <th>date</th>\n",
       "      <th>value</th>\n",
       "      <th>int_date</th>\n",
       "    </tr>\n",
       "  </thead>\n",
       "  <tbody>\n",
       "    <tr>\n",
       "      <th>0</th>\n",
       "      <td>2012-01-02</td>\n",
       "      <td>1037.650000</td>\n",
       "      <td>0.0</td>\n",
       "    </tr>\n",
       "    <tr>\n",
       "      <th>1</th>\n",
       "      <td>2012-01-09</td>\n",
       "      <td>1039.827529</td>\n",
       "      <td>7.0</td>\n",
       "    </tr>\n",
       "    <tr>\n",
       "      <th>2</th>\n",
       "      <td>2012-01-16</td>\n",
       "      <td>1043.808982</td>\n",
       "      <td>14.0</td>\n",
       "    </tr>\n",
       "    <tr>\n",
       "      <th>3</th>\n",
       "      <td>2012-01-23</td>\n",
       "      <td>1048.964772</td>\n",
       "      <td>21.0</td>\n",
       "    </tr>\n",
       "    <tr>\n",
       "      <th>4</th>\n",
       "      <td>2012-01-30</td>\n",
       "      <td>1055.070231</td>\n",
       "      <td>28.0</td>\n",
       "    </tr>\n",
       "    <tr>\n",
       "      <th>...</th>\n",
       "      <td>...</td>\n",
       "      <td>...</td>\n",
       "      <td>...</td>\n",
       "    </tr>\n",
       "    <tr>\n",
       "      <th>413</th>\n",
       "      <td>2019-12-02</td>\n",
       "      <td>19313.980376</td>\n",
       "      <td>2891.0</td>\n",
       "    </tr>\n",
       "    <tr>\n",
       "      <th>414</th>\n",
       "      <td>2019-12-09</td>\n",
       "      <td>19380.399465</td>\n",
       "      <td>2898.0</td>\n",
       "    </tr>\n",
       "    <tr>\n",
       "      <th>415</th>\n",
       "      <td>2019-12-16</td>\n",
       "      <td>19446.898818</td>\n",
       "      <td>2905.0</td>\n",
       "    </tr>\n",
       "    <tr>\n",
       "      <th>416</th>\n",
       "      <td>2019-12-23</td>\n",
       "      <td>19513.478340</td>\n",
       "      <td>2912.0</td>\n",
       "    </tr>\n",
       "    <tr>\n",
       "      <th>417</th>\n",
       "      <td>2019-12-30</td>\n",
       "      <td>19580.137933</td>\n",
       "      <td>2919.0</td>\n",
       "    </tr>\n",
       "  </tbody>\n",
       "</table>\n",
       "<p>418 rows × 3 columns</p>\n",
       "</div>"
      ],
      "text/plain": [
       "          date         value  int_date\n",
       "0   2012-01-02   1037.650000       0.0\n",
       "1   2012-01-09   1039.827529       7.0\n",
       "2   2012-01-16   1043.808982      14.0\n",
       "3   2012-01-23   1048.964772      21.0\n",
       "4   2012-01-30   1055.070231      28.0\n",
       "..         ...           ...       ...\n",
       "413 2019-12-02  19313.980376    2891.0\n",
       "414 2019-12-09  19380.399465    2898.0\n",
       "415 2019-12-16  19446.898818    2905.0\n",
       "416 2019-12-23  19513.478340    2912.0\n",
       "417 2019-12-30  19580.137933    2919.0\n",
       "\n",
       "[418 rows x 3 columns]"
      ]
     },
     "execution_count": 12,
     "metadata": {},
     "output_type": "execute_result"
    }
   ],
   "source": [
    "time_series['int_date'] = (dates.astype(int)/1e9/60/60/24 - \n",
    "                           dates.astype(int)[0]/1e9/60/60/24)\n",
    "time_series"
   ]
  },
  {
   "cell_type": "code",
   "execution_count": 13,
   "metadata": {},
   "outputs": [
    {
     "data": {
      "text/plain": [
       "PeriodIndex(['2019-12-31/2020-01-06', '2020-01-07/2020-01-13',\n",
       "             '2020-01-14/2020-01-20', '2020-01-21/2020-01-27',\n",
       "             '2020-01-28/2020-02-03', '2020-02-04/2020-02-10',\n",
       "             '2020-02-11/2020-02-17', '2020-02-18/2020-02-24',\n",
       "             '2020-02-25/2020-03-02', '2020-03-03/2020-03-09',\n",
       "             '2020-03-10/2020-03-16', '2020-03-17/2020-03-23',\n",
       "             '2020-03-24/2020-03-30'],\n",
       "            dtype='period[W-MON]', freq='W-MON')"
      ]
     },
     "execution_count": 13,
     "metadata": {},
     "output_type": "execute_result"
    }
   ],
   "source": [
    "#\n",
    "# other methods to generate date series\n",
    "#\n",
    "time_periods = \\\n",
    "    pd.period_range('2020-01-01', periods = 13, freq = 'W-MON')\n",
    "time_periods"
   ]
  },
  {
   "cell_type": "code",
   "execution_count": 14,
   "metadata": {},
   "outputs": [
    {
     "name": "stdout",
     "output_type": "stream",
     "text": [
      "DatetimeIndex(['2019-12-31', '2020-01-07', '2020-01-14', '2020-01-21',\n",
      "               '2020-01-28', '2020-02-04', '2020-02-11', '2020-02-18',\n",
      "               '2020-02-25', '2020-03-03', '2020-03-10', '2020-03-17',\n",
      "               '2020-03-24'],\n",
      "              dtype='datetime64[ns]', freq='W-TUE') \n",
      " DatetimeIndex(['2020-01-06 23:59:59.999999999',\n",
      "               '2020-01-13 23:59:59.999999999',\n",
      "               '2020-01-20 23:59:59.999999999',\n",
      "               '2020-01-27 23:59:59.999999999',\n",
      "               '2020-02-03 23:59:59.999999999',\n",
      "               '2020-02-10 23:59:59.999999999',\n",
      "               '2020-02-17 23:59:59.999999999',\n",
      "               '2020-02-24 23:59:59.999999999',\n",
      "               '2020-03-02 23:59:59.999999999',\n",
      "               '2020-03-09 23:59:59.999999999',\n",
      "               '2020-03-16 23:59:59.999999999',\n",
      "               '2020-03-23 23:59:59.999999999',\n",
      "               '2020-03-30 23:59:59.999999999'],\n",
      "              dtype='datetime64[ns]', freq=None)\n"
     ]
    }
   ],
   "source": [
    "print(time_periods.start_time, '\\n', time_periods.end_time)"
   ]
  },
  {
   "cell_type": "code",
   "execution_count": 15,
   "metadata": {},
   "outputs": [
    {
     "data": {
      "text/plain": [
       "PeriodIndex(['2020-01-14/2020-01-20', '2020-01-21/2020-01-27',\n",
       "             '2020-01-28/2020-02-03', '2020-02-04/2020-02-10',\n",
       "             '2020-02-11/2020-02-17', '2020-02-18/2020-02-24',\n",
       "             '2020-02-25/2020-03-02', '2020-03-03/2020-03-09',\n",
       "             '2020-03-10/2020-03-16', '2020-03-17/2020-03-23',\n",
       "             '2020-03-24/2020-03-30', '2020-03-31/2020-04-06',\n",
       "             '2020-04-07/2020-04-13'],\n",
       "            dtype='period[W-MON]', freq='W-MON')"
      ]
     },
     "execution_count": 15,
     "metadata": {},
     "output_type": "execute_result"
    }
   ],
   "source": [
    "time_periods + 2"
   ]
  },
  {
   "cell_type": "code",
   "execution_count": 16,
   "metadata": {},
   "outputs": [
    {
     "name": "stdout",
     "output_type": "stream",
     "text": [
      "Int64Index([31, 29, 30, 28], dtype='int64')\n"
     ]
    }
   ],
   "source": [
    "#\n",
    "# apply methods to the datetimes\n",
    "#\n",
    "print(dates.daysinmonth.unique())\n",
    "#"
   ]
  },
  {
   "cell_type": "code",
   "execution_count": 17,
   "metadata": {
    "scrolled": true
   },
   "outputs": [
    {
     "name": "stdout",
     "output_type": "stream",
     "text": [
      "DatetimeIndex(['2012-12-31', '2013-09-30', '2014-03-31', '2014-06-30',\n",
      "               '2018-12-31', '2019-09-30'],\n",
      "              dtype='datetime64[ns]', freq=None)\n"
     ]
    }
   ],
   "source": [
    "print(dates[dates.is_quarter_end])"
   ]
  },
  {
   "cell_type": "code",
   "execution_count": 18,
   "metadata": {},
   "outputs": [
    {
     "name": "stdout",
     "output_type": "stream",
     "text": [
      "2012-01-02     1\n",
      "2012-01-09     2\n",
      "2012-01-16     3\n",
      "2012-01-23     4\n",
      "2012-01-30     5\n",
      "              ..\n",
      "2019-12-02    49\n",
      "2019-12-09    50\n",
      "2019-12-16    51\n",
      "2019-12-23    52\n",
      "2019-12-30     1\n",
      "Freq: W-MON, Name: week, Length: 418, dtype: UInt32\n"
     ]
    }
   ],
   "source": [
    "print(dates.isocalendar().week)"
   ]
  },
  {
   "cell_type": "code",
   "execution_count": 19,
   "metadata": {},
   "outputs": [
    {
     "name": "stdout",
     "output_type": "stream",
     "text": [
      "2012-08-20 00:00:00 2012-01-02 00:00:00\n"
     ]
    }
   ],
   "source": [
    "print(dates[33], dates[0])"
   ]
  },
  {
   "cell_type": "code",
   "execution_count": 20,
   "metadata": {},
   "outputs": [
    {
     "name": "stdout",
     "output_type": "stream",
     "text": [
      "<class 'pandas._libs.tslibs.timedeltas.Timedelta'>\n"
     ]
    }
   ],
   "source": [
    "#\n",
    "# look at timedelta methods\n",
    "#\n",
    "time_diff = (dates[33] - dates[0])\n",
    "print(type(time_diff))"
   ]
  },
  {
   "cell_type": "code",
   "execution_count": 21,
   "metadata": {},
   "outputs": [
    {
     "name": "stdout",
     "output_type": "stream",
     "text": [
      "0\n"
     ]
    }
   ],
   "source": [
    "print(time_diff.seconds)"
   ]
  },
  {
   "cell_type": "code",
   "execution_count": 22,
   "metadata": {},
   "outputs": [
    {
     "name": "stdout",
     "output_type": "stream",
     "text": [
      "231 days 00:00:00  equals  19958400000000000 nanoseconds\n"
     ]
    }
   ],
   "source": [
    "print(time_diff, \" equals \", time_diff.value, \"nanoseconds\")"
   ]
  },
  {
   "cell_type": "code",
   "execution_count": 23,
   "metadata": {
    "scrolled": true
   },
   "outputs": [
    {
     "name": "stdout",
     "output_type": "stream",
     "text": [
      "19958400.0\n"
     ]
    }
   ],
   "source": [
    "print(time_diff.total_seconds())"
   ]
  },
  {
   "cell_type": "code",
   "execution_count": 24,
   "metadata": {},
   "outputs": [
    {
     "data": {
      "text/plain": [
       "datetime.datetime(2020, 9, 30, 0, 0)"
      ]
     },
     "execution_count": 24,
     "metadata": {},
     "output_type": "execute_result"
    }
   ],
   "source": [
    "#\n",
    "# look at the result of the format argument\n",
    "#\n",
    "datetime.strptime('09-30-2020','%m-%d-%Y')"
   ]
  },
  {
   "cell_type": "code",
   "execution_count": 25,
   "metadata": {},
   "outputs": [
    {
     "name": "stdout",
     "output_type": "stream",
     "text": [
      "2020-12-20 13:57:03.130000\n"
     ]
    }
   ],
   "source": [
    "#\n",
    "# create Timestamps for 12/20/2020 1:57 PM using different formats\n",
    "#\n",
    "num_date = pd.to_datetime('12-20-2020 13:57:03.13', \n",
    "                          format = \"%m-%d-%Y %H:%M:%S.%f\")\n",
    "print(num_date)"
   ]
  },
  {
   "cell_type": "code",
   "execution_count": 26,
   "metadata": {},
   "outputs": [
    {
     "name": "stdout",
     "output_type": "stream",
     "text": [
      "2020-12-20 13:57:03\n",
      "December 20, 2020 01:57:03 PM\n"
     ]
    }
   ],
   "source": [
    "text_date = pd.to_datetime('December 20, 2020 1:57:03 PM', \n",
    "                           format = '%B %d, %Y %I:%M:%S %p')\n",
    "print(text_date)\n",
    "print(text_date.strftime(format = '%B %d, %Y %I:%M:%S %p'))"
   ]
  },
  {
   "cell_type": "code",
   "execution_count": 27,
   "metadata": {},
   "outputs": [
    {
     "name": "stdout",
     "output_type": "stream",
     "text": [
      "2020-12-20 13:57:03-07:00\n",
      "December 21, 2020 05:57:03 AM\n"
     ]
    }
   ],
   "source": [
    "#\n",
    "# localize text_date to US Mountain time zone\n",
    "# then print it in Asia Tokyo time zone\n",
    "#\n",
    "text_date = text_date.tz_localize('US/Mountain')\n",
    "print(text_date)\n",
    "print(text_date.tz_convert('Asia/Tokyo').\n",
    "      strftime(format = '%B %d, %Y %I:%M:%S %p'))"
   ]
  },
  {
   "cell_type": "code",
   "execution_count": 28,
   "metadata": {},
   "outputs": [
    {
     "name": "stdout",
     "output_type": "stream",
     "text": [
      "1677-09-21 00:12:43.145225\n",
      "2262-04-11 23:47:16.854775807\n"
     ]
    }
   ],
   "source": [
    "#\n",
    "# explore the limits on Timestamps\n",
    "#\n",
    "print(pd.Timestamp.min)\n",
    "print(pd.Timestamp.max)"
   ]
  },
  {
   "cell_type": "code",
   "execution_count": 29,
   "metadata": {},
   "outputs": [
    {
     "name": "stdout",
     "output_type": "stream",
     "text": [
      "1970-01-01T00:00:00+00:00\n",
      "7\n",
      "15941949083\n"
     ]
    }
   ],
   "source": [
    "import arrow\n",
    "print(arrow.get('1970-01-01 00:00:00'))\n",
    "print(arrow.get('1970-01-01 00:00:07').int_timestamp)\n",
    "print(arrow.get('2475-03-07 07:11:23').int_timestamp)"
   ]
  },
  {
   "cell_type": "code",
   "execution_count": 30,
   "metadata": {},
   "outputs": [],
   "source": [
    "#\n",
    "# construct synthetic data as a sin function with period 180 days\n",
    "#\n",
    "x_values = pd.Series(range(1, 548))\n",
    "period = 180\n",
    "sin_series = np.sin(2 * np.pi * x_values / period) * 5\n",
    "noise = 65 + np.random.normal(0, 3, 547)\n",
    "temperatures = sin_series + noise"
   ]
  },
  {
   "cell_type": "code",
   "execution_count": 31,
   "metadata": {},
   "outputs": [
    {
     "data": {
      "text/plain": [
       "<AxesSubplot:>"
      ]
     },
     "execution_count": 31,
     "metadata": {},
     "output_type": "execute_result"
    },
    {
     "data": {
      "image/png": "[encoded data removed]",
      "text/plain": [
       "<Figure size 432x288 with 1 Axes>"
      ]
     },
     "metadata": {
      "needs_background": "light"
     },
     "output_type": "display_data"
    }
   ],
   "source": [
    "#\n",
    "# simple plot\n",
    "#\n",
    "temperatures.plot()"
   ]
  },
  {
   "cell_type": "code",
   "execution_count": 32,
   "metadata": {},
   "outputs": [
    {
     "data": {
      "text/plain": [
       "<AxesSubplot:xlabel='date'>"
      ]
     },
     "execution_count": 32,
     "metadata": {},
     "output_type": "execute_result"
    },
    {
     "data": {
      "image/png": "[encoded data removed]",
      "text/plain": [
       "<Figure size 432x288 with 1 Axes>"
      ]
     },
     "metadata": {
      "needs_background": "light"
     },
     "output_type": "display_data"
    }
   ],
   "source": [
    "dates = pd.date_range('2019-01-01', '2020-06-30')\n",
    "temp_data = pd.DataFrame({'date' : dates, \n",
    "                         'temperature' : temperatures})\n",
    "temp_data.plot(x = 'date', \n",
    "               y = 'temperature')"
   ]
  },
  {
   "cell_type": "code",
   "execution_count": 33,
   "metadata": {},
   "outputs": [
    {
     "name": "stdout",
     "output_type": "stream",
     "text": [
      "2019-01-01 00:00:00\n",
      "2019-01-02 00:00:00\n",
      "2019-01-03 00:00:00\n"
     ]
    }
   ],
   "source": [
    "_ = [print(temp_data['date'][i]) for i in range(3)]"
   ]
  },
  {
   "cell_type": "code",
   "execution_count": 34,
   "metadata": {},
   "outputs": [
    {
     "name": "stdout",
     "output_type": "stream",
     "text": [
      "2019-01-01 11:30:00\n",
      "2019-01-02 11:30:00\n",
      "2019-01-03 11:30:00\n"
     ]
    }
   ],
   "source": [
    "offset = pd.Timedelta(11.5, unit = 'h')\n",
    "temp_data['date'] = temp_data['date'] + offset\n",
    "_ = [print(temp_data['date'][i]) for i in range(3)]"
   ]
  },
  {
   "cell_type": "code",
   "execution_count": 35,
   "metadata": {},
   "outputs": [
    {
     "name": "stdout",
     "output_type": "stream",
     "text": [
      "7\n",
      "0\n"
     ]
    }
   ],
   "source": [
    "time_difference = (pd.to_datetime('2019-01-11') - \n",
    "                   pd.to_datetime('2019-01-04'))\n",
    "print(time_difference.days)\n",
    "print(time_difference.seconds)"
   ]
  },
  {
   "cell_type": "code",
   "execution_count": 36,
   "metadata": {},
   "outputs": [
    {
     "name": "stdout",
     "output_type": "stream",
     "text": [
      "6\n",
      "84316\n"
     ]
    }
   ],
   "source": [
    "time_difference = (pd.to_datetime('2019-01-11 13:57:03') - \n",
    "                   pd.to_datetime('2019-01-04 14:31:47'))\n",
    "print(time_difference.days)\n",
    "print(time_difference.seconds)"
   ]
  },
  {
   "cell_type": "code",
   "execution_count": 37,
   "metadata": {},
   "outputs": [
    {
     "data": {
      "text/plain": [
       "DatetimeIndex(['2021-01-01', '2021-01-02', '2021-01-03', '2021-01-04',\n",
       "               '2021-01-05', '2021-01-06', '2021-01-07', '2021-01-08',\n",
       "               '2021-01-09', '2021-01-10', '2021-01-11', '2021-01-12',\n",
       "               '2021-01-13', '2021-01-14', '2021-01-15', '2021-01-16',\n",
       "               '2021-01-17', '2021-01-18', '2021-01-19', '2021-01-20',\n",
       "               '2021-01-21', '2021-01-22', '2021-01-23', '2021-01-24',\n",
       "               '2021-01-25', '2021-01-26', '2021-01-27', '2021-01-28',\n",
       "               '2021-01-29', '2021-01-30', '2021-01-31', '2021-02-01',\n",
       "               '2021-02-02', '2021-02-03', '2021-02-04', '2021-02-05',\n",
       "               '2021-02-06', '2021-02-07', '2021-02-08', '2021-02-09',\n",
       "               '2021-02-10', '2021-02-11', '2021-02-12', '2021-02-13',\n",
       "               '2021-02-14', '2021-02-15', '2021-02-16', '2021-02-17',\n",
       "               '2021-02-18', '2021-02-19', '2021-02-20', '2021-02-21',\n",
       "               '2021-02-22', '2021-02-23', '2021-02-24', '2021-02-25',\n",
       "               '2021-02-26', '2021-02-27', '2021-02-28', '2021-03-01',\n",
       "               '2021-03-02', '2021-03-03', '2021-03-04', '2021-03-05',\n",
       "               '2021-03-06', '2021-03-07', '2021-03-08', '2021-03-09',\n",
       "               '2021-03-10', '2021-03-11', '2021-03-12', '2021-03-13',\n",
       "               '2021-03-14', '2021-03-15', '2021-03-16', '2021-03-17',\n",
       "               '2021-03-18', '2021-03-19', '2021-03-20', '2021-03-21',\n",
       "               '2021-03-22', '2021-03-23', '2021-03-24', '2021-03-25',\n",
       "               '2021-03-26', '2021-03-27', '2021-03-28', '2021-03-29',\n",
       "               '2021-03-30', '2021-03-31', '2021-04-01'],\n",
       "              dtype='datetime64[ns]', freq='D')"
      ]
     },
     "execution_count": 37,
     "metadata": {},
     "output_type": "execute_result"
    }
   ],
   "source": [
    "first_quarter = pd.date_range('2021-01-01 00:00:00', \n",
    "                              periods = 13 * 7, freq = '1d')\n",
    "first_quarter"
   ]
  },
  {
   "cell_type": "code",
   "execution_count": 38,
   "metadata": {},
   "outputs": [
    {
     "data": {
      "text/plain": [
       "DatetimeIndex(['2021-01-01', '2021-01-04', '2021-01-05', '2021-01-06',\n",
       "               '2021-01-07', '2021-01-08', '2021-01-11', '2021-01-12',\n",
       "               '2021-01-13', '2021-01-14', '2021-01-15', '2021-01-18',\n",
       "               '2021-01-19', '2021-01-20', '2021-01-21', '2021-01-22',\n",
       "               '2021-01-25', '2021-01-26', '2021-01-27', '2021-01-28',\n",
       "               '2021-01-29', '2021-02-01', '2021-02-02', '2021-02-03',\n",
       "               '2021-02-04', '2021-02-05', '2021-02-08', '2021-02-09',\n",
       "               '2021-02-10', '2021-02-11', '2021-02-12', '2021-02-15',\n",
       "               '2021-02-16', '2021-02-17', '2021-02-18', '2021-02-19',\n",
       "               '2021-02-22', '2021-02-23', '2021-02-24', '2021-02-25',\n",
       "               '2021-02-26', '2021-03-01', '2021-03-02', '2021-03-03',\n",
       "               '2021-03-04', '2021-03-05', '2021-03-08', '2021-03-09',\n",
       "               '2021-03-10', '2021-03-11', '2021-03-12', '2021-03-15',\n",
       "               '2021-03-16', '2021-03-17', '2021-03-18', '2021-03-19',\n",
       "               '2021-03-22', '2021-03-23', '2021-03-24', '2021-03-25',\n",
       "               '2021-03-26', '2021-03-29', '2021-03-30', '2021-03-31',\n",
       "               '2021-04-01'],\n",
       "              dtype='datetime64[ns]', freq='B')"
      ]
     },
     "execution_count": 38,
     "metadata": {},
     "output_type": "execute_result"
    }
   ],
   "source": [
    "first_quarter_bus = pd.date_range('2021-01-01 00:00:00', \n",
    "                              periods = 13 * 5, freq = 'B')\n",
    "first_quarter_bus"
   ]
  },
  {
   "cell_type": "code",
   "execution_count": 39,
   "metadata": {},
   "outputs": [
    {
     "data": {
      "text/plain": [
       "DatetimeIndex(['2021-04-02', '2021-04-05', '2021-04-06', '2021-04-07',\n",
       "               '2021-04-08', '2021-04-09', '2021-04-12', '2021-04-13',\n",
       "               '2021-04-14', '2021-04-15', '2021-04-16', '2021-04-19',\n",
       "               '2021-04-20', '2021-04-21', '2021-04-22', '2021-04-23',\n",
       "               '2021-04-26', '2021-04-27', '2021-04-28', '2021-04-29',\n",
       "               '2021-04-30', '2021-05-03', '2021-05-04', '2021-05-05',\n",
       "               '2021-05-06', '2021-05-07', '2021-05-10', '2021-05-11',\n",
       "               '2021-05-12', '2021-05-13', '2021-05-14', '2021-05-17',\n",
       "               '2021-05-18', '2021-05-19', '2021-05-20', '2021-05-21',\n",
       "               '2021-05-24', '2021-05-25', '2021-05-26', '2021-05-27',\n",
       "               '2021-05-28', '2021-05-31', '2021-06-01', '2021-06-02',\n",
       "               '2021-06-03', '2021-06-04', '2021-06-07', '2021-06-08',\n",
       "               '2021-06-09', '2021-06-10', '2021-06-11', '2021-06-14',\n",
       "               '2021-06-15', '2021-06-16', '2021-06-17', '2021-06-18',\n",
       "               '2021-06-21', '2021-06-22', '2021-06-23', '2021-06-24',\n",
       "               '2021-06-25', '2021-06-28', '2021-06-29', '2021-06-30',\n",
       "               '2021-07-01'],\n",
       "              dtype='datetime64[ns]', freq=None)"
      ]
     },
     "execution_count": 39,
     "metadata": {},
     "output_type": "execute_result"
    }
   ],
   "source": [
    "offset = pd.tseries.offsets.BusinessDay(13 * 5)\n",
    "second_quarter_bus = first_quarter_bus + offset\n",
    "second_quarter_bus"
   ]
  },
  {
   "cell_type": "code",
   "execution_count": 40,
   "metadata": {},
   "outputs": [],
   "source": [
    "from pandas.tseries.offsets import *"
   ]
  },
  {
   "cell_type": "code",
   "execution_count": 41,
   "metadata": {},
   "outputs": [
    {
     "data": {
      "text/plain": [
       "DatetimeIndex(['2021-04-30', '2021-05-31', '2021-06-30', '2021-07-31'], dtype='datetime64[ns]', freq=None)"
      ]
     },
     "execution_count": 41,
     "metadata": {},
     "output_type": "execute_result"
    }
   ],
   "source": [
    "(second_quarter_bus + MonthEnd(0)).unique()"
   ]
  },
  {
   "cell_type": "code",
   "execution_count": 42,
   "metadata": {},
   "outputs": [
    {
     "data": {
      "text/plain": [
       "DatetimeIndex(['2021-06-30', '2021-07-31', '2021-08-31', '2021-09-30'], dtype='datetime64[ns]', freq=None)"
      ]
     },
     "execution_count": 42,
     "metadata": {},
     "output_type": "execute_result"
    }
   ],
   "source": [
    "(second_quarter_bus + MonthEnd(3)).unique()"
   ]
  }
 ],
 "metadata": {
  "kernelspec": {
   "display_name": "Python 3",
   "language": "python",
   "name": "python3"
  },
  "language_info": {
   "codemirror_mode": {
    "name": "ipython",
    "version": 3
   },
   "file_extension": ".py",
   "mimetype": "text/x-python",
   "name": "python",
   "nbconvert_exporter": "python",
   "pygments_lexer": "ipython3",
   "version": "3.8.10"
  },
  "toc": {
   "base_numbering": 1,
   "nav_menu": {},
   "number_sections": true,
   "sideBar": true,
   "skip_h1_title": false,
   "title_cell": "Table of Contents",
   "title_sidebar": "Contents",
   "toc_cell": false,
   "toc_position": {
    "height": "calc(100% - 180px)",
    "left": "10px",
    "top": "150px",
    "width": "165px"
   },
   "toc_section_display": true,
   "toc_window_display": true
  },
  "varInspector": {
   "cols": {
    "lenName": 16,
    "lenType": 16,
    "lenVar": 40
   },
   "kernels_config": {
    "python": {
     "delete_cmd_postfix": "",
     "delete_cmd_prefix": "del ",
     "library": "var_list.py",
     "varRefreshCmd": "print(var_dic_list())"
    },
    "r": {
     "delete_cmd_postfix": ") ",
     "delete_cmd_prefix": "rm(",
     "library": "var_list.r",
     "varRefreshCmd": "cat(var_dic_list()) "
    }
   },
   "position": {
    "height": "143.991px",
    "left": "79.9943px",
    "right": "20px",
    "top": "395.989px",
    "width": "350px"
   },
   "types_to_exclude": [
    "module",
    "function",
    "builtin_function_or_method",
    "instance",
    "_Feature"
   ],
   "window_display": true
  }
 },
 "nbformat": 4,
 "nbformat_minor": 4
}
