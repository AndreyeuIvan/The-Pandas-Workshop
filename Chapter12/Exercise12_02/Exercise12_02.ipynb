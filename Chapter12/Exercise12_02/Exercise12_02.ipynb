{
 "cells": [
  {
   "cell_type": "code",
   "execution_count": 1,
   "metadata": {},
   "outputs": [],
   "source": [
    "#\n",
    "# libraries\n",
    "#\n",
    "import pandas as pd"
   ]
  },
  {
   "cell_type": "code",
   "execution_count": 2,
   "metadata": {},
   "outputs": [],
   "source": [
    "#\n",
    "# load data\n",
    "#\n",
    "engine_power = pd.read_csv('../datasets/engine_power.csv')"
   ]
  },
  {
   "cell_type": "code",
   "execution_count": 3,
   "metadata": {},
   "outputs": [
    {
     "data": {
      "text/html": [
       "<div>\n",
       "<style scoped>\n",
       "    .dataframe tbody tr th:only-of-type {\n",
       "        vertical-align: middle;\n",
       "    }\n",
       "\n",
       "    .dataframe tbody tr th {\n",
       "        vertical-align: top;\n",
       "    }\n",
       "\n",
       "    .dataframe thead th {\n",
       "        text-align: right;\n",
       "    }\n",
       "</style>\n",
       "<table border=\"1\" class=\"dataframe\">\n",
       "  <thead>\n",
       "    <tr style=\"text-align: right;\">\n",
       "      <th></th>\n",
       "      <th>datetime</th>\n",
       "      <th>power</th>\n",
       "    </tr>\n",
       "  </thead>\n",
       "  <tbody>\n",
       "    <tr>\n",
       "      <th>0</th>\n",
       "      <td>2020-1-1 00:00</td>\n",
       "      <td>221.403466</td>\n",
       "    </tr>\n",
       "    <tr>\n",
       "      <th>1</th>\n",
       "      <td>2020-1-1 01:55</td>\n",
       "      <td>327.370592</td>\n",
       "    </tr>\n",
       "    <tr>\n",
       "      <th>2</th>\n",
       "      <td>2020-1-1 03:50</td>\n",
       "      <td>223.272440</td>\n",
       "    </tr>\n",
       "    <tr>\n",
       "      <th>3</th>\n",
       "      <td>2020-1-1 04:04</td>\n",
       "      <td>328.380592</td>\n",
       "    </tr>\n",
       "    <tr>\n",
       "      <th>4</th>\n",
       "      <td>2020-1-1 05:45</td>\n",
       "      <td>329.109239</td>\n",
       "    </tr>\n",
       "  </tbody>\n",
       "</table>\n",
       "</div>"
      ],
      "text/plain": [
       "         datetime       power\n",
       "0  2020-1-1 00:00  221.403466\n",
       "1  2020-1-1 01:55  327.370592\n",
       "2  2020-1-1 03:50  223.272440\n",
       "3  2020-1-1 04:04  328.380592\n",
       "4  2020-1-1 05:45  329.109239"
      ]
     },
     "execution_count": 3,
     "metadata": {},
     "output_type": "execute_result"
    }
   ],
   "source": [
    "#\n",
    "# inspect the data\n",
    "#\n",
    "engine_power.head()"
   ]
  },
  {
   "cell_type": "code",
   "execution_count": 4,
   "metadata": {},
   "outputs": [
    {
     "data": {
      "text/plain": [
       "datetime     object\n",
       "power       float64\n",
       "dtype: object"
      ]
     },
     "execution_count": 4,
     "metadata": {},
     "output_type": "execute_result"
    }
   ],
   "source": [
    "engine_power.dtypes"
   ]
  },
  {
   "cell_type": "code",
   "execution_count": 5,
   "metadata": {
    "scrolled": false
   },
   "outputs": [
    {
     "data": {
      "text/plain": [
       "datetime    datetime64[ns]\n",
       "power              float64\n",
       "dtype: object"
      ]
     },
     "execution_count": 5,
     "metadata": {},
     "output_type": "execute_result"
    }
   ],
   "source": [
    "#\n",
    "# use the Pandas method pd.to_datetime() to convert\n",
    "# the datetime column from a string to a Pandas Timestamp\n",
    "#\n",
    "engine_power['datetime'] = pd.to_datetime(engine_power['datetime'])\n",
    "engine_power.dtypes\n",
    "#"
   ]
  },
  {
   "cell_type": "code",
   "execution_count": 6,
   "metadata": {},
   "outputs": [
    {
     "data": {
      "text/html": [
       "<div>\n",
       "<style scoped>\n",
       "    .dataframe tbody tr th:only-of-type {\n",
       "        vertical-align: middle;\n",
       "    }\n",
       "\n",
       "    .dataframe tbody tr th {\n",
       "        vertical-align: top;\n",
       "    }\n",
       "\n",
       "    .dataframe thead th {\n",
       "        text-align: right;\n",
       "    }\n",
       "</style>\n",
       "<table border=\"1\" class=\"dataframe\">\n",
       "  <thead>\n",
       "    <tr style=\"text-align: right;\">\n",
       "      <th></th>\n",
       "      <th>datetime</th>\n",
       "      <th>power</th>\n",
       "      <th>sec_from_start</th>\n",
       "    </tr>\n",
       "  </thead>\n",
       "  <tbody>\n",
       "    <tr>\n",
       "      <th>0</th>\n",
       "      <td>2020-01-01 00:00:00</td>\n",
       "      <td>221.403466</td>\n",
       "      <td>0.0</td>\n",
       "    </tr>\n",
       "    <tr>\n",
       "      <th>1</th>\n",
       "      <td>2020-01-01 01:55:00</td>\n",
       "      <td>327.370592</td>\n",
       "      <td>6900.0</td>\n",
       "    </tr>\n",
       "    <tr>\n",
       "      <th>2</th>\n",
       "      <td>2020-01-01 03:50:00</td>\n",
       "      <td>223.272440</td>\n",
       "      <td>13800.0</td>\n",
       "    </tr>\n",
       "    <tr>\n",
       "      <th>3</th>\n",
       "      <td>2020-01-01 04:04:00</td>\n",
       "      <td>328.380592</td>\n",
       "      <td>14640.0</td>\n",
       "    </tr>\n",
       "    <tr>\n",
       "      <th>4</th>\n",
       "      <td>2020-01-01 05:45:00</td>\n",
       "      <td>329.109239</td>\n",
       "      <td>20700.0</td>\n",
       "    </tr>\n",
       "    <tr>\n",
       "      <th>...</th>\n",
       "      <td>...</td>\n",
       "      <td>...</td>\n",
       "      <td>...</td>\n",
       "    </tr>\n",
       "    <tr>\n",
       "      <th>2114</th>\n",
       "      <td>2020-04-15 11:02:00</td>\n",
       "      <td>131.620792</td>\n",
       "      <td>9111720.0</td>\n",
       "    </tr>\n",
       "    <tr>\n",
       "      <th>2115</th>\n",
       "      <td>2020-04-15 11:16:00</td>\n",
       "      <td>8.703348</td>\n",
       "      <td>9112560.0</td>\n",
       "    </tr>\n",
       "    <tr>\n",
       "      <th>2116</th>\n",
       "      <td>2020-04-15 12:43:00</td>\n",
       "      <td>23.701833</td>\n",
       "      <td>9117780.0</td>\n",
       "    </tr>\n",
       "    <tr>\n",
       "      <th>2117</th>\n",
       "      <td>2020-04-15 12:57:00</td>\n",
       "      <td>110.785479</td>\n",
       "      <td>9118620.0</td>\n",
       "    </tr>\n",
       "    <tr>\n",
       "      <th>2118</th>\n",
       "      <td>2020-04-15 13:12:00</td>\n",
       "      <td>22.869297</td>\n",
       "      <td>9119520.0</td>\n",
       "    </tr>\n",
       "  </tbody>\n",
       "</table>\n",
       "<p>2119 rows × 3 columns</p>\n",
       "</div>"
      ],
      "text/plain": [
       "                datetime       power  sec_from_start\n",
       "0    2020-01-01 00:00:00  221.403466             0.0\n",
       "1    2020-01-01 01:55:00  327.370592          6900.0\n",
       "2    2020-01-01 03:50:00  223.272440         13800.0\n",
       "3    2020-01-01 04:04:00  328.380592         14640.0\n",
       "4    2020-01-01 05:45:00  329.109239         20700.0\n",
       "...                  ...         ...             ...\n",
       "2114 2020-04-15 11:02:00  131.620792       9111720.0\n",
       "2115 2020-04-15 11:16:00    8.703348       9112560.0\n",
       "2116 2020-04-15 12:43:00   23.701833       9117780.0\n",
       "2117 2020-04-15 12:57:00  110.785479       9118620.0\n",
       "2118 2020-04-15 13:12:00   22.869297       9119520.0\n",
       "\n",
       "[2119 rows x 3 columns]"
      ]
     },
     "execution_count": 6,
     "metadata": {},
     "output_type": "execute_result"
    }
   ],
   "source": [
    "#\n",
    "# use the total_seconds attribute of Timedelta \n",
    "# to compute the seconds from the starting date\n",
    "# for each date in the data\n",
    "#\n",
    "engine_power['sec_from_start'] = \\\n",
    "[(engine_power.loc[i, 'datetime'] -\n",
    "  engine_power.loc[0, 'datetime']).total_seconds()\n",
    " for i in engine_power.index]\n",
    "engine_power"
   ]
  },
  {
   "cell_type": "code",
   "execution_count": 7,
   "metadata": {
    "scrolled": false
   },
   "outputs": [
    {
     "data": {
      "text/html": [
       "<div>\n",
       "<style scoped>\n",
       "    .dataframe tbody tr th:only-of-type {\n",
       "        vertical-align: middle;\n",
       "    }\n",
       "\n",
       "    .dataframe tbody tr th {\n",
       "        vertical-align: top;\n",
       "    }\n",
       "\n",
       "    .dataframe thead th {\n",
       "        text-align: right;\n",
       "    }\n",
       "</style>\n",
       "<table border=\"1\" class=\"dataframe\">\n",
       "  <thead>\n",
       "    <tr style=\"text-align: right;\">\n",
       "      <th></th>\n",
       "      <th>datetime</th>\n",
       "      <th>power</th>\n",
       "      <th>sec_from_start</th>\n",
       "      <th>days_from_start</th>\n",
       "    </tr>\n",
       "  </thead>\n",
       "  <tbody>\n",
       "    <tr>\n",
       "      <th>0</th>\n",
       "      <td>2020-01-01 00:00:00</td>\n",
       "      <td>221.403466</td>\n",
       "      <td>0.0</td>\n",
       "      <td>0.000000</td>\n",
       "    </tr>\n",
       "    <tr>\n",
       "      <th>1</th>\n",
       "      <td>2020-01-01 01:55:00</td>\n",
       "      <td>327.370592</td>\n",
       "      <td>6900.0</td>\n",
       "      <td>0.079861</td>\n",
       "    </tr>\n",
       "    <tr>\n",
       "      <th>2</th>\n",
       "      <td>2020-01-01 03:50:00</td>\n",
       "      <td>223.272440</td>\n",
       "      <td>13800.0</td>\n",
       "      <td>0.159722</td>\n",
       "    </tr>\n",
       "    <tr>\n",
       "      <th>3</th>\n",
       "      <td>2020-01-01 04:04:00</td>\n",
       "      <td>328.380592</td>\n",
       "      <td>14640.0</td>\n",
       "      <td>0.169444</td>\n",
       "    </tr>\n",
       "    <tr>\n",
       "      <th>4</th>\n",
       "      <td>2020-01-01 05:45:00</td>\n",
       "      <td>329.109239</td>\n",
       "      <td>20700.0</td>\n",
       "      <td>0.239583</td>\n",
       "    </tr>\n",
       "    <tr>\n",
       "      <th>...</th>\n",
       "      <td>...</td>\n",
       "      <td>...</td>\n",
       "      <td>...</td>\n",
       "      <td>...</td>\n",
       "    </tr>\n",
       "    <tr>\n",
       "      <th>2114</th>\n",
       "      <td>2020-04-15 11:02:00</td>\n",
       "      <td>131.620792</td>\n",
       "      <td>9111720.0</td>\n",
       "      <td>105.459722</td>\n",
       "    </tr>\n",
       "    <tr>\n",
       "      <th>2115</th>\n",
       "      <td>2020-04-15 11:16:00</td>\n",
       "      <td>8.703348</td>\n",
       "      <td>9112560.0</td>\n",
       "      <td>105.469444</td>\n",
       "    </tr>\n",
       "    <tr>\n",
       "      <th>2116</th>\n",
       "      <td>2020-04-15 12:43:00</td>\n",
       "      <td>23.701833</td>\n",
       "      <td>9117780.0</td>\n",
       "      <td>105.529861</td>\n",
       "    </tr>\n",
       "    <tr>\n",
       "      <th>2117</th>\n",
       "      <td>2020-04-15 12:57:00</td>\n",
       "      <td>110.785479</td>\n",
       "      <td>9118620.0</td>\n",
       "      <td>105.539583</td>\n",
       "    </tr>\n",
       "    <tr>\n",
       "      <th>2118</th>\n",
       "      <td>2020-04-15 13:12:00</td>\n",
       "      <td>22.869297</td>\n",
       "      <td>9119520.0</td>\n",
       "      <td>105.550000</td>\n",
       "    </tr>\n",
       "  </tbody>\n",
       "</table>\n",
       "<p>2119 rows × 4 columns</p>\n",
       "</div>"
      ],
      "text/plain": [
       "                datetime       power  sec_from_start  days_from_start\n",
       "0    2020-01-01 00:00:00  221.403466             0.0         0.000000\n",
       "1    2020-01-01 01:55:00  327.370592          6900.0         0.079861\n",
       "2    2020-01-01 03:50:00  223.272440         13800.0         0.159722\n",
       "3    2020-01-01 04:04:00  328.380592         14640.0         0.169444\n",
       "4    2020-01-01 05:45:00  329.109239         20700.0         0.239583\n",
       "...                  ...         ...             ...              ...\n",
       "2114 2020-04-15 11:02:00  131.620792       9111720.0       105.459722\n",
       "2115 2020-04-15 11:16:00    8.703348       9112560.0       105.469444\n",
       "2116 2020-04-15 12:43:00   23.701833       9117780.0       105.529861\n",
       "2117 2020-04-15 12:57:00  110.785479       9118620.0       105.539583\n",
       "2118 2020-04-15 13:12:00   22.869297       9119520.0       105.550000\n",
       "\n",
       "[2119 rows x 4 columns]"
      ]
     },
     "execution_count": 7,
     "metadata": {},
     "output_type": "execute_result"
    }
   ],
   "source": [
    "#\n",
    "# do the same thing, except get the days\n",
    "# as a decimal value from the start\n",
    "#\n",
    "engine_power['days_from_start'] = \\\n",
    "(engine_power['datetime'].values -\n",
    " engine_power['datetime'][0].value).astype(float) / (24 * 60 * 60 * 1e9)\n",
    "engine_power"
   ]
  },
  {
   "cell_type": "code",
   "execution_count": null,
   "metadata": {},
   "outputs": [],
   "source": []
  }
 ],
 "metadata": {
  "kernelspec": {
   "display_name": "Python 3 (ipykernel)",
   "language": "python",
   "name": "python3"
  },
  "language_info": {
   "codemirror_mode": {
    "name": "ipython",
    "version": 3
   },
   "file_extension": ".py",
   "mimetype": "text/x-python",
   "name": "python",
   "nbconvert_exporter": "python",
   "pygments_lexer": "ipython3",
   "version": "3.9.5"
  },
  "toc": {
   "base_numbering": 1,
   "nav_menu": {},
   "number_sections": true,
   "sideBar": true,
   "skip_h1_title": false,
   "title_cell": "Table of Contents",
   "title_sidebar": "Contents",
   "toc_cell": false,
   "toc_position": {
    "height": "calc(100% - 180px)",
    "left": "10px",
    "top": "150px",
    "width": "202.927px"
   },
   "toc_section_display": true,
   "toc_window_display": true
  },
  "varInspector": {
   "cols": {
    "lenName": 16,
    "lenType": 16,
    "lenVar": 40
   },
   "kernels_config": {
    "python": {
     "delete_cmd_postfix": "",
     "delete_cmd_prefix": "del ",
     "library": "var_list.py",
     "varRefreshCmd": "print(var_dic_list())"
    },
    "r": {
     "delete_cmd_postfix": ") ",
     "delete_cmd_prefix": "rm(",
     "library": "var_list.r",
     "varRefreshCmd": "cat(var_dic_list()) "
    }
   },
   "types_to_exclude": [
    "module",
    "function",
    "builtin_function_or_method",
    "instance",
    "_Feature"
   ],
   "window_display": true
  }
 },
 "nbformat": 4,
 "nbformat_minor": 4
}
