{
 "cells": [
  {
   "cell_type": "code",
   "execution_count": 7,
   "metadata": {},
   "outputs": [],
   "source": [
    "#\n",
    "# required libraries\n",
    "#\n",
    "import pandas as pd\n",
    "import numpy as np\n",
    "#"
   ]
  },
  {
   "cell_type": "code",
   "execution_count": 20,
   "metadata": {},
   "outputs": [
    {
     "data": {
      "text/plain": [
       "pear      51\n",
       "pear      92\n",
       "pear      14\n",
       "orange    71\n",
       "peach     60\n",
       "peach     20\n",
       "peach     82\n",
       "peach     86\n",
       "pear      74\n",
       "orange    74\n",
       "orange    87\n",
       "pear      99\n",
       "orange    23\n",
       "pear       2\n",
       "peach     21\n",
       "pear      52\n",
       "peach      1\n",
       "peach     87\n",
       "apple     29\n",
       "pear      37\n",
       "apple      1\n",
       "pear      63\n",
       "pear      59\n",
       "apple     20\n",
       "apple     32\n",
       "pear      75\n",
       "orange    57\n",
       "peach     21\n",
       "apple     88\n",
       "peach     48\n",
       "dtype: int32"
      ]
     },
     "execution_count": 20,
     "metadata": {},
     "output_type": "execute_result"
    }
   ],
   "source": [
    "#\n",
    "# create a labeled series\n",
    "#\n",
    "# list of labels to use for index\n",
    "#\n",
    "fruits = list(['apple', 'orange', 'pear', 'peach'])\n",
    "#\n",
    "# random list of integer counts\n",
    "#\n",
    "np.random.seed(42)\n",
    "my_fruits = pd.Series(data = np.random.randint(0, 100, 30))\n",
    "#\n",
    "# add the index by sampling the labels list\n",
    "#\n",
    "my_fruits.index = np.random.choice(fruits, 30)\n",
    "my_fruits"
   ]
  },
  {
   "cell_type": "code",
   "execution_count": 21,
   "metadata": {},
   "outputs": [
    {
     "name": "stdout",
     "output_type": "stream",
     "text": [
      "the total number of apples is  170\n"
     ]
    }
   ],
   "source": [
    "#\n",
    "# get the total number of apples\n",
    "#\n",
    "apples = sum(my_fruits['apple'])\n",
    "print('the total number of apples is ', apples)\n",
    "#"
   ]
  },
  {
   "cell_type": "code",
   "execution_count": 22,
   "metadata": {},
   "outputs": [
    {
     "name": "stdout",
     "output_type": "stream",
     "text": [
      "there are more peaches than oranges\n"
     ]
    }
   ],
   "source": [
    "#\n",
    "# which are more, oranges or peaches?\n",
    "#\n",
    "oranges = sum(my_fruits['orange'])\n",
    "peaches = sum(my_fruits['peach'])\n",
    "#\n",
    "if oranges > peaches:\n",
    "    print('there are more oranges than peaches')\n",
    "elif peaches > oranges:\n",
    "    print('there are more peaches than oranges')\n",
    "else:\n",
    "    print('there are the same number of peaches and oranges')\n",
    "#    "
   ]
  },
  {
   "cell_type": "code",
   "execution_count": 46,
   "metadata": {},
   "outputs": [],
   "source": [
    "#\n",
    "# list all the pears and peaches\n",
    "#\n",
    "p_fruits_1 = pd.concat([my_fruits['pear'], my_fruits['peach']])\n",
    "p_fruits_2 = pd.Series(my_fruits[[i \n",
    "                                  for i in range(len(my_fruits)) \n",
    "                                  if my_fruits.index[i].startswith('p')]])\n",
    "#"
   ]
  },
  {
   "cell_type": "code",
   "execution_count": 47,
   "metadata": {},
   "outputs": [
    {
     "name": "stdout",
     "output_type": "stream",
     "text": [
      "pear     51\n",
      "pear     92\n",
      "pear     14\n",
      "pear     74\n",
      "pear     99\n",
      "pear      2\n",
      "pear     52\n",
      "pear     37\n",
      "pear     63\n",
      "pear     59\n",
      "pear     75\n",
      "peach    60\n",
      "peach    20\n",
      "peach    82\n",
      "peach    86\n",
      "peach    21\n",
      "peach     1\n",
      "peach    87\n",
      "peach    21\n",
      "peach    48\n",
      "dtype: int32\n",
      "pear     51\n",
      "pear     92\n",
      "pear     14\n",
      "peach    60\n",
      "peach    20\n",
      "peach    82\n",
      "peach    86\n",
      "pear     74\n",
      "pear     99\n",
      "pear      2\n",
      "peach    21\n",
      "pear     52\n",
      "peach     1\n",
      "peach    87\n",
      "pear     37\n",
      "pear     63\n",
      "pear     59\n",
      "pear     75\n",
      "peach    21\n",
      "peach    48\n",
      "dtype: int32\n"
     ]
    }
   ],
   "source": [
    "#\n",
    "# print out both Series and compare\n",
    "#\n",
    "print(p_fruits_1)\n",
    "print(p_fruits_2)"
   ]
  },
  {
   "cell_type": "code",
   "execution_count": null,
   "metadata": {},
   "outputs": [],
   "source": []
  }
 ],
 "metadata": {
  "kernelspec": {
   "display_name": "Python 3",
   "language": "python",
   "name": "python3"
  },
  "language_info": {
   "codemirror_mode": {
    "name": "ipython",
    "version": 3
   },
   "file_extension": ".py",
   "mimetype": "text/x-python",
   "name": "python",
   "nbconvert_exporter": "python",
   "pygments_lexer": "ipython3",
   "version": "3.7.6"
  },
  "toc": {
   "base_numbering": 1,
   "nav_menu": {},
   "number_sections": true,
   "sideBar": true,
   "skip_h1_title": false,
   "title_cell": "Table of Contents",
   "title_sidebar": "Contents",
   "toc_cell": false,
   "toc_position": {},
   "toc_section_display": true,
   "toc_window_display": true
  },
  "varInspector": {
   "cols": {
    "lenName": 16,
    "lenType": 16,
    "lenVar": 40
   },
   "kernels_config": {
    "python": {
     "delete_cmd_postfix": "",
     "delete_cmd_prefix": "del ",
     "library": "var_list.py",
     "varRefreshCmd": "print(var_dic_list())"
    },
    "r": {
     "delete_cmd_postfix": ") ",
     "delete_cmd_prefix": "rm(",
     "library": "var_list.r",
     "varRefreshCmd": "cat(var_dic_list()) "
    }
   },
   "types_to_exclude": [
    "module",
    "function",
    "builtin_function_or_method",
    "instance",
    "_Feature"
   ],
   "window_display": true
  }
 },
 "nbformat": 4,
 "nbformat_minor": 4
}
