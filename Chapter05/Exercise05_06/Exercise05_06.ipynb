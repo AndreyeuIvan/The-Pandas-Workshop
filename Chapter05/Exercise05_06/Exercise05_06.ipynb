{
 "cells": [
  {
   "cell_type": "code",
   "execution_count": 1,
   "metadata": {},
   "outputs": [],
   "source": [
    "#\n",
    "# required libraries\n",
    "#\n",
    "import pandas as pd\n",
    "import numpy as np\n",
    "#"
   ]
  },
  {
   "cell_type": "code",
   "execution_count": 20,
   "metadata": {},
   "outputs": [
    {
     "data": {
      "text/plain": [
       "pear      51\n",
       "peach     92\n",
       "apple     14\n",
       "pear      71\n",
       "pear      60\n",
       "peach     20\n",
       "apple     82\n",
       "apple     86\n",
       "pear      74\n",
       "orange    74\n",
       "dtype: int64"
      ]
     },
     "execution_count": 20,
     "metadata": {},
     "output_type": "execute_result"
    }
   ],
   "source": [
    "#\n",
    "# create a labeled series\n",
    "#\n",
    "# list of labels to use for index\n",
    "#\n",
    "fruits = pd.Series(['apple', 'orange', 'pear', 'peach'])\n",
    "#\n",
    "# random list of integer counts\n",
    "#\n",
    "fruit_orders = \\\n",
    "pd.Series(range(0, 100)).sample(30, \n",
    "                                replace = True, \n",
    "                                random_state = 42)\n",
    "#\n",
    "# add the index by sampling the labels list\n",
    "#\n",
    "fruit_orders.index = fruits.sample(30, \n",
    "                                   replace = True, \n",
    "                                   random_state = 42)\n",
    "fruit_orders.head(10)"
   ]
  },
  {
   "cell_type": "code",
   "execution_count": 21,
   "metadata": {},
   "outputs": [
    {
     "name": "stdout",
     "output_type": "stream",
     "text": [
      "the total number apples orders this week is: 297\n"
     ]
    }
   ],
   "source": [
    "#\n",
    "# get the total number of apples\n",
    "#\n",
    "apples = sum(fruit_orders['apple'])\n",
    "print('the total number apples orders this week is:', apples)\n",
    "#"
   ]
  },
  {
   "cell_type": "code",
   "execution_count": 22,
   "metadata": {},
   "outputs": [
    {
     "name": "stdout",
     "output_type": "stream",
     "text": [
      "there are more peaches ordered than oranges\n"
     ]
    }
   ],
   "source": [
    "#\n",
    "# which are more, oranges or peaches?\n",
    "#\n",
    "oranges = sum(fruit_orders['orange'])\n",
    "peaches = sum(fruit_orders['peach'])\n",
    "#\n",
    "if oranges > peaches:\n",
    "    print('there are more oranges ordered than peaches')\n",
    "elif peaches > oranges:\n",
    "    print('there are more peaches ordered than oranges')\n",
    "else:\n",
    "    print('there are the same number of orders for peaches and oranges')\n",
    "#    "
   ]
  },
  {
   "cell_type": "code",
   "execution_count": 23,
   "metadata": {},
   "outputs": [],
   "source": [
    "#\n",
    "# create a series with all the pears and peaches\n",
    "#\n",
    "p_fruits_1 = pd.concat([fruit_orders['pear'], fruit_orders['peach']])\n",
    "#\n",
    "# create an equivalent series using a list comprehension\n",
    "#\n",
    "p_fruits_2 = \\\n",
    "pd.Series(fruit_orders[[i \n",
    "                        for i in range(len(fruit_orders)) \n",
    "                        if fruit_orders.index[i].startswith('p')]])\n",
    "#"
   ]
  },
  {
   "cell_type": "code",
   "execution_count": 24,
   "metadata": {},
   "outputs": [
    {
     "name": "stdout",
     "output_type": "stream",
     "text": [
      "pear     51\n",
      "pear     71\n",
      "pear     60\n",
      "pear     74\n",
      "pear     87\n",
      "pear     99\n",
      "pear     23\n",
      "pear      2\n",
      "pear     37\n",
      "peach    92\n",
      "peach    20\n",
      "peach    21\n",
      "peach     1\n",
      "peach    87\n",
      "peach    29\n",
      "peach    20\n",
      "peach    32\n",
      "peach    88\n",
      "peach    48\n",
      "dtype: int64\n",
      "pear     51\n",
      "peach    92\n",
      "pear     71\n",
      "pear     60\n",
      "peach    20\n",
      "pear     74\n",
      "pear     87\n",
      "pear     99\n",
      "pear     23\n",
      "pear      2\n",
      "peach    21\n",
      "peach     1\n",
      "peach    87\n",
      "peach    29\n",
      "pear     37\n",
      "peach    20\n",
      "peach    32\n",
      "peach    88\n",
      "peach    48\n",
      "dtype: int64\n"
     ]
    }
   ],
   "source": [
    "#\n",
    "# print out both Series and compare\n",
    "#\n",
    "print(p_fruits_1)\n",
    "print(p_fruits_2)"
   ]
  },
  {
   "cell_type": "code",
   "execution_count": null,
   "metadata": {},
   "outputs": [],
   "source": []
  }
 ],
 "metadata": {
  "kernelspec": {
   "display_name": "Python 3",
   "language": "python",
   "name": "python3"
  },
  "language_info": {
   "codemirror_mode": {
    "name": "ipython",
    "version": 3
   },
   "file_extension": ".py",
   "mimetype": "text/x-python",
   "name": "python",
   "nbconvert_exporter": "python",
   "pygments_lexer": "ipython3",
   "version": "3.7.6"
  },
  "toc": {
   "base_numbering": 1,
   "nav_menu": {},
   "number_sections": true,
   "sideBar": true,
   "skip_h1_title": false,
   "title_cell": "Table of Contents",
   "title_sidebar": "Contents",
   "toc_cell": false,
   "toc_position": {
    "height": "calc(100% - 180px)",
    "left": "10px",
    "top": "150px",
    "width": "202.927px"
   },
   "toc_section_display": true,
   "toc_window_display": true
  },
  "varInspector": {
   "cols": {
    "lenName": 16,
    "lenType": 16,
    "lenVar": 40
   },
   "kernels_config": {
    "python": {
     "delete_cmd_postfix": "",
     "delete_cmd_prefix": "del ",
     "library": "var_list.py",
     "varRefreshCmd": "print(var_dic_list())"
    },
    "r": {
     "delete_cmd_postfix": ") ",
     "delete_cmd_prefix": "rm(",
     "library": "var_list.r",
     "varRefreshCmd": "cat(var_dic_list()) "
    }
   },
   "types_to_exclude": [
    "module",
    "function",
    "builtin_function_or_method",
    "instance",
    "_Feature"
   ],
   "window_display": false
  }
 },
 "nbformat": 4,
 "nbformat_minor": 4
}
