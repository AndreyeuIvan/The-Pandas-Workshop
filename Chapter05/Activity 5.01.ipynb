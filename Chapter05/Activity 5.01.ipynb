{
 "cells": [
  {
   "cell_type": "code",
   "execution_count": 1,
   "metadata": {},
   "outputs": [],
   "source": [
    "#\n",
    "# required libraries\n",
    "#\n",
    "import pandas as pd\n",
    "#"
   ]
  },
  {
   "cell_type": "code",
   "execution_count": 2,
   "metadata": {},
   "outputs": [
    {
     "data": {
      "text/plain": [
       "New York       8601186\n",
       "Los Angeles    4057841\n",
       "Seattle         766893\n",
       "Miami           491724\n",
       "Denver          732144\n",
       "Chicago        2679044\n",
       "dtype: int64"
      ]
     },
     "execution_count": 2,
     "metadata": {},
     "output_type": "execute_result"
    }
   ],
   "source": [
    "#\n",
    "# create a labeled series with the following data\n",
    "# New York: 8,601,186 Los Angeles: 4,057,841, Seattle:766,893\n",
    "# Miami: 491,724, Denver: 732,144, Chicago: 2,679,044\n",
    "#\n",
    "cities = ['New York', 'Los Angeles', 'Seattle', 'Miami', 'Denver', 'Chicago']\n",
    "populations = pd.Series([8601186, 4057841, 766893, 491724, 732144, 2679044])\n",
    "populations.index = cities\n",
    "populations\n",
    "#"
   ]
  },
  {
   "cell_type": "code",
   "execution_count": 3,
   "metadata": {},
   "outputs": [
    {
     "data": {
      "text/plain": [
       "15338071"
      ]
     },
     "execution_count": 3,
     "metadata": {},
     "output_type": "execute_result"
    }
   ],
   "source": [
    "#\n",
    "# calculate total population for the three largest cities\n",
    "#\n",
    "sum(populations[['New York', 'Los Angeles', 'Chicago']])\n",
    "#"
   ]
  },
  {
   "cell_type": "code",
   "execution_count": 4,
   "metadata": {},
   "outputs": [
    {
     "data": {
      "text/plain": [
       "New York       8730203.790\n",
       "Los Angeles    4118708.615\n",
       "Seattle         778396.395\n",
       "Miami           499099.860\n",
       "Denver          743126.160\n",
       "Chicago        2719229.660\n",
       "dtype: float64"
      ]
     },
     "execution_count": 4,
     "metadata": {},
     "output_type": "execute_result"
    }
   ],
   "source": [
    "#\n",
    "# assuming data are current year and 1.5% growth YoY\n",
    "# calculate the next year expected populations and store in a new Series\n",
    "#\n",
    "new_pops = populations * 1.015\n",
    "new_pops\n",
    "#"
   ]
  },
  {
   "cell_type": "code",
   "execution_count": 6,
   "metadata": {},
   "outputs": [
    {
     "data": {
      "text/plain": [
       "New York       129017.790\n",
       "Los Angeles     60867.615\n",
       "Seattle         11503.395\n",
       "Miami            7375.860\n",
       "Denver          10982.160\n",
       "Chicago         40185.660\n",
       "dtype: float64"
      ]
     },
     "execution_count": 6,
     "metadata": {},
     "output_type": "execute_result"
    }
   ],
   "source": [
    "#\n",
    "# Subtract current year from next year and display expected changes\n",
    "#\n",
    "new_pops - populations\n",
    "#"
   ]
  },
  {
   "cell_type": "code",
   "execution_count": 8,
   "metadata": {},
   "outputs": [
    {
     "data": {
      "text/plain": [
       "29861.414999999746"
      ]
     },
     "execution_count": 8,
     "metadata": {},
     "output_type": "execute_result"
    }
   ],
   "source": [
    "#\n",
    "# repeat the change calculation but list only the three smallest cities\n",
    "#\n",
    "sum((new_pops - populations)[['Miami', 'Denver', 'Seattle']])\n",
    "#"
   ]
  },
  {
   "cell_type": "code",
   "execution_count": null,
   "metadata": {},
   "outputs": [],
   "source": []
  }
 ],
 "metadata": {
  "kernelspec": {
   "display_name": "Python 3",
   "language": "python",
   "name": "python3"
  },
  "language_info": {
   "codemirror_mode": {
    "name": "ipython",
    "version": 3
   },
   "file_extension": ".py",
   "mimetype": "text/x-python",
   "name": "python",
   "nbconvert_exporter": "python",
   "pygments_lexer": "ipython3",
   "version": "3.7.6"
  },
  "toc": {
   "base_numbering": 1,
   "nav_menu": {},
   "number_sections": true,
   "sideBar": true,
   "skip_h1_title": false,
   "title_cell": "Table of Contents",
   "title_sidebar": "Contents",
   "toc_cell": false,
   "toc_position": {},
   "toc_section_display": true,
   "toc_window_display": true
  },
  "varInspector": {
   "cols": {
    "lenName": 16,
    "lenType": 16,
    "lenVar": 40
   },
   "kernels_config": {
    "python": {
     "delete_cmd_postfix": "",
     "delete_cmd_prefix": "del ",
     "library": "var_list.py",
     "varRefreshCmd": "print(var_dic_list())"
    },
    "r": {
     "delete_cmd_postfix": ") ",
     "delete_cmd_prefix": "rm(",
     "library": "var_list.r",
     "varRefreshCmd": "cat(var_dic_list()) "
    }
   },
   "position": {
    "height": "144px",
    "left": "1150px",
    "right": "20px",
    "top": "12px",
    "width": "350px"
   },
   "types_to_exclude": [
    "module",
    "function",
    "builtin_function_or_method",
    "instance",
    "_Feature"
   ],
   "window_display": true
  }
 },
 "nbformat": 4,
 "nbformat_minor": 4
}
