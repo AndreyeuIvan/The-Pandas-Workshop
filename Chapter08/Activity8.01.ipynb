{
 "cells": [
  {
   "cell_type": "code",
   "execution_count": 15,
   "metadata": {},
   "outputs": [],
   "source": [
    "#\n",
    "# libraries\n",
    "#\n",
    "import pandas as pd\n",
    "import numpy as np\n",
    "from sklearn.model_selection import train_test_split\n",
    "#"
   ]
  },
  {
   "cell_type": "code",
   "execution_count": 3,
   "metadata": {},
   "outputs": [
    {
     "data": {
      "text/html": [
       "<div>\n",
       "<style scoped>\n",
       "    .dataframe tbody tr th:only-of-type {\n",
       "        vertical-align: middle;\n",
       "    }\n",
       "\n",
       "    .dataframe tbody tr th {\n",
       "        vertical-align: top;\n",
       "    }\n",
       "\n",
       "    .dataframe thead th {\n",
       "        text-align: right;\n",
       "    }\n",
       "</style>\n",
       "<table border=\"1\" class=\"dataframe\">\n",
       "  <thead>\n",
       "    <tr style=\"text-align: right;\">\n",
       "      <th></th>\n",
       "      <th>AT</th>\n",
       "      <th>V</th>\n",
       "      <th>AP</th>\n",
       "      <th>RH</th>\n",
       "      <th>PE</th>\n",
       "    </tr>\n",
       "  </thead>\n",
       "  <tbody>\n",
       "    <tr>\n",
       "      <th>0</th>\n",
       "      <td>8.34</td>\n",
       "      <td>40.77</td>\n",
       "      <td>1010.84</td>\n",
       "      <td>90.01</td>\n",
       "      <td>480.48</td>\n",
       "    </tr>\n",
       "    <tr>\n",
       "      <th>1</th>\n",
       "      <td>23.64</td>\n",
       "      <td>58.49</td>\n",
       "      <td>1011.40</td>\n",
       "      <td>74.20</td>\n",
       "      <td>445.75</td>\n",
       "    </tr>\n",
       "    <tr>\n",
       "      <th>2</th>\n",
       "      <td>29.74</td>\n",
       "      <td>56.90</td>\n",
       "      <td>1007.15</td>\n",
       "      <td>41.91</td>\n",
       "      <td>438.76</td>\n",
       "    </tr>\n",
       "    <tr>\n",
       "      <th>3</th>\n",
       "      <td>19.07</td>\n",
       "      <td>49.69</td>\n",
       "      <td>1007.22</td>\n",
       "      <td>76.79</td>\n",
       "      <td>453.09</td>\n",
       "    </tr>\n",
       "    <tr>\n",
       "      <th>4</th>\n",
       "      <td>11.80</td>\n",
       "      <td>40.66</td>\n",
       "      <td>1017.13</td>\n",
       "      <td>97.20</td>\n",
       "      <td>464.43</td>\n",
       "    </tr>\n",
       "  </tbody>\n",
       "</table>\n",
       "</div>"
      ],
      "text/plain": [
       "      AT      V       AP     RH      PE\n",
       "0   8.34  40.77  1010.84  90.01  480.48\n",
       "1  23.64  58.49  1011.40  74.20  445.75\n",
       "2  29.74  56.90  1007.15  41.91  438.76\n",
       "3  19.07  49.69  1007.22  76.79  453.09\n",
       "4  11.80  40.66  1017.13  97.20  464.43"
      ]
     },
     "execution_count": 3,
     "metadata": {},
     "output_type": "execute_result"
    }
   ],
   "source": [
    "#\n",
    "# load the data\n",
    "#\n",
    "power_data = pd.read_csv('Datasets\\\\power_plant.csv')\n",
    "power_data.head()\n",
    "#"
   ]
  },
  {
   "cell_type": "code",
   "execution_count": 17,
   "metadata": {},
   "outputs": [
    {
     "name": "stdout",
     "output_type": "stream",
     "text": [
      "train is  (7654, 5)  rows, cols\n",
      " val is  (956, 5)  rows, cols\n",
      " test is  (958, 5) rows, cols\n"
     ]
    }
   ],
   "source": [
    "#\n",
    "# split into train / val / test as 0.8 / 0.1 / 0.1\n",
    "#\n",
    "train_rows = pd.Series(np.random.choice(list(power_data.index), \n",
    "                                  int(0.8 * power_data.shape[0]), \n",
    "                                  replace = False))\n",
    "val_rows = pd.Series(np.random.choice(list(power_data.drop(train_rows, \n",
    "                                                           axis = 0).index), \n",
    "                                int(0.1 * power_data.shape[0]), \n",
    "                                replace = False))\n",
    "test_rows = pd.Series(power_data.drop(pd.concat([train_rows, \n",
    "                                                 val_rows]), axis = 0).index)\n",
    "train_data = power_data.iloc[train_rows, :]\n",
    "val_data = power_data.iloc[val_rows, :]\n",
    "test_data = power_data.iloc[test_rows, :]\n",
    "#\n",
    "print('train is ', train_data.shape, ' rows, cols\\n',\n",
    "     'val is ', val_data.shape, ' rows, cols\\n',\n",
    "     'test is ', test_data.shape, 'rows, cols')\n",
    "#"
   ]
  },
  {
   "cell_type": "code",
   "execution_count": 13,
   "metadata": {},
   "outputs": [
    {
     "name": "stdout",
     "output_type": "stream",
     "text": [
      "train is  (7654, 5)  rows, cols\n",
      " val is  (957, 5)  rows, cols\n",
      " test is  (957, 5) rows, cols\n"
     ]
    }
   ],
   "source": [
    "#\n",
    "# repeat using train_test_split()\n",
    "#\n",
    "train_data_2, val_data_2 = train_test_split(power_data, train_size = 0.8)\n",
    "val_data_2, test_data_2 = train_test_split(val_data_2, test_size = 0.5)\n",
    "#\n",
    "print('train is ', train_data_2.shape, ' rows, cols\\n',\n",
    "     'val is ', val_data_2.shape, ' rows, cols\\n',\n",
    "     'test is ', test_data_2.shape, 'rows, cols')"
   ]
  },
  {
   "cell_type": "code",
   "execution_count": 14,
   "metadata": {},
   "outputs": [
    {
     "name": "stdout",
     "output_type": "stream",
     "text": [
      "train is  (7654, 5)  rows, cols\n",
      " val is  (957, 5)  rows, cols\n",
      " test is  (957, 5) rows, cols\n"
     ]
    }
   ],
   "source": [
    "#\n",
    "# repeat, but use only one call to train_test_split\n",
    "#\n",
    "train_data_3, val_data_3 = train_test_split(power_data, train_size = 0.8, test_size = 0.1)\n",
    "train_val_rows = list(train_data_3.index) + list(val_data_3.index)\n",
    "test_data_3 = power_data.drop(train_val_rows, axis = 0)\n",
    "#\n",
    "print('train is ', train_data_3.shape, ' rows, cols\\n',\n",
    "     'val is ', val_data_3.shape, ' rows, cols\\n',\n",
    "     'test is ', test_data_3.shape, 'rows, cols')"
   ]
  },
  {
   "cell_type": "code",
   "execution_count": null,
   "metadata": {},
   "outputs": [],
   "source": []
  }
 ],
 "metadata": {
  "kernelspec": {
   "display_name": "Python 3",
   "language": "python",
   "name": "python3"
  },
  "language_info": {
   "codemirror_mode": {
    "name": "ipython",
    "version": 3
   },
   "file_extension": ".py",
   "mimetype": "text/x-python",
   "name": "python",
   "nbconvert_exporter": "python",
   "pygments_lexer": "ipython3",
   "version": "3.7.6"
  },
  "toc": {
   "base_numbering": 1,
   "nav_menu": {},
   "number_sections": true,
   "sideBar": true,
   "skip_h1_title": false,
   "title_cell": "Table of Contents",
   "title_sidebar": "Contents",
   "toc_cell": false,
   "toc_position": {},
   "toc_section_display": true,
   "toc_window_display": true
  },
  "varInspector": {
   "cols": {
    "lenName": 16,
    "lenType": 16,
    "lenVar": 40
   },
   "kernels_config": {
    "python": {
     "delete_cmd_postfix": "",
     "delete_cmd_prefix": "del ",
     "library": "var_list.py",
     "varRefreshCmd": "print(var_dic_list())"
    },
    "r": {
     "delete_cmd_postfix": ") ",
     "delete_cmd_prefix": "rm(",
     "library": "var_list.r",
     "varRefreshCmd": "cat(var_dic_list()) "
    }
   },
   "types_to_exclude": [
    "module",
    "function",
    "builtin_function_or_method",
    "instance",
    "_Feature"
   ],
   "window_display": true
  }
 },
 "nbformat": 4,
 "nbformat_minor": 4
}
